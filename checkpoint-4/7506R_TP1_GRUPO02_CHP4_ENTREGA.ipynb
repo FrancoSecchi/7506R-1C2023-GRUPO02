{
  "nbformat": 4,
  "nbformat_minor": 0,
  "metadata": {
    "colab": {
      "provenance": [],
      "collapsed_sections": [
        "tidM2Z2WXFD3",
        "nFSP1uSkIW12",
        "h-x-0VQDpiG2",
        "GnO-5p8wpocd",
        "TBqBbtjmnfib"
      ],
      "gpuType": "T4"
    },
    "kernelspec": {
      "name": "python3",
      "display_name": "Python 3"
    },
    "language_info": {
      "name": "python"
    },
    "gpuClass": "standard"
  },
  "cells": [
    {
      "cell_type": "markdown",
      "metadata": {
        "id": "tidM2Z2WXFD3"
      },
      "source": [
        "# Librerias \n"
      ]
    },
    {
      "cell_type": "code",
      "source": [
        "# Instalamos keras-tuner\n",
        "!pip install keras-tuner --upgrade"
      ],
      "metadata": {
        "colab": {
          "base_uri": "https://localhost:8080/"
        },
        "id": "8cpIxiWO98HC",
        "outputId": "1955d6fa-23e7-4295-aaee-e0d02e44f589"
      },
      "execution_count": null,
      "outputs": [
        {
          "output_type": "stream",
          "name": "stdout",
          "text": [
            "Looking in indexes: https://pypi.org/simple, https://us-python.pkg.dev/colab-wheels/public/simple/\n",
            "Requirement already satisfied: keras-tuner in /usr/local/lib/python3.10/dist-packages (1.3.5)\n",
            "Requirement already satisfied: packaging in /usr/local/lib/python3.10/dist-packages (from keras-tuner) (23.1)\n",
            "Requirement already satisfied: requests in /usr/local/lib/python3.10/dist-packages (from keras-tuner) (2.27.1)\n",
            "Requirement already satisfied: kt-legacy in /usr/local/lib/python3.10/dist-packages (from keras-tuner) (1.0.5)\n",
            "Requirement already satisfied: urllib3<1.27,>=1.21.1 in /usr/local/lib/python3.10/dist-packages (from requests->keras-tuner) (1.26.15)\n",
            "Requirement already satisfied: certifi>=2017.4.17 in /usr/local/lib/python3.10/dist-packages (from requests->keras-tuner) (2022.12.7)\n",
            "Requirement already satisfied: charset-normalizer~=2.0.0 in /usr/local/lib/python3.10/dist-packages (from requests->keras-tuner) (2.0.12)\n",
            "Requirement already satisfied: idna<4,>=2.5 in /usr/local/lib/python3.10/dist-packages (from requests->keras-tuner) (3.4)\n"
          ]
        }
      ]
    },
    {
      "cell_type": "code",
      "execution_count": null,
      "metadata": {
        "id": "ngpZgTvUKst2"
      },
      "outputs": [],
      "source": [
        "import pandas as pd\n",
        "import matplotlib.pyplot as plt\n",
        "import seaborn as sns\n",
        "import scipy as sc\n",
        "import scipy.stats as ss\n",
        "import numpy as np\n",
        "import plotly.express as px\n",
        "import pickle\n",
        "import time\n",
        "import json\n",
        "import os\n",
        "\n",
        "from sklearn.metrics import f1_score,  recall_score, precision_score, accuracy_score\n",
        "from sklearn.preprocessing import StandardScaler, OneHotEncoder\n",
        "from sklearn.model_selection import train_test_split\n",
        "\n",
        "from sklearn.metrics import accuracy_score, roc_auc_score, make_scorer, confusion_matrix,classification_report, f1_score\n",
        "\n",
        "import tensorflow as tf\n",
        "from tensorflow import keras\n",
        "from keras.utils.vis_utils import plot_model\n",
        "import keras_tuner as kt\n",
        "# import visualkeras\n",
        "\n",
        "np.random.seed(1)\n",
        "tf.random.set_seed(1) \n",
        "\n",
        "import warnings\n",
        "warnings.filterwarnings(\"ignore\", category=DeprecationWarning) "
      ]
    },
    {
      "cell_type": "code",
      "source": [
        "path_submissions = 'submissions/'\n",
        "\n",
        "os.makedirs(path_submissions, exist_ok=True)"
      ],
      "metadata": {
        "id": "hBPFaUIGXmdo"
      },
      "execution_count": null,
      "outputs": []
    },
    {
      "cell_type": "code",
      "source": [
        "print(tf.__version__)\n",
        "print(tf.config.list_physical_devices('GPU'))"
      ],
      "metadata": {
        "colab": {
          "base_uri": "https://localhost:8080/"
        },
        "id": "DK4YNuTX1V3W",
        "outputId": "c157a000-24f5-42b9-f780-0b9897d201ae"
      },
      "execution_count": null,
      "outputs": [
        {
          "output_type": "stream",
          "name": "stdout",
          "text": [
            "2.12.0\n",
            "[]\n"
          ]
        }
      ]
    },
    {
      "cell_type": "markdown",
      "metadata": {
        "id": "nFSP1uSkIW12"
      },
      "source": [
        "# Importación del dataset"
      ]
    },
    {
      "cell_type": "code",
      "execution_count": null,
      "metadata": {
        "id": "fuYQJ3ryIZU7"
      },
      "outputs": [],
      "source": [
        "url_train_encoded = 'https://raw.githubusercontent.com/FrancoSecchi/7506R-1C2023-GRUPO02/checkpoint-4/checkpoint-4/df_hotels_train_encoded.csv'\n",
        "url_test_encoded = 'https://raw.githubusercontent.com/FrancoSecchi/7506R-1C2023-GRUPO02/checkpoint-4/checkpoint-4/df_hotels_test_encoded.csv'\n",
        "url_train = 'https://raw.githubusercontent.com/FrancoSecchi/7506R-1C2023-GRUPO02/checkpoint-4/checkpoint-4/hotels-train.csv'\n",
        "url_test = 'https://raw.githubusercontent.com/FrancoSecchi/7506R-1C2023-GRUPO02/checkpoint-4/checkpoint-4/hotels-test.csv'\n",
        "df_train_encoded = pd.read_csv(url_train_encoded)\n",
        "df_train = pd.read_csv(url_train)\n",
        "df_test = pd.read_csv(url_test)\n",
        "df_test_encoded = pd.read_csv(url_test_encoded)"
      ]
    },
    {
      "cell_type": "code",
      "execution_count": null,
      "metadata": {
        "id": "hx4oi_2Ob9vL"
      },
      "outputs": [],
      "source": [
        "df_hotels_train_encoded = df_train_encoded.copy()\n",
        "df_hotels_test_encoded = df_test_encoded.copy()\n",
        "df_hotels_train = df_train.copy()\n",
        "df_hotels_test = df_test.copy()"
      ]
    },
    {
      "cell_type": "code",
      "execution_count": null,
      "metadata": {
        "id": "6zEQlkyIabzd"
      },
      "outputs": [],
      "source": [
        "df_hotels_train_encoded.drop(columns=[\"Unnamed: 0\"], inplace=True)\n",
        "df_hotels_train.drop(columns=[\"Unnamed: 0\"], inplace=True)\n",
        "df_hotels_test.drop(columns=[\"Unnamed: 0\"], inplace=True)"
      ]
    },
    {
      "cell_type": "code",
      "execution_count": null,
      "metadata": {
        "id": "10YYRuTalYHr",
        "colab": {
          "base_uri": "https://localhost:8080/"
        },
        "outputId": "bc8eddbe-c234-4697-d275-97e1a4b2f65b"
      },
      "outputs": [
        {
          "output_type": "execute_result",
          "data": {
            "text/plain": [
              "Index(['lead_time', 'arrival_date_week_number', 'arrival_date_day_of_month',\n",
              "       'stays_in_weekend_nights', 'stays_in_week_nights', 'adults', 'children',\n",
              "       'babies', 'is_repeated_guest', 'previous_cancellations',\n",
              "       'previous_bookings_not_canceled', 'adr', 'required_car_parking_spaces',\n",
              "       'total_of_special_requests', 'id', 'is_canceled', 'hotel_Resort Hotel',\n",
              "       'market_segment_Complementary', 'market_segment_Corporate',\n",
              "       'market_segment_Direct', 'market_segment_Groups',\n",
              "       'market_segment_Offline TA/TO', 'market_segment_Online TA',\n",
              "       'distribution_channel_Direct', 'distribution_channel_GDS',\n",
              "       'distribution_channel_TA/TO', 'reserved_room_type_B',\n",
              "       'reserved_room_type_C', 'reserved_room_type_D', 'reserved_room_type_E',\n",
              "       'reserved_room_type_F', 'reserved_room_type_G', 'reserved_room_type_H',\n",
              "       'reserved_room_type_L', 'reserved_room_type_P',\n",
              "       'deposit_type_Non Refund', 'deposit_type_Refundable',\n",
              "       'customer_type_Group', 'customer_type_Transient',\n",
              "       'customer_type_Transient-Party', 'meal_FB', 'meal_HB', 'meal_SC'],\n",
              "      dtype='object')"
            ]
          },
          "metadata": {},
          "execution_count": 8
        }
      ],
      "source": [
        "df_hotels_train_encoded.columns"
      ]
    },
    {
      "cell_type": "markdown",
      "source": [
        "# Funciones auxiliares"
      ],
      "metadata": {
        "id": "MfJVO_erwawC"
      }
    },
    {
      "cell_type": "code",
      "source": [
        "RMSPROP_NAME = \"RMSprop\"\n",
        "SGD_NAME = \"SGD\"\n",
        "ADADELTA_NAME = \"ADADELTA\"\n",
        "ADAM_NAME = \"ADAM\"\n",
        "NN_OPT_NAME= \"OPT_NN\""
      ],
      "metadata": {
        "id": "dAeMK8zfakGx"
      },
      "execution_count": null,
      "outputs": []
    },
    {
      "cell_type": "code",
      "source": [
        "from keras import backend as K\n",
        "\n",
        "def recall_m(y_true, y_pred):\n",
        "    true_positives = K.sum(K.round(K.clip(y_true * y_pred, 0, 1)))\n",
        "    possible_positives = K.sum(K.round(K.clip(y_true, 0, 1)))\n",
        "    recall = true_positives / (possible_positives + K.epsilon())\n",
        "    return recall\n",
        "\n",
        "def precision_m(y_true, y_pred):\n",
        "    true_positives = K.sum(K.round(K.clip(y_true * y_pred, 0, 1)))\n",
        "    predicted_positives = K.sum(K.round(K.clip(y_pred, 0, 1)))\n",
        "    precision = true_positives / (predicted_positives + K.epsilon())\n",
        "    return precision\n",
        "\n",
        "def f1_m(y_true, y_pred):\n",
        "    precision = precision_m(y_true, y_pred)\n",
        "    recall = recall_m(y_true, y_pred)\n",
        "    return 2*((precision*recall)/(precision+recall+K.epsilon()))\n",
        "\n"
      ],
      "metadata": {
        "id": "b6AinNUmwceK"
      },
      "execution_count": null,
      "outputs": []
    },
    {
      "cell_type": "code",
      "source": [
        "def show_performance(y_test, y_pred):\n",
        "  print(f\"F1 Score: {f1_score(y_test, y_pred, average='binary')}\")\n",
        "  print(f\"Classification Report: \\n {classification_report(y_test, y_pred)}\")\n",
        "  matrix = confusion_matrix(y_test, y_pred)\n",
        "  sns.heatmap(matrix, cmap='Greens', annot=True, fmt='g')\n",
        "  plt.xlabel('Predicted')\n",
        "  plt.ylabel('Actual')"
      ],
      "metadata": {
        "id": "Gl9xRwvLBrVJ"
      },
      "execution_count": null,
      "outputs": []
    },
    {
      "cell_type": "code",
      "source": [
        "\n",
        "def create_model_submission(df_hotels_test, model, optimizerName , score):\n",
        "  # Nos traemos el dataset de test sin el ID.\n",
        "  x_sub = df_hotels_test.select_dtypes(exclude=['object'])\n",
        "\n",
        "  # Predecimos con nuestro mejor modelo\n",
        "  y_sub = model.predict(x_sub)\n",
        "  y_sub = np.argmax(y_sub,axis=1).tolist()\n",
        "\n",
        "\n",
        "  # Armamos un DF\n",
        "  df_sub = pd.DataFrame({'id': df_hotels_test['id'], 'is_canceled': y_sub})\n",
        "\n",
        "  timestr = time.strftime(\"%Y%m%d-%H%M%S\")\n",
        "  path = f'submissions/{optimizerName}_{timestr}/'\n",
        "  os.mkdir(path)\n",
        "\n",
        "  df_sub.to_csv(path + f'{score}.csv', index=False)\n",
        "\n",
        "  # Persistimos el modelo asociado.\n",
        "  model_filename = path + 'modelo.pickle'\n",
        "  pickle.dump(model, open(model_filename, \"wb\"))\n",
        "\n"
      ],
      "metadata": {
        "id": "OD5bhUQaYkkd"
      },
      "execution_count": null,
      "outputs": []
    },
    {
      "cell_type": "markdown",
      "source": [
        "#Normalización de datos"
      ],
      "metadata": {
        "id": "UEusEANjuL-U"
      }
    },
    {
      "cell_type": "code",
      "source": [
        "df_hotels_train.columns"
      ],
      "metadata": {
        "id": "1BXGdOFYuOQ-",
        "colab": {
          "base_uri": "https://localhost:8080/"
        },
        "outputId": "98068b28-8f1c-45c5-9d11-0747031b7be8"
      },
      "execution_count": null,
      "outputs": [
        {
          "output_type": "execute_result",
          "data": {
            "text/plain": [
              "Index(['hotel', 'lead_time', 'arrival_date_week_number',\n",
              "       'arrival_date_day_of_month', 'stays_in_weekend_nights',\n",
              "       'stays_in_week_nights', 'adults', 'children', 'babies', 'meal',\n",
              "       'market_segment', 'distribution_channel', 'is_repeated_guest',\n",
              "       'previous_cancellations', 'previous_bookings_not_canceled',\n",
              "       'reserved_room_type', 'deposit_type', 'customer_type', 'adr',\n",
              "       'required_car_parking_spaces', 'total_of_special_requests', 'id',\n",
              "       'is_canceled'],\n",
              "      dtype='object')"
            ]
          },
          "metadata": {},
          "execution_count": 13
        }
      ]
    },
    {
      "cell_type": "code",
      "source": [
        "df_hotels_train.describe()"
      ],
      "metadata": {
        "id": "tBAwfSFLwzV_",
        "colab": {
          "base_uri": "https://localhost:8080/",
          "height": 364
        },
        "outputId": "5e91cdf9-0314-42d4-bd24-82d561367021"
      },
      "execution_count": null,
      "outputs": [
        {
          "output_type": "execute_result",
          "data": {
            "text/plain": [
              "          lead_time  arrival_date_week_number  arrival_date_day_of_month  \\\n",
              "count  59477.000000              59477.000000               59477.000000   \n",
              "mean     105.922390                 27.062596                  15.788742   \n",
              "std       99.842686                 13.592855                   8.791202   \n",
              "min        0.000000                  1.000000                   1.000000   \n",
              "25%       22.000000                 16.000000                   8.000000   \n",
              "50%       75.000000                 27.000000                  16.000000   \n",
              "75%      166.000000                 38.000000                  23.000000   \n",
              "max      414.000000                 53.000000                  31.000000   \n",
              "\n",
              "       stays_in_weekend_nights  stays_in_week_nights        adults  \\\n",
              "count             59477.000000          59477.000000  59477.000000   \n",
              "mean                  0.927552              2.508583      1.862703   \n",
              "std                   0.994206              1.894073      0.584636   \n",
              "min                   0.000000              0.000000      1.000000   \n",
              "25%                   0.000000              1.000000      2.000000   \n",
              "50%                   1.000000              2.000000      2.000000   \n",
              "75%                   2.000000              3.000000      2.000000   \n",
              "max                  16.000000             40.000000     55.000000   \n",
              "\n",
              "           children        babies  is_repeated_guest  previous_cancellations  \\\n",
              "count  59477.000000  59477.000000       59477.000000            59477.000000   \n",
              "mean       0.087715      0.006843           0.028414                0.088253   \n",
              "std        0.360171      0.083654           0.166155                0.530491   \n",
              "min        0.000000      0.000000           0.000000                0.000000   \n",
              "25%        0.000000      0.000000           0.000000                0.000000   \n",
              "50%        0.000000      0.000000           0.000000                0.000000   \n",
              "75%        0.000000      0.000000           0.000000                0.000000   \n",
              "max        2.000000      2.000000           1.000000               19.000000   \n",
              "\n",
              "       previous_bookings_not_canceled           adr  \\\n",
              "count                    59477.000000  59477.000000   \n",
              "mean                         0.119542    101.556938   \n",
              "std                          1.423823     41.317449   \n",
              "min                          0.000000      0.500000   \n",
              "25%                          0.000000     72.000000   \n",
              "50%                          0.000000     95.000000   \n",
              "75%                          0.000000    125.670000   \n",
              "max                         70.000000    235.070000   \n",
              "\n",
              "       required_car_parking_spaces  total_of_special_requests   is_canceled  \n",
              "count                 59477.000000               59477.000000  59477.000000  \n",
              "mean                      0.049633                   0.526086      0.493216  \n",
              "std                       0.220338                   0.774609      0.499958  \n",
              "min                       0.000000                   0.000000      0.000000  \n",
              "25%                       0.000000                   0.000000      0.000000  \n",
              "50%                       0.000000                   0.000000      0.000000  \n",
              "75%                       0.000000                   1.000000      1.000000  \n",
              "max                       8.000000                   5.000000      1.000000  "
            ],
            "text/html": [
              "\n",
              "  <div id=\"df-720fb3fd-9fa2-4fa3-a498-6cb56f6dbffb\">\n",
              "    <div class=\"colab-df-container\">\n",
              "      <div>\n",
              "<style scoped>\n",
              "    .dataframe tbody tr th:only-of-type {\n",
              "        vertical-align: middle;\n",
              "    }\n",
              "\n",
              "    .dataframe tbody tr th {\n",
              "        vertical-align: top;\n",
              "    }\n",
              "\n",
              "    .dataframe thead th {\n",
              "        text-align: right;\n",
              "    }\n",
              "</style>\n",
              "<table border=\"1\" class=\"dataframe\">\n",
              "  <thead>\n",
              "    <tr style=\"text-align: right;\">\n",
              "      <th></th>\n",
              "      <th>lead_time</th>\n",
              "      <th>arrival_date_week_number</th>\n",
              "      <th>arrival_date_day_of_month</th>\n",
              "      <th>stays_in_weekend_nights</th>\n",
              "      <th>stays_in_week_nights</th>\n",
              "      <th>adults</th>\n",
              "      <th>children</th>\n",
              "      <th>babies</th>\n",
              "      <th>is_repeated_guest</th>\n",
              "      <th>previous_cancellations</th>\n",
              "      <th>previous_bookings_not_canceled</th>\n",
              "      <th>adr</th>\n",
              "      <th>required_car_parking_spaces</th>\n",
              "      <th>total_of_special_requests</th>\n",
              "      <th>is_canceled</th>\n",
              "    </tr>\n",
              "  </thead>\n",
              "  <tbody>\n",
              "    <tr>\n",
              "      <th>count</th>\n",
              "      <td>59477.000000</td>\n",
              "      <td>59477.000000</td>\n",
              "      <td>59477.000000</td>\n",
              "      <td>59477.000000</td>\n",
              "      <td>59477.000000</td>\n",
              "      <td>59477.000000</td>\n",
              "      <td>59477.000000</td>\n",
              "      <td>59477.000000</td>\n",
              "      <td>59477.000000</td>\n",
              "      <td>59477.000000</td>\n",
              "      <td>59477.000000</td>\n",
              "      <td>59477.000000</td>\n",
              "      <td>59477.000000</td>\n",
              "      <td>59477.000000</td>\n",
              "      <td>59477.000000</td>\n",
              "    </tr>\n",
              "    <tr>\n",
              "      <th>mean</th>\n",
              "      <td>105.922390</td>\n",
              "      <td>27.062596</td>\n",
              "      <td>15.788742</td>\n",
              "      <td>0.927552</td>\n",
              "      <td>2.508583</td>\n",
              "      <td>1.862703</td>\n",
              "      <td>0.087715</td>\n",
              "      <td>0.006843</td>\n",
              "      <td>0.028414</td>\n",
              "      <td>0.088253</td>\n",
              "      <td>0.119542</td>\n",
              "      <td>101.556938</td>\n",
              "      <td>0.049633</td>\n",
              "      <td>0.526086</td>\n",
              "      <td>0.493216</td>\n",
              "    </tr>\n",
              "    <tr>\n",
              "      <th>std</th>\n",
              "      <td>99.842686</td>\n",
              "      <td>13.592855</td>\n",
              "      <td>8.791202</td>\n",
              "      <td>0.994206</td>\n",
              "      <td>1.894073</td>\n",
              "      <td>0.584636</td>\n",
              "      <td>0.360171</td>\n",
              "      <td>0.083654</td>\n",
              "      <td>0.166155</td>\n",
              "      <td>0.530491</td>\n",
              "      <td>1.423823</td>\n",
              "      <td>41.317449</td>\n",
              "      <td>0.220338</td>\n",
              "      <td>0.774609</td>\n",
              "      <td>0.499958</td>\n",
              "    </tr>\n",
              "    <tr>\n",
              "      <th>min</th>\n",
              "      <td>0.000000</td>\n",
              "      <td>1.000000</td>\n",
              "      <td>1.000000</td>\n",
              "      <td>0.000000</td>\n",
              "      <td>0.000000</td>\n",
              "      <td>1.000000</td>\n",
              "      <td>0.000000</td>\n",
              "      <td>0.000000</td>\n",
              "      <td>0.000000</td>\n",
              "      <td>0.000000</td>\n",
              "      <td>0.000000</td>\n",
              "      <td>0.500000</td>\n",
              "      <td>0.000000</td>\n",
              "      <td>0.000000</td>\n",
              "      <td>0.000000</td>\n",
              "    </tr>\n",
              "    <tr>\n",
              "      <th>25%</th>\n",
              "      <td>22.000000</td>\n",
              "      <td>16.000000</td>\n",
              "      <td>8.000000</td>\n",
              "      <td>0.000000</td>\n",
              "      <td>1.000000</td>\n",
              "      <td>2.000000</td>\n",
              "      <td>0.000000</td>\n",
              "      <td>0.000000</td>\n",
              "      <td>0.000000</td>\n",
              "      <td>0.000000</td>\n",
              "      <td>0.000000</td>\n",
              "      <td>72.000000</td>\n",
              "      <td>0.000000</td>\n",
              "      <td>0.000000</td>\n",
              "      <td>0.000000</td>\n",
              "    </tr>\n",
              "    <tr>\n",
              "      <th>50%</th>\n",
              "      <td>75.000000</td>\n",
              "      <td>27.000000</td>\n",
              "      <td>16.000000</td>\n",
              "      <td>1.000000</td>\n",
              "      <td>2.000000</td>\n",
              "      <td>2.000000</td>\n",
              "      <td>0.000000</td>\n",
              "      <td>0.000000</td>\n",
              "      <td>0.000000</td>\n",
              "      <td>0.000000</td>\n",
              "      <td>0.000000</td>\n",
              "      <td>95.000000</td>\n",
              "      <td>0.000000</td>\n",
              "      <td>0.000000</td>\n",
              "      <td>0.000000</td>\n",
              "    </tr>\n",
              "    <tr>\n",
              "      <th>75%</th>\n",
              "      <td>166.000000</td>\n",
              "      <td>38.000000</td>\n",
              "      <td>23.000000</td>\n",
              "      <td>2.000000</td>\n",
              "      <td>3.000000</td>\n",
              "      <td>2.000000</td>\n",
              "      <td>0.000000</td>\n",
              "      <td>0.000000</td>\n",
              "      <td>0.000000</td>\n",
              "      <td>0.000000</td>\n",
              "      <td>0.000000</td>\n",
              "      <td>125.670000</td>\n",
              "      <td>0.000000</td>\n",
              "      <td>1.000000</td>\n",
              "      <td>1.000000</td>\n",
              "    </tr>\n",
              "    <tr>\n",
              "      <th>max</th>\n",
              "      <td>414.000000</td>\n",
              "      <td>53.000000</td>\n",
              "      <td>31.000000</td>\n",
              "      <td>16.000000</td>\n",
              "      <td>40.000000</td>\n",
              "      <td>55.000000</td>\n",
              "      <td>2.000000</td>\n",
              "      <td>2.000000</td>\n",
              "      <td>1.000000</td>\n",
              "      <td>19.000000</td>\n",
              "      <td>70.000000</td>\n",
              "      <td>235.070000</td>\n",
              "      <td>8.000000</td>\n",
              "      <td>5.000000</td>\n",
              "      <td>1.000000</td>\n",
              "    </tr>\n",
              "  </tbody>\n",
              "</table>\n",
              "</div>\n",
              "      <button class=\"colab-df-convert\" onclick=\"convertToInteractive('df-720fb3fd-9fa2-4fa3-a498-6cb56f6dbffb')\"\n",
              "              title=\"Convert this dataframe to an interactive table.\"\n",
              "              style=\"display:none;\">\n",
              "        \n",
              "  <svg xmlns=\"http://www.w3.org/2000/svg\" height=\"24px\"viewBox=\"0 0 24 24\"\n",
              "       width=\"24px\">\n",
              "    <path d=\"M0 0h24v24H0V0z\" fill=\"none\"/>\n",
              "    <path d=\"M18.56 5.44l.94 2.06.94-2.06 2.06-.94-2.06-.94-.94-2.06-.94 2.06-2.06.94zm-11 1L8.5 8.5l.94-2.06 2.06-.94-2.06-.94L8.5 2.5l-.94 2.06-2.06.94zm10 10l.94 2.06.94-2.06 2.06-.94-2.06-.94-.94-2.06-.94 2.06-2.06.94z\"/><path d=\"M17.41 7.96l-1.37-1.37c-.4-.4-.92-.59-1.43-.59-.52 0-1.04.2-1.43.59L10.3 9.45l-7.72 7.72c-.78.78-.78 2.05 0 2.83L4 21.41c.39.39.9.59 1.41.59.51 0 1.02-.2 1.41-.59l7.78-7.78 2.81-2.81c.8-.78.8-2.07 0-2.86zM5.41 20L4 18.59l7.72-7.72 1.47 1.35L5.41 20z\"/>\n",
              "  </svg>\n",
              "      </button>\n",
              "      \n",
              "  <style>\n",
              "    .colab-df-container {\n",
              "      display:flex;\n",
              "      flex-wrap:wrap;\n",
              "      gap: 12px;\n",
              "    }\n",
              "\n",
              "    .colab-df-convert {\n",
              "      background-color: #E8F0FE;\n",
              "      border: none;\n",
              "      border-radius: 50%;\n",
              "      cursor: pointer;\n",
              "      display: none;\n",
              "      fill: #1967D2;\n",
              "      height: 32px;\n",
              "      padding: 0 0 0 0;\n",
              "      width: 32px;\n",
              "    }\n",
              "\n",
              "    .colab-df-convert:hover {\n",
              "      background-color: #E2EBFA;\n",
              "      box-shadow: 0px 1px 2px rgba(60, 64, 67, 0.3), 0px 1px 3px 1px rgba(60, 64, 67, 0.15);\n",
              "      fill: #174EA6;\n",
              "    }\n",
              "\n",
              "    [theme=dark] .colab-df-convert {\n",
              "      background-color: #3B4455;\n",
              "      fill: #D2E3FC;\n",
              "    }\n",
              "\n",
              "    [theme=dark] .colab-df-convert:hover {\n",
              "      background-color: #434B5C;\n",
              "      box-shadow: 0px 1px 3px 1px rgba(0, 0, 0, 0.15);\n",
              "      filter: drop-shadow(0px 1px 2px rgba(0, 0, 0, 0.3));\n",
              "      fill: #FFFFFF;\n",
              "    }\n",
              "  </style>\n",
              "\n",
              "      <script>\n",
              "        const buttonEl =\n",
              "          document.querySelector('#df-720fb3fd-9fa2-4fa3-a498-6cb56f6dbffb button.colab-df-convert');\n",
              "        buttonEl.style.display =\n",
              "          google.colab.kernel.accessAllowed ? 'block' : 'none';\n",
              "\n",
              "        async function convertToInteractive(key) {\n",
              "          const element = document.querySelector('#df-720fb3fd-9fa2-4fa3-a498-6cb56f6dbffb');\n",
              "          const dataTable =\n",
              "            await google.colab.kernel.invokeFunction('convertToInteractive',\n",
              "                                                     [key], {});\n",
              "          if (!dataTable) return;\n",
              "\n",
              "          const docLinkHtml = 'Like what you see? Visit the ' +\n",
              "            '<a target=\"_blank\" href=https://colab.research.google.com/notebooks/data_table.ipynb>data table notebook</a>'\n",
              "            + ' to learn more about interactive tables.';\n",
              "          element.innerHTML = '';\n",
              "          dataTable['output_type'] = 'display_data';\n",
              "          await google.colab.output.renderOutput(dataTable, element);\n",
              "          const docLink = document.createElement('div');\n",
              "          docLink.innerHTML = docLinkHtml;\n",
              "          element.appendChild(docLink);\n",
              "        }\n",
              "      </script>\n",
              "    </div>\n",
              "  </div>\n",
              "  "
            ]
          },
          "metadata": {},
          "execution_count": 14
        }
      ]
    },
    {
      "cell_type": "code",
      "source": [
        "cols_numericas = [columna for columna in df_hotels_train.columns if np.issubdtype(df_hotels_train[columna].dtype, np.number)]\n",
        "cols_numericas.remove('is_canceled')\n",
        "cols_numericas.remove('is_repeated_guest')\n",
        "cols_numericas"
      ],
      "metadata": {
        "id": "PlsVd5mUwPjT",
        "colab": {
          "base_uri": "https://localhost:8080/"
        },
        "outputId": "1d65e1f4-d51d-434b-ced5-f4b3a3a04487"
      },
      "execution_count": null,
      "outputs": [
        {
          "output_type": "execute_result",
          "data": {
            "text/plain": [
              "['lead_time',\n",
              " 'arrival_date_week_number',\n",
              " 'arrival_date_day_of_month',\n",
              " 'stays_in_weekend_nights',\n",
              " 'stays_in_week_nights',\n",
              " 'adults',\n",
              " 'children',\n",
              " 'babies',\n",
              " 'previous_cancellations',\n",
              " 'previous_bookings_not_canceled',\n",
              " 'adr',\n",
              " 'required_car_parking_spaces',\n",
              " 'total_of_special_requests']"
            ]
          },
          "metadata": {},
          "execution_count": 15
        }
      ]
    },
    {
      "cell_type": "code",
      "source": [
        "# Creamos el scaler\n",
        "scaler = StandardScaler()\n",
        "\n",
        "# Alimentamos el scaler con los datos de TRAIN.\n",
        "scaler.fit(pd.DataFrame(df_hotels_train[cols_numericas]))\n",
        "\n",
        "# Aplicamos las transformaciones a el dataset de Train y al de TEST para nuestra prediccion de Kaggle.\n",
        "df_hotels_train[cols_numericas]=scaler.transform(df_hotels_train[cols_numericas])\n",
        "df_hotels_test[cols_numericas]=scaler.transform(df_hotels_test[cols_numericas])"
      ],
      "metadata": {
        "id": "O-TU7yMawi-L"
      },
      "execution_count": null,
      "outputs": []
    },
    {
      "cell_type": "code",
      "source": [
        "# Evaluar si el reservation_year es necesario hacerle dummies.\n",
        "dummy_columns = [\"hotel\",\"market_segment\",\"distribution_channel\", \"reserved_room_type\", \"deposit_type\", \"customer_type\", \"meal\"]\n",
        "\n",
        "#Train\n",
        "df_hotels_train = pd.get_dummies(df_hotels_train, columns=dummy_columns, drop_first=True)\n",
        "#Test\n",
        "df_hotels_test = pd.get_dummies(df_hotels_test, columns=dummy_columns, drop_first=True)"
      ],
      "metadata": {
        "id": "bhzp9Fpe7V3I"
      },
      "execution_count": null,
      "outputs": []
    },
    {
      "cell_type": "code",
      "source": [
        "loc_room_type_L = df_hotels_train.columns.get_loc('reserved_room_type_L')\n",
        "df_hotels_train.insert(loc=loc_room_type_L+1, column='reserved_room_type_P', value=0)"
      ],
      "metadata": {
        "id": "syjoKnSq7yoS"
      },
      "execution_count": null,
      "outputs": []
    },
    {
      "cell_type": "markdown",
      "metadata": {
        "id": "-tdDD19IQ7nd"
      },
      "source": [
        "# Separación de conjuntos de Test y Train"
      ]
    },
    {
      "cell_type": "code",
      "source": [
        "x_model = df_hotels_train\n",
        "y_model = df_hotels_train['is_canceled']\n",
        "x_model.drop('id', axis=1, inplace=True)\n",
        "x_model.drop('is_canceled', axis=1, inplace=True)\n",
        "\n",
        "\n",
        "#Podemos ver que el numero de filas coincide.\n",
        "assert(x_model.shape[0] == y_model.shape[0])\n",
        "print(f\"Shape del X: {x_model.shape} y Shape del Y: {y_model.shape}\")"
      ],
      "metadata": {
        "id": "LB-PQpGZvmZq",
        "colab": {
          "base_uri": "https://localhost:8080/"
        },
        "outputId": "d719f471-74b4-41e0-f001-2859df99653f"
      },
      "execution_count": null,
      "outputs": [
        {
          "output_type": "stream",
          "name": "stdout",
          "text": [
            "Shape del X: (59477, 41) y Shape del Y: (59477,)\n"
          ]
        }
      ]
    },
    {
      "cell_type": "code",
      "execution_count": null,
      "metadata": {
        "id": "Xtw5sDZAcRwp",
        "colab": {
          "base_uri": "https://localhost:8080/"
        },
        "outputId": "537dfe78-2662-4eda-96ad-b3cc0458f74b"
      },
      "outputs": [
        {
          "output_type": "execute_result",
          "data": {
            "text/plain": [
              "(47581, 11896)"
            ]
          },
          "metadata": {},
          "execution_count": 20
        }
      ],
      "source": [
        "x_train, x_test, y_train, y_test = train_test_split(x_model, \n",
        "                                                    y_model,\n",
        "                                                    test_size=0.2,\n",
        "                                                    random_state=199,\n",
        "                                                    )\n",
        "\n",
        "len(x_train) , len(x_test)"
      ]
    },
    {
      "cell_type": "code",
      "source": [
        "enc = OneHotEncoder()\n",
        "y_train_encoder = enc.fit_transform(np.array(y_train)[:, np.newaxis]).toarray()\n",
        "y_test_encoder = enc.transform(np.array(y_test)[:, np.newaxis]).toarray()"
      ],
      "metadata": {
        "id": "hl5nIbN4-Z2y",
        "colab": {
          "base_uri": "https://localhost:8080/"
        },
        "outputId": "da463dac-b2d2-469d-8f2e-379b114a6967"
      },
      "execution_count": null,
      "outputs": [
        {
          "output_type": "stream",
          "name": "stderr",
          "text": [
            "<ipython-input-21-6b45571d5ffb>:2: FutureWarning: Support for multi-dimensional indexing (e.g. `obj[:, None]`) is deprecated and will be removed in a future version.  Convert to a numpy array before indexing instead.\n",
            "  y_train_encoder = enc.fit_transform(y_train[:, np.newaxis]).toarray()\n",
            "<ipython-input-21-6b45571d5ffb>:3: FutureWarning: Support for multi-dimensional indexing (e.g. `obj[:, None]`) is deprecated and will be removed in a future version.  Convert to a numpy array before indexing instead.\n",
            "  y_test_encoder = enc.transform(y_test[:, np.newaxis]).toarray()\n"
          ]
        }
      ]
    },
    {
      "cell_type": "markdown",
      "source": [
        "En la clase de redes, le hacen un scaler a train y test, no estoy seguro si hay que hacerlo, tengo mis dudas"
      ],
      "metadata": {
        "id": "gKKwsidwjNUs"
      }
    },
    {
      "cell_type": "markdown",
      "source": [
        "# Red neuronal\n"
      ],
      "metadata": {
        "id": "h-x-0VQDpiG2"
      }
    },
    {
      "cell_type": "code",
      "source": [
        "# calcula la cantidad de clases\n",
        "cant_clases=len(np.unique(y_model))\n",
        "\n",
        "d_in=len(x_model.columns.to_list())"
      ],
      "metadata": {
        "id": "eDGPmsgbpkNI"
      },
      "execution_count": null,
      "outputs": []
    },
    {
      "cell_type": "markdown",
      "source": [
        "algunos optimizadores como Adam y Adagrad pueden ser más eficientes en términos de memoria y tiempo de cómputo en comparación con otros optimizadores como SGD, especialmente cuando se trabaja con grandes conjuntos de datos. Además, el tamaño del lote (batch size) también puede afectar el rendimiento del optimizador en conjuntos de datos grandes."
      ],
      "metadata": {
        "id": "MLWqIPMv1xJF"
      }
    },
    {
      "cell_type": "code",
      "source": [
        "model = keras.Sequential()\n",
        "model.add(keras.layers.Dense(100, input_shape=(d_in,), activation='sigmoid', kernel_initializer='uniform'))\n",
        "model.add(keras.layers.Dropout(0.2))\n",
        "model.add(keras.layers.Dense(50))\n",
        "model.add(keras.layers.Dense(units=100, activation='tanh', kernel_regularizer='l2', bias_initializer='zeros'))\n",
        "model.add(keras.layers.Dense(cant_clases, activation='softmax'))"
      ],
      "metadata": {
        "id": "DAK47Dhs3rj6"
      },
      "execution_count": null,
      "outputs": []
    },
    {
      "cell_type": "code",
      "source": [
        "model.summary()"
      ],
      "metadata": {
        "colab": {
          "base_uri": "https://localhost:8080/"
        },
        "id": "1hJUDixz32c8",
        "outputId": "6a8ddb53-e132-44e3-dbbd-fbc0fe8a6ad9"
      },
      "execution_count": null,
      "outputs": [
        {
          "output_type": "stream",
          "name": "stdout",
          "text": [
            "Model: \"sequential\"\n",
            "_________________________________________________________________\n",
            " Layer (type)                Output Shape              Param #   \n",
            "=================================================================\n",
            " dense (Dense)               (None, 100)               4200      \n",
            "                                                                 \n",
            " dropout (Dropout)           (None, 100)               0         \n",
            "                                                                 \n",
            " dense_1 (Dense)             (None, 50)                5050      \n",
            "                                                                 \n",
            " dense_2 (Dense)             (None, 100)               5100      \n",
            "                                                                 \n",
            " dense_3 (Dense)             (None, 2)                 202       \n",
            "                                                                 \n",
            "=================================================================\n",
            "Total params: 14,552\n",
            "Trainable params: 14,552\n",
            "Non-trainable params: 0\n",
            "_________________________________________________________________\n"
          ]
        }
      ]
    },
    {
      "cell_type": "markdown",
      "source": [
        "# Optimizadores"
      ],
      "metadata": {
        "id": "GnO-5p8wpocd"
      }
    },
    {
      "cell_type": "markdown",
      "source": [
        "### SGD"
      ],
      "metadata": {
        "id": "chVT3yx6prtz"
      }
    },
    {
      "cell_type": "code",
      "source": [
        "model.compile(loss='binary_crossentropy', optimizer='sgd', metrics=[f1_m])"
      ],
      "metadata": {
        "id": "5S-x5NluX3g6"
      },
      "execution_count": null,
      "outputs": []
    },
    {
      "cell_type": "code",
      "source": [
        "historial_model = model.fit(x_train, y_train_encoder, epochs=100, batch_size=32)"
      ],
      "metadata": {
        "colab": {
          "base_uri": "https://localhost:8080/"
        },
        "id": "ZjcR4MV2XcoR",
        "outputId": "d33d05f2-63f5-469c-af7d-12726b845b73"
      },
      "execution_count": null,
      "outputs": [
        {
          "output_type": "stream",
          "name": "stdout",
          "text": [
            "Epoch 1/100\n",
            "1487/1487 [==============================] - 5s 3ms/step - loss: 1.1956 - f1_m: 0.5732\n",
            "Epoch 2/100\n",
            "1487/1487 [==============================] - 3s 2ms/step - loss: 0.9097 - f1_m: 0.6509\n",
            "Epoch 3/100\n",
            "1487/1487 [==============================] - 9s 6ms/step - loss: 0.7429 - f1_m: 0.6835\n",
            "Epoch 4/100\n",
            "1487/1487 [==============================] - 6s 4ms/step - loss: 0.6543 - f1_m: 0.6996\n",
            "Epoch 5/100\n",
            "1487/1487 [==============================] - 3s 2ms/step - loss: 0.6021 - f1_m: 0.7090\n",
            "Epoch 6/100\n",
            "1487/1487 [==============================] - 5s 4ms/step - loss: 0.5722 - f1_m: 0.7143\n",
            "Epoch 7/100\n",
            "1487/1487 [==============================] - 6s 4ms/step - loss: 0.5534 - f1_m: 0.7207\n",
            "Epoch 8/100\n",
            "1487/1487 [==============================] - 4s 2ms/step - loss: 0.5393 - f1_m: 0.7251\n",
            "Epoch 9/100\n",
            "1487/1487 [==============================] - 4s 3ms/step - loss: 0.5333 - f1_m: 0.7275\n",
            "Epoch 10/100\n",
            "1487/1487 [==============================] - 5s 4ms/step - loss: 0.5264 - f1_m: 0.7316\n",
            "Epoch 11/100\n",
            "1487/1487 [==============================] - 4s 2ms/step - loss: 0.5231 - f1_m: 0.7339\n",
            "Epoch 12/100\n",
            "1487/1487 [==============================] - 7s 5ms/step - loss: 0.5192 - f1_m: 0.7350\n",
            "Epoch 13/100\n",
            "1487/1487 [==============================] - 3s 2ms/step - loss: 0.5167 - f1_m: 0.7343\n",
            "Epoch 14/100\n",
            "1487/1487 [==============================] - 4s 3ms/step - loss: 0.5128 - f1_m: 0.7380\n",
            "Epoch 15/100\n",
            "1487/1487 [==============================] - 7s 5ms/step - loss: 0.5127 - f1_m: 0.7368\n",
            "Epoch 16/100\n",
            "1487/1487 [==============================] - 7s 5ms/step - loss: 0.5104 - f1_m: 0.7401\n",
            "Epoch 17/100\n",
            "1487/1487 [==============================] - 6s 4ms/step - loss: 0.5075 - f1_m: 0.7394\n",
            "Epoch 18/100\n",
            "1487/1487 [==============================] - 3s 2ms/step - loss: 0.5057 - f1_m: 0.7406\n",
            "Epoch 19/100\n",
            "1487/1487 [==============================] - 3s 2ms/step - loss: 0.5062 - f1_m: 0.7422\n",
            "Epoch 20/100\n",
            "1487/1487 [==============================] - 4s 2ms/step - loss: 0.5040 - f1_m: 0.7427\n",
            "Epoch 21/100\n",
            "1487/1487 [==============================] - 4s 3ms/step - loss: 0.5038 - f1_m: 0.7420\n",
            "Epoch 22/100\n",
            "1487/1487 [==============================] - 3s 2ms/step - loss: 0.5016 - f1_m: 0.7474\n",
            "Epoch 23/100\n",
            "1487/1487 [==============================] - 3s 2ms/step - loss: 0.5007 - f1_m: 0.7438\n",
            "Epoch 24/100\n",
            "1487/1487 [==============================] - 3s 2ms/step - loss: 0.5003 - f1_m: 0.7457\n",
            "Epoch 25/100\n",
            "1487/1487 [==============================] - 4s 3ms/step - loss: 0.4988 - f1_m: 0.7448\n",
            "Epoch 26/100\n",
            "1487/1487 [==============================] - 3s 2ms/step - loss: 0.4976 - f1_m: 0.7461\n",
            "Epoch 27/100\n",
            "1487/1487 [==============================] - 4s 2ms/step - loss: 0.4977 - f1_m: 0.7454\n",
            "Epoch 28/100\n",
            "1487/1487 [==============================] - 3s 2ms/step - loss: 0.4964 - f1_m: 0.7461\n",
            "Epoch 29/100\n",
            "1487/1487 [==============================] - 4s 3ms/step - loss: 0.4945 - f1_m: 0.7487\n",
            "Epoch 30/100\n",
            "1487/1487 [==============================] - 3s 2ms/step - loss: 0.4937 - f1_m: 0.7491\n",
            "Epoch 31/100\n",
            "1487/1487 [==============================] - 3s 2ms/step - loss: 0.4926 - f1_m: 0.7501\n",
            "Epoch 32/100\n",
            "1487/1487 [==============================] - 3s 2ms/step - loss: 0.4910 - f1_m: 0.7519\n",
            "Epoch 33/100\n",
            "1487/1487 [==============================] - 4s 3ms/step - loss: 0.4894 - f1_m: 0.7509\n",
            "Epoch 34/100\n",
            "1487/1487 [==============================] - 4s 3ms/step - loss: 0.4891 - f1_m: 0.7534\n",
            "Epoch 35/100\n",
            "1487/1487 [==============================] - 5s 3ms/step - loss: 0.4886 - f1_m: 0.7544\n",
            "Epoch 36/100\n",
            "1487/1487 [==============================] - 8s 5ms/step - loss: 0.4873 - f1_m: 0.7543\n",
            "Epoch 37/100\n",
            "1487/1487 [==============================] - 4s 3ms/step - loss: 0.4874 - f1_m: 0.7531\n",
            "Epoch 38/100\n",
            "1487/1487 [==============================] - 9s 6ms/step - loss: 0.4864 - f1_m: 0.7549\n",
            "Epoch 39/100\n",
            "1487/1487 [==============================] - 3s 2ms/step - loss: 0.4855 - f1_m: 0.7561\n",
            "Epoch 40/100\n",
            "1487/1487 [==============================] - 3s 2ms/step - loss: 0.4862 - f1_m: 0.7528\n",
            "Epoch 41/100\n",
            "1487/1487 [==============================] - 4s 2ms/step - loss: 0.4846 - f1_m: 0.7552\n",
            "Epoch 42/100\n",
            "1487/1487 [==============================] - 3s 2ms/step - loss: 0.4837 - f1_m: 0.7572\n",
            "Epoch 43/100\n",
            "1487/1487 [==============================] - 3s 2ms/step - loss: 0.4847 - f1_m: 0.7533\n",
            "Epoch 44/100\n",
            "1487/1487 [==============================] - 3s 2ms/step - loss: 0.4818 - f1_m: 0.7589\n",
            "Epoch 45/100\n",
            "1487/1487 [==============================] - 3s 2ms/step - loss: 0.4826 - f1_m: 0.7581\n",
            "Epoch 46/100\n",
            "1487/1487 [==============================] - 4s 3ms/step - loss: 0.4826 - f1_m: 0.7575\n",
            "Epoch 47/100\n",
            "1487/1487 [==============================] - 4s 2ms/step - loss: 0.4814 - f1_m: 0.7571\n",
            "Epoch 48/100\n",
            "1487/1487 [==============================] - 4s 2ms/step - loss: 0.4794 - f1_m: 0.7590\n",
            "Epoch 49/100\n",
            "1487/1487 [==============================] - 4s 3ms/step - loss: 0.4804 - f1_m: 0.7588\n",
            "Epoch 50/100\n",
            "1487/1487 [==============================] - 3s 2ms/step - loss: 0.4803 - f1_m: 0.7575\n",
            "Epoch 51/100\n",
            "1487/1487 [==============================] - 3s 2ms/step - loss: 0.4788 - f1_m: 0.7594\n",
            "Epoch 52/100\n",
            "1487/1487 [==============================] - 3s 2ms/step - loss: 0.4793 - f1_m: 0.7585\n",
            "Epoch 53/100\n",
            "1487/1487 [==============================] - 7s 4ms/step - loss: 0.4783 - f1_m: 0.7604\n",
            "Epoch 54/100\n",
            "1487/1487 [==============================] - 3s 2ms/step - loss: 0.4777 - f1_m: 0.7615\n",
            "Epoch 55/100\n",
            "1487/1487 [==============================] - 3s 2ms/step - loss: 0.4770 - f1_m: 0.7607\n",
            "Epoch 56/100\n",
            "1487/1487 [==============================] - 4s 3ms/step - loss: 0.4781 - f1_m: 0.7591\n",
            "Epoch 57/100\n",
            "1487/1487 [==============================] - 5s 3ms/step - loss: 0.4764 - f1_m: 0.7602\n",
            "Epoch 58/100\n",
            "1487/1487 [==============================] - 5s 3ms/step - loss: 0.4766 - f1_m: 0.7617\n",
            "Epoch 59/100\n",
            "1487/1487 [==============================] - 6s 4ms/step - loss: 0.4768 - f1_m: 0.7599\n",
            "Epoch 60/100\n",
            "1487/1487 [==============================] - 7s 5ms/step - loss: 0.4763 - f1_m: 0.7602\n",
            "Epoch 61/100\n",
            "1487/1487 [==============================] - 7s 5ms/step - loss: 0.4758 - f1_m: 0.7606\n",
            "Epoch 62/100\n",
            "1487/1487 [==============================] - 5s 3ms/step - loss: 0.4768 - f1_m: 0.7591\n",
            "Epoch 63/100\n",
            "1487/1487 [==============================] - 8s 5ms/step - loss: 0.4754 - f1_m: 0.7629\n",
            "Epoch 64/100\n",
            "1487/1487 [==============================] - 6s 4ms/step - loss: 0.4747 - f1_m: 0.7622\n",
            "Epoch 65/100\n",
            "1487/1487 [==============================] - 5s 4ms/step - loss: 0.4751 - f1_m: 0.7605\n",
            "Epoch 66/100\n",
            "1487/1487 [==============================] - 6s 4ms/step - loss: 0.4749 - f1_m: 0.7617\n",
            "Epoch 67/100\n",
            "1487/1487 [==============================] - 3s 2ms/step - loss: 0.4739 - f1_m: 0.7627\n",
            "Epoch 68/100\n",
            "1487/1487 [==============================] - 4s 3ms/step - loss: 0.4740 - f1_m: 0.7624\n",
            "Epoch 69/100\n",
            "1487/1487 [==============================] - 3s 2ms/step - loss: 0.4735 - f1_m: 0.7612\n",
            "Epoch 70/100\n",
            "1487/1487 [==============================] - 3s 2ms/step - loss: 0.4731 - f1_m: 0.7633\n",
            "Epoch 71/100\n",
            "1487/1487 [==============================] - 3s 2ms/step - loss: 0.4739 - f1_m: 0.7614\n",
            "Epoch 72/100\n",
            "1487/1487 [==============================] - 4s 3ms/step - loss: 0.4739 - f1_m: 0.7626\n",
            "Epoch 73/100\n",
            "1487/1487 [==============================] - 3s 2ms/step - loss: 0.4722 - f1_m: 0.7634\n",
            "Epoch 74/100\n",
            "1487/1487 [==============================] - 4s 3ms/step - loss: 0.4727 - f1_m: 0.7636\n",
            "Epoch 75/100\n",
            "1487/1487 [==============================] - 9s 6ms/step - loss: 0.4721 - f1_m: 0.7636\n",
            "Epoch 76/100\n",
            "1487/1487 [==============================] - 4s 3ms/step - loss: 0.4733 - f1_m: 0.7627\n",
            "Epoch 77/100\n",
            "1487/1487 [==============================] - 3s 2ms/step - loss: 0.4718 - f1_m: 0.7622\n",
            "Epoch 78/100\n",
            "1487/1487 [==============================] - 4s 3ms/step - loss: 0.4728 - f1_m: 0.7624\n",
            "Epoch 79/100\n",
            "1487/1487 [==============================] - 3s 2ms/step - loss: 0.4711 - f1_m: 0.7639\n",
            "Epoch 80/100\n",
            "1487/1487 [==============================] - 3s 2ms/step - loss: 0.4712 - f1_m: 0.7637\n",
            "Epoch 81/100\n",
            "1487/1487 [==============================] - 3s 2ms/step - loss: 0.4716 - f1_m: 0.7638\n",
            "Epoch 82/100\n",
            "1487/1487 [==============================] - 4s 3ms/step - loss: 0.4705 - f1_m: 0.7647\n",
            "Epoch 83/100\n",
            "1487/1487 [==============================] - 3s 2ms/step - loss: 0.4712 - f1_m: 0.7649\n",
            "Epoch 84/100\n",
            "1487/1487 [==============================] - 5s 3ms/step - loss: 0.4704 - f1_m: 0.7629\n",
            "Epoch 85/100\n",
            "1487/1487 [==============================] - 7s 5ms/step - loss: 0.4692 - f1_m: 0.7672\n",
            "Epoch 86/100\n",
            "1487/1487 [==============================] - 3s 2ms/step - loss: 0.4702 - f1_m: 0.7644\n",
            "Epoch 87/100\n",
            "1487/1487 [==============================] - 3s 2ms/step - loss: 0.4707 - f1_m: 0.7627\n",
            "Epoch 88/100\n",
            "1487/1487 [==============================] - 4s 2ms/step - loss: 0.4696 - f1_m: 0.7650\n",
            "Epoch 89/100\n",
            "1487/1487 [==============================] - 4s 2ms/step - loss: 0.4701 - f1_m: 0.7650\n",
            "Epoch 90/100\n",
            "1487/1487 [==============================] - 3s 2ms/step - loss: 0.4707 - f1_m: 0.7651\n",
            "Epoch 91/100\n",
            "1487/1487 [==============================] - 3s 2ms/step - loss: 0.4704 - f1_m: 0.7645\n",
            "Epoch 92/100\n",
            "1487/1487 [==============================] - 4s 3ms/step - loss: 0.4694 - f1_m: 0.7625\n",
            "Epoch 93/100\n",
            "1487/1487 [==============================] - 5s 4ms/step - loss: 0.4691 - f1_m: 0.7653\n",
            "Epoch 94/100\n",
            "1487/1487 [==============================] - 6s 4ms/step - loss: 0.4686 - f1_m: 0.7652\n",
            "Epoch 95/100\n",
            "1487/1487 [==============================] - 4s 3ms/step - loss: 0.4699 - f1_m: 0.7638\n",
            "Epoch 96/100\n",
            "1487/1487 [==============================] - 4s 2ms/step - loss: 0.4691 - f1_m: 0.7646\n",
            "Epoch 97/100\n",
            "1487/1487 [==============================] - 5s 3ms/step - loss: 0.4688 - f1_m: 0.7648\n",
            "Epoch 98/100\n",
            "1487/1487 [==============================] - 5s 3ms/step - loss: 0.4695 - f1_m: 0.7661\n",
            "Epoch 99/100\n",
            "1487/1487 [==============================] - 4s 3ms/step - loss: 0.4686 - f1_m: 0.7654\n",
            "Epoch 100/100\n",
            "1487/1487 [==============================] - 3s 2ms/step - loss: 0.4683 - f1_m: 0.7655\n"
          ]
        }
      ]
    },
    {
      "cell_type": "code",
      "source": [
        "epochs = range(100)\n",
        "\n",
        "plt.plot(epochs, historial_model.history['f1_m'], color='orange', label='f1')\n",
        "plt.xlabel(\"epochs\")\n",
        "plt.ylabel(\"AUC\")\n",
        "plt.legend()"
      ],
      "metadata": {
        "colab": {
          "base_uri": "https://localhost:8080/",
          "height": 469
        },
        "id": "m0TYyAbybaze",
        "outputId": "3bd879f6-ec13-48f9-dd94-9744975ef781"
      },
      "execution_count": null,
      "outputs": [
        {
          "output_type": "execute_result",
          "data": {
            "text/plain": [
              "<matplotlib.legend.Legend at 0x7fa3eafa7af0>"
            ]
          },
          "metadata": {},
          "execution_count": 37
        },
        {
          "output_type": "display_data",
          "data": {
            "text/plain": [
              "<Figure size 640x480 with 1 Axes>"
            ],
            "image/png": "[encoded data removed]"
          },
          "metadata": {}
        }
      ]
    },
    {
      "cell_type": "code",
      "source": [
        "y_predic = model.predict(x_test)"
      ],
      "metadata": {
        "colab": {
          "base_uri": "https://localhost:8080/"
        },
        "id": "rL-6wds7q_Xf",
        "outputId": "172909e0-1f87-4c6b-d7fe-70a8becf5085"
      },
      "execution_count": null,
      "outputs": [
        {
          "output_type": "stream",
          "name": "stdout",
          "text": [
            "372/372 [==============================] - 1s 1ms/step\n"
          ]
        }
      ]
    },
    {
      "cell_type": "code",
      "source": [
        "max(historial_model.history['f1_m'])"
      ],
      "metadata": {
        "colab": {
          "base_uri": "https://localhost:8080/"
        },
        "id": "LTbzPANH59R3",
        "outputId": "89e3ae1f-232f-431b-b169-76a3442228c3"
      },
      "execution_count": null,
      "outputs": [
        {
          "output_type": "execute_result",
          "data": {
            "text/plain": [
              "0.7671564817428589"
            ]
          },
          "metadata": {},
          "execution_count": 39
        }
      ]
    },
    {
      "cell_type": "code",
      "source": [
        "y_predic_classes = np.argmax(y_predic,axis=1).tolist()\n",
        "y_real = np.argmax(y_test_encoder,axis=1).tolist()"
      ],
      "metadata": {
        "id": "dO5e-iPurnJs"
      },
      "execution_count": null,
      "outputs": []
    },
    {
      "cell_type": "code",
      "source": [
        "show_performance(y_real, y_predic_classes)"
      ],
      "metadata": {
        "colab": {
          "base_uri": "https://localhost:8080/",
          "height": 640
        },
        "id": "0H5trNFdBuD0",
        "outputId": "d7879d43-823d-4103-a226-ef1f4578a446"
      },
      "execution_count": null,
      "outputs": [
        {
          "output_type": "stream",
          "name": "stdout",
          "text": [
            "F1 Score: 0.7504366210129608\n",
            "Classification Report: \n",
            "               precision    recall  f1-score   support\n",
            "\n",
            "           0       0.73      0.86      0.79      5959\n",
            "           1       0.83      0.69      0.75      5937\n",
            "\n",
            "    accuracy                           0.77     11896\n",
            "   macro avg       0.78      0.77      0.77     11896\n",
            "weighted avg       0.78      0.77      0.77     11896\n",
            "\n"
          ]
        },
        {
          "output_type": "display_data",
          "data": {
            "text/plain": [
              "<Figure size 640x480 with 2 Axes>"
            ],
            "image/png": "[encoded data removed]"
          },
          "metadata": {}
        }
      ]
    },
    {
      "cell_type": "markdown",
      "source": [
        "#### Kaggle"
      ],
      "metadata": {
        "id": "TBqBbtjmnfib"
      }
    },
    {
      "cell_type": "code",
      "source": [
        "create_model_submission(df_hotels_test, model, SGD_NAME, f1_score(y_real, y_predic_classes, average='binary'))"
      ],
      "metadata": {
        "id": "jhfwbgpanfic",
        "colab": {
          "base_uri": "https://localhost:8080/"
        },
        "outputId": "d10b28cd-f595-45c5-ee5d-d8c010e3eca3"
      },
      "execution_count": null,
      "outputs": [
        {
          "output_type": "stream",
          "name": "stdout",
          "text": [
            "830/830 [==============================] - 1s 1ms/step\n"
          ]
        }
      ]
    },
    {
      "cell_type": "markdown",
      "source": [
        "### Adam"
      ],
      "metadata": {
        "id": "_ZH2SOIkzJdY"
      }
    },
    {
      "cell_type": "code",
      "source": [
        "optimizer = keras.optimizers.Adam(learning_rate = 0.01, beta_1=0.9, beta_2= 0.99)\n",
        "model.compile(loss='binary_crossentropy', optimizer=optimizer, metrics=[f1_m])"
      ],
      "metadata": {
        "id": "vtZQkJsS1_6S"
      },
      "execution_count": null,
      "outputs": []
    },
    {
      "cell_type": "code",
      "source": [
        "historial_model = model.fit(x_train, y_train_encoder, epochs=100, batch_size=32)"
      ],
      "metadata": {
        "id": "8ICJxLWBUwvC",
        "colab": {
          "base_uri": "https://localhost:8080/"
        },
        "outputId": "0ba2bcc3-3502-4c46-9bad-b7e2daf28480"
      },
      "execution_count": null,
      "outputs": [
        {
          "output_type": "stream",
          "name": "stdout",
          "text": [
            "Epoch 1/100\n",
            "1487/1487 [==============================] - 8s 5ms/step - loss: 0.4807 - f1_m: 0.7625\n",
            "Epoch 2/100\n",
            "1487/1487 [==============================] - 6s 4ms/step - loss: 0.4616 - f1_m: 0.7725\n",
            "Epoch 3/100\n",
            "1487/1487 [==============================] - 6s 4ms/step - loss: 0.4507 - f1_m: 0.7772\n",
            "Epoch 4/100\n",
            "1487/1487 [==============================] - 5s 3ms/step - loss: 0.4449 - f1_m: 0.7835\n",
            "Epoch 5/100\n",
            "1487/1487 [==============================] - 5s 3ms/step - loss: 0.4399 - f1_m: 0.7871\n",
            "Epoch 6/100\n",
            "1487/1487 [==============================] - 8s 5ms/step - loss: 0.4392 - f1_m: 0.7883\n",
            "Epoch 7/100\n",
            "1487/1487 [==============================] - 5s 3ms/step - loss: 0.4344 - f1_m: 0.7919\n",
            "Epoch 8/100\n",
            "1487/1487 [==============================] - 6s 4ms/step - loss: 0.4317 - f1_m: 0.7936\n",
            "Epoch 9/100\n",
            "1487/1487 [==============================] - 5s 3ms/step - loss: 0.4301 - f1_m: 0.7945\n",
            "Epoch 10/100\n",
            "1487/1487 [==============================] - 3s 2ms/step - loss: 0.4305 - f1_m: 0.7960\n",
            "Epoch 11/100\n",
            "1487/1487 [==============================] - 5s 3ms/step - loss: 0.4270 - f1_m: 0.7975\n",
            "Epoch 12/100\n",
            "1487/1487 [==============================] - 4s 2ms/step - loss: 0.4276 - f1_m: 0.7966\n",
            "Epoch 13/100\n",
            "1487/1487 [==============================] - 4s 3ms/step - loss: 0.4257 - f1_m: 0.7999\n",
            "Epoch 14/100\n",
            "1487/1487 [==============================] - 9s 6ms/step - loss: 0.4226 - f1_m: 0.8022\n",
            "Epoch 15/100\n",
            "1487/1487 [==============================] - 7s 5ms/step - loss: 0.4222 - f1_m: 0.8019\n",
            "Epoch 16/100\n",
            "1487/1487 [==============================] - 6s 4ms/step - loss: 0.4215 - f1_m: 0.8031\n",
            "Epoch 17/100\n",
            "1487/1487 [==============================] - 5s 4ms/step - loss: 0.4241 - f1_m: 0.8042\n",
            "Epoch 18/100\n",
            "1487/1487 [==============================] - 6s 4ms/step - loss: 0.4185 - f1_m: 0.8039\n",
            "Epoch 19/100\n",
            "1487/1487 [==============================] - 5s 3ms/step - loss: 0.4195 - f1_m: 0.8052\n",
            "Epoch 20/100\n",
            "1487/1487 [==============================] - 5s 3ms/step - loss: 0.4190 - f1_m: 0.8054\n",
            "Epoch 21/100\n",
            "1487/1487 [==============================] - 7s 5ms/step - loss: 0.4169 - f1_m: 0.8077\n",
            "Epoch 22/100\n",
            "1487/1487 [==============================] - 6s 4ms/step - loss: 0.4203 - f1_m: 0.8066\n",
            "Epoch 23/100\n",
            "1487/1487 [==============================] - 8s 5ms/step - loss: 0.4162 - f1_m: 0.8077\n",
            "Epoch 24/100\n",
            "1487/1487 [==============================] - 6s 4ms/step - loss: 0.4162 - f1_m: 0.8070\n",
            "Epoch 25/100\n",
            "1487/1487 [==============================] - 7s 5ms/step - loss: 0.4150 - f1_m: 0.8079\n",
            "Epoch 26/100\n",
            "1487/1487 [==============================] - 5s 4ms/step - loss: 0.4150 - f1_m: 0.8072\n",
            "Epoch 27/100\n",
            "1487/1487 [==============================] - 6s 4ms/step - loss: 0.4144 - f1_m: 0.8091\n",
            "Epoch 28/100\n",
            "1487/1487 [==============================] - 5s 3ms/step - loss: 0.4147 - f1_m: 0.8088\n",
            "Epoch 29/100\n",
            "1487/1487 [==============================] - 4s 3ms/step - loss: 0.4124 - f1_m: 0.8104\n",
            "Epoch 30/100\n",
            "1487/1487 [==============================] - 6s 4ms/step - loss: 0.4105 - f1_m: 0.8100\n",
            "Epoch 31/100\n",
            "1487/1487 [==============================] - 5s 3ms/step - loss: 0.4139 - f1_m: 0.8088\n",
            "Epoch 32/100\n",
            "1487/1487 [==============================] - 4s 2ms/step - loss: 0.4095 - f1_m: 0.8115\n",
            "Epoch 33/100\n",
            "1487/1487 [==============================] - 5s 3ms/step - loss: 0.4114 - f1_m: 0.8121\n",
            "Epoch 34/100\n",
            "1487/1487 [==============================] - 4s 3ms/step - loss: 0.4091 - f1_m: 0.8138\n",
            "Epoch 35/100\n",
            "1487/1487 [==============================] - 5s 4ms/step - loss: 0.4109 - f1_m: 0.8126\n",
            "Epoch 36/100\n",
            "1487/1487 [==============================] - 6s 4ms/step - loss: 0.4090 - f1_m: 0.8139\n",
            "Epoch 37/100\n",
            "1487/1487 [==============================] - 4s 2ms/step - loss: 0.4083 - f1_m: 0.8133\n",
            "Epoch 38/100\n",
            "1487/1487 [==============================] - 8s 6ms/step - loss: 0.4085 - f1_m: 0.8127\n",
            "Epoch 39/100\n",
            "1487/1487 [==============================] - 5s 3ms/step - loss: 0.4069 - f1_m: 0.8148\n",
            "Epoch 40/100\n",
            "1487/1487 [==============================] - 6s 4ms/step - loss: 0.4088 - f1_m: 0.8149\n",
            "Epoch 41/100\n",
            "1487/1487 [==============================] - 7s 5ms/step - loss: 0.4071 - f1_m: 0.8143\n",
            "Epoch 42/100\n",
            "1487/1487 [==============================] - 6s 4ms/step - loss: 0.4069 - f1_m: 0.8156\n",
            "Epoch 43/100\n",
            "1487/1487 [==============================] - 9s 6ms/step - loss: 0.4082 - f1_m: 0.8140\n",
            "Epoch 44/100\n",
            "1487/1487 [==============================] - 6s 4ms/step - loss: 0.4071 - f1_m: 0.8152\n",
            "Epoch 45/100\n",
            "1487/1487 [==============================] - 5s 4ms/step - loss: 0.4047 - f1_m: 0.8135\n",
            "Epoch 46/100\n",
            "1487/1487 [==============================] - 4s 3ms/step - loss: 0.4059 - f1_m: 0.8162\n",
            "Epoch 47/100\n",
            "1487/1487 [==============================] - 7s 5ms/step - loss: 0.4082 - f1_m: 0.8146\n",
            "Epoch 48/100\n",
            "1487/1487 [==============================] - 6s 4ms/step - loss: 0.4054 - f1_m: 0.8168\n",
            "Epoch 49/100\n",
            "1487/1487 [==============================] - 6s 4ms/step - loss: 0.4054 - f1_m: 0.8168\n",
            "Epoch 50/100\n",
            "1487/1487 [==============================] - 5s 3ms/step - loss: 0.4039 - f1_m: 0.8156\n",
            "Epoch 51/100\n",
            "1487/1487 [==============================] - 6s 4ms/step - loss: 0.4037 - f1_m: 0.8159\n",
            "Epoch 52/100\n",
            "1487/1487 [==============================] - 6s 4ms/step - loss: 0.4054 - f1_m: 0.8167\n",
            "Epoch 53/100\n",
            "1487/1487 [==============================] - 6s 4ms/step - loss: 0.4057 - f1_m: 0.8170\n",
            "Epoch 54/100\n",
            "1487/1487 [==============================] - 6s 4ms/step - loss: 0.4056 - f1_m: 0.8158\n",
            "Epoch 55/100\n",
            "1487/1487 [==============================] - 6s 4ms/step - loss: 0.4053 - f1_m: 0.8173\n",
            "Epoch 56/100\n",
            "1487/1487 [==============================] - 8s 6ms/step - loss: 0.4026 - f1_m: 0.8172\n",
            "Epoch 57/100\n",
            "1487/1487 [==============================] - 4s 3ms/step - loss: 0.3997 - f1_m: 0.8176\n",
            "Epoch 58/100\n",
            "1487/1487 [==============================] - 3s 2ms/step - loss: 0.4029 - f1_m: 0.8190\n",
            "Epoch 59/100\n",
            "1487/1487 [==============================] - 4s 3ms/step - loss: 0.4019 - f1_m: 0.8175\n",
            "Epoch 60/100\n",
            "1487/1487 [==============================] - 3s 2ms/step - loss: 0.4020 - f1_m: 0.8180\n",
            "Epoch 61/100\n",
            "1487/1487 [==============================] - 3s 2ms/step - loss: 0.4038 - f1_m: 0.8183\n",
            "Epoch 62/100\n",
            "1487/1487 [==============================] - 3s 2ms/step - loss: 0.4017 - f1_m: 0.8183\n",
            "Epoch 63/100\n",
            "1487/1487 [==============================] - 6s 4ms/step - loss: 0.4006 - f1_m: 0.8172\n",
            "Epoch 64/100\n",
            "1487/1487 [==============================] - 9s 6ms/step - loss: 0.4025 - f1_m: 0.8182\n",
            "Epoch 65/100\n",
            "1487/1487 [==============================] - 5s 3ms/step - loss: 0.4014 - f1_m: 0.8183\n",
            "Epoch 66/100\n",
            "1487/1487 [==============================] - 7s 5ms/step - loss: 0.4037 - f1_m: 0.8180\n",
            "Epoch 67/100\n",
            "1487/1487 [==============================] - 7s 5ms/step - loss: 0.4018 - f1_m: 0.8189\n",
            "Epoch 68/100\n",
            "1487/1487 [==============================] - 3s 2ms/step - loss: 0.4005 - f1_m: 0.8186\n",
            "Epoch 69/100\n",
            "1487/1487 [==============================] - 3s 2ms/step - loss: 0.4016 - f1_m: 0.8198\n",
            "Epoch 70/100\n",
            "1487/1487 [==============================] - 5s 3ms/step - loss: 0.3999 - f1_m: 0.8185\n",
            "Epoch 71/100\n",
            "1487/1487 [==============================] - 3s 2ms/step - loss: 0.3998 - f1_m: 0.8194\n",
            "Epoch 72/100\n",
            "1487/1487 [==============================] - 4s 3ms/step - loss: 0.3993 - f1_m: 0.8196\n",
            "Epoch 73/100\n",
            "1487/1487 [==============================] - 5s 3ms/step - loss: 0.4000 - f1_m: 0.8203\n",
            "Epoch 74/100\n",
            "1487/1487 [==============================] - 3s 2ms/step - loss: 0.3989 - f1_m: 0.8187\n",
            "Epoch 75/100\n",
            "1487/1487 [==============================] - 3s 2ms/step - loss: 0.3992 - f1_m: 0.8208\n",
            "Epoch 76/100\n",
            "1487/1487 [==============================] - 5s 3ms/step - loss: 0.3981 - f1_m: 0.8212\n",
            "Epoch 77/100\n",
            "1487/1487 [==============================] - 3s 2ms/step - loss: 0.3986 - f1_m: 0.8208\n",
            "Epoch 78/100\n",
            "1487/1487 [==============================] - 3s 2ms/step - loss: 0.3991 - f1_m: 0.8195\n",
            "Epoch 79/100\n",
            "1487/1487 [==============================] - 5s 3ms/step - loss: 0.3986 - f1_m: 0.8212\n",
            "Epoch 80/100\n",
            "1487/1487 [==============================] - 6s 4ms/step - loss: 0.3979 - f1_m: 0.8227\n",
            "Epoch 81/100\n",
            "1487/1487 [==============================] - 7s 5ms/step - loss: 0.3995 - f1_m: 0.8208\n",
            "Epoch 82/100\n",
            "1487/1487 [==============================] - 6s 4ms/step - loss: 0.3971 - f1_m: 0.8216\n",
            "Epoch 83/100\n",
            "1487/1487 [==============================] - 3s 2ms/step - loss: 0.3982 - f1_m: 0.8197\n",
            "Epoch 84/100\n",
            "1487/1487 [==============================] - 3s 2ms/step - loss: 0.3991 - f1_m: 0.8187\n",
            "Epoch 85/100\n",
            "1487/1487 [==============================] - 4s 3ms/step - loss: 0.3965 - f1_m: 0.8214\n",
            "Epoch 86/100\n",
            "1487/1487 [==============================] - 4s 2ms/step - loss: 0.4009 - f1_m: 0.8200\n",
            "Epoch 87/100\n",
            "1487/1487 [==============================] - 3s 2ms/step - loss: 0.3966 - f1_m: 0.8226\n",
            "Epoch 88/100\n",
            "1487/1487 [==============================] - 3s 2ms/step - loss: 0.4020 - f1_m: 0.8218\n",
            "Epoch 89/100\n",
            "1487/1487 [==============================] - 4s 3ms/step - loss: 0.3994 - f1_m: 0.8195\n",
            "Epoch 90/100\n",
            "1487/1487 [==============================] - 3s 2ms/step - loss: 0.3984 - f1_m: 0.8217\n",
            "Epoch 91/100\n",
            "1487/1487 [==============================] - 3s 2ms/step - loss: 0.3972 - f1_m: 0.8212\n",
            "Epoch 92/100\n",
            "1487/1487 [==============================] - 5s 3ms/step - loss: 0.3991 - f1_m: 0.8211\n",
            "Epoch 93/100\n",
            "1487/1487 [==============================] - 3s 2ms/step - loss: 0.3962 - f1_m: 0.8219\n",
            "Epoch 94/100\n",
            "1487/1487 [==============================] - 3s 2ms/step - loss: 0.3984 - f1_m: 0.8203\n",
            "Epoch 95/100\n",
            "1487/1487 [==============================] - 8s 5ms/step - loss: 0.3993 - f1_m: 0.8223\n",
            "Epoch 96/100\n",
            "1487/1487 [==============================] - 6s 4ms/step - loss: 0.3964 - f1_m: 0.8219\n",
            "Epoch 97/100\n",
            "1487/1487 [==============================] - 6s 4ms/step - loss: 0.3991 - f1_m: 0.8223\n",
            "Epoch 98/100\n",
            "1487/1487 [==============================] - 7s 5ms/step - loss: 0.3957 - f1_m: 0.8215\n",
            "Epoch 99/100\n",
            "1487/1487 [==============================] - 8s 5ms/step - loss: 0.3947 - f1_m: 0.8216\n",
            "Epoch 100/100\n",
            "1487/1487 [==============================] - 7s 5ms/step - loss: 0.3974 - f1_m: 0.8222\n"
          ]
        }
      ]
    },
    {
      "cell_type": "code",
      "source": [
        "epochs = range(100)\n",
        "\n",
        "plt.plot(epochs, historial_model.history['f1_m'], color='orange', label='f1')\n",
        "plt.xlabel(\"epochs\")\n",
        "plt.ylabel(\"AUC\")\n",
        "plt.legend()"
      ],
      "metadata": {
        "id": "yplYQcDgXcOT",
        "colab": {
          "base_uri": "https://localhost:8080/",
          "height": 466
        },
        "outputId": "21863719-1e71-4c61-9987-248fb175a35f"
      },
      "execution_count": null,
      "outputs": [
        {
          "output_type": "execute_result",
          "data": {
            "text/plain": [
              "<matplotlib.legend.Legend at 0x7fa3eac55db0>"
            ]
          },
          "metadata": {},
          "execution_count": 45
        },
        {
          "output_type": "display_data",
          "data": {
            "text/plain": [
              "<Figure size 640x480 with 1 Axes>"
            ],
            "image/png": "[encoded data removed]"
          },
          "metadata": {}
        }
      ]
    },
    {
      "cell_type": "code",
      "source": [
        "epochs = range(100)\n",
        "\n",
        "plt.plot(epochs, historial_model.history['loss'], color='black', label='Loss')\n",
        "plt.xlabel(\"epochs\")\n",
        "plt.ylabel(\"Loss\")\n",
        "plt.legend()"
      ],
      "metadata": {
        "id": "lxEnkuRng9xe"
      },
      "execution_count": null,
      "outputs": []
    },
    {
      "cell_type": "code",
      "source": [
        "y_predic = model.predict(x_test)"
      ],
      "metadata": {
        "id": "uD6L_O62U54J",
        "colab": {
          "base_uri": "https://localhost:8080/"
        },
        "outputId": "c06f99b6-acdf-43a3-e936-bf672bf6d9f6"
      },
      "execution_count": null,
      "outputs": [
        {
          "output_type": "stream",
          "name": "stdout",
          "text": [
            "372/372 [==============================] - 1s 2ms/step\n"
          ]
        }
      ]
    },
    {
      "cell_type": "code",
      "source": [
        "adam_score = sum(historial_model.history['f1_m']) / len(historial_model.history['f1_m'])"
      ],
      "metadata": {
        "id": "1YKLHU44U54J"
      },
      "execution_count": null,
      "outputs": []
    },
    {
      "cell_type": "code",
      "source": [
        "y_predic_classes = np.argmax(y_predic,axis=1).tolist()\n",
        "y_real = np.argmax(y_test_encoder,axis=1).tolist()"
      ],
      "metadata": {
        "id": "qW_c_f8FU54J"
      },
      "execution_count": null,
      "outputs": []
    },
    {
      "cell_type": "code",
      "source": [
        "show_performance(y_real, y_predic_classes)"
      ],
      "metadata": {
        "id": "d2ZepVbVU54J",
        "colab": {
          "base_uri": "https://localhost:8080/",
          "height": 640
        },
        "outputId": "e3427805-81e8-47fa-e65f-221469ad8582"
      },
      "execution_count": null,
      "outputs": [
        {
          "output_type": "stream",
          "name": "stdout",
          "text": [
            "F1 Score: 0.7986511669180938\n",
            "Classification Report: \n",
            "               precision    recall  f1-score   support\n",
            "\n",
            "           0       0.78      0.86      0.82      5959\n",
            "           1       0.84      0.76      0.80      5937\n",
            "\n",
            "    accuracy                           0.81     11896\n",
            "   macro avg       0.81      0.81      0.81     11896\n",
            "weighted avg       0.81      0.81      0.81     11896\n",
            "\n"
          ]
        },
        {
          "output_type": "display_data",
          "data": {
            "text/plain": [
              "<Figure size 640x480 with 2 Axes>"
            ],
            "image/png": "[encoded data removed]"
          },
          "metadata": {}
        }
      ]
    },
    {
      "cell_type": "markdown",
      "source": [
        "#### Kaggle"
      ],
      "metadata": {
        "id": "tDg9grP9nYpX"
      }
    },
    {
      "cell_type": "code",
      "source": [
        "create_model_submission(df_hotels_test, model, ADAM_NAME, f1_score(y_real, y_predic_classes, average='binary'))"
      ],
      "metadata": {
        "id": "DI7RroLxnYpr"
      },
      "execution_count": null,
      "outputs": []
    },
    {
      "cell_type": "markdown",
      "source": [
        "### **RMSprop**"
      ],
      "metadata": {
        "id": "43AXVPYHXwcH"
      }
    },
    {
      "cell_type": "code",
      "source": [
        "model.compile(optimizer=keras.optimizers.RMSprop(learning_rate=0.001), loss='categorical_crossentropy', metrics = [f1_m])"
      ],
      "metadata": {
        "id": "gS4pOeL5zYpx"
      },
      "execution_count": null,
      "outputs": []
    },
    {
      "cell_type": "code",
      "source": [
        "historial_model_rmsprop = model.fit(x_train, y_train_encoder, epochs=300, batch_size=32)"
      ],
      "metadata": {
        "colab": {
          "base_uri": "https://localhost:8080/"
        },
        "id": "aegkfGP3Xz_T",
        "outputId": "41e3bd6b-cccf-44dd-a99c-d2d8413dce8f"
      },
      "execution_count": null,
      "outputs": [
        {
          "output_type": "stream",
          "name": "stdout",
          "text": [
            "Epoch 1/300\n",
            "1487/1487 [==============================] - 5s 2ms/step - loss: 0.5865 - f1_m: 0.7267\n",
            "Epoch 2/300\n",
            "1487/1487 [==============================] - 4s 2ms/step - loss: 0.4815 - f1_m: 0.7536\n",
            "Epoch 3/300\n",
            "1487/1487 [==============================] - 8s 5ms/step - loss: 0.4752 - f1_m: 0.7587\n",
            "Epoch 4/300\n",
            "1487/1487 [==============================] - 7s 5ms/step - loss: 0.4733 - f1_m: 0.7599\n",
            "Epoch 5/300\n",
            "1487/1487 [==============================] - 9s 6ms/step - loss: 0.4695 - f1_m: 0.7635\n",
            "Epoch 6/300\n",
            "1487/1487 [==============================] - 9s 6ms/step - loss: 0.4679 - f1_m: 0.7634\n",
            "Epoch 7/300\n",
            "1487/1487 [==============================] - 8s 5ms/step - loss: 0.4659 - f1_m: 0.7644\n",
            "Epoch 8/300\n",
            "1487/1487 [==============================] - 8s 5ms/step - loss: 0.4611 - f1_m: 0.7682\n",
            "Epoch 9/300\n",
            "1487/1487 [==============================] - 3s 2ms/step - loss: 0.4596 - f1_m: 0.7670\n",
            "Epoch 10/300\n",
            "1487/1487 [==============================] - 3s 2ms/step - loss: 0.4563 - f1_m: 0.7700\n",
            "Epoch 11/300\n",
            "1487/1487 [==============================] - 4s 2ms/step - loss: 0.4545 - f1_m: 0.7706\n",
            "Epoch 12/300\n",
            "1487/1487 [==============================] - 4s 3ms/step - loss: 0.4523 - f1_m: 0.7731\n",
            "Epoch 13/300\n",
            "1487/1487 [==============================] - 3s 2ms/step - loss: 0.4514 - f1_m: 0.7719\n",
            "Epoch 14/300\n",
            "1487/1487 [==============================] - 3s 2ms/step - loss: 0.4496 - f1_m: 0.7731\n",
            "Epoch 15/300\n",
            "1487/1487 [==============================] - 4s 3ms/step - loss: 0.4479 - f1_m: 0.7735\n",
            "Epoch 16/300\n",
            "1487/1487 [==============================] - 4s 2ms/step - loss: 0.4483 - f1_m: 0.7739\n",
            "Epoch 17/300\n",
            "1487/1487 [==============================] - 3s 2ms/step - loss: 0.4461 - f1_m: 0.7737\n",
            "Epoch 18/300\n",
            "1487/1487 [==============================] - 3s 2ms/step - loss: 0.4456 - f1_m: 0.7755\n",
            "Epoch 19/300\n",
            "1487/1487 [==============================] - 5s 3ms/step - loss: 0.4449 - f1_m: 0.7746\n",
            "Epoch 20/300\n",
            "1487/1487 [==============================] - 3s 2ms/step - loss: 0.4452 - f1_m: 0.7743\n",
            "Epoch 21/300\n",
            "1487/1487 [==============================] - 3s 2ms/step - loss: 0.4436 - f1_m: 0.7759\n",
            "Epoch 22/300\n",
            "1487/1487 [==============================] - 4s 2ms/step - loss: 0.4427 - f1_m: 0.7768\n",
            "Epoch 23/300\n",
            "1487/1487 [==============================] - 4s 3ms/step - loss: 0.4419 - f1_m: 0.7761\n",
            "Epoch 24/300\n",
            "1487/1487 [==============================] - 3s 2ms/step - loss: 0.4427 - f1_m: 0.7762\n",
            "Epoch 25/300\n",
            "1487/1487 [==============================] - 3s 2ms/step - loss: 0.4409 - f1_m: 0.7773\n",
            "Epoch 26/300\n",
            "1487/1487 [==============================] - 4s 3ms/step - loss: 0.4402 - f1_m: 0.7768\n",
            "Epoch 27/300\n",
            "1487/1487 [==============================] - 4s 2ms/step - loss: 0.4406 - f1_m: 0.7783\n",
            "Epoch 28/300\n",
            "1487/1487 [==============================] - 3s 2ms/step - loss: 0.4393 - f1_m: 0.7794\n",
            "Epoch 29/300\n",
            "1487/1487 [==============================] - 3s 2ms/step - loss: 0.4385 - f1_m: 0.7786\n",
            "Epoch 30/300\n",
            "1487/1487 [==============================] - 4s 3ms/step - loss: 0.4382 - f1_m: 0.7784\n",
            "Epoch 31/300\n",
            "1487/1487 [==============================] - 3s 2ms/step - loss: 0.4370 - f1_m: 0.7802\n",
            "Epoch 32/300\n",
            "1487/1487 [==============================] - 3s 2ms/step - loss: 0.4369 - f1_m: 0.7802\n",
            "Epoch 33/300\n",
            "1487/1487 [==============================] - 3s 2ms/step - loss: 0.4371 - f1_m: 0.7808\n",
            "Epoch 34/300\n",
            "1487/1487 [==============================] - 5s 3ms/step - loss: 0.4357 - f1_m: 0.7816\n",
            "Epoch 35/300\n",
            "1487/1487 [==============================] - 3s 2ms/step - loss: 0.4350 - f1_m: 0.7824\n",
            "Epoch 36/300\n",
            "1487/1487 [==============================] - 4s 3ms/step - loss: 0.4350 - f1_m: 0.7808\n",
            "Epoch 37/300\n",
            "1487/1487 [==============================] - 4s 3ms/step - loss: 0.4350 - f1_m: 0.7820\n",
            "Epoch 38/300\n",
            "1487/1487 [==============================] - 5s 4ms/step - loss: 0.4340 - f1_m: 0.7839\n",
            "Epoch 39/300\n",
            "1487/1487 [==============================] - 3s 2ms/step - loss: 0.4333 - f1_m: 0.7823\n",
            "Epoch 40/300\n",
            "1487/1487 [==============================] - 4s 3ms/step - loss: 0.4335 - f1_m: 0.7830\n",
            "Epoch 41/300\n",
            "1487/1487 [==============================] - 4s 3ms/step - loss: 0.4321 - f1_m: 0.7844\n",
            "Epoch 42/300\n",
            "1487/1487 [==============================] - 3s 2ms/step - loss: 0.4317 - f1_m: 0.7851\n",
            "Epoch 43/300\n",
            "1487/1487 [==============================] - 3s 2ms/step - loss: 0.4317 - f1_m: 0.7839\n",
            "Epoch 44/300\n",
            "1487/1487 [==============================] - 4s 3ms/step - loss: 0.4318 - f1_m: 0.7832\n",
            "Epoch 45/300\n",
            "1487/1487 [==============================] - 3s 2ms/step - loss: 0.4306 - f1_m: 0.7838\n",
            "Epoch 46/300\n",
            "1487/1487 [==============================] - 3s 2ms/step - loss: 0.4302 - f1_m: 0.7850\n",
            "Epoch 47/300\n",
            "1487/1487 [==============================] - 3s 2ms/step - loss: 0.4302 - f1_m: 0.7856\n",
            "Epoch 48/300\n",
            "1487/1487 [==============================] - 4s 3ms/step - loss: 0.4299 - f1_m: 0.7861\n",
            "Epoch 49/300\n",
            "1487/1487 [==============================] - 3s 2ms/step - loss: 0.4293 - f1_m: 0.7866\n",
            "Epoch 50/300\n",
            "1487/1487 [==============================] - 3s 2ms/step - loss: 0.4295 - f1_m: 0.7856\n",
            "Epoch 51/300\n",
            "1487/1487 [==============================] - 3s 2ms/step - loss: 0.4288 - f1_m: 0.7870\n",
            "Epoch 52/300\n",
            "1487/1487 [==============================] - 4s 3ms/step - loss: 0.4279 - f1_m: 0.7854\n",
            "Epoch 53/300\n",
            "1487/1487 [==============================] - 3s 2ms/step - loss: 0.4284 - f1_m: 0.7875\n",
            "Epoch 54/300\n",
            "1487/1487 [==============================] - 3s 2ms/step - loss: 0.4269 - f1_m: 0.7874\n",
            "Epoch 55/300\n",
            "1487/1487 [==============================] - 4s 3ms/step - loss: 0.4270 - f1_m: 0.7878\n",
            "Epoch 56/300\n",
            "1487/1487 [==============================] - 4s 2ms/step - loss: 0.4265 - f1_m: 0.7885\n",
            "Epoch 57/300\n",
            "1487/1487 [==============================] - 3s 2ms/step - loss: 0.4259 - f1_m: 0.7870\n",
            "Epoch 58/300\n",
            "1487/1487 [==============================] - 3s 2ms/step - loss: 0.4265 - f1_m: 0.7869\n",
            "Epoch 59/300\n",
            "1487/1487 [==============================] - 4s 3ms/step - loss: 0.4263 - f1_m: 0.7879\n",
            "Epoch 60/300\n",
            "1487/1487 [==============================] - 3s 2ms/step - loss: 0.4252 - f1_m: 0.7889\n",
            "Epoch 61/300\n",
            "1487/1487 [==============================] - 3s 2ms/step - loss: 0.4251 - f1_m: 0.7896\n",
            "Epoch 62/300\n",
            "1487/1487 [==============================] - 3s 2ms/step - loss: 0.4258 - f1_m: 0.7899\n",
            "Epoch 63/300\n",
            "1487/1487 [==============================] - 5s 3ms/step - loss: 0.4249 - f1_m: 0.7918\n",
            "Epoch 64/300\n",
            "1487/1487 [==============================] - 3s 2ms/step - loss: 0.4246 - f1_m: 0.7898\n",
            "Epoch 65/300\n",
            "1487/1487 [==============================] - 3s 2ms/step - loss: 0.4251 - f1_m: 0.7900\n",
            "Epoch 66/300\n",
            "1487/1487 [==============================] - 3s 2ms/step - loss: 0.4239 - f1_m: 0.7913\n",
            "Epoch 67/300\n",
            "1487/1487 [==============================] - 5s 3ms/step - loss: 0.4234 - f1_m: 0.7900\n",
            "Epoch 68/300\n",
            "1487/1487 [==============================] - 3s 2ms/step - loss: 0.4233 - f1_m: 0.7907\n",
            "Epoch 69/300\n",
            "1487/1487 [==============================] - 3s 2ms/step - loss: 0.4233 - f1_m: 0.7915\n",
            "Epoch 70/300\n",
            "1487/1487 [==============================] - 4s 3ms/step - loss: 0.4228 - f1_m: 0.7905\n",
            "Epoch 71/300\n",
            "1487/1487 [==============================] - 3s 2ms/step - loss: 0.4228 - f1_m: 0.7920\n",
            "Epoch 72/300\n",
            "1487/1487 [==============================] - 3s 2ms/step - loss: 0.4220 - f1_m: 0.7910\n",
            "Epoch 73/300\n",
            "1487/1487 [==============================] - 3s 2ms/step - loss: 0.4225 - f1_m: 0.7899\n",
            "Epoch 74/300\n",
            "1487/1487 [==============================] - 4s 3ms/step - loss: 0.4215 - f1_m: 0.7914\n",
            "Epoch 75/300\n",
            "1487/1487 [==============================] - 3s 2ms/step - loss: 0.4221 - f1_m: 0.7916\n",
            "Epoch 76/300\n",
            "1487/1487 [==============================] - 3s 2ms/step - loss: 0.4221 - f1_m: 0.7923\n",
            "Epoch 77/300\n",
            "1487/1487 [==============================] - 3s 2ms/step - loss: 0.4209 - f1_m: 0.7927\n",
            "Epoch 78/300\n",
            "1487/1487 [==============================] - 4s 3ms/step - loss: 0.4214 - f1_m: 0.7922\n",
            "Epoch 79/300\n",
            "1487/1487 [==============================] - 3s 2ms/step - loss: 0.4201 - f1_m: 0.7928\n",
            "Epoch 80/300\n",
            "1487/1487 [==============================] - 3s 2ms/step - loss: 0.4208 - f1_m: 0.7934\n",
            "Epoch 81/300\n",
            "1487/1487 [==============================] - 4s 3ms/step - loss: 0.4212 - f1_m: 0.7932\n",
            "Epoch 82/300\n",
            "1487/1487 [==============================] - 4s 3ms/step - loss: 0.4210 - f1_m: 0.7919\n",
            "Epoch 83/300\n",
            "1487/1487 [==============================] - 3s 2ms/step - loss: 0.4193 - f1_m: 0.7940\n",
            "Epoch 84/300\n",
            "1487/1487 [==============================] - 3s 2ms/step - loss: 0.4201 - f1_m: 0.7931\n",
            "Epoch 85/300\n",
            "1487/1487 [==============================] - 5s 3ms/step - loss: 0.4186 - f1_m: 0.7950\n",
            "Epoch 86/300\n",
            "1487/1487 [==============================] - 3s 2ms/step - loss: 0.4189 - f1_m: 0.7948\n",
            "Epoch 87/300\n",
            "1487/1487 [==============================] - 3s 2ms/step - loss: 0.4185 - f1_m: 0.7923\n",
            "Epoch 88/300\n",
            "1487/1487 [==============================] - 3s 2ms/step - loss: 0.4188 - f1_m: 0.7944\n",
            "Epoch 89/300\n",
            "1487/1487 [==============================] - 4s 3ms/step - loss: 0.4189 - f1_m: 0.7947\n",
            "Epoch 90/300\n",
            "1487/1487 [==============================] - 3s 2ms/step - loss: 0.4183 - f1_m: 0.7951\n",
            "Epoch 91/300\n",
            "1487/1487 [==============================] - 3s 2ms/step - loss: 0.4176 - f1_m: 0.7957\n",
            "Epoch 92/300\n",
            "1487/1487 [==============================] - 4s 3ms/step - loss: 0.4179 - f1_m: 0.7943\n",
            "Epoch 93/300\n",
            "1487/1487 [==============================] - 4s 2ms/step - loss: 0.4168 - f1_m: 0.7952\n",
            "Epoch 94/300\n",
            "1487/1487 [==============================] - 3s 2ms/step - loss: 0.4178 - f1_m: 0.7956\n",
            "Epoch 95/300\n",
            "1487/1487 [==============================] - 3s 2ms/step - loss: 0.4185 - f1_m: 0.7942\n",
            "Epoch 96/300\n",
            "1487/1487 [==============================] - 4s 3ms/step - loss: 0.4159 - f1_m: 0.7970\n",
            "Epoch 97/300\n",
            "1487/1487 [==============================] - 3s 2ms/step - loss: 0.4168 - f1_m: 0.7959\n",
            "Epoch 98/300\n",
            "1487/1487 [==============================] - 3s 2ms/step - loss: 0.4158 - f1_m: 0.7966\n",
            "Epoch 99/300\n",
            "1487/1487 [==============================] - 4s 2ms/step - loss: 0.4159 - f1_m: 0.7984\n",
            "Epoch 100/300\n",
            "1487/1487 [==============================] - 4s 3ms/step - loss: 0.4163 - f1_m: 0.7958\n",
            "Epoch 101/300\n",
            "1487/1487 [==============================] - 3s 2ms/step - loss: 0.4159 - f1_m: 0.7983\n",
            "Epoch 102/300\n",
            "1487/1487 [==============================] - 3s 2ms/step - loss: 0.4146 - f1_m: 0.7987\n",
            "Epoch 103/300\n",
            "1487/1487 [==============================] - 4s 3ms/step - loss: 0.4155 - f1_m: 0.7969\n",
            "Epoch 104/300\n",
            "1487/1487 [==============================] - 4s 3ms/step - loss: 0.4150 - f1_m: 0.7973\n",
            "Epoch 105/300\n",
            "1487/1487 [==============================] - 3s 2ms/step - loss: 0.4145 - f1_m: 0.7988\n",
            "Epoch 106/300\n",
            "1487/1487 [==============================] - 3s 2ms/step - loss: 0.4143 - f1_m: 0.7972\n",
            "Epoch 107/300\n",
            "1487/1487 [==============================] - 5s 3ms/step - loss: 0.4146 - f1_m: 0.7965\n",
            "Epoch 108/300\n",
            "1487/1487 [==============================] - 3s 2ms/step - loss: 0.4140 - f1_m: 0.7970\n",
            "Epoch 109/300\n",
            "1487/1487 [==============================] - 3s 2ms/step - loss: 0.4127 - f1_m: 0.7996\n",
            "Epoch 110/300\n",
            "1487/1487 [==============================] - 3s 2ms/step - loss: 0.4124 - f1_m: 0.7987\n",
            "Epoch 111/300\n",
            "1487/1487 [==============================] - 4s 3ms/step - loss: 0.4128 - f1_m: 0.7991\n",
            "Epoch 112/300\n",
            "1487/1487 [==============================] - 3s 2ms/step - loss: 0.4128 - f1_m: 0.8000\n",
            "Epoch 113/300\n",
            "1487/1487 [==============================] - 3s 2ms/step - loss: 0.4117 - f1_m: 0.8005\n",
            "Epoch 114/300\n",
            "1487/1487 [==============================] - 4s 3ms/step - loss: 0.4129 - f1_m: 0.8002\n",
            "Epoch 115/300\n",
            "1487/1487 [==============================] - 4s 3ms/step - loss: 0.4119 - f1_m: 0.8013\n",
            "Epoch 116/300\n",
            "1487/1487 [==============================] - 3s 2ms/step - loss: 0.4119 - f1_m: 0.8006\n",
            "Epoch 117/300\n",
            "1487/1487 [==============================] - 3s 2ms/step - loss: 0.4119 - f1_m: 0.7995\n",
            "Epoch 118/300\n",
            "1487/1487 [==============================] - 4s 3ms/step - loss: 0.4118 - f1_m: 0.8012\n",
            "Epoch 119/300\n",
            "1487/1487 [==============================] - 3s 2ms/step - loss: 0.4123 - f1_m: 0.7986\n",
            "Epoch 120/300\n",
            "1487/1487 [==============================] - 3s 2ms/step - loss: 0.4115 - f1_m: 0.8006\n",
            "Epoch 121/300\n",
            "1487/1487 [==============================] - 3s 2ms/step - loss: 0.4095 - f1_m: 0.8021\n",
            "Epoch 122/300\n",
            "1487/1487 [==============================] - 4s 3ms/step - loss: 0.4097 - f1_m: 0.8026\n",
            "Epoch 123/300\n",
            "1487/1487 [==============================] - 4s 3ms/step - loss: 0.4088 - f1_m: 0.8009\n",
            "Epoch 124/300\n",
            "1487/1487 [==============================] - 8s 5ms/step - loss: 0.4095 - f1_m: 0.8008\n",
            "Epoch 125/300\n",
            "1487/1487 [==============================] - 8s 5ms/step - loss: 0.4082 - f1_m: 0.8013\n",
            "Epoch 126/300\n",
            "1487/1487 [==============================] - 10s 6ms/step - loss: 0.4095 - f1_m: 0.8011\n",
            "Epoch 127/300\n",
            "1487/1487 [==============================] - 6s 4ms/step - loss: 0.4085 - f1_m: 0.8008\n",
            "Epoch 128/300\n",
            "1487/1487 [==============================] - 4s 3ms/step - loss: 0.4086 - f1_m: 0.8029\n",
            "Epoch 129/300\n",
            "1487/1487 [==============================] - 4s 3ms/step - loss: 0.4101 - f1_m: 0.8004\n",
            "Epoch 130/300\n",
            "1487/1487 [==============================] - 3s 2ms/step - loss: 0.4090 - f1_m: 0.8022\n",
            "Epoch 131/300\n",
            "1487/1487 [==============================] - 3s 2ms/step - loss: 0.4080 - f1_m: 0.8026\n",
            "Epoch 132/300\n",
            "1487/1487 [==============================] - 4s 3ms/step - loss: 0.4089 - f1_m: 0.8020\n",
            "Epoch 133/300\n",
            "1487/1487 [==============================] - 3s 2ms/step - loss: 0.4079 - f1_m: 0.8029\n",
            "Epoch 134/300\n",
            "1487/1487 [==============================] - 3s 2ms/step - loss: 0.4075 - f1_m: 0.8027\n",
            "Epoch 135/300\n",
            "1487/1487 [==============================] - 3s 2ms/step - loss: 0.4072 - f1_m: 0.8024\n",
            "Epoch 136/300\n",
            "1487/1487 [==============================] - 4s 3ms/step - loss: 0.4083 - f1_m: 0.8017\n",
            "Epoch 137/300\n",
            "1487/1487 [==============================] - 4s 2ms/step - loss: 0.4065 - f1_m: 0.8030\n",
            "Epoch 138/300\n",
            "1487/1487 [==============================] - 3s 2ms/step - loss: 0.4074 - f1_m: 0.8030\n",
            "Epoch 139/300\n",
            "1487/1487 [==============================] - 4s 3ms/step - loss: 0.4085 - f1_m: 0.8024\n",
            "Epoch 140/300\n",
            "1487/1487 [==============================] - 4s 3ms/step - loss: 0.4071 - f1_m: 0.8036\n",
            "Epoch 141/300\n",
            "1487/1487 [==============================] - 3s 2ms/step - loss: 0.4077 - f1_m: 0.8021\n",
            "Epoch 142/300\n",
            "1487/1487 [==============================] - 3s 2ms/step - loss: 0.4082 - f1_m: 0.8020\n",
            "Epoch 143/300\n",
            "1487/1487 [==============================] - 4s 3ms/step - loss: 0.4065 - f1_m: 0.8036\n",
            "Epoch 144/300\n",
            "1487/1487 [==============================] - 3s 2ms/step - loss: 0.4065 - f1_m: 0.8039\n",
            "Epoch 145/300\n",
            "1487/1487 [==============================] - 3s 2ms/step - loss: 0.4074 - f1_m: 0.8033\n",
            "Epoch 146/300\n",
            "1487/1487 [==============================] - 3s 2ms/step - loss: 0.4074 - f1_m: 0.8037\n",
            "Epoch 147/300\n",
            "1487/1487 [==============================] - 4s 3ms/step - loss: 0.4071 - f1_m: 0.8032\n",
            "Epoch 148/300\n",
            "1487/1487 [==============================] - 3s 2ms/step - loss: 0.4065 - f1_m: 0.8043\n",
            "Epoch 149/300\n",
            "1487/1487 [==============================] - 3s 2ms/step - loss: 0.4072 - f1_m: 0.8013\n",
            "Epoch 150/300\n",
            "1487/1487 [==============================] - 4s 3ms/step - loss: 0.4067 - f1_m: 0.8046\n",
            "Epoch 151/300\n",
            "1487/1487 [==============================] - 4s 3ms/step - loss: 0.4067 - f1_m: 0.8036\n",
            "Epoch 152/300\n",
            "1487/1487 [==============================] - 4s 3ms/step - loss: 0.4072 - f1_m: 0.8028\n",
            "Epoch 153/300\n",
            "1487/1487 [==============================] - 3s 2ms/step - loss: 0.4051 - f1_m: 0.8040\n",
            "Epoch 154/300\n",
            "1487/1487 [==============================] - 5s 3ms/step - loss: 0.4057 - f1_m: 0.8034\n",
            "Epoch 155/300\n",
            "1487/1487 [==============================] - 3s 2ms/step - loss: 0.4062 - f1_m: 0.8029\n",
            "Epoch 156/300\n",
            "1487/1487 [==============================] - 3s 2ms/step - loss: 0.4057 - f1_m: 0.8040\n",
            "Epoch 157/300\n",
            "1487/1487 [==============================] - 4s 3ms/step - loss: 0.4052 - f1_m: 0.8054\n",
            "Epoch 158/300\n",
            "1487/1487 [==============================] - 4s 3ms/step - loss: 0.4053 - f1_m: 0.8048\n",
            "Epoch 159/300\n",
            "1487/1487 [==============================] - 3s 2ms/step - loss: 0.4053 - f1_m: 0.8056\n",
            "Epoch 160/300\n",
            "1487/1487 [==============================] - 3s 2ms/step - loss: 0.4055 - f1_m: 0.8062\n",
            "Epoch 161/300\n",
            "1487/1487 [==============================] - 5s 3ms/step - loss: 0.4042 - f1_m: 0.8069\n",
            "Epoch 162/300\n",
            "1487/1487 [==============================] - 3s 2ms/step - loss: 0.4038 - f1_m: 0.8073\n",
            "Epoch 163/300\n",
            "1487/1487 [==============================] - 3s 2ms/step - loss: 0.4040 - f1_m: 0.8063\n",
            "Epoch 164/300\n",
            "1487/1487 [==============================] - 4s 3ms/step - loss: 0.4037 - f1_m: 0.8054\n",
            "Epoch 165/300\n",
            "1487/1487 [==============================] - 6s 4ms/step - loss: 0.4049 - f1_m: 0.8057\n",
            "Epoch 166/300\n",
            "1487/1487 [==============================] - 3s 2ms/step - loss: 0.4043 - f1_m: 0.8063\n",
            "Epoch 167/300\n",
            "1487/1487 [==============================] - 3s 2ms/step - loss: 0.4038 - f1_m: 0.8055\n",
            "Epoch 168/300\n",
            "1487/1487 [==============================] - 4s 3ms/step - loss: 0.4042 - f1_m: 0.8062\n",
            "Epoch 169/300\n",
            "1487/1487 [==============================] - 3s 2ms/step - loss: 0.4036 - f1_m: 0.8052\n",
            "Epoch 170/300\n",
            "1487/1487 [==============================] - 3s 2ms/step - loss: 0.4052 - f1_m: 0.8062\n",
            "Epoch 171/300\n",
            "1487/1487 [==============================] - 4s 2ms/step - loss: 0.4036 - f1_m: 0.8056\n",
            "Epoch 172/300\n",
            "1487/1487 [==============================] - 4s 3ms/step - loss: 0.4031 - f1_m: 0.8064\n",
            "Epoch 173/300\n",
            "1487/1487 [==============================] - 3s 2ms/step - loss: 0.4029 - f1_m: 0.8079\n",
            "Epoch 174/300\n",
            "1487/1487 [==============================] - 3s 2ms/step - loss: 0.4037 - f1_m: 0.8063\n",
            "Epoch 175/300\n",
            "1487/1487 [==============================] - 4s 3ms/step - loss: 0.4040 - f1_m: 0.8068\n",
            "Epoch 176/300\n",
            "1487/1487 [==============================] - 4s 2ms/step - loss: 0.4030 - f1_m: 0.8070\n",
            "Epoch 177/300\n",
            "1487/1487 [==============================] - 4s 2ms/step - loss: 0.4020 - f1_m: 0.8062\n",
            "Epoch 178/300\n",
            "1487/1487 [==============================] - 4s 3ms/step - loss: 0.4030 - f1_m: 0.8078\n",
            "Epoch 179/300\n",
            "1487/1487 [==============================] - 4s 3ms/step - loss: 0.4031 - f1_m: 0.8064\n",
            "Epoch 180/300\n",
            "1487/1487 [==============================] - 4s 2ms/step - loss: 0.4035 - f1_m: 0.8075\n",
            "Epoch 181/300\n",
            "1487/1487 [==============================] - 4s 2ms/step - loss: 0.4023 - f1_m: 0.8074\n",
            "Epoch 182/300\n",
            "1487/1487 [==============================] - 4s 3ms/step - loss: 0.4033 - f1_m: 0.8068\n",
            "Epoch 183/300\n",
            "1487/1487 [==============================] - 3s 2ms/step - loss: 0.4018 - f1_m: 0.8073\n",
            "Epoch 184/300\n",
            "1487/1487 [==============================] - 4s 2ms/step - loss: 0.4024 - f1_m: 0.8071\n",
            "Epoch 185/300\n",
            "1487/1487 [==============================] - 4s 2ms/step - loss: 0.4022 - f1_m: 0.8073\n",
            "Epoch 186/300\n",
            "1487/1487 [==============================] - 4s 3ms/step - loss: 0.4030 - f1_m: 0.8057\n",
            "Epoch 187/300\n",
            "1487/1487 [==============================] - 3s 2ms/step - loss: 0.4020 - f1_m: 0.8073\n",
            "Epoch 188/300\n",
            "1487/1487 [==============================] - 3s 2ms/step - loss: 0.4019 - f1_m: 0.8070\n",
            "Epoch 189/300\n",
            "1487/1487 [==============================] - 4s 3ms/step - loss: 0.4019 - f1_m: 0.8086\n",
            "Epoch 190/300\n",
            "1487/1487 [==============================] - 4s 3ms/step - loss: 0.4023 - f1_m: 0.8072\n",
            "Epoch 191/300\n",
            "1487/1487 [==============================] - 3s 2ms/step - loss: 0.4017 - f1_m: 0.8078\n",
            "Epoch 192/300\n",
            "1487/1487 [==============================] - 3s 2ms/step - loss: 0.4013 - f1_m: 0.8075\n",
            "Epoch 193/300\n",
            "1487/1487 [==============================] - 5s 3ms/step - loss: 0.4030 - f1_m: 0.8070\n",
            "Epoch 194/300\n",
            "1487/1487 [==============================] - 3s 2ms/step - loss: 0.4011 - f1_m: 0.8084\n",
            "Epoch 195/300\n",
            "1487/1487 [==============================] - 3s 2ms/step - loss: 0.4016 - f1_m: 0.8075\n",
            "Epoch 196/300\n",
            "1487/1487 [==============================] - 3s 2ms/step - loss: 0.4018 - f1_m: 0.8069\n",
            "Epoch 197/300\n",
            "1487/1487 [==============================] - 5s 3ms/step - loss: 0.4018 - f1_m: 0.8095\n",
            "Epoch 198/300\n",
            "1487/1487 [==============================] - 3s 2ms/step - loss: 0.4018 - f1_m: 0.8084\n",
            "Epoch 199/300\n",
            "1487/1487 [==============================] - 3s 2ms/step - loss: 0.4002 - f1_m: 0.8091\n",
            "Epoch 200/300\n",
            "1487/1487 [==============================] - 4s 3ms/step - loss: 0.4024 - f1_m: 0.8071\n",
            "Epoch 201/300\n",
            "1487/1487 [==============================] - 4s 3ms/step - loss: 0.4014 - f1_m: 0.8082\n",
            "Epoch 202/300\n",
            "1487/1487 [==============================] - 3s 2ms/step - loss: 0.4001 - f1_m: 0.8090\n",
            "Epoch 203/300\n",
            "1487/1487 [==============================] - 3s 2ms/step - loss: 0.4006 - f1_m: 0.8080\n",
            "Epoch 204/300\n",
            "1487/1487 [==============================] - 5s 3ms/step - loss: 0.4016 - f1_m: 0.8081\n",
            "Epoch 205/300\n",
            "1487/1487 [==============================] - 3s 2ms/step - loss: 0.4006 - f1_m: 0.8083\n",
            "Epoch 206/300\n",
            "1487/1487 [==============================] - 3s 2ms/step - loss: 0.4002 - f1_m: 0.8095\n",
            "Epoch 207/300\n",
            "1487/1487 [==============================] - 4s 3ms/step - loss: 0.4012 - f1_m: 0.8075\n",
            "Epoch 208/300\n",
            "1487/1487 [==============================] - 4s 3ms/step - loss: 0.4022 - f1_m: 0.8080\n",
            "Epoch 209/300\n",
            "1487/1487 [==============================] - 3s 2ms/step - loss: 0.4016 - f1_m: 0.8077\n",
            "Epoch 210/300\n",
            "1487/1487 [==============================] - 3s 2ms/step - loss: 0.4006 - f1_m: 0.8087\n",
            "Epoch 211/300\n",
            "1487/1487 [==============================] - 4s 3ms/step - loss: 0.4001 - f1_m: 0.8094\n",
            "Epoch 212/300\n",
            "1487/1487 [==============================] - 3s 2ms/step - loss: 0.4001 - f1_m: 0.8096\n",
            "Epoch 213/300\n",
            "1487/1487 [==============================] - 3s 2ms/step - loss: 0.3995 - f1_m: 0.8090\n",
            "Epoch 214/300\n",
            "1487/1487 [==============================] - 3s 2ms/step - loss: 0.4008 - f1_m: 0.8079\n",
            "Epoch 215/300\n",
            "1487/1487 [==============================] - 5s 3ms/step - loss: 0.3997 - f1_m: 0.8096\n",
            "Epoch 216/300\n",
            "1487/1487 [==============================] - 3s 2ms/step - loss: 0.4007 - f1_m: 0.8084\n",
            "Epoch 217/300\n",
            "1487/1487 [==============================] - 3s 2ms/step - loss: 0.3991 - f1_m: 0.8099\n",
            "Epoch 218/300\n",
            "1487/1487 [==============================] - 4s 3ms/step - loss: 0.4006 - f1_m: 0.8077\n",
            "Epoch 219/300\n",
            "1487/1487 [==============================] - 4s 3ms/step - loss: 0.3999 - f1_m: 0.8090\n",
            "Epoch 220/300\n",
            "1487/1487 [==============================] - 3s 2ms/step - loss: 0.3995 - f1_m: 0.8100\n",
            "Epoch 221/300\n",
            "1487/1487 [==============================] - 3s 2ms/step - loss: 0.3995 - f1_m: 0.8097\n",
            "Epoch 222/300\n",
            "1487/1487 [==============================] - 5s 3ms/step - loss: 0.3993 - f1_m: 0.8105\n",
            "Epoch 223/300\n",
            "1487/1487 [==============================] - 3s 2ms/step - loss: 0.4002 - f1_m: 0.8092\n",
            "Epoch 224/300\n",
            "1487/1487 [==============================] - 3s 2ms/step - loss: 0.3994 - f1_m: 0.8099\n",
            "Epoch 225/300\n",
            "1487/1487 [==============================] - 4s 3ms/step - loss: 0.3987 - f1_m: 0.8093\n",
            "Epoch 226/300\n",
            "1487/1487 [==============================] - 4s 3ms/step - loss: 0.4000 - f1_m: 0.8107\n",
            "Epoch 227/300\n",
            "1487/1487 [==============================] - 3s 2ms/step - loss: 0.4000 - f1_m: 0.8102\n",
            "Epoch 228/300\n",
            "1487/1487 [==============================] - 4s 2ms/step - loss: 0.3979 - f1_m: 0.8105\n",
            "Epoch 229/300\n",
            "1487/1487 [==============================] - 5s 3ms/step - loss: 0.3997 - f1_m: 0.8104\n",
            "Epoch 230/300\n",
            "1487/1487 [==============================] - 3s 2ms/step - loss: 0.3993 - f1_m: 0.8093\n",
            "Epoch 231/300\n",
            "1487/1487 [==============================] - 3s 2ms/step - loss: 0.3997 - f1_m: 0.8094\n",
            "Epoch 232/300\n",
            "1487/1487 [==============================] - 4s 3ms/step - loss: 0.3987 - f1_m: 0.8092\n",
            "Epoch 233/300\n",
            "1487/1487 [==============================] - 4s 3ms/step - loss: 0.3997 - f1_m: 0.8079\n",
            "Epoch 234/300\n",
            "1487/1487 [==============================] - 3s 2ms/step - loss: 0.4001 - f1_m: 0.8097\n",
            "Epoch 235/300\n",
            "1487/1487 [==============================] - 3s 2ms/step - loss: 0.3985 - f1_m: 0.8100\n",
            "Epoch 236/300\n",
            "1487/1487 [==============================] - 5s 3ms/step - loss: 0.3992 - f1_m: 0.8094\n",
            "Epoch 237/300\n",
            "1487/1487 [==============================] - 4s 3ms/step - loss: 0.3994 - f1_m: 0.8104\n",
            "Epoch 238/300\n",
            "1487/1487 [==============================] - 4s 2ms/step - loss: 0.3984 - f1_m: 0.8120\n",
            "Epoch 239/300\n",
            "1487/1487 [==============================] - 4s 3ms/step - loss: 0.3985 - f1_m: 0.8112\n",
            "Epoch 240/300\n",
            "1487/1487 [==============================] - 4s 3ms/step - loss: 0.3999 - f1_m: 0.8101\n",
            "Epoch 241/300\n",
            "1487/1487 [==============================] - 4s 2ms/step - loss: 0.3981 - f1_m: 0.8111\n",
            "Epoch 242/300\n",
            "1487/1487 [==============================] - 4s 2ms/step - loss: 0.3988 - f1_m: 0.8102\n",
            "Epoch 243/300\n",
            "1487/1487 [==============================] - 5s 3ms/step - loss: 0.3987 - f1_m: 0.8106\n",
            "Epoch 244/300\n",
            "1487/1487 [==============================] - 3s 2ms/step - loss: 0.3985 - f1_m: 0.8106\n",
            "Epoch 245/300\n",
            "1487/1487 [==============================] - 4s 2ms/step - loss: 0.3996 - f1_m: 0.8097\n",
            "Epoch 246/300\n",
            "1487/1487 [==============================] - 5s 3ms/step - loss: 0.3980 - f1_m: 0.8111\n",
            "Epoch 247/300\n",
            "1487/1487 [==============================] - 4s 2ms/step - loss: 0.3986 - f1_m: 0.8102\n",
            "Epoch 248/300\n",
            "1487/1487 [==============================] - 4s 2ms/step - loss: 0.3975 - f1_m: 0.8124\n",
            "Epoch 249/300\n",
            "1487/1487 [==============================] - 4s 3ms/step - loss: 0.3987 - f1_m: 0.8104\n",
            "Epoch 250/300\n",
            "1487/1487 [==============================] - 4s 3ms/step - loss: 0.3990 - f1_m: 0.8099\n",
            "Epoch 251/300\n",
            "1487/1487 [==============================] - 4s 3ms/step - loss: 0.3987 - f1_m: 0.8085\n",
            "Epoch 252/300\n",
            "1487/1487 [==============================] - 4s 2ms/step - loss: 0.3977 - f1_m: 0.8116\n",
            "Epoch 253/300\n",
            "1487/1487 [==============================] - 5s 3ms/step - loss: 0.3985 - f1_m: 0.8092\n",
            "Epoch 254/300\n",
            "1487/1487 [==============================] - 4s 2ms/step - loss: 0.3981 - f1_m: 0.8105\n",
            "Epoch 255/300\n",
            "1487/1487 [==============================] - 3s 2ms/step - loss: 0.3985 - f1_m: 0.8110\n",
            "Epoch 256/300\n",
            "1487/1487 [==============================] - 4s 3ms/step - loss: 0.3980 - f1_m: 0.8114\n",
            "Epoch 257/300\n",
            "1487/1487 [==============================] - 4s 3ms/step - loss: 0.3984 - f1_m: 0.8114\n",
            "Epoch 258/300\n",
            "1487/1487 [==============================] - 4s 2ms/step - loss: 0.3984 - f1_m: 0.8109\n",
            "Epoch 259/300\n",
            "1487/1487 [==============================] - 4s 2ms/step - loss: 0.3991 - f1_m: 0.8095\n",
            "Epoch 260/300\n",
            "1487/1487 [==============================] - 5s 3ms/step - loss: 0.3981 - f1_m: 0.8107\n",
            "Epoch 261/300\n",
            "1487/1487 [==============================] - 4s 3ms/step - loss: 0.3980 - f1_m: 0.8116\n",
            "Epoch 262/300\n",
            "1487/1487 [==============================] - 4s 3ms/step - loss: 0.3973 - f1_m: 0.8124\n",
            "Epoch 263/300\n",
            "1487/1487 [==============================] - 5s 3ms/step - loss: 0.3971 - f1_m: 0.8113\n",
            "Epoch 264/300\n",
            "1487/1487 [==============================] - 4s 2ms/step - loss: 0.3983 - f1_m: 0.8108\n",
            "Epoch 265/300\n",
            "1487/1487 [==============================] - 4s 2ms/step - loss: 0.3973 - f1_m: 0.8125\n",
            "Epoch 266/300\n",
            "1487/1487 [==============================] - 5s 3ms/step - loss: 0.3983 - f1_m: 0.8109\n",
            "Epoch 267/300\n",
            "1487/1487 [==============================] - 4s 3ms/step - loss: 0.3979 - f1_m: 0.8103\n",
            "Epoch 268/300\n",
            "1487/1487 [==============================] - 4s 2ms/step - loss: 0.3986 - f1_m: 0.8104\n",
            "Epoch 269/300\n",
            "1487/1487 [==============================] - 4s 3ms/step - loss: 0.3970 - f1_m: 0.8120\n",
            "Epoch 270/300\n",
            "1487/1487 [==============================] - 4s 3ms/step - loss: 0.3972 - f1_m: 0.8110\n",
            "Epoch 271/300\n",
            "1487/1487 [==============================] - 4s 3ms/step - loss: 0.3976 - f1_m: 0.8113\n",
            "Epoch 272/300\n",
            "1487/1487 [==============================] - 4s 2ms/step - loss: 0.3984 - f1_m: 0.8110\n",
            "Epoch 273/300\n",
            "1487/1487 [==============================] - 5s 3ms/step - loss: 0.3983 - f1_m: 0.8110\n",
            "Epoch 274/300\n",
            "1487/1487 [==============================] - 4s 2ms/step - loss: 0.3981 - f1_m: 0.8126\n",
            "Epoch 275/300\n",
            "1487/1487 [==============================] - 4s 2ms/step - loss: 0.3983 - f1_m: 0.8095\n",
            "Epoch 276/300\n",
            "1487/1487 [==============================] - 5s 3ms/step - loss: 0.3971 - f1_m: 0.8110\n",
            "Epoch 277/300\n",
            "1487/1487 [==============================] - 4s 3ms/step - loss: 0.3970 - f1_m: 0.8109\n",
            "Epoch 278/300\n",
            "1487/1487 [==============================] - 4s 2ms/step - loss: 0.3979 - f1_m: 0.8112\n",
            "Epoch 279/300\n",
            "1487/1487 [==============================] - 4s 3ms/step - loss: 0.3972 - f1_m: 0.8117\n",
            "Epoch 280/300\n",
            "1487/1487 [==============================] - 5s 3ms/step - loss: 0.3972 - f1_m: 0.8123\n",
            "Epoch 281/300\n",
            "1487/1487 [==============================] - 3s 2ms/step - loss: 0.3972 - f1_m: 0.8122\n",
            "Epoch 282/300\n",
            "1487/1487 [==============================] - 3s 2ms/step - loss: 0.3984 - f1_m: 0.8100\n",
            "Epoch 283/300\n",
            "1487/1487 [==============================] - 5s 3ms/step - loss: 0.3963 - f1_m: 0.8131\n",
            "Epoch 284/300\n",
            "1487/1487 [==============================] - 4s 3ms/step - loss: 0.3965 - f1_m: 0.8109\n",
            "Epoch 285/300\n",
            "1487/1487 [==============================] - 4s 2ms/step - loss: 0.3975 - f1_m: 0.8122\n",
            "Epoch 286/300\n",
            "1487/1487 [==============================] - 4s 3ms/step - loss: 0.3963 - f1_m: 0.8122\n",
            "Epoch 287/300\n",
            "1487/1487 [==============================] - 5s 3ms/step - loss: 0.3973 - f1_m: 0.8117\n",
            "Epoch 288/300\n",
            "1487/1487 [==============================] - 4s 2ms/step - loss: 0.3969 - f1_m: 0.8109\n",
            "Epoch 289/300\n",
            "1487/1487 [==============================] - 4s 3ms/step - loss: 0.3973 - f1_m: 0.8115\n",
            "Epoch 290/300\n",
            "1487/1487 [==============================] - 5s 3ms/step - loss: 0.3971 - f1_m: 0.8112\n",
            "Epoch 291/300\n",
            "1487/1487 [==============================] - 4s 2ms/step - loss: 0.3966 - f1_m: 0.8110\n",
            "Epoch 292/300\n",
            "1487/1487 [==============================] - 4s 2ms/step - loss: 0.3970 - f1_m: 0.8106\n",
            "Epoch 293/300\n",
            "1487/1487 [==============================] - 5s 3ms/step - loss: 0.3973 - f1_m: 0.8095\n",
            "Epoch 294/300\n",
            "1487/1487 [==============================] - 4s 2ms/step - loss: 0.3980 - f1_m: 0.8113\n",
            "Epoch 295/300\n",
            "1487/1487 [==============================] - 4s 2ms/step - loss: 0.3963 - f1_m: 0.8111\n",
            "Epoch 296/300\n",
            "1487/1487 [==============================] - 4s 3ms/step - loss: 0.3960 - f1_m: 0.8119\n",
            "Epoch 297/300\n",
            "1487/1487 [==============================] - 4s 3ms/step - loss: 0.3956 - f1_m: 0.8136\n",
            "Epoch 298/300\n",
            "1487/1487 [==============================] - 4s 2ms/step - loss: 0.3957 - f1_m: 0.8129\n",
            "Epoch 299/300\n",
            "1487/1487 [==============================] - 4s 2ms/step - loss: 0.3949 - f1_m: 0.8124\n",
            "Epoch 300/300\n",
            "1487/1487 [==============================] - 5s 3ms/step - loss: 0.3965 - f1_m: 0.8131\n"
          ]
        }
      ]
    },
    {
      "cell_type": "code",
      "source": [
        "epochs = range(300)\n",
        "\n",
        "plt.plot(epochs, historial_model_rmsprop.history['f1_m'], color='orange', label='f1')\n",
        "plt.xlabel(\"epochs\")\n",
        "plt.ylabel(\"F1-Score\")\n",
        "plt.legend()"
      ],
      "metadata": {
        "colab": {
          "base_uri": "https://localhost:8080/",
          "height": 466
        },
        "id": "bHwDDCgkX2vK",
        "outputId": "9add1962-e0fc-49aa-cc32-8c3c395724d7"
      },
      "execution_count": null,
      "outputs": [
        {
          "output_type": "execute_result",
          "data": {
            "text/plain": [
              "<matplotlib.legend.Legend at 0x7f30d170e860>"
            ]
          },
          "metadata": {},
          "execution_count": 27
        },
        {
          "output_type": "display_data",
          "data": {
            "text/plain": [
              "<Figure size 640x480 with 1 Axes>"
            ],
            "image/png": "[encoded data removed]"
          },
          "metadata": {}
        }
      ]
    },
    {
      "cell_type": "code",
      "source": [
        "epochs = range(300)\n",
        "\n",
        "plt.plot(epochs, historial_model_rmsprop.history['loss'], color='black', label='Loss')\n",
        "plt.xlabel(\"epochs\")\n",
        "plt.ylabel(\"Loss\")\n",
        "plt.legend()"
      ],
      "metadata": {
        "colab": {
          "base_uri": "https://localhost:8080/",
          "height": 466
        },
        "id": "PCfDGUzYX42-",
        "outputId": "85cb80c1-73f5-461d-fdf2-70ecb862a34c"
      },
      "execution_count": null,
      "outputs": [
        {
          "output_type": "execute_result",
          "data": {
            "text/plain": [
              "<matplotlib.legend.Legend at 0x7f30d176d660>"
            ]
          },
          "metadata": {},
          "execution_count": 28
        },
        {
          "output_type": "display_data",
          "data": {
            "text/plain": [
              "<Figure size 640x480 with 1 Axes>"
            ],
            "image/png": "[encoded data removed]"
          },
          "metadata": {}
        }
      ]
    },
    {
      "cell_type": "code",
      "source": [
        "y_predic = model.predict(x_test)"
      ],
      "metadata": {
        "colab": {
          "base_uri": "https://localhost:8080/"
        },
        "id": "bXAtTTkbX6uG",
        "outputId": "1874c70f-4227-493b-baec-8875167d836c"
      },
      "execution_count": null,
      "outputs": [
        {
          "output_type": "stream",
          "name": "stdout",
          "text": [
            "372/372 [==============================] - 1s 2ms/step\n"
          ]
        }
      ]
    },
    {
      "cell_type": "code",
      "source": [
        "y_predic_classes = np.argmax(y_predic,axis=1).tolist()\n",
        "y_real = np.argmax(y_test_encoder,axis=1).tolist()"
      ],
      "metadata": {
        "id": "MtUygHpPX7Mf"
      },
      "execution_count": null,
      "outputs": []
    },
    {
      "cell_type": "code",
      "source": [
        "show_performance(y_real, y_predic_classes)"
      ],
      "metadata": {
        "colab": {
          "base_uri": "https://localhost:8080/",
          "height": 643
        },
        "id": "ur-iCHGpX7em",
        "outputId": "6f0f9535-1302-47ad-8144-37cd4997f986"
      },
      "execution_count": null,
      "outputs": [
        {
          "output_type": "stream",
          "name": "stdout",
          "text": [
            "F1 Score: 0.80108372662122\n",
            "Classification Report: \n",
            "               precision    recall  f1-score   support\n",
            "\n",
            "           0       0.79      0.85      0.82      5959\n",
            "           1       0.83      0.77      0.80      5937\n",
            "\n",
            "    accuracy                           0.81     11896\n",
            "   macro avg       0.81      0.81      0.81     11896\n",
            "weighted avg       0.81      0.81      0.81     11896\n",
            "\n"
          ]
        },
        {
          "output_type": "display_data",
          "data": {
            "text/plain": [
              "<Figure size 640x480 with 2 Axes>"
            ],
            "image/png": "[encoded data removed]"
          },
          "metadata": {}
        }
      ]
    },
    {
      "cell_type": "markdown",
      "source": [
        "#### Kaggle"
      ],
      "metadata": {
        "id": "kaU0wl-Om2Eh"
      }
    },
    {
      "cell_type": "code",
      "source": [
        "create_model_submission(df_hotels_test, model, RMSPROP_NAME, f1_score(y_real, y_predic_classes, average='binary'))"
      ],
      "metadata": {
        "id": "VvSXR0ZYmznY",
        "colab": {
          "base_uri": "https://localhost:8080/"
        },
        "outputId": "75c1bef6-79cd-4bf6-e606-6fbe4ccee920"
      },
      "execution_count": null,
      "outputs": [
        {
          "output_type": "stream",
          "name": "stdout",
          "text": [
            "830/830 [==============================] - 1s 1ms/step\n"
          ]
        }
      ]
    },
    {
      "cell_type": "markdown",
      "source": [
        "### Adadelta"
      ],
      "metadata": {
        "id": "Bd5SLJsT2Kqk"
      }
    },
    {
      "cell_type": "code",
      "source": [
        "optimizer = tf.keras.optimizers.Adadelta(learning_rate=0.01, rho=0.9)\n",
        "model.compile(optimizer=optimizer, loss='binary_crossentropy', metrics=[f1_m])"
      ],
      "metadata": {
        "id": "90EK9OmJ2NR_"
      },
      "execution_count": null,
      "outputs": []
    },
    {
      "cell_type": "code",
      "source": [
        "historial_model_adadelta = model.fit(x_train, y_train_encoder, epochs=150, batch_size=32)"
      ],
      "metadata": {
        "colab": {
          "base_uri": "https://localhost:8080/"
        },
        "id": "j0T8jQ8iNcHc",
        "outputId": "554933d0-e8f1-4c2b-d73c-615907900f8b"
      },
      "execution_count": null,
      "outputs": [
        {
          "output_type": "stream",
          "name": "stdout",
          "text": [
            "Epoch 1/150\n",
            "1487/1487 [==============================] - 12s 5ms/step - loss: 1.3158 - f1_m: 0.5201\n",
            "Epoch 2/150\n",
            "1487/1487 [==============================] - 8s 5ms/step - loss: 1.2086 - f1_m: 0.5575\n",
            "Epoch 3/150\n",
            "1487/1487 [==============================] - 7s 5ms/step - loss: 1.1214 - f1_m: 0.5953\n",
            "Epoch 4/150\n",
            "1487/1487 [==============================] - 7s 5ms/step - loss: 1.0469 - f1_m: 0.6216\n",
            "Epoch 5/150\n",
            "1487/1487 [==============================] - 6s 4ms/step - loss: 0.9824 - f1_m: 0.6365\n",
            "Epoch 6/150\n",
            "1487/1487 [==============================] - 9s 6ms/step - loss: 0.9251 - f1_m: 0.6530\n",
            "Epoch 7/150\n",
            "1487/1487 [==============================] - 6s 4ms/step - loss: 0.8746 - f1_m: 0.6638\n",
            "Epoch 8/150\n",
            "1487/1487 [==============================] - 8s 5ms/step - loss: 0.8298 - f1_m: 0.6757\n",
            "Epoch 9/150\n",
            "1487/1487 [==============================] - 8s 5ms/step - loss: 0.7965 - f1_m: 0.6798\n",
            "Epoch 10/150\n",
            "1487/1487 [==============================] - 4s 2ms/step - loss: 0.7649 - f1_m: 0.6881\n",
            "Epoch 11/150\n",
            "1487/1487 [==============================] - 3s 2ms/step - loss: 0.7406 - f1_m: 0.6894\n",
            "Epoch 12/150\n",
            "1487/1487 [==============================] - 3s 2ms/step - loss: 0.7196 - f1_m: 0.6949\n",
            "Epoch 13/150\n",
            "1487/1487 [==============================] - 4s 3ms/step - loss: 0.7002 - f1_m: 0.7002\n",
            "Epoch 14/150\n",
            "1487/1487 [==============================] - 3s 2ms/step - loss: 0.6828 - f1_m: 0.7046\n",
            "Epoch 15/150\n",
            "1487/1487 [==============================] - 3s 2ms/step - loss: 0.6695 - f1_m: 0.7065\n",
            "Epoch 16/150\n",
            "1487/1487 [==============================] - 3s 2ms/step - loss: 0.6567 - f1_m: 0.7075\n",
            "Epoch 17/150\n",
            "1487/1487 [==============================] - 4s 3ms/step - loss: 0.6447 - f1_m: 0.7131\n",
            "Epoch 18/150\n",
            "1487/1487 [==============================] - 3s 2ms/step - loss: 0.6353 - f1_m: 0.7138\n",
            "Epoch 19/150\n",
            "1487/1487 [==============================] - 3s 2ms/step - loss: 0.6242 - f1_m: 0.7160\n",
            "Epoch 20/150\n",
            "1487/1487 [==============================] - 3s 2ms/step - loss: 0.6161 - f1_m: 0.7175\n",
            "Epoch 21/150\n",
            "1487/1487 [==============================] - 4s 3ms/step - loss: 0.6062 - f1_m: 0.7211\n",
            "Epoch 22/150\n",
            "1487/1487 [==============================] - 3s 2ms/step - loss: 0.6023 - f1_m: 0.7213\n",
            "Epoch 23/150\n",
            "1487/1487 [==============================] - 3s 2ms/step - loss: 0.5948 - f1_m: 0.7215\n",
            "Epoch 24/150\n",
            "1487/1487 [==============================] - 3s 2ms/step - loss: 0.5894 - f1_m: 0.7222\n",
            "Epoch 25/150\n",
            "1487/1487 [==============================] - 4s 3ms/step - loss: 0.5829 - f1_m: 0.7244\n",
            "Epoch 26/150\n",
            "1487/1487 [==============================] - 3s 2ms/step - loss: 0.5784 - f1_m: 0.7278\n",
            "Epoch 27/150\n",
            "1487/1487 [==============================] - 3s 2ms/step - loss: 0.5724 - f1_m: 0.7281\n",
            "Epoch 28/150\n",
            "1487/1487 [==============================] - 4s 3ms/step - loss: 0.5688 - f1_m: 0.7267\n",
            "Epoch 29/150\n",
            "1487/1487 [==============================] - 3s 2ms/step - loss: 0.5649 - f1_m: 0.7302\n",
            "Epoch 30/150\n",
            "1487/1487 [==============================] - 3s 2ms/step - loss: 0.5597 - f1_m: 0.7322\n",
            "Epoch 31/150\n",
            "1487/1487 [==============================] - 3s 2ms/step - loss: 0.5602 - f1_m: 0.7293\n",
            "Epoch 32/150\n",
            "1487/1487 [==============================] - 4s 3ms/step - loss: 0.5540 - f1_m: 0.7327\n",
            "Epoch 33/150\n",
            "1487/1487 [==============================] - 3s 2ms/step - loss: 0.5518 - f1_m: 0.7343\n",
            "Epoch 34/150\n",
            "1487/1487 [==============================] - 3s 2ms/step - loss: 0.5491 - f1_m: 0.7333\n",
            "Epoch 35/150\n",
            "1487/1487 [==============================] - 3s 2ms/step - loss: 0.5467 - f1_m: 0.7327\n",
            "Epoch 36/150\n",
            "1487/1487 [==============================] - 4s 3ms/step - loss: 0.5427 - f1_m: 0.7372\n",
            "Epoch 37/150\n",
            "1487/1487 [==============================] - 3s 2ms/step - loss: 0.5421 - f1_m: 0.7334\n",
            "Epoch 38/150\n",
            "1487/1487 [==============================] - 3s 2ms/step - loss: 0.5389 - f1_m: 0.7361\n",
            "Epoch 39/150\n",
            "1487/1487 [==============================] - 3s 2ms/step - loss: 0.5365 - f1_m: 0.7375\n",
            "Epoch 40/150\n",
            "1487/1487 [==============================] - 4s 3ms/step - loss: 0.5346 - f1_m: 0.7359\n",
            "Epoch 41/150\n",
            "1487/1487 [==============================] - 3s 2ms/step - loss: 0.5335 - f1_m: 0.7373\n",
            "Epoch 42/150\n",
            "1487/1487 [==============================] - 3s 2ms/step - loss: 0.5310 - f1_m: 0.7385\n",
            "Epoch 43/150\n",
            "1487/1487 [==============================] - 3s 2ms/step - loss: 0.5284 - f1_m: 0.7390\n",
            "Epoch 44/150\n",
            "1487/1487 [==============================] - 4s 3ms/step - loss: 0.5274 - f1_m: 0.7386\n",
            "Epoch 45/150\n",
            "1487/1487 [==============================] - 3s 2ms/step - loss: 0.5265 - f1_m: 0.7395\n",
            "Epoch 46/150\n",
            "1487/1487 [==============================] - 3s 2ms/step - loss: 0.5246 - f1_m: 0.7408\n",
            "Epoch 47/150\n",
            "1487/1487 [==============================] - 3s 2ms/step - loss: 0.5249 - f1_m: 0.7383\n",
            "Epoch 48/150\n",
            "1487/1487 [==============================] - 4s 3ms/step - loss: 0.5212 - f1_m: 0.7415\n",
            "Epoch 49/150\n",
            "1487/1487 [==============================] - 3s 2ms/step - loss: 0.5200 - f1_m: 0.7409\n",
            "Epoch 50/150\n",
            "1487/1487 [==============================] - 3s 2ms/step - loss: 0.5187 - f1_m: 0.7404\n",
            "Epoch 51/150\n",
            "1487/1487 [==============================] - 3s 2ms/step - loss: 0.5193 - f1_m: 0.7415\n",
            "Epoch 52/150\n",
            "1487/1487 [==============================] - 4s 3ms/step - loss: 0.5163 - f1_m: 0.7433\n",
            "Epoch 53/150\n",
            "1487/1487 [==============================] - 4s 3ms/step - loss: 0.5157 - f1_m: 0.7429\n",
            "Epoch 54/150\n",
            "1487/1487 [==============================] - 3s 2ms/step - loss: 0.5148 - f1_m: 0.7435\n",
            "Epoch 55/150\n",
            "1487/1487 [==============================] - 4s 3ms/step - loss: 0.5126 - f1_m: 0.7446\n",
            "Epoch 56/150\n",
            "1487/1487 [==============================] - 3s 2ms/step - loss: 0.5116 - f1_m: 0.7451\n",
            "Epoch 57/150\n",
            "1487/1487 [==============================] - 3s 2ms/step - loss: 0.5110 - f1_m: 0.7420\n",
            "Epoch 58/150\n",
            "1487/1487 [==============================] - 3s 2ms/step - loss: 0.5110 - f1_m: 0.7454\n",
            "Epoch 59/150\n",
            "1487/1487 [==============================] - 6s 4ms/step - loss: 0.5101 - f1_m: 0.7445\n",
            "Epoch 60/150\n",
            "1487/1487 [==============================] - 3s 2ms/step - loss: 0.5086 - f1_m: 0.7462\n",
            "Epoch 61/150\n",
            "1487/1487 [==============================] - 3s 2ms/step - loss: 0.5088 - f1_m: 0.7442\n",
            "Epoch 62/150\n",
            "1487/1487 [==============================] - 3s 2ms/step - loss: 0.5078 - f1_m: 0.7445\n",
            "Epoch 63/150\n",
            "1487/1487 [==============================] - 4s 3ms/step - loss: 0.5061 - f1_m: 0.7459\n",
            "Epoch 64/150\n",
            "1487/1487 [==============================] - 3s 2ms/step - loss: 0.5055 - f1_m: 0.7471\n",
            "Epoch 65/150\n",
            "1487/1487 [==============================] - 3s 2ms/step - loss: 0.5050 - f1_m: 0.7467\n",
            "Epoch 66/150\n",
            "1487/1487 [==============================] - 4s 3ms/step - loss: 0.5064 - f1_m: 0.7453\n",
            "Epoch 67/150\n",
            "1487/1487 [==============================] - 3s 2ms/step - loss: 0.5050 - f1_m: 0.7462\n",
            "Epoch 68/150\n",
            "1487/1487 [==============================] - 3s 2ms/step - loss: 0.5026 - f1_m: 0.7478\n",
            "Epoch 69/150\n",
            "1487/1487 [==============================] - 3s 2ms/step - loss: 0.5036 - f1_m: 0.7448\n",
            "Epoch 70/150\n",
            "1487/1487 [==============================] - 4s 3ms/step - loss: 0.5025 - f1_m: 0.7455\n",
            "Epoch 71/150\n",
            "1487/1487 [==============================] - 3s 2ms/step - loss: 0.5012 - f1_m: 0.7490\n",
            "Epoch 72/150\n",
            "1487/1487 [==============================] - 3s 2ms/step - loss: 0.5012 - f1_m: 0.7486\n",
            "Epoch 73/150\n",
            "1487/1487 [==============================] - 3s 2ms/step - loss: 0.5001 - f1_m: 0.7475\n",
            "Epoch 74/150\n",
            "1487/1487 [==============================] - 4s 3ms/step - loss: 0.5001 - f1_m: 0.7494\n",
            "Epoch 75/150\n",
            "1487/1487 [==============================] - 3s 2ms/step - loss: 0.4995 - f1_m: 0.7488\n",
            "Epoch 76/150\n",
            "1487/1487 [==============================] - 3s 2ms/step - loss: 0.4997 - f1_m: 0.7502\n",
            "Epoch 77/150\n",
            "1487/1487 [==============================] - 3s 2ms/step - loss: 0.4974 - f1_m: 0.7497\n",
            "Epoch 78/150\n",
            "1487/1487 [==============================] - 4s 3ms/step - loss: 0.4975 - f1_m: 0.7484\n",
            "Epoch 79/150\n",
            "1487/1487 [==============================] - 3s 2ms/step - loss: 0.4974 - f1_m: 0.7486\n",
            "Epoch 80/150\n",
            "1487/1487 [==============================] - 3s 2ms/step - loss: 0.4968 - f1_m: 0.7497\n",
            "Epoch 81/150\n",
            "1487/1487 [==============================] - 3s 2ms/step - loss: 0.4952 - f1_m: 0.7516\n",
            "Epoch 82/150\n",
            "1487/1487 [==============================] - 4s 3ms/step - loss: 0.4964 - f1_m: 0.7504\n",
            "Epoch 83/150\n",
            "1487/1487 [==============================] - 3s 2ms/step - loss: 0.4968 - f1_m: 0.7506\n",
            "Epoch 84/150\n",
            "1487/1487 [==============================] - 3s 2ms/step - loss: 0.4959 - f1_m: 0.7509\n",
            "Epoch 85/150\n",
            "1487/1487 [==============================] - 3s 2ms/step - loss: 0.4949 - f1_m: 0.7508\n",
            "Epoch 86/150\n",
            "1487/1487 [==============================] - 4s 3ms/step - loss: 0.4941 - f1_m: 0.7505\n",
            "Epoch 87/150\n",
            "1487/1487 [==============================] - 3s 2ms/step - loss: 0.4944 - f1_m: 0.7513\n",
            "Epoch 88/150\n",
            "1487/1487 [==============================] - 3s 2ms/step - loss: 0.4933 - f1_m: 0.7521\n",
            "Epoch 89/150\n",
            "1487/1487 [==============================] - 3s 2ms/step - loss: 0.4943 - f1_m: 0.7509\n",
            "Epoch 90/150\n",
            "1487/1487 [==============================] - 4s 3ms/step - loss: 0.4941 - f1_m: 0.7505\n",
            "Epoch 91/150\n",
            "1487/1487 [==============================] - 3s 2ms/step - loss: 0.4930 - f1_m: 0.7501\n",
            "Epoch 92/150\n",
            "1487/1487 [==============================] - 3s 2ms/step - loss: 0.4925 - f1_m: 0.7496\n",
            "Epoch 93/150\n",
            "1487/1487 [==============================] - 3s 2ms/step - loss: 0.4906 - f1_m: 0.7526\n",
            "Epoch 94/150\n",
            "1487/1487 [==============================] - 3s 2ms/step - loss: 0.4914 - f1_m: 0.7535\n",
            "Epoch 95/150\n",
            "1487/1487 [==============================] - 3s 2ms/step - loss: 0.4909 - f1_m: 0.7526\n",
            "Epoch 96/150\n",
            "1487/1487 [==============================] - 3s 2ms/step - loss: 0.4911 - f1_m: 0.7524\n",
            "Epoch 97/150\n",
            "1487/1487 [==============================] - 4s 2ms/step - loss: 0.4917 - f1_m: 0.7526\n",
            "Epoch 98/150\n",
            "1487/1487 [==============================] - 3s 2ms/step - loss: 0.4904 - f1_m: 0.7523\n",
            "Epoch 99/150\n",
            "1487/1487 [==============================] - 3s 2ms/step - loss: 0.4907 - f1_m: 0.7524\n",
            "Epoch 100/150\n",
            "1487/1487 [==============================] - 3s 2ms/step - loss: 0.4901 - f1_m: 0.7514\n",
            "Epoch 101/150\n",
            "1487/1487 [==============================] - 4s 3ms/step - loss: 0.4891 - f1_m: 0.7534\n",
            "Epoch 102/150\n",
            "1487/1487 [==============================] - 3s 2ms/step - loss: 0.4887 - f1_m: 0.7532\n",
            "Epoch 103/150\n",
            "1487/1487 [==============================] - 3s 2ms/step - loss: 0.4897 - f1_m: 0.7532\n",
            "Epoch 104/150\n",
            "1487/1487 [==============================] - 3s 2ms/step - loss: 0.4889 - f1_m: 0.7530\n",
            "Epoch 105/150\n",
            "1487/1487 [==============================] - 4s 3ms/step - loss: 0.4887 - f1_m: 0.7557\n",
            "Epoch 106/150\n",
            "1487/1487 [==============================] - 3s 2ms/step - loss: 0.4887 - f1_m: 0.7542\n",
            "Epoch 107/150\n",
            "1487/1487 [==============================] - 3s 2ms/step - loss: 0.4880 - f1_m: 0.7523\n",
            "Epoch 108/150\n",
            "1487/1487 [==============================] - 3s 2ms/step - loss: 0.4882 - f1_m: 0.7529\n",
            "Epoch 109/150\n",
            "1487/1487 [==============================] - 4s 3ms/step - loss: 0.4873 - f1_m: 0.7554\n",
            "Epoch 110/150\n",
            "1487/1487 [==============================] - 3s 2ms/step - loss: 0.4877 - f1_m: 0.7540\n",
            "Epoch 111/150\n",
            "1487/1487 [==============================] - 3s 2ms/step - loss: 0.4869 - f1_m: 0.7538\n",
            "Epoch 112/150\n",
            "1487/1487 [==============================] - 3s 2ms/step - loss: 0.4860 - f1_m: 0.7547\n",
            "Epoch 113/150\n",
            "1487/1487 [==============================] - 4s 3ms/step - loss: 0.4869 - f1_m: 0.7533\n",
            "Epoch 114/150\n",
            "1487/1487 [==============================] - 3s 2ms/step - loss: 0.4862 - f1_m: 0.7557\n",
            "Epoch 115/150\n",
            "1487/1487 [==============================] - 3s 2ms/step - loss: 0.4864 - f1_m: 0.7550\n",
            "Epoch 116/150\n",
            "1487/1487 [==============================] - 3s 2ms/step - loss: 0.4861 - f1_m: 0.7552\n",
            "Epoch 117/150\n",
            "1487/1487 [==============================] - 4s 3ms/step - loss: 0.4857 - f1_m: 0.7543\n",
            "Epoch 118/150\n",
            "1487/1487 [==============================] - 3s 2ms/step - loss: 0.4859 - f1_m: 0.7539\n",
            "Epoch 119/150\n",
            "1487/1487 [==============================] - 3s 2ms/step - loss: 0.4841 - f1_m: 0.7568\n",
            "Epoch 120/150\n",
            "1487/1487 [==============================] - 4s 2ms/step - loss: 0.4850 - f1_m: 0.7564\n",
            "Epoch 121/150\n",
            "1487/1487 [==============================] - 4s 2ms/step - loss: 0.4848 - f1_m: 0.7549\n",
            "Epoch 122/150\n",
            "1487/1487 [==============================] - 3s 2ms/step - loss: 0.4850 - f1_m: 0.7554\n",
            "Epoch 123/150\n",
            "1487/1487 [==============================] - 3s 2ms/step - loss: 0.4853 - f1_m: 0.7558\n",
            "Epoch 124/150\n",
            "1487/1487 [==============================] - 4s 3ms/step - loss: 0.4838 - f1_m: 0.7570\n",
            "Epoch 125/150\n",
            "1487/1487 [==============================] - 3s 2ms/step - loss: 0.4839 - f1_m: 0.7558\n",
            "Epoch 126/150\n",
            "1487/1487 [==============================] - 4s 2ms/step - loss: 0.4833 - f1_m: 0.7568\n",
            "Epoch 127/150\n",
            "1487/1487 [==============================] - 4s 3ms/step - loss: 0.4837 - f1_m: 0.7548\n",
            "Epoch 128/150\n",
            "1487/1487 [==============================] - 5s 3ms/step - loss: 0.4822 - f1_m: 0.7573\n",
            "Epoch 129/150\n",
            "1487/1487 [==============================] - 4s 3ms/step - loss: 0.4843 - f1_m: 0.7564\n",
            "Epoch 130/150\n",
            "1487/1487 [==============================] - 3s 2ms/step - loss: 0.4829 - f1_m: 0.7574\n",
            "Epoch 131/150\n",
            "1487/1487 [==============================] - 4s 3ms/step - loss: 0.4835 - f1_m: 0.7566\n",
            "Epoch 132/150\n",
            "1487/1487 [==============================] - 3s 2ms/step - loss: 0.4836 - f1_m: 0.7569\n",
            "Epoch 133/150\n",
            "1487/1487 [==============================] - 3s 2ms/step - loss: 0.4841 - f1_m: 0.7535\n",
            "Epoch 134/150\n",
            "1487/1487 [==============================] - 3s 2ms/step - loss: 0.4828 - f1_m: 0.7568\n",
            "Epoch 135/150\n",
            "1487/1487 [==============================] - 4s 3ms/step - loss: 0.4826 - f1_m: 0.7554\n",
            "Epoch 136/150\n",
            "1487/1487 [==============================] - 3s 2ms/step - loss: 0.4825 - f1_m: 0.7581\n",
            "Epoch 137/150\n",
            "1487/1487 [==============================] - 3s 2ms/step - loss: 0.4817 - f1_m: 0.7579\n",
            "Epoch 138/150\n",
            "1487/1487 [==============================] - 3s 2ms/step - loss: 0.4821 - f1_m: 0.7567\n",
            "Epoch 139/150\n",
            "1487/1487 [==============================] - 4s 3ms/step - loss: 0.4826 - f1_m: 0.7563\n",
            "Epoch 140/150\n",
            "1487/1487 [==============================] - 3s 2ms/step - loss: 0.4814 - f1_m: 0.7565\n",
            "Epoch 141/150\n",
            "1487/1487 [==============================] - 3s 2ms/step - loss: 0.4805 - f1_m: 0.7574\n",
            "Epoch 142/150\n",
            "1487/1487 [==============================] - 3s 2ms/step - loss: 0.4819 - f1_m: 0.7553\n",
            "Epoch 143/150\n",
            "1487/1487 [==============================] - 4s 3ms/step - loss: 0.4807 - f1_m: 0.7582\n",
            "Epoch 144/150\n",
            "1487/1487 [==============================] - 3s 2ms/step - loss: 0.4807 - f1_m: 0.7574\n",
            "Epoch 145/150\n",
            "1487/1487 [==============================] - 3s 2ms/step - loss: 0.4806 - f1_m: 0.7585\n",
            "Epoch 146/150\n",
            "1487/1487 [==============================] - 4s 2ms/step - loss: 0.4814 - f1_m: 0.7591\n",
            "Epoch 147/150\n",
            "1487/1487 [==============================] - 4s 3ms/step - loss: 0.4806 - f1_m: 0.7592\n",
            "Epoch 148/150\n",
            "1487/1487 [==============================] - 3s 2ms/step - loss: 0.4809 - f1_m: 0.7584\n",
            "Epoch 149/150\n",
            "1487/1487 [==============================] - 3s 2ms/step - loss: 0.4802 - f1_m: 0.7581\n",
            "Epoch 150/150\n",
            "1487/1487 [==============================] - 4s 2ms/step - loss: 0.4800 - f1_m: 0.7585\n"
          ]
        }
      ]
    },
    {
      "cell_type": "code",
      "source": [
        "y_predic = model.predict(x_test)"
      ],
      "metadata": {
        "colab": {
          "base_uri": "https://localhost:8080/"
        },
        "id": "_rb6sHAfNeH2",
        "outputId": "bc5756ed-73e0-4bba-81a9-b3b7bb58c18e"
      },
      "execution_count": null,
      "outputs": [
        {
          "output_type": "stream",
          "name": "stdout",
          "text": [
            "372/372 [==============================] - 1s 2ms/step\n"
          ]
        }
      ]
    },
    {
      "cell_type": "code",
      "source": [
        "y_predic_classes = np.argmax(y_predic,axis=1).tolist()\n",
        "y_real = np.argmax(y_test_encoder,axis=1).tolist()"
      ],
      "metadata": {
        "id": "FUK7dMRBNipk"
      },
      "execution_count": null,
      "outputs": []
    },
    {
      "cell_type": "code",
      "source": [
        "show_performance(y_real, y_predic_classes)"
      ],
      "metadata": {
        "colab": {
          "base_uri": "https://localhost:8080/"
        },
        "id": "p8AY3VvJNlEE",
        "outputId": "a864067e-5a14-4321-9f03-c67068a0730c"
      },
      "execution_count": null,
      "outputs": [
        {
          "output_type": "stream",
          "name": "stdout",
          "text": [
            "F1 Score: 0.7502048993716419\n",
            "Classification Report: \n",
            "               precision    recall  f1-score   support\n",
            "\n",
            "           0       0.73      0.84      0.79      5959\n",
            "           1       0.82      0.69      0.75      5937\n",
            "\n",
            "    accuracy                           0.77     11896\n",
            "   macro avg       0.78      0.77      0.77     11896\n",
            "weighted avg       0.78      0.77      0.77     11896\n",
            "\n"
          ]
        },
        {
          "output_type": "display_data",
          "data": {
            "text/plain": [
              "<Figure size 640x480 with 2 Axes>"
            ],
            "image/png": "[encoded data removed]"
          },
          "metadata": {}
        }
      ]
    },
    {
      "cell_type": "code",
      "source": [
        "epochs = range(150)\n",
        "\n",
        "plt.plot(epochs, historial_model_adadelta.history['f1_m'], color='darkturquoise', label='f1')\n",
        "plt.xlabel(\"epochs\")\n",
        "plt.ylabel(\"F1 Score\")\n",
        "plt.legend()"
      ],
      "metadata": {
        "colab": {
          "base_uri": "https://localhost:8080/"
        },
        "id": "RerAvQf2NnKY",
        "outputId": "76cf944d-772f-480e-e20c-ce966b85ec1a"
      },
      "execution_count": null,
      "outputs": [
        {
          "output_type": "execute_result",
          "data": {
            "text/plain": [
              "<matplotlib.legend.Legend at 0x7fecf73fe440>"
            ]
          },
          "metadata": {},
          "execution_count": 29
        },
        {
          "output_type": "display_data",
          "data": {
            "text/plain": [
              "<Figure size 640x480 with 1 Axes>"
            ],
            "image/png": "[encoded data removed]"
          },
          "metadata": {}
        }
      ]
    },
    {
      "cell_type": "code",
      "source": [
        "epochs = range(150)\n",
        "\n",
        "plt.plot(epochs, historial_model_adadelta.history['loss'], color='purple', label='Loss')\n",
        "plt.xlabel(\"epochs\")\n",
        "plt.ylabel(\"Loss\")\n",
        "plt.legend()"
      ],
      "metadata": {
        "colab": {
          "base_uri": "https://localhost:8080/"
        },
        "id": "DulYqzbpNpjV",
        "outputId": "d4a1ca58-c62c-408e-9a0e-c0de2ae2eacd"
      },
      "execution_count": null,
      "outputs": [
        {
          "output_type": "execute_result",
          "data": {
            "text/plain": [
              "<matplotlib.legend.Legend at 0x7fecf8337c10>"
            ]
          },
          "metadata": {},
          "execution_count": 30
        },
        {
          "output_type": "display_data",
          "data": {
            "text/plain": [
              "<Figure size 640x480 with 1 Axes>"
            ],
            "image/png": "[encoded data removed]"
          },
          "metadata": {}
        }
      ]
    },
    {
      "cell_type": "markdown",
      "source": [
        "#### Kaggle"
      ],
      "metadata": {
        "id": "eYPtmNZlm8Ex"
      }
    },
    {
      "cell_type": "code",
      "source": [
        "create_model_submission(df_hotels_test, model, ADADELTA_NAME, f1_score(y_real, y_predic_classes, average='binary'))"
      ],
      "metadata": {
        "id": "8Fr2R3BFm8E6"
      },
      "execution_count": null,
      "outputs": []
    },
    {
      "cell_type": "markdown",
      "source": [
        "# Red Neuronal - Optimizada"
      ],
      "metadata": {
        "id": "dS96geI8378x"
      }
    },
    {
      "cell_type": "markdown",
      "source": [
        "> Para optimizar nuestra red neuronal utilizamos `keras-tuner` para poder construir una arquitectura dinamica que nos permita evaluar las distintas combinaciones posibles ya sea de hiperparametros o arquitectura."
      ],
      "metadata": {
        "id": "QoQ48-_MCbOW"
      }
    },
    {
      "cell_type": "code",
      "source": [
        "def build_optimized_model(hp):\n",
        "  \n",
        "  hp_activation_input = hp.Choice('activation_input', values=['relu', 'sigmoid'])\n",
        "  hp_activation_out = hp.Choice('activation_out', values=['softmax', 'sigmoid'])\n",
        "  hp_loss = hp.Choice('loss', values=['binary_crossentropy'])\n",
        "  hp_lr = hp.Choice('learning_rate', values=[1e-2, 1e-3, 1e-4])\n",
        "  hp_dropout =  hp.Float('dropout_rate', min_value=0.0, max_value=0.5, step=0.1)\n",
        "  hp_dropout_2 =  hp.Float('dropout_rate_2', min_value=0.0, max_value=0.5, step=0.1)\n",
        "  hp_regularizer = hp.Choice('regularizer', values=['l1', 'l2'])\n",
        "  hp_initializers = hp.Choice('initializer', values=['zeros', 'random_normal', 'uniform', 'glorot_uniform'])\n",
        "\n",
        "\n",
        "  hp_nodes = hp.Int('neurons', min_value=32, max_value=512, step= 32)\n",
        "\n",
        "  model = keras.Sequential()\n",
        "  model.add(keras.layers.Dense(units=hp_nodes, \n",
        "                               input_shape=(d_in,), \n",
        "                               activation=hp_activation_input,\n",
        "                               kernel_initializer=hp_initializers))\n",
        "  model.add(keras.layers.Dropout(hp_dropout))\n",
        "  model.add(keras.layers.Dense(units=32, activation=hp_activation_input))\n",
        "  model.add(keras.layers.Dropout(hp_dropout_2))\n",
        "  model.add(keras.layers.Dense(cant_clases, activation=hp_activation_out))\n",
        "\n",
        "  hp_optimizer = hp.Choice(\"optimizer\", values=['Adam', 'RMSprop'])\n",
        "  if hp_optimizer == 'Adam':\n",
        "    optimizer = keras.optimizers.Adam(learning_rate=hp_lr)\n",
        "  elif hp_optimizer == 'RMSprop':\n",
        "    optimizer = keras.optimizers.RMSprop(learning_rate=hp_lr)\n",
        "\n",
        "  model.compile(optimizer=optimizer, loss=hp_loss, metrics=[f1_m])\n",
        "  return model\n"
      ],
      "metadata": {
        "id": "b0V64rMo5YCI"
      },
      "execution_count": null,
      "outputs": []
    },
    {
      "cell_type": "markdown",
      "source": [
        "> Empezamos inicializando el tuner de keras, en este caso usamos `randomSearch` con 25 trials o combinaciones a probar, enfocandonos en maximizar el F1 Score y aplicando un early stopping cuando se deteriore la metrica de perdida en validacion."
      ],
      "metadata": {
        "id": "g3UjBnGrCuPG"
      }
    },
    {
      "cell_type": "code",
      "source": [
        "tuner = kt.RandomSearch(build_optimized_model,objective=kt.Objective('val_f1_m', 'max'), max_trials=25,directory='keras_tuner',project_name='hotel_bookings',overwrite=True)\n",
        "stop_early = tf.keras.callbacks.EarlyStopping(monitor='val_loss', patience=5)"
      ],
      "metadata": {
        "id": "trUiPEhY8-BY"
      },
      "execution_count": null,
      "outputs": []
    },
    {
      "cell_type": "code",
      "source": [
        "tuner.search(x_train, y_train_encoder, epochs=30, validation_split=0.2, callbacks=[stop_early])"
      ],
      "metadata": {
        "colab": {
          "base_uri": "https://localhost:8080/"
        },
        "id": "hY_SdfTE9YtD",
        "outputId": "760d629f-c9ee-4e15-9df7-6cb2309d039a"
      },
      "execution_count": null,
      "outputs": [
        {
          "output_type": "stream",
          "name": "stdout",
          "text": [
            "Trial 25 Complete [00h 03m 04s]\n",
            "val_f1_m: 0.7739724516868591\n",
            "\n",
            "Best val_f1_m So Far: 0.8084666728973389\n",
            "Total elapsed time: 00h 43m 50s\n"
          ]
        }
      ]
    },
    {
      "cell_type": "code",
      "source": [
        "best_hps = tuner.get_best_hyperparameters(num_trials=1)[0]"
      ],
      "metadata": {
        "id": "lHySK0cM_yF9"
      },
      "execution_count": null,
      "outputs": []
    },
    {
      "cell_type": "code",
      "source": [
        "best_hps.values"
      ],
      "metadata": {
        "colab": {
          "base_uri": "https://localhost:8080/"
        },
        "id": "sDndbtljHCgH",
        "outputId": "6ab0f797-2848-4751-d07e-c565665cb60b"
      },
      "execution_count": null,
      "outputs": [
        {
          "output_type": "execute_result",
          "data": {
            "text/plain": [
              "{'activation_input': 'sigmoid',\n",
              " 'activation_layer': 'sigmoid',\n",
              " 'activation_out': 'softmax',\n",
              " 'loss': 'binary_crossentropy',\n",
              " 'learning_rate': 0.01,\n",
              " 'dropout_rate': 0.30000000000000004,\n",
              " 'dropout_rate_2': 0.4,\n",
              " 'regularizer': 'l2',\n",
              " 'initializer': 'uniform',\n",
              " 'neurons': 192,\n",
              " 'optimizer': 'Adam'}"
            ]
          },
          "metadata": {},
          "execution_count": 61
        }
      ]
    },
    {
      "cell_type": "markdown",
      "source": [
        "> "
      ],
      "metadata": {
        "id": "sZ7dzE4JC9eg"
      }
    },
    {
      "cell_type": "markdown",
      "source": [
        "> Una vez conseguidos los mejores hiperparametros, procedemos a entrenar con una cantidad de epochs mayor, conservando el early stopping con una tolerancia un poco mayor y usando como data de validacion el split (80/20) que realizamos anteriormente."
      ],
      "metadata": {
        "id": "pRNCQuRuDADX"
      }
    },
    {
      "cell_type": "code",
      "source": [
        "model = tuner.hypermodel.build(best_hps)\n",
        "stop_early = tf.keras.callbacks.EarlyStopping(monitor='val_loss', patience=15)\n",
        "history = model.fit(x_train, y_train_encoder, epochs=200, validation_data = (x_test, y_test_encoder) ,callbacks=[stop_early], batch_size=64)"
      ],
      "metadata": {
        "id": "8xMCbH9I_8T_",
        "colab": {
          "base_uri": "https://localhost:8080/"
        },
        "outputId": "0a8726fc-5c7f-4927-d1d9-cf11cbdadab0"
      },
      "execution_count": null,
      "outputs": [
        {
          "output_type": "stream",
          "name": "stdout",
          "text": [
            "Epoch 1/200\n",
            "744/744 [==============================] - 5s 5ms/step - loss: 0.4884 - f1_m: 0.7513 - val_loss: 0.4551 - val_f1_m: 0.7737\n",
            "Epoch 2/200\n",
            "744/744 [==============================] - 2s 3ms/step - loss: 0.4585 - f1_m: 0.7706 - val_loss: 0.4506 - val_f1_m: 0.7737\n",
            "Epoch 3/200\n",
            "744/744 [==============================] - 2s 3ms/step - loss: 0.4499 - f1_m: 0.7724 - val_loss: 0.4467 - val_f1_m: 0.7721\n",
            "Epoch 4/200\n",
            "744/744 [==============================] - 2s 3ms/step - loss: 0.4425 - f1_m: 0.7760 - val_loss: 0.4445 - val_f1_m: 0.7753\n",
            "Epoch 5/200\n",
            "744/744 [==============================] - 2s 3ms/step - loss: 0.4395 - f1_m: 0.7790 - val_loss: 0.4308 - val_f1_m: 0.7816\n",
            "Epoch 6/200\n",
            "744/744 [==============================] - 4s 5ms/step - loss: 0.4356 - f1_m: 0.7796 - val_loss: 0.4331 - val_f1_m: 0.7825\n",
            "Epoch 7/200\n",
            "744/744 [==============================] - 3s 4ms/step - loss: 0.4322 - f1_m: 0.7809 - val_loss: 0.4282 - val_f1_m: 0.7843\n",
            "Epoch 8/200\n",
            "744/744 [==============================] - 2s 3ms/step - loss: 0.4290 - f1_m: 0.7828 - val_loss: 0.4273 - val_f1_m: 0.7840\n",
            "Epoch 9/200\n",
            "744/744 [==============================] - 2s 3ms/step - loss: 0.4269 - f1_m: 0.7846 - val_loss: 0.4306 - val_f1_m: 0.7843\n",
            "Epoch 10/200\n",
            "744/744 [==============================] - 2s 3ms/step - loss: 0.4259 - f1_m: 0.7835 - val_loss: 0.4238 - val_f1_m: 0.7890\n",
            "Epoch 11/200\n",
            "744/744 [==============================] - 2s 3ms/step - loss: 0.4236 - f1_m: 0.7862 - val_loss: 0.4218 - val_f1_m: 0.7891\n",
            "Epoch 12/200\n",
            "744/744 [==============================] - 4s 5ms/step - loss: 0.4225 - f1_m: 0.7868 - val_loss: 0.4200 - val_f1_m: 0.7889\n",
            "Epoch 13/200\n",
            "744/744 [==============================] - 2s 3ms/step - loss: 0.4193 - f1_m: 0.7869 - val_loss: 0.4193 - val_f1_m: 0.7861\n",
            "Epoch 14/200\n",
            "744/744 [==============================] - 2s 3ms/step - loss: 0.4187 - f1_m: 0.7901 - val_loss: 0.4182 - val_f1_m: 0.7901\n",
            "Epoch 15/200\n",
            "744/744 [==============================] - 3s 5ms/step - loss: 0.4146 - f1_m: 0.7908 - val_loss: 0.4174 - val_f1_m: 0.7881\n",
            "Epoch 16/200\n",
            "744/744 [==============================] - 6s 8ms/step - loss: 0.4156 - f1_m: 0.7912 - val_loss: 0.4154 - val_f1_m: 0.7900\n",
            "Epoch 17/200\n",
            "744/744 [==============================] - 3s 4ms/step - loss: 0.4132 - f1_m: 0.7940 - val_loss: 0.4189 - val_f1_m: 0.7895\n",
            "Epoch 18/200\n",
            "744/744 [==============================] - 2s 3ms/step - loss: 0.4132 - f1_m: 0.7939 - val_loss: 0.4115 - val_f1_m: 0.7965\n",
            "Epoch 19/200\n",
            "744/744 [==============================] - 2s 3ms/step - loss: 0.4094 - f1_m: 0.7954 - val_loss: 0.4128 - val_f1_m: 0.8003\n",
            "Epoch 20/200\n",
            "744/744 [==============================] - 3s 4ms/step - loss: 0.4091 - f1_m: 0.7959 - val_loss: 0.4156 - val_f1_m: 0.8001\n",
            "Epoch 21/200\n",
            "744/744 [==============================] - 3s 4ms/step - loss: 0.4078 - f1_m: 0.7967 - val_loss: 0.4126 - val_f1_m: 0.8017\n",
            "Epoch 22/200\n",
            "744/744 [==============================] - 2s 3ms/step - loss: 0.4048 - f1_m: 0.7995 - val_loss: 0.4094 - val_f1_m: 0.8028\n",
            "Epoch 23/200\n",
            "744/744 [==============================] - 2s 3ms/step - loss: 0.4037 - f1_m: 0.7983 - val_loss: 0.4098 - val_f1_m: 0.8012\n",
            "Epoch 24/200\n",
            "744/744 [==============================] - 2s 3ms/step - loss: 0.4033 - f1_m: 0.8019 - val_loss: 0.4091 - val_f1_m: 0.8046\n",
            "Epoch 25/200\n",
            "744/744 [==============================] - 3s 4ms/step - loss: 0.4029 - f1_m: 0.8017 - val_loss: 0.4083 - val_f1_m: 0.8035\n",
            "Epoch 26/200\n",
            "744/744 [==============================] - 3s 4ms/step - loss: 0.4012 - f1_m: 0.8014 - val_loss: 0.4083 - val_f1_m: 0.8005\n",
            "Epoch 27/200\n",
            "744/744 [==============================] - 2s 3ms/step - loss: 0.3975 - f1_m: 0.8037 - val_loss: 0.4068 - val_f1_m: 0.8062\n",
            "Epoch 28/200\n",
            "744/744 [==============================] - 2s 3ms/step - loss: 0.4003 - f1_m: 0.8030 - val_loss: 0.4043 - val_f1_m: 0.8064\n",
            "Epoch 29/200\n",
            "744/744 [==============================] - 2s 3ms/step - loss: 0.3990 - f1_m: 0.8041 - val_loss: 0.4064 - val_f1_m: 0.8051\n",
            "Epoch 30/200\n",
            "744/744 [==============================] - 2s 3ms/step - loss: 0.3973 - f1_m: 0.8049 - val_loss: 0.4055 - val_f1_m: 0.8067\n",
            "Epoch 31/200\n",
            "744/744 [==============================] - 3s 4ms/step - loss: 0.3955 - f1_m: 0.8060 - val_loss: 0.4061 - val_f1_m: 0.8036\n",
            "Epoch 32/200\n",
            "744/744 [==============================] - 2s 3ms/step - loss: 0.3961 - f1_m: 0.8041 - val_loss: 0.4043 - val_f1_m: 0.8075\n",
            "Epoch 33/200\n",
            "744/744 [==============================] - 2s 3ms/step - loss: 0.3958 - f1_m: 0.8063 - val_loss: 0.4047 - val_f1_m: 0.8071\n",
            "Epoch 34/200\n",
            "744/744 [==============================] - 2s 3ms/step - loss: 0.3939 - f1_m: 0.8077 - val_loss: 0.4034 - val_f1_m: 0.8086\n",
            "Epoch 35/200\n",
            "744/744 [==============================] - 2s 3ms/step - loss: 0.3939 - f1_m: 0.8081 - val_loss: 0.4069 - val_f1_m: 0.8060\n",
            "Epoch 36/200\n",
            "744/744 [==============================] - 3s 4ms/step - loss: 0.3916 - f1_m: 0.8074 - val_loss: 0.4051 - val_f1_m: 0.8067\n",
            "Epoch 37/200\n",
            "744/744 [==============================] - 2s 3ms/step - loss: 0.3921 - f1_m: 0.8092 - val_loss: 0.4026 - val_f1_m: 0.8080\n",
            "Epoch 38/200\n",
            "744/744 [==============================] - 2s 3ms/step - loss: 0.3933 - f1_m: 0.8085 - val_loss: 0.4076 - val_f1_m: 0.8035\n",
            "Epoch 39/200\n",
            "744/744 [==============================] - 2s 3ms/step - loss: 0.3914 - f1_m: 0.8102 - val_loss: 0.4036 - val_f1_m: 0.8088\n",
            "Epoch 40/200\n",
            "744/744 [==============================] - 2s 3ms/step - loss: 0.3895 - f1_m: 0.8100 - val_loss: 0.4030 - val_f1_m: 0.8090\n",
            "Epoch 41/200\n",
            "744/744 [==============================] - 3s 4ms/step - loss: 0.3894 - f1_m: 0.8107 - val_loss: 0.4033 - val_f1_m: 0.8098\n",
            "Epoch 42/200\n",
            "744/744 [==============================] - 3s 3ms/step - loss: 0.3901 - f1_m: 0.8106 - val_loss: 0.4026 - val_f1_m: 0.8062\n",
            "Epoch 43/200\n",
            "744/744 [==============================] - 2s 3ms/step - loss: 0.3880 - f1_m: 0.8099 - val_loss: 0.4012 - val_f1_m: 0.8085\n",
            "Epoch 44/200\n",
            "744/744 [==============================] - 2s 3ms/step - loss: 0.3876 - f1_m: 0.8099 - val_loss: 0.4029 - val_f1_m: 0.8094\n",
            "Epoch 45/200\n",
            "744/744 [==============================] - 2s 3ms/step - loss: 0.3874 - f1_m: 0.8117 - val_loss: 0.4026 - val_f1_m: 0.8085\n",
            "Epoch 46/200\n",
            "744/744 [==============================] - 3s 4ms/step - loss: 0.3881 - f1_m: 0.8117 - val_loss: 0.4012 - val_f1_m: 0.8092\n",
            "Epoch 47/200\n",
            "744/744 [==============================] - 3s 4ms/step - loss: 0.3838 - f1_m: 0.8136 - val_loss: 0.4025 - val_f1_m: 0.8094\n",
            "Epoch 48/200\n",
            "744/744 [==============================] - 2s 3ms/step - loss: 0.3823 - f1_m: 0.8143 - val_loss: 0.4017 - val_f1_m: 0.8081\n",
            "Epoch 49/200\n",
            "744/744 [==============================] - 2s 3ms/step - loss: 0.3850 - f1_m: 0.8143 - val_loss: 0.4032 - val_f1_m: 0.8070\n",
            "Epoch 50/200\n",
            "744/744 [==============================] - 2s 3ms/step - loss: 0.3838 - f1_m: 0.8136 - val_loss: 0.4016 - val_f1_m: 0.8096\n",
            "Epoch 51/200\n",
            "744/744 [==============================] - 3s 4ms/step - loss: 0.3841 - f1_m: 0.8132 - val_loss: 0.4026 - val_f1_m: 0.8069\n",
            "Epoch 52/200\n",
            "744/744 [==============================] - 3s 4ms/step - loss: 0.3834 - f1_m: 0.8135 - val_loss: 0.4026 - val_f1_m: 0.8084\n",
            "Epoch 53/200\n",
            "744/744 [==============================] - 2s 3ms/step - loss: 0.3844 - f1_m: 0.8142 - val_loss: 0.4021 - val_f1_m: 0.8088\n",
            "Epoch 54/200\n",
            "744/744 [==============================] - 2s 3ms/step - loss: 0.3813 - f1_m: 0.8144 - val_loss: 0.3984 - val_f1_m: 0.8095\n",
            "Epoch 55/200\n",
            "744/744 [==============================] - 2s 3ms/step - loss: 0.3823 - f1_m: 0.8128 - val_loss: 0.4008 - val_f1_m: 0.8083\n",
            "Epoch 56/200\n",
            "744/744 [==============================] - 2s 3ms/step - loss: 0.3825 - f1_m: 0.8131 - val_loss: 0.4041 - val_f1_m: 0.8108\n",
            "Epoch 57/200\n",
            "744/744 [==============================] - 3s 5ms/step - loss: 0.3820 - f1_m: 0.8154 - val_loss: 0.4005 - val_f1_m: 0.8095\n",
            "Epoch 58/200\n",
            "744/744 [==============================] - 2s 3ms/step - loss: 0.3814 - f1_m: 0.8136 - val_loss: 0.4001 - val_f1_m: 0.8103\n",
            "Epoch 59/200\n",
            "744/744 [==============================] - 2s 3ms/step - loss: 0.3809 - f1_m: 0.8139 - val_loss: 0.4040 - val_f1_m: 0.8113\n",
            "Epoch 60/200\n",
            "744/744 [==============================] - 2s 3ms/step - loss: 0.3794 - f1_m: 0.8157 - val_loss: 0.4034 - val_f1_m: 0.8083\n",
            "Epoch 61/200\n",
            "744/744 [==============================] - 2s 3ms/step - loss: 0.3809 - f1_m: 0.8153 - val_loss: 0.4010 - val_f1_m: 0.8126\n",
            "Epoch 62/200\n",
            "744/744 [==============================] - 3s 4ms/step - loss: 0.3792 - f1_m: 0.8162 - val_loss: 0.4020 - val_f1_m: 0.8100\n",
            "Epoch 63/200\n",
            "744/744 [==============================] - 2s 3ms/step - loss: 0.3779 - f1_m: 0.8181 - val_loss: 0.4020 - val_f1_m: 0.8085\n",
            "Epoch 64/200\n",
            "744/744 [==============================] - 2s 3ms/step - loss: 0.3794 - f1_m: 0.8153 - val_loss: 0.3986 - val_f1_m: 0.8108\n",
            "Epoch 65/200\n",
            "744/744 [==============================] - 2s 3ms/step - loss: 0.3785 - f1_m: 0.8159 - val_loss: 0.3994 - val_f1_m: 0.8088\n",
            "Epoch 66/200\n",
            "744/744 [==============================] - 2s 3ms/step - loss: 0.3781 - f1_m: 0.8149 - val_loss: 0.4024 - val_f1_m: 0.8081\n",
            "Epoch 67/200\n",
            "744/744 [==============================] - 3s 4ms/step - loss: 0.3774 - f1_m: 0.8180 - val_loss: 0.4028 - val_f1_m: 0.8106\n",
            "Epoch 68/200\n",
            "744/744 [==============================] - 3s 5ms/step - loss: 0.3773 - f1_m: 0.8171 - val_loss: 0.4004 - val_f1_m: 0.8097\n",
            "Epoch 69/200\n",
            "744/744 [==============================] - 3s 3ms/step - loss: 0.3782 - f1_m: 0.8182 - val_loss: 0.3977 - val_f1_m: 0.8091\n",
            "Epoch 70/200\n",
            "744/744 [==============================] - 2s 3ms/step - loss: 0.3784 - f1_m: 0.8161 - val_loss: 0.4010 - val_f1_m: 0.8075\n",
            "Epoch 71/200\n",
            "744/744 [==============================] - 2s 3ms/step - loss: 0.3758 - f1_m: 0.8157 - val_loss: 0.4001 - val_f1_m: 0.8080\n",
            "Epoch 72/200\n",
            "744/744 [==============================] - 3s 4ms/step - loss: 0.3767 - f1_m: 0.8172 - val_loss: 0.3993 - val_f1_m: 0.8094\n",
            "Epoch 73/200\n",
            "744/744 [==============================] - 2s 3ms/step - loss: 0.3775 - f1_m: 0.8161 - val_loss: 0.3989 - val_f1_m: 0.8114\n",
            "Epoch 74/200\n",
            "744/744 [==============================] - 2s 3ms/step - loss: 0.3758 - f1_m: 0.8178 - val_loss: 0.3985 - val_f1_m: 0.8122\n",
            "Epoch 75/200\n",
            "744/744 [==============================] - 2s 3ms/step - loss: 0.3755 - f1_m: 0.8173 - val_loss: 0.3999 - val_f1_m: 0.8096\n",
            "Epoch 76/200\n",
            "744/744 [==============================] - 2s 3ms/step - loss: 0.3756 - f1_m: 0.8164 - val_loss: 0.4013 - val_f1_m: 0.8123\n",
            "Epoch 77/200\n",
            "744/744 [==============================] - 3s 4ms/step - loss: 0.3749 - f1_m: 0.8151 - val_loss: 0.4008 - val_f1_m: 0.8125\n",
            "Epoch 78/200\n",
            "744/744 [==============================] - 3s 3ms/step - loss: 0.3743 - f1_m: 0.8182 - val_loss: 0.4020 - val_f1_m: 0.8112\n",
            "Epoch 79/200\n",
            "744/744 [==============================] - 2s 3ms/step - loss: 0.3738 - f1_m: 0.8188 - val_loss: 0.3995 - val_f1_m: 0.8107\n",
            "Epoch 80/200\n",
            "744/744 [==============================] - 2s 3ms/step - loss: 0.3728 - f1_m: 0.8193 - val_loss: 0.3993 - val_f1_m: 0.8084\n",
            "Epoch 81/200\n",
            "744/744 [==============================] - 2s 3ms/step - loss: 0.3732 - f1_m: 0.8184 - val_loss: 0.4003 - val_f1_m: 0.8115\n",
            "Epoch 82/200\n",
            "744/744 [==============================] - 3s 4ms/step - loss: 0.3741 - f1_m: 0.8198 - val_loss: 0.4022 - val_f1_m: 0.8088\n",
            "Epoch 83/200\n",
            "744/744 [==============================] - 3s 4ms/step - loss: 0.3713 - f1_m: 0.8186 - val_loss: 0.4010 - val_f1_m: 0.8089\n",
            "Epoch 84/200\n",
            "744/744 [==============================] - 2s 3ms/step - loss: 0.3724 - f1_m: 0.8197 - val_loss: 0.3976 - val_f1_m: 0.8126\n",
            "Epoch 85/200\n",
            "744/744 [==============================] - 2s 3ms/step - loss: 0.3711 - f1_m: 0.8197 - val_loss: 0.3995 - val_f1_m: 0.8095\n",
            "Epoch 86/200\n",
            "744/744 [==============================] - 2s 3ms/step - loss: 0.3721 - f1_m: 0.8182 - val_loss: 0.4030 - val_f1_m: 0.8093\n",
            "Epoch 87/200\n",
            "744/744 [==============================] - 3s 4ms/step - loss: 0.3721 - f1_m: 0.8187 - val_loss: 0.4022 - val_f1_m: 0.8137\n",
            "Epoch 88/200\n",
            "744/744 [==============================] - 3s 4ms/step - loss: 0.3713 - f1_m: 0.8192 - val_loss: 0.4015 - val_f1_m: 0.8110\n",
            "Epoch 89/200\n",
            "744/744 [==============================] - 2s 3ms/step - loss: 0.3715 - f1_m: 0.8206 - val_loss: 0.3998 - val_f1_m: 0.8108\n",
            "Epoch 90/200\n",
            "744/744 [==============================] - 2s 3ms/step - loss: 0.3716 - f1_m: 0.8178 - val_loss: 0.3979 - val_f1_m: 0.8095\n",
            "Epoch 91/200\n",
            "744/744 [==============================] - 2s 3ms/step - loss: 0.3707 - f1_m: 0.8208 - val_loss: 0.4046 - val_f1_m: 0.8109\n",
            "Epoch 92/200\n",
            "744/744 [==============================] - 2s 3ms/step - loss: 0.3692 - f1_m: 0.8208 - val_loss: 0.3996 - val_f1_m: 0.8108\n",
            "Epoch 93/200\n",
            "744/744 [==============================] - 3s 5ms/step - loss: 0.3704 - f1_m: 0.8210 - val_loss: 0.4010 - val_f1_m: 0.8120\n",
            "Epoch 94/200\n",
            "744/744 [==============================] - 2s 3ms/step - loss: 0.3708 - f1_m: 0.8201 - val_loss: 0.3978 - val_f1_m: 0.8105\n",
            "Epoch 95/200\n",
            "744/744 [==============================] - 2s 3ms/step - loss: 0.3710 - f1_m: 0.8190 - val_loss: 0.3975 - val_f1_m: 0.8124\n",
            "Epoch 96/200\n",
            "744/744 [==============================] - 2s 3ms/step - loss: 0.3695 - f1_m: 0.8212 - val_loss: 0.4001 - val_f1_m: 0.8131\n",
            "Epoch 97/200\n",
            "744/744 [==============================] - 2s 3ms/step - loss: 0.3697 - f1_m: 0.8216 - val_loss: 0.3989 - val_f1_m: 0.8124\n",
            "Epoch 98/200\n",
            "744/744 [==============================] - 4s 5ms/step - loss: 0.3701 - f1_m: 0.8191 - val_loss: 0.3975 - val_f1_m: 0.8141\n",
            "Epoch 99/200\n",
            "744/744 [==============================] - 2s 3ms/step - loss: 0.3693 - f1_m: 0.8215 - val_loss: 0.3989 - val_f1_m: 0.8128\n",
            "Epoch 100/200\n",
            "744/744 [==============================] - 2s 3ms/step - loss: 0.3688 - f1_m: 0.8196 - val_loss: 0.3970 - val_f1_m: 0.8145\n",
            "Epoch 101/200\n",
            "744/744 [==============================] - 2s 3ms/step - loss: 0.3690 - f1_m: 0.8217 - val_loss: 0.3991 - val_f1_m: 0.8089\n",
            "Epoch 102/200\n",
            "744/744 [==============================] - 2s 3ms/step - loss: 0.3700 - f1_m: 0.8195 - val_loss: 0.4004 - val_f1_m: 0.8136\n",
            "Epoch 103/200\n",
            "744/744 [==============================] - 3s 5ms/step - loss: 0.3669 - f1_m: 0.8215 - val_loss: 0.3985 - val_f1_m: 0.8119\n",
            "Epoch 104/200\n",
            "744/744 [==============================] - 2s 3ms/step - loss: 0.3676 - f1_m: 0.8217 - val_loss: 0.4038 - val_f1_m: 0.8129\n",
            "Epoch 105/200\n",
            "744/744 [==============================] - 2s 3ms/step - loss: 0.3683 - f1_m: 0.8205 - val_loss: 0.3963 - val_f1_m: 0.8157\n",
            "Epoch 106/200\n",
            "744/744 [==============================] - 2s 3ms/step - loss: 0.3670 - f1_m: 0.8229 - val_loss: 0.3961 - val_f1_m: 0.8157\n",
            "Epoch 107/200\n",
            "744/744 [==============================] - 2s 3ms/step - loss: 0.3669 - f1_m: 0.8218 - val_loss: 0.3976 - val_f1_m: 0.8119\n",
            "Epoch 108/200\n",
            "744/744 [==============================] - 3s 4ms/step - loss: 0.3658 - f1_m: 0.8233 - val_loss: 0.3987 - val_f1_m: 0.8141\n",
            "Epoch 109/200\n",
            "744/744 [==============================] - 2s 3ms/step - loss: 0.3670 - f1_m: 0.8220 - val_loss: 0.3970 - val_f1_m: 0.8154\n",
            "Epoch 110/200\n",
            "744/744 [==============================] - 2s 3ms/step - loss: 0.3676 - f1_m: 0.8219 - val_loss: 0.4015 - val_f1_m: 0.8112\n",
            "Epoch 111/200\n",
            "744/744 [==============================] - 2s 3ms/step - loss: 0.3670 - f1_m: 0.8226 - val_loss: 0.4029 - val_f1_m: 0.8106\n",
            "Epoch 112/200\n",
            "744/744 [==============================] - 3s 4ms/step - loss: 0.3650 - f1_m: 0.8249 - val_loss: 0.4003 - val_f1_m: 0.8101\n",
            "Epoch 113/200\n",
            "744/744 [==============================] - 6s 8ms/step - loss: 0.3672 - f1_m: 0.8224 - val_loss: 0.3969 - val_f1_m: 0.8115\n",
            "Epoch 114/200\n",
            "744/744 [==============================] - 2s 3ms/step - loss: 0.3642 - f1_m: 0.8232 - val_loss: 0.3985 - val_f1_m: 0.8136\n",
            "Epoch 115/200\n",
            "744/744 [==============================] - 3s 4ms/step - loss: 0.3654 - f1_m: 0.8226 - val_loss: 0.3969 - val_f1_m: 0.8143\n",
            "Epoch 116/200\n",
            "744/744 [==============================] - 2s 3ms/step - loss: 0.3677 - f1_m: 0.8220 - val_loss: 0.3977 - val_f1_m: 0.8126\n",
            "Epoch 117/200\n",
            "744/744 [==============================] - 3s 4ms/step - loss: 0.3674 - f1_m: 0.8239 - val_loss: 0.3993 - val_f1_m: 0.8109\n",
            "Epoch 118/200\n",
            "744/744 [==============================] - 3s 3ms/step - loss: 0.3648 - f1_m: 0.8238 - val_loss: 0.3976 - val_f1_m: 0.8145\n",
            "Epoch 119/200\n",
            "744/744 [==============================] - 2s 3ms/step - loss: 0.3656 - f1_m: 0.8236 - val_loss: 0.3989 - val_f1_m: 0.8126\n",
            "Epoch 120/200\n",
            "744/744 [==============================] - 2s 3ms/step - loss: 0.3658 - f1_m: 0.8233 - val_loss: 0.3965 - val_f1_m: 0.8121\n",
            "Epoch 121/200\n",
            "744/744 [==============================] - 2s 3ms/step - loss: 0.3652 - f1_m: 0.8220 - val_loss: 0.3993 - val_f1_m: 0.8129\n"
          ]
        }
      ]
    },
    {
      "cell_type": "code",
      "source": [
        "model.summary()"
      ],
      "metadata": {
        "colab": {
          "base_uri": "https://localhost:8080/"
        },
        "id": "wPNSIvqcED_R",
        "outputId": "7a75e371-d427-493b-eb93-19eff611af3b"
      },
      "execution_count": null,
      "outputs": [
        {
          "output_type": "stream",
          "name": "stdout",
          "text": [
            "Model: \"sequential_2\"\n",
            "_________________________________________________________________\n",
            " Layer (type)                Output Shape              Param #   \n",
            "=================================================================\n",
            " dense_6 (Dense)             (None, 192)               8064      \n",
            "                                                                 \n",
            " dropout_4 (Dropout)         (None, 192)               0         \n",
            "                                                                 \n",
            " dense_7 (Dense)             (None, 32)                6176      \n",
            "                                                                 \n",
            " dropout_5 (Dropout)         (None, 32)                0         \n",
            "                                                                 \n",
            " dense_8 (Dense)             (None, 2)                 66        \n",
            "                                                                 \n",
            "=================================================================\n",
            "Total params: 14,306\n",
            "Trainable params: 14,306\n",
            "Non-trainable params: 0\n",
            "_________________________________________________________________\n"
          ]
        }
      ]
    },
    {
      "cell_type": "markdown",
      "source": [
        "## Graficos - Red Optimizada"
      ],
      "metadata": {
        "id": "wapOZPfyDUgL"
      }
    },
    {
      "cell_type": "code",
      "source": [
        "plt.figure(figsize = (12, 6))\n",
        "\n",
        "train_loss = history.history['loss']\n",
        "val_loss = history.history['val_loss'] \n",
        "epoch = range(0, 121)\n",
        "\n",
        "loss = pd.DataFrame({'train_loss' : train_loss, 'val_loss' : val_loss})\n",
        "\n",
        "px.line(data_frame = loss, x = epoch, y = ['val_loss', 'train_loss'], title = 'Funcion de perdida en Train y Validacion',\n",
        "        template = 'plotly_dark')"
      ],
      "metadata": {
        "colab": {
          "base_uri": "https://localhost:8080/",
          "height": 559
        },
        "id": "ryw8rD7k2e5f",
        "outputId": "cab22c2b-6540-4dc6-cfa9-11166448b090"
      },
      "execution_count": null,
      "outputs": [
        {
          "output_type": "display_data",
          "data": {
            "text/html": [
              "<html>\n",
              "<head><meta charset=\"utf-8\" /></head>\n",
              "<body>\n",
              "    <div>            <script src=\"https://cdnjs.cloudflare.com/ajax/libs/mathjax/2.7.5/MathJax.js?config=TeX-AMS-MML_SVG\"></script><script type=\"text/javascript\">if (window.MathJax && window.MathJax.Hub && window.MathJax.Hub.Config) {window.MathJax.Hub.Config({SVG: {font: \"STIX-Web\"}});}</script>                <script type=\"text/javascript\">window.PlotlyConfig = {MathJaxConfig: 'local'};</script>\n",
              "        <script src=\"https://cdn.plot.ly/plotly-2.18.2.min.js\"></script>                <div id=\"5ac99c96-b8a3-4a80-af22-d2d8ad5043d3\" class=\"plotly-graph-div\" style=\"height:525px; width:100%;\"></div>            <script type=\"text/javascript\">                                    window.PLOTLYENV=window.PLOTLYENV || {};                                    if (document.getElementById(\"5ac99c96-b8a3-4a80-af22-d2d8ad5043d3\")) {                    Plotly.newPlot(                        \"5ac99c96-b8a3-4a80-af22-d2d8ad5043d3\",                        [{\"hovertemplate\":\"variable=val_loss<br>x=%{x}<br>value=%{y}<extra></extra>\",\"legendgroup\":\"val_loss\",\"line\":{\"color\":\"#636efa\",\"dash\":\"solid\"},\"marker\":{\"symbol\":\"circle\"},\"mode\":\"lines\",\"name\":\"val_loss\",\"orientation\":\"v\",\"showlegend\":true,\"x\":[0,1,2,3,4,5,6,7,8,9,10,11,12,13,14,15,16,17,18,19,20,21,22,23,24,25,26,27,28,29,30,31,32,33,34,35,36,37,38,39,40,41,42,43,44,45,46,47,48,49,50,51,52,53,54,55,56,57,58,59,60,61,62,63,64,65,66,67,68,69,70,71,72,73,74,75,76,77,78,79,80,81,82,83,84,85,86,87,88,89,90,91,92,93,94,95,96,97,98,99,100,101,102,103,104,105,106,107,108,109,110,111,112,113,114,115,116,117,118,119,120],\"xaxis\":\"x\",\"y\":[0.4550740718841553,0.4505738914012909,0.44673624634742737,0.4445244073867798,0.4308498501777649,0.4331353008747101,0.42824673652648926,0.42731907963752747,0.43064630031585693,0.4237908124923706,0.4217708706855774,0.42000848054885864,0.4193205237388611,0.41822928190231323,0.4173963963985443,0.4153555631637573,0.41894790530204773,0.4115122854709625,0.41276228427886963,0.4156429171562195,0.41260215640068054,0.40938401222229004,0.40976792573928833,0.4091437757015228,0.4082705080509186,0.4083459675312042,0.40677595138549805,0.4042830467224121,0.4064141511917114,0.40552443265914917,0.4061046540737152,0.4042714536190033,0.40465208888053894,0.40338829159736633,0.40689560770988464,0.4051263630390167,0.40260711312294006,0.4075784385204315,0.403603732585907,0.40300315618515015,0.4032610356807709,0.4025719165802002,0.40119799971580505,0.4029196500778198,0.40264490246772766,0.401227742433548,0.4024515748023987,0.40165451169013977,0.40321314334869385,0.4015803039073944,0.40262818336486816,0.40263181924819946,0.4021208584308624,0.3983522355556488,0.40082505345344543,0.4040900766849518,0.4004937410354614,0.40006887912750244,0.40398144721984863,0.40340861678123474,0.4010108411312103,0.40203651785850525,0.40197545289993286,0.3985584080219269,0.3993929326534271,0.4024321138858795,0.4028400480747223,0.40039271116256714,0.3977007269859314,0.40095698833465576,0.40013769268989563,0.3993397653102875,0.3989403247833252,0.3984767496585846,0.39990234375,0.4012790620326996,0.4007819592952728,0.40199363231658936,0.3995296359062195,0.3993264436721802,0.4003407061100006,0.402174711227417,0.4010089039802551,0.3975980281829834,0.39949655532836914,0.4029545485973358,0.402195543050766,0.40148696303367615,0.39976930618286133,0.39792710542678833,0.40455320477485657,0.39959824085235596,0.40103626251220703,0.39778396487236023,0.39747440814971924,0.4001350998878479,0.39888063073158264,0.39751020073890686,0.39886474609375,0.397049218416214,0.3990616500377655,0.4003579914569855,0.39854204654693604,0.4038170874118805,0.3963004946708679,0.3961201310157776,0.3976474106311798,0.39872002601623535,0.3970281183719635,0.4014844596385956,0.40292268991470337,0.40033918619155884,0.3969423174858093,0.39849889278411865,0.3969261944293976,0.3976716697216034,0.3993159532546997,0.3975723385810852,0.3989178240299225,0.396518737077713,0.39928558468818665],\"yaxis\":\"y\",\"type\":\"scatter\"},{\"hovertemplate\":\"variable=train_loss<br>x=%{x}<br>value=%{y}<extra></extra>\",\"legendgroup\":\"train_loss\",\"line\":{\"color\":\"#EF553B\",\"dash\":\"solid\"},\"marker\":{\"symbol\":\"circle\"},\"mode\":\"lines\",\"name\":\"train_loss\",\"orientation\":\"v\",\"showlegend\":true,\"x\":[0,1,2,3,4,5,6,7,8,9,10,11,12,13,14,15,16,17,18,19,20,21,22,23,24,25,26,27,28,29,30,31,32,33,34,35,36,37,38,39,40,41,42,43,44,45,46,47,48,49,50,51,52,53,54,55,56,57,58,59,60,61,62,63,64,65,66,67,68,69,70,71,72,73,74,75,76,77,78,79,80,81,82,83,84,85,86,87,88,89,90,91,92,93,94,95,96,97,98,99,100,101,102,103,104,105,106,107,108,109,110,111,112,113,114,115,116,117,118,119,120],\"xaxis\":\"x\",\"y\":[0.4883612394332886,0.45847442746162415,0.44990667700767517,0.4425264894962311,0.43954038619995117,0.43563520908355713,0.43220749497413635,0.4290209114551544,0.42691686749458313,0.42592787742614746,0.4236412048339844,0.42251506447792053,0.4192506968975067,0.41865554451942444,0.4145815670490265,0.4156177341938019,0.4131811857223511,0.4132281541824341,0.40942299365997314,0.4090613126754761,0.407787561416626,0.40481889247894287,0.4036634862422943,0.4033276438713074,0.4029211699962616,0.40119317173957825,0.39751875400543213,0.40030527114868164,0.3989807367324829,0.39728349447250366,0.3955497145652771,0.3960506021976471,0.3958081901073456,0.39386823773384094,0.39393070340156555,0.3916015923023224,0.39214420318603516,0.3933429419994354,0.39138099551200867,0.38948097825050354,0.3893544375896454,0.3901076316833496,0.387970894575119,0.3875506520271301,0.3873825967311859,0.3880545496940613,0.38384053111076355,0.3823363482952118,0.38504499197006226,0.3837873637676239,0.3841237425804138,0.3833905756473541,0.3843778669834137,0.3812961280345917,0.3822570741176605,0.3824829161167145,0.38198456168174744,0.3814322352409363,0.3809453845024109,0.3793531060218811,0.38089144229888916,0.379224956035614,0.37789446115493774,0.3793579339981079,0.3784722089767456,0.37812143564224243,0.3773537874221802,0.37730807065963745,0.3782320022583008,0.378388911485672,0.3758370578289032,0.3766808807849884,0.37754857540130615,0.3758184611797333,0.37554800510406494,0.37556761503219604,0.3749293088912964,0.37434616684913635,0.37383410334587097,0.37276843190193176,0.37317749857902527,0.374076247215271,0.37127476930618286,0.37235885858535767,0.3710804581642151,0.3720819354057312,0.37206482887268066,0.37125787138938904,0.37149113416671753,0.37164539098739624,0.37068331241607666,0.3692450523376465,0.37035462260246277,0.37075895071029663,0.37103044986724854,0.36946195363998413,0.3696971535682678,0.3700922131538391,0.36926934123039246,0.36878782510757446,0.3690461218357086,0.3700234591960907,0.36693817377090454,0.36758801341056824,0.3682539761066437,0.36699119210243225,0.3668811619281769,0.3657950162887573,0.3670250177383423,0.3676134943962097,0.36703920364379883,0.3649504780769348,0.36718183755874634,0.36422857642173767,0.3653887212276459,0.36773183941841125,0.36742913722991943,0.3648369312286377,0.3656263053417206,0.36578553915023804,0.3651960492134094],\"yaxis\":\"y\",\"type\":\"scatter\"}],                        {\"template\":{\"data\":{\"barpolar\":[{\"marker\":{\"line\":{\"color\":\"rgb(17,17,17)\",\"width\":0.5},\"pattern\":{\"fillmode\":\"overlay\",\"size\":10,\"solidity\":0.2}},\"type\":\"barpolar\"}],\"bar\":[{\"error_x\":{\"color\":\"#f2f5fa\"},\"error_y\":{\"color\":\"#f2f5fa\"},\"marker\":{\"line\":{\"color\":\"rgb(17,17,17)\",\"width\":0.5},\"pattern\":{\"fillmode\":\"overlay\",\"size\":10,\"solidity\":0.2}},\"type\":\"bar\"}],\"carpet\":[{\"aaxis\":{\"endlinecolor\":\"#A2B1C6\",\"gridcolor\":\"#506784\",\"linecolor\":\"#506784\",\"minorgridcolor\":\"#506784\",\"startlinecolor\":\"#A2B1C6\"},\"baxis\":{\"endlinecolor\":\"#A2B1C6\",\"gridcolor\":\"#506784\",\"linecolor\":\"#506784\",\"minorgridcolor\":\"#506784\",\"startlinecolor\":\"#A2B1C6\"},\"type\":\"carpet\"}],\"choropleth\":[{\"colorbar\":{\"outlinewidth\":0,\"ticks\":\"\"},\"type\":\"choropleth\"}],\"contourcarpet\":[{\"colorbar\":{\"outlinewidth\":0,\"ticks\":\"\"},\"type\":\"contourcarpet\"}],\"contour\":[{\"colorbar\":{\"outlinewidth\":0,\"ticks\":\"\"},\"colorscale\":[[0.0,\"#0d0887\"],[0.1111111111111111,\"#46039f\"],[0.2222222222222222,\"#7201a8\"],[0.3333333333333333,\"#9c179e\"],[0.4444444444444444,\"#bd3786\"],[0.5555555555555556,\"#d8576b\"],[0.6666666666666666,\"#ed7953\"],[0.7777777777777778,\"#fb9f3a\"],[0.8888888888888888,\"#fdca26\"],[1.0,\"#f0f921\"]],\"type\":\"contour\"}],\"heatmapgl\":[{\"colorbar\":{\"outlinewidth\":0,\"ticks\":\"\"},\"colorscale\":[[0.0,\"#0d0887\"],[0.1111111111111111,\"#46039f\"],[0.2222222222222222,\"#7201a8\"],[0.3333333333333333,\"#9c179e\"],[0.4444444444444444,\"#bd3786\"],[0.5555555555555556,\"#d8576b\"],[0.6666666666666666,\"#ed7953\"],[0.7777777777777778,\"#fb9f3a\"],[0.8888888888888888,\"#fdca26\"],[1.0,\"#f0f921\"]],\"type\":\"heatmapgl\"}],\"heatmap\":[{\"colorbar\":{\"outlinewidth\":0,\"ticks\":\"\"},\"colorscale\":[[0.0,\"#0d0887\"],[0.1111111111111111,\"#46039f\"],[0.2222222222222222,\"#7201a8\"],[0.3333333333333333,\"#9c179e\"],[0.4444444444444444,\"#bd3786\"],[0.5555555555555556,\"#d8576b\"],[0.6666666666666666,\"#ed7953\"],[0.7777777777777778,\"#fb9f3a\"],[0.8888888888888888,\"#fdca26\"],[1.0,\"#f0f921\"]],\"type\":\"heatmap\"}],\"histogram2dcontour\":[{\"colorbar\":{\"outlinewidth\":0,\"ticks\":\"\"},\"colorscale\":[[0.0,\"#0d0887\"],[0.1111111111111111,\"#46039f\"],[0.2222222222222222,\"#7201a8\"],[0.3333333333333333,\"#9c179e\"],[0.4444444444444444,\"#bd3786\"],[0.5555555555555556,\"#d8576b\"],[0.6666666666666666,\"#ed7953\"],[0.7777777777777778,\"#fb9f3a\"],[0.8888888888888888,\"#fdca26\"],[1.0,\"#f0f921\"]],\"type\":\"histogram2dcontour\"}],\"histogram2d\":[{\"colorbar\":{\"outlinewidth\":0,\"ticks\":\"\"},\"colorscale\":[[0.0,\"#0d0887\"],[0.1111111111111111,\"#46039f\"],[0.2222222222222222,\"#7201a8\"],[0.3333333333333333,\"#9c179e\"],[0.4444444444444444,\"#bd3786\"],[0.5555555555555556,\"#d8576b\"],[0.6666666666666666,\"#ed7953\"],[0.7777777777777778,\"#fb9f3a\"],[0.8888888888888888,\"#fdca26\"],[1.0,\"#f0f921\"]],\"type\":\"histogram2d\"}],\"histogram\":[{\"marker\":{\"pattern\":{\"fillmode\":\"overlay\",\"size\":10,\"solidity\":0.2}},\"type\":\"histogram\"}],\"mesh3d\":[{\"colorbar\":{\"outlinewidth\":0,\"ticks\":\"\"},\"type\":\"mesh3d\"}],\"parcoords\":[{\"line\":{\"colorbar\":{\"outlinewidth\":0,\"ticks\":\"\"}},\"type\":\"parcoords\"}],\"pie\":[{\"automargin\":true,\"type\":\"pie\"}],\"scatter3d\":[{\"line\":{\"colorbar\":{\"outlinewidth\":0,\"ticks\":\"\"}},\"marker\":{\"colorbar\":{\"outlinewidth\":0,\"ticks\":\"\"}},\"type\":\"scatter3d\"}],\"scattercarpet\":[{\"marker\":{\"colorbar\":{\"outlinewidth\":0,\"ticks\":\"\"}},\"type\":\"scattercarpet\"}],\"scattergeo\":[{\"marker\":{\"colorbar\":{\"outlinewidth\":0,\"ticks\":\"\"}},\"type\":\"scattergeo\"}],\"scattergl\":[{\"marker\":{\"line\":{\"color\":\"#283442\"}},\"type\":\"scattergl\"}],\"scattermapbox\":[{\"marker\":{\"colorbar\":{\"outlinewidth\":0,\"ticks\":\"\"}},\"type\":\"scattermapbox\"}],\"scatterpolargl\":[{\"marker\":{\"colorbar\":{\"outlinewidth\":0,\"ticks\":\"\"}},\"type\":\"scatterpolargl\"}],\"scatterpolar\":[{\"marker\":{\"colorbar\":{\"outlinewidth\":0,\"ticks\":\"\"}},\"type\":\"scatterpolar\"}],\"scatter\":[{\"marker\":{\"line\":{\"color\":\"#283442\"}},\"type\":\"scatter\"}],\"scatterternary\":[{\"marker\":{\"colorbar\":{\"outlinewidth\":0,\"ticks\":\"\"}},\"type\":\"scatterternary\"}],\"surface\":[{\"colorbar\":{\"outlinewidth\":0,\"ticks\":\"\"},\"colorscale\":[[0.0,\"#0d0887\"],[0.1111111111111111,\"#46039f\"],[0.2222222222222222,\"#7201a8\"],[0.3333333333333333,\"#9c179e\"],[0.4444444444444444,\"#bd3786\"],[0.5555555555555556,\"#d8576b\"],[0.6666666666666666,\"#ed7953\"],[0.7777777777777778,\"#fb9f3a\"],[0.8888888888888888,\"#fdca26\"],[1.0,\"#f0f921\"]],\"type\":\"surface\"}],\"table\":[{\"cells\":{\"fill\":{\"color\":\"#506784\"},\"line\":{\"color\":\"rgb(17,17,17)\"}},\"header\":{\"fill\":{\"color\":\"#2a3f5f\"},\"line\":{\"color\":\"rgb(17,17,17)\"}},\"type\":\"table\"}]},\"layout\":{\"annotationdefaults\":{\"arrowcolor\":\"#f2f5fa\",\"arrowhead\":0,\"arrowwidth\":1},\"autotypenumbers\":\"strict\",\"coloraxis\":{\"colorbar\":{\"outlinewidth\":0,\"ticks\":\"\"}},\"colorscale\":{\"diverging\":[[0,\"#8e0152\"],[0.1,\"#c51b7d\"],[0.2,\"#de77ae\"],[0.3,\"#f1b6da\"],[0.4,\"#fde0ef\"],[0.5,\"#f7f7f7\"],[0.6,\"#e6f5d0\"],[0.7,\"#b8e186\"],[0.8,\"#7fbc41\"],[0.9,\"#4d9221\"],[1,\"#276419\"]],\"sequential\":[[0.0,\"#0d0887\"],[0.1111111111111111,\"#46039f\"],[0.2222222222222222,\"#7201a8\"],[0.3333333333333333,\"#9c179e\"],[0.4444444444444444,\"#bd3786\"],[0.5555555555555556,\"#d8576b\"],[0.6666666666666666,\"#ed7953\"],[0.7777777777777778,\"#fb9f3a\"],[0.8888888888888888,\"#fdca26\"],[1.0,\"#f0f921\"]],\"sequentialminus\":[[0.0,\"#0d0887\"],[0.1111111111111111,\"#46039f\"],[0.2222222222222222,\"#7201a8\"],[0.3333333333333333,\"#9c179e\"],[0.4444444444444444,\"#bd3786\"],[0.5555555555555556,\"#d8576b\"],[0.6666666666666666,\"#ed7953\"],[0.7777777777777778,\"#fb9f3a\"],[0.8888888888888888,\"#fdca26\"],[1.0,\"#f0f921\"]]},\"colorway\":[\"#636efa\",\"#EF553B\",\"#00cc96\",\"#ab63fa\",\"#FFA15A\",\"#19d3f3\",\"#FF6692\",\"#B6E880\",\"#FF97FF\",\"#FECB52\"],\"font\":{\"color\":\"#f2f5fa\"},\"geo\":{\"bgcolor\":\"rgb(17,17,17)\",\"lakecolor\":\"rgb(17,17,17)\",\"landcolor\":\"rgb(17,17,17)\",\"showlakes\":true,\"showland\":true,\"subunitcolor\":\"#506784\"},\"hoverlabel\":{\"align\":\"left\"},\"hovermode\":\"closest\",\"mapbox\":{\"style\":\"dark\"},\"paper_bgcolor\":\"rgb(17,17,17)\",\"plot_bgcolor\":\"rgb(17,17,17)\",\"polar\":{\"angularaxis\":{\"gridcolor\":\"#506784\",\"linecolor\":\"#506784\",\"ticks\":\"\"},\"bgcolor\":\"rgb(17,17,17)\",\"radialaxis\":{\"gridcolor\":\"#506784\",\"linecolor\":\"#506784\",\"ticks\":\"\"}},\"scene\":{\"xaxis\":{\"backgroundcolor\":\"rgb(17,17,17)\",\"gridcolor\":\"#506784\",\"gridwidth\":2,\"linecolor\":\"#506784\",\"showbackground\":true,\"ticks\":\"\",\"zerolinecolor\":\"#C8D4E3\"},\"yaxis\":{\"backgroundcolor\":\"rgb(17,17,17)\",\"gridcolor\":\"#506784\",\"gridwidth\":2,\"linecolor\":\"#506784\",\"showbackground\":true,\"ticks\":\"\",\"zerolinecolor\":\"#C8D4E3\"},\"zaxis\":{\"backgroundcolor\":\"rgb(17,17,17)\",\"gridcolor\":\"#506784\",\"gridwidth\":2,\"linecolor\":\"#506784\",\"showbackground\":true,\"ticks\":\"\",\"zerolinecolor\":\"#C8D4E3\"}},\"shapedefaults\":{\"line\":{\"color\":\"#f2f5fa\"}},\"sliderdefaults\":{\"bgcolor\":\"#C8D4E3\",\"bordercolor\":\"rgb(17,17,17)\",\"borderwidth\":1,\"tickwidth\":0},\"ternary\":{\"aaxis\":{\"gridcolor\":\"#506784\",\"linecolor\":\"#506784\",\"ticks\":\"\"},\"baxis\":{\"gridcolor\":\"#506784\",\"linecolor\":\"#506784\",\"ticks\":\"\"},\"bgcolor\":\"rgb(17,17,17)\",\"caxis\":{\"gridcolor\":\"#506784\",\"linecolor\":\"#506784\",\"ticks\":\"\"}},\"title\":{\"x\":0.05},\"updatemenudefaults\":{\"bgcolor\":\"#506784\",\"borderwidth\":0},\"xaxis\":{\"automargin\":true,\"gridcolor\":\"#283442\",\"linecolor\":\"#506784\",\"ticks\":\"\",\"title\":{\"standoff\":15},\"zerolinecolor\":\"#283442\",\"zerolinewidth\":2},\"yaxis\":{\"automargin\":true,\"gridcolor\":\"#283442\",\"linecolor\":\"#506784\",\"ticks\":\"\",\"title\":{\"standoff\":15},\"zerolinecolor\":\"#283442\",\"zerolinewidth\":2}}},\"xaxis\":{\"anchor\":\"y\",\"domain\":[0.0,1.0],\"title\":{\"text\":\"x\"}},\"yaxis\":{\"anchor\":\"x\",\"domain\":[0.0,1.0],\"title\":{\"text\":\"value\"}},\"legend\":{\"title\":{\"text\":\"variable\"},\"tracegroupgap\":0},\"title\":{\"text\":\"Funcion de perdida en Train y Validacion\"}},                        {\"responsive\": true}                    ).then(function(){\n",
              "                            \n",
              "var gd = document.getElementById('5ac99c96-b8a3-4a80-af22-d2d8ad5043d3');\n",
              "var x = new MutationObserver(function (mutations, observer) {{\n",
              "        var display = window.getComputedStyle(gd).display;\n",
              "        if (!display || display === 'none') {{\n",
              "            console.log([gd, 'removed!']);\n",
              "            Plotly.purge(gd);\n",
              "            observer.disconnect();\n",
              "        }}\n",
              "}});\n",
              "\n",
              "// Listen for the removal of the full notebook cells\n",
              "var notebookContainer = gd.closest('#notebook-container');\n",
              "if (notebookContainer) {{\n",
              "    x.observe(notebookContainer, {childList: true});\n",
              "}}\n",
              "\n",
              "// Listen for the clearing of the current output cell\n",
              "var outputEl = gd.closest('.output');\n",
              "if (outputEl) {{\n",
              "    x.observe(outputEl, {childList: true});\n",
              "}}\n",
              "\n",
              "                        })                };                            </script>        </div>\n",
              "</body>\n",
              "</html>"
            ]
          },
          "metadata": {}
        },
        {
          "output_type": "display_data",
          "data": {
            "text/plain": [
              "<Figure size 1200x600 with 0 Axes>"
            ]
          },
          "metadata": {}
        }
      ]
    },
    {
      "cell_type": "code",
      "source": [
        "plt.figure(figsize = (12, 6))\n",
        "\n",
        "train_f1 = history.history['f1_m']\n",
        "val_f1 = history.history['val_f1_m'] \n",
        "epoch = range(0, 121)\n",
        "\n",
        "\n",
        "f1 = pd.DataFrame({'train_f1' : train_f1, 'val_f1_m' : val_f1})\n",
        "\n",
        "px.line(data_frame = f1, x = epoch, y = ['val_f1_m', 'train_f1'], title = 'F1 Score en Train y Validacion',\n",
        "        template = 'plotly_dark')"
      ],
      "metadata": {
        "colab": {
          "base_uri": "https://localhost:8080/",
          "height": 559
        },
        "id": "17CunRPE2nhv",
        "outputId": "c845e882-ea8e-4403-8c6d-1dbd16a7264a"
      },
      "execution_count": null,
      "outputs": [
        {
          "output_type": "display_data",
          "data": {
            "text/html": [
              "<html>\n",
              "<head><meta charset=\"utf-8\" /></head>\n",
              "<body>\n",
              "    <div>            <script src=\"https://cdnjs.cloudflare.com/ajax/libs/mathjax/2.7.5/MathJax.js?config=TeX-AMS-MML_SVG\"></script><script type=\"text/javascript\">if (window.MathJax && window.MathJax.Hub && window.MathJax.Hub.Config) {window.MathJax.Hub.Config({SVG: {font: \"STIX-Web\"}});}</script>                <script type=\"text/javascript\">window.PlotlyConfig = {MathJaxConfig: 'local'};</script>\n",
              "        <script src=\"https://cdn.plot.ly/plotly-2.18.2.min.js\"></script>                <div id=\"dc15b0e4-1601-4810-b5d8-c03c5ee194cb\" class=\"plotly-graph-div\" style=\"height:525px; width:100%;\"></div>            <script type=\"text/javascript\">                                    window.PLOTLYENV=window.PLOTLYENV || {};                                    if (document.getElementById(\"dc15b0e4-1601-4810-b5d8-c03c5ee194cb\")) {                    Plotly.newPlot(                        \"dc15b0e4-1601-4810-b5d8-c03c5ee194cb\",                        [{\"hovertemplate\":\"variable=val_f1_m<br>x=%{x}<br>value=%{y}<extra></extra>\",\"legendgroup\":\"val_f1_m\",\"line\":{\"color\":\"#636efa\",\"dash\":\"solid\"},\"marker\":{\"symbol\":\"circle\"},\"mode\":\"lines\",\"name\":\"val_f1_m\",\"orientation\":\"v\",\"showlegend\":true,\"x\":[0,1,2,3,4,5,6,7,8,9,10,11,12,13,14,15,16,17,18,19,20,21,22,23,24,25,26,27,28,29,30,31,32,33,34,35,36,37,38,39,40,41,42,43,44,45,46,47,48,49,50,51,52,53,54,55,56,57,58,59,60,61,62,63,64,65,66,67,68,69,70,71,72,73,74,75,76,77,78,79,80,81,82,83,84,85,86,87,88,89,90,91,92,93,94,95,96,97,98,99,100,101,102,103,104,105,106,107,108,109,110,111,112,113,114,115,116,117,118,119,120],\"xaxis\":\"x\",\"y\":[0.7736653685569763,0.7737254500389099,0.7720692753791809,0.7753335237503052,0.7816339135169983,0.7824739813804626,0.7842500805854797,0.7839980721473694,0.7843340635299683,0.7889664173126221,0.7891344428062439,0.7889304161071777,0.7860981822013855,0.7900824546813965,0.788054347038269,0.7899745106697083,0.7895424365997314,0.796454906463623,0.8003191351890564,0.8000911474227905,0.8017352819442749,0.8027552962303162,0.8012431859970093,0.8046033978462219,0.8035233020782471,0.8004871606826782,0.8062114715576172,0.8063675165176392,0.8051193952560425,0.8067275881767273,0.8035953640937805,0.8075435757637024,0.8071355223655701,0.8085876703262329,0.8059715628623962,0.8067035675048828,0.8079755902290344,0.8035354018211365,0.8088156580924988,0.8089836835861206,0.8097517490386963,0.8062475323677063,0.8084917068481445,0.8094037175178528,0.8084796667098999,0.8091637492179871,0.8094157576560974,0.8080716729164124,0.8069795966148376,0.8095837831497192,0.8068956136703491,0.8084076642990112,0.8087556958198547,0.8094877004623413,0.8083236813545227,0.8108317852020264,0.8095117211341858,0.8103398084640503,0.8113358020782471,0.8083356618881226,0.8126079440116882,0.809991717338562,0.8085036873817444,0.810843825340271,0.8088276982307434,0.8080716729164124,0.8105918169021606,0.8096677660942078,0.8090676665306091,0.8074836134910583,0.8079996705055237,0.8094157576560974,0.8113598823547363,0.812187910079956,0.8096437454223633,0.8122839331626892,0.8125119209289551,0.8111918568611145,0.8106878399848938,0.8084196448326111,0.8115278482437134,0.8088396787643433,0.8088516592979431,0.8126199245452881,0.8095237016677856,0.8092597126960754,0.8137120008468628,0.8110358119010925,0.8107598423957825,0.8094997406005859,0.8109157681465149,0.810843825340271,0.8120319247245789,0.8104957938194275,0.8123679161071777,0.8131120204925537,0.8123679161071777,0.814132034778595,0.8127879500389099,0.8144561052322388,0.8088996410369873,0.8136399984359741,0.8119359016418457,0.8128719329833984,0.8157161474227905,0.8157161474227905,0.8119359016418457,0.814132034778595,0.8153801560401917,0.8112398386001587,0.8106037974357605,0.8100757598876953,0.8115278482437134,0.8136399984359741,0.8143000602722168,0.8126079440116882,0.8109398484230042,0.8144800066947937,0.8125599026679993,0.8121039271354675,0.8129439949989319],\"yaxis\":\"y\",\"type\":\"scatter\"},{\"hovertemplate\":\"variable=train_f1<br>x=%{x}<br>value=%{y}<extra></extra>\",\"legendgroup\":\"train_f1\",\"line\":{\"color\":\"#EF553B\",\"dash\":\"solid\"},\"marker\":{\"symbol\":\"circle\"},\"mode\":\"lines\",\"name\":\"train_f1\",\"orientation\":\"v\",\"showlegend\":true,\"x\":[0,1,2,3,4,5,6,7,8,9,10,11,12,13,14,15,16,17,18,19,20,21,22,23,24,25,26,27,28,29,30,31,32,33,34,35,36,37,38,39,40,41,42,43,44,45,46,47,48,49,50,51,52,53,54,55,56,57,58,59,60,61,62,63,64,65,66,67,68,69,70,71,72,73,74,75,76,77,78,79,80,81,82,83,84,85,86,87,88,89,90,91,92,93,94,95,96,97,98,99,100,101,102,103,104,105,106,107,108,109,110,111,112,113,114,115,116,117,118,119,120],\"xaxis\":\"x\",\"y\":[0.7512751817703247,0.7706304788589478,0.7724488973617554,0.7759778499603271,0.7789810299873352,0.7795567512512207,0.7809088230133057,0.7827656269073486,0.7845840454101562,0.7835339903831482,0.7861504554748535,0.7868145108222961,0.7868608832359314,0.7901284098625183,0.7907584309577942,0.791220486164093,0.7940136194229126,0.7939419746398926,0.7953617572784424,0.7959073781967163,0.7967061400413513,0.7995080351829529,0.7983478903770447,0.8018724918365479,0.8016878366470337,0.8014061450958252,0.803657591342926,0.8030399084091187,0.8040566444396973,0.8048669695854187,0.8059808015823364,0.80405592918396,0.8062704801559448,0.8077195882797241,0.8081265687942505,0.8073835372924805,0.8091599941253662,0.8085458278656006,0.8101846575737,0.8099746704101562,0.8106676936149597,0.8106467127799988,0.8099116683006287,0.8099160194396973,0.8117221593856812,0.8116504549980164,0.8135572075843811,0.814267635345459,0.8142669200897217,0.8136463165283203,0.8132385611534119,0.8135203123092651,0.8141967058181763,0.8144059777259827,0.8128431439399719,0.8130698204040527,0.8154183626174927,0.8136376142501831,0.8138599395751953,0.8157036900520325,0.8152539730072021,0.8161700963973999,0.8180515170097351,0.8152539730072021,0.8158760666847229,0.8149099946022034,0.8180015087127686,0.8171071410179138,0.8181731700897217,0.8160737752914429,0.8156747221946716,0.8172454833984375,0.8161324262619019,0.8178204894065857,0.8173461556434631,0.8164474368095398,0.815069317817688,0.8182361721992493,0.818820595741272,0.8193210363388062,0.8183918595314026,0.8197910189628601,0.8186482191085815,0.8197106122970581,0.8197113275527954,0.8182289600372314,0.818665623664856,0.8192362785339355,0.8206390142440796,0.8177582025527954,0.8207563161849976,0.8208410739898682,0.8209627270698547,0.820068359375,0.8190016150474548,0.8211727142333984,0.8216094374656677,0.8191312551498413,0.8215253949165344,0.8196396231651306,0.8217354416847229,0.8194549679756165,0.8215340971946716,0.8217064738273621,0.8204840421676636,0.8229237794876099,0.8218404054641724,0.8233104944229126,0.8220171332359314,0.8219331502914429,0.8225754499435425,0.8248856067657471,0.8223994970321655,0.8232272863388062,0.8226218223571777,0.8219707608222961,0.8238608837127686,0.8237812519073486,0.8235712647438049,0.8233358860015869,0.8220461010932922],\"yaxis\":\"y\",\"type\":\"scatter\"}],                        {\"template\":{\"data\":{\"barpolar\":[{\"marker\":{\"line\":{\"color\":\"rgb(17,17,17)\",\"width\":0.5},\"pattern\":{\"fillmode\":\"overlay\",\"size\":10,\"solidity\":0.2}},\"type\":\"barpolar\"}],\"bar\":[{\"error_x\":{\"color\":\"#f2f5fa\"},\"error_y\":{\"color\":\"#f2f5fa\"},\"marker\":{\"line\":{\"color\":\"rgb(17,17,17)\",\"width\":0.5},\"pattern\":{\"fillmode\":\"overlay\",\"size\":10,\"solidity\":0.2}},\"type\":\"bar\"}],\"carpet\":[{\"aaxis\":{\"endlinecolor\":\"#A2B1C6\",\"gridcolor\":\"#506784\",\"linecolor\":\"#506784\",\"minorgridcolor\":\"#506784\",\"startlinecolor\":\"#A2B1C6\"},\"baxis\":{\"endlinecolor\":\"#A2B1C6\",\"gridcolor\":\"#506784\",\"linecolor\":\"#506784\",\"minorgridcolor\":\"#506784\",\"startlinecolor\":\"#A2B1C6\"},\"type\":\"carpet\"}],\"choropleth\":[{\"colorbar\":{\"outlinewidth\":0,\"ticks\":\"\"},\"type\":\"choropleth\"}],\"contourcarpet\":[{\"colorbar\":{\"outlinewidth\":0,\"ticks\":\"\"},\"type\":\"contourcarpet\"}],\"contour\":[{\"colorbar\":{\"outlinewidth\":0,\"ticks\":\"\"},\"colorscale\":[[0.0,\"#0d0887\"],[0.1111111111111111,\"#46039f\"],[0.2222222222222222,\"#7201a8\"],[0.3333333333333333,\"#9c179e\"],[0.4444444444444444,\"#bd3786\"],[0.5555555555555556,\"#d8576b\"],[0.6666666666666666,\"#ed7953\"],[0.7777777777777778,\"#fb9f3a\"],[0.8888888888888888,\"#fdca26\"],[1.0,\"#f0f921\"]],\"type\":\"contour\"}],\"heatmapgl\":[{\"colorbar\":{\"outlinewidth\":0,\"ticks\":\"\"},\"colorscale\":[[0.0,\"#0d0887\"],[0.1111111111111111,\"#46039f\"],[0.2222222222222222,\"#7201a8\"],[0.3333333333333333,\"#9c179e\"],[0.4444444444444444,\"#bd3786\"],[0.5555555555555556,\"#d8576b\"],[0.6666666666666666,\"#ed7953\"],[0.7777777777777778,\"#fb9f3a\"],[0.8888888888888888,\"#fdca26\"],[1.0,\"#f0f921\"]],\"type\":\"heatmapgl\"}],\"heatmap\":[{\"colorbar\":{\"outlinewidth\":0,\"ticks\":\"\"},\"colorscale\":[[0.0,\"#0d0887\"],[0.1111111111111111,\"#46039f\"],[0.2222222222222222,\"#7201a8\"],[0.3333333333333333,\"#9c179e\"],[0.4444444444444444,\"#bd3786\"],[0.5555555555555556,\"#d8576b\"],[0.6666666666666666,\"#ed7953\"],[0.7777777777777778,\"#fb9f3a\"],[0.8888888888888888,\"#fdca26\"],[1.0,\"#f0f921\"]],\"type\":\"heatmap\"}],\"histogram2dcontour\":[{\"colorbar\":{\"outlinewidth\":0,\"ticks\":\"\"},\"colorscale\":[[0.0,\"#0d0887\"],[0.1111111111111111,\"#46039f\"],[0.2222222222222222,\"#7201a8\"],[0.3333333333333333,\"#9c179e\"],[0.4444444444444444,\"#bd3786\"],[0.5555555555555556,\"#d8576b\"],[0.6666666666666666,\"#ed7953\"],[0.7777777777777778,\"#fb9f3a\"],[0.8888888888888888,\"#fdca26\"],[1.0,\"#f0f921\"]],\"type\":\"histogram2dcontour\"}],\"histogram2d\":[{\"colorbar\":{\"outlinewidth\":0,\"ticks\":\"\"},\"colorscale\":[[0.0,\"#0d0887\"],[0.1111111111111111,\"#46039f\"],[0.2222222222222222,\"#7201a8\"],[0.3333333333333333,\"#9c179e\"],[0.4444444444444444,\"#bd3786\"],[0.5555555555555556,\"#d8576b\"],[0.6666666666666666,\"#ed7953\"],[0.7777777777777778,\"#fb9f3a\"],[0.8888888888888888,\"#fdca26\"],[1.0,\"#f0f921\"]],\"type\":\"histogram2d\"}],\"histogram\":[{\"marker\":{\"pattern\":{\"fillmode\":\"overlay\",\"size\":10,\"solidity\":0.2}},\"type\":\"histogram\"}],\"mesh3d\":[{\"colorbar\":{\"outlinewidth\":0,\"ticks\":\"\"},\"type\":\"mesh3d\"}],\"parcoords\":[{\"line\":{\"colorbar\":{\"outlinewidth\":0,\"ticks\":\"\"}},\"type\":\"parcoords\"}],\"pie\":[{\"automargin\":true,\"type\":\"pie\"}],\"scatter3d\":[{\"line\":{\"colorbar\":{\"outlinewidth\":0,\"ticks\":\"\"}},\"marker\":{\"colorbar\":{\"outlinewidth\":0,\"ticks\":\"\"}},\"type\":\"scatter3d\"}],\"scattercarpet\":[{\"marker\":{\"colorbar\":{\"outlinewidth\":0,\"ticks\":\"\"}},\"type\":\"scattercarpet\"}],\"scattergeo\":[{\"marker\":{\"colorbar\":{\"outlinewidth\":0,\"ticks\":\"\"}},\"type\":\"scattergeo\"}],\"scattergl\":[{\"marker\":{\"line\":{\"color\":\"#283442\"}},\"type\":\"scattergl\"}],\"scattermapbox\":[{\"marker\":{\"colorbar\":{\"outlinewidth\":0,\"ticks\":\"\"}},\"type\":\"scattermapbox\"}],\"scatterpolargl\":[{\"marker\":{\"colorbar\":{\"outlinewidth\":0,\"ticks\":\"\"}},\"type\":\"scatterpolargl\"}],\"scatterpolar\":[{\"marker\":{\"colorbar\":{\"outlinewidth\":0,\"ticks\":\"\"}},\"type\":\"scatterpolar\"}],\"scatter\":[{\"marker\":{\"line\":{\"color\":\"#283442\"}},\"type\":\"scatter\"}],\"scatterternary\":[{\"marker\":{\"colorbar\":{\"outlinewidth\":0,\"ticks\":\"\"}},\"type\":\"scatterternary\"}],\"surface\":[{\"colorbar\":{\"outlinewidth\":0,\"ticks\":\"\"},\"colorscale\":[[0.0,\"#0d0887\"],[0.1111111111111111,\"#46039f\"],[0.2222222222222222,\"#7201a8\"],[0.3333333333333333,\"#9c179e\"],[0.4444444444444444,\"#bd3786\"],[0.5555555555555556,\"#d8576b\"],[0.6666666666666666,\"#ed7953\"],[0.7777777777777778,\"#fb9f3a\"],[0.8888888888888888,\"#fdca26\"],[1.0,\"#f0f921\"]],\"type\":\"surface\"}],\"table\":[{\"cells\":{\"fill\":{\"color\":\"#506784\"},\"line\":{\"color\":\"rgb(17,17,17)\"}},\"header\":{\"fill\":{\"color\":\"#2a3f5f\"},\"line\":{\"color\":\"rgb(17,17,17)\"}},\"type\":\"table\"}]},\"layout\":{\"annotationdefaults\":{\"arrowcolor\":\"#f2f5fa\",\"arrowhead\":0,\"arrowwidth\":1},\"autotypenumbers\":\"strict\",\"coloraxis\":{\"colorbar\":{\"outlinewidth\":0,\"ticks\":\"\"}},\"colorscale\":{\"diverging\":[[0,\"#8e0152\"],[0.1,\"#c51b7d\"],[0.2,\"#de77ae\"],[0.3,\"#f1b6da\"],[0.4,\"#fde0ef\"],[0.5,\"#f7f7f7\"],[0.6,\"#e6f5d0\"],[0.7,\"#b8e186\"],[0.8,\"#7fbc41\"],[0.9,\"#4d9221\"],[1,\"#276419\"]],\"sequential\":[[0.0,\"#0d0887\"],[0.1111111111111111,\"#46039f\"],[0.2222222222222222,\"#7201a8\"],[0.3333333333333333,\"#9c179e\"],[0.4444444444444444,\"#bd3786\"],[0.5555555555555556,\"#d8576b\"],[0.6666666666666666,\"#ed7953\"],[0.7777777777777778,\"#fb9f3a\"],[0.8888888888888888,\"#fdca26\"],[1.0,\"#f0f921\"]],\"sequentialminus\":[[0.0,\"#0d0887\"],[0.1111111111111111,\"#46039f\"],[0.2222222222222222,\"#7201a8\"],[0.3333333333333333,\"#9c179e\"],[0.4444444444444444,\"#bd3786\"],[0.5555555555555556,\"#d8576b\"],[0.6666666666666666,\"#ed7953\"],[0.7777777777777778,\"#fb9f3a\"],[0.8888888888888888,\"#fdca26\"],[1.0,\"#f0f921\"]]},\"colorway\":[\"#636efa\",\"#EF553B\",\"#00cc96\",\"#ab63fa\",\"#FFA15A\",\"#19d3f3\",\"#FF6692\",\"#B6E880\",\"#FF97FF\",\"#FECB52\"],\"font\":{\"color\":\"#f2f5fa\"},\"geo\":{\"bgcolor\":\"rgb(17,17,17)\",\"lakecolor\":\"rgb(17,17,17)\",\"landcolor\":\"rgb(17,17,17)\",\"showlakes\":true,\"showland\":true,\"subunitcolor\":\"#506784\"},\"hoverlabel\":{\"align\":\"left\"},\"hovermode\":\"closest\",\"mapbox\":{\"style\":\"dark\"},\"paper_bgcolor\":\"rgb(17,17,17)\",\"plot_bgcolor\":\"rgb(17,17,17)\",\"polar\":{\"angularaxis\":{\"gridcolor\":\"#506784\",\"linecolor\":\"#506784\",\"ticks\":\"\"},\"bgcolor\":\"rgb(17,17,17)\",\"radialaxis\":{\"gridcolor\":\"#506784\",\"linecolor\":\"#506784\",\"ticks\":\"\"}},\"scene\":{\"xaxis\":{\"backgroundcolor\":\"rgb(17,17,17)\",\"gridcolor\":\"#506784\",\"gridwidth\":2,\"linecolor\":\"#506784\",\"showbackground\":true,\"ticks\":\"\",\"zerolinecolor\":\"#C8D4E3\"},\"yaxis\":{\"backgroundcolor\":\"rgb(17,17,17)\",\"gridcolor\":\"#506784\",\"gridwidth\":2,\"linecolor\":\"#506784\",\"showbackground\":true,\"ticks\":\"\",\"zerolinecolor\":\"#C8D4E3\"},\"zaxis\":{\"backgroundcolor\":\"rgb(17,17,17)\",\"gridcolor\":\"#506784\",\"gridwidth\":2,\"linecolor\":\"#506784\",\"showbackground\":true,\"ticks\":\"\",\"zerolinecolor\":\"#C8D4E3\"}},\"shapedefaults\":{\"line\":{\"color\":\"#f2f5fa\"}},\"sliderdefaults\":{\"bgcolor\":\"#C8D4E3\",\"bordercolor\":\"rgb(17,17,17)\",\"borderwidth\":1,\"tickwidth\":0},\"ternary\":{\"aaxis\":{\"gridcolor\":\"#506784\",\"linecolor\":\"#506784\",\"ticks\":\"\"},\"baxis\":{\"gridcolor\":\"#506784\",\"linecolor\":\"#506784\",\"ticks\":\"\"},\"bgcolor\":\"rgb(17,17,17)\",\"caxis\":{\"gridcolor\":\"#506784\",\"linecolor\":\"#506784\",\"ticks\":\"\"}},\"title\":{\"x\":0.05},\"updatemenudefaults\":{\"bgcolor\":\"#506784\",\"borderwidth\":0},\"xaxis\":{\"automargin\":true,\"gridcolor\":\"#283442\",\"linecolor\":\"#506784\",\"ticks\":\"\",\"title\":{\"standoff\":15},\"zerolinecolor\":\"#283442\",\"zerolinewidth\":2},\"yaxis\":{\"automargin\":true,\"gridcolor\":\"#283442\",\"linecolor\":\"#506784\",\"ticks\":\"\",\"title\":{\"standoff\":15},\"zerolinecolor\":\"#283442\",\"zerolinewidth\":2}}},\"xaxis\":{\"anchor\":\"y\",\"domain\":[0.0,1.0],\"title\":{\"text\":\"x\"}},\"yaxis\":{\"anchor\":\"x\",\"domain\":[0.0,1.0],\"title\":{\"text\":\"value\"}},\"legend\":{\"title\":{\"text\":\"variable\"},\"tracegroupgap\":0},\"title\":{\"text\":\"F1 Score en Train y Validacion\"}},                        {\"responsive\": true}                    ).then(function(){\n",
              "                            \n",
              "var gd = document.getElementById('dc15b0e4-1601-4810-b5d8-c03c5ee194cb');\n",
              "var x = new MutationObserver(function (mutations, observer) {{\n",
              "        var display = window.getComputedStyle(gd).display;\n",
              "        if (!display || display === 'none') {{\n",
              "            console.log([gd, 'removed!']);\n",
              "            Plotly.purge(gd);\n",
              "            observer.disconnect();\n",
              "        }}\n",
              "}});\n",
              "\n",
              "// Listen for the removal of the full notebook cells\n",
              "var notebookContainer = gd.closest('#notebook-container');\n",
              "if (notebookContainer) {{\n",
              "    x.observe(notebookContainer, {childList: true});\n",
              "}}\n",
              "\n",
              "// Listen for the clearing of the current output cell\n",
              "var outputEl = gd.closest('.output');\n",
              "if (outputEl) {{\n",
              "    x.observe(outputEl, {childList: true});\n",
              "}}\n",
              "\n",
              "                        })                };                            </script>        </div>\n",
              "</body>\n",
              "</html>"
            ]
          },
          "metadata": {}
        },
        {
          "output_type": "display_data",
          "data": {
            "text/plain": [
              "<Figure size 1200x600 with 0 Axes>"
            ]
          },
          "metadata": {}
        }
      ]
    },
    {
      "cell_type": "markdown",
      "source": [
        "## Matriz de Confusion - Red Optimizada"
      ],
      "metadata": {
        "id": "EYfeLQAoDmXm"
      }
    },
    {
      "cell_type": "code",
      "source": [
        "y_predic = model.predict(x_test)"
      ],
      "metadata": {
        "colab": {
          "base_uri": "https://localhost:8080/"
        },
        "outputId": "7164619a-107b-48ae-a8d1-57a6370f6ad2",
        "id": "oL1uBAUz_nBg"
      },
      "execution_count": null,
      "outputs": [
        {
          "output_type": "stream",
          "name": "stdout",
          "text": [
            "372/372 [==============================] - 1s 1ms/step\n"
          ]
        }
      ]
    },
    {
      "cell_type": "code",
      "source": [
        "y_predic_classes = np.argmax(y_predic,axis=1).tolist()\n",
        "y_real = np.argmax(y_test_encoder,axis=1).tolist()"
      ],
      "metadata": {
        "id": "xFkDVJc6_nBg"
      },
      "execution_count": null,
      "outputs": []
    },
    {
      "cell_type": "code",
      "source": [
        "show_performance(y_real, y_predic_classes)"
      ],
      "metadata": {
        "colab": {
          "base_uri": "https://localhost:8080/",
          "height": 640
        },
        "outputId": "b38f0bac-79d6-4c72-9a9d-9cedf50682b6",
        "id": "wBgl3TX6_nBg"
      },
      "execution_count": null,
      "outputs": [
        {
          "output_type": "stream",
          "name": "stdout",
          "text": [
            "F1 Score: 0.8008944543828265\n",
            "Classification Report: \n",
            "               precision    recall  f1-score   support\n",
            "\n",
            "           0       0.78      0.87      0.82      5959\n",
            "           1       0.85      0.75      0.80      5937\n",
            "\n",
            "    accuracy                           0.81     11896\n",
            "   macro avg       0.82      0.81      0.81     11896\n",
            "weighted avg       0.82      0.81      0.81     11896\n",
            "\n"
          ]
        },
        {
          "output_type": "display_data",
          "data": {
            "text/plain": [
              "<Figure size 640x480 with 2 Axes>"
            ],
            "image/png": "[encoded data removed]"
          },
          "metadata": {}
        }
      ]
    },
    {
      "cell_type": "code",
      "source": [
        "create_model_submission(df_hotels_test, model, NN_OPT_NAME, f1_score(y_real, y_predic_classes, average='binary'))"
      ],
      "metadata": {
        "colab": {
          "base_uri": "https://localhost:8080/"
        },
        "id": "xMZFQ2t2BG5x",
        "outputId": "f229d707-a04d-4dfa-f74e-1b21b01fe0d3"
      },
      "execution_count": null,
      "outputs": [
        {
          "output_type": "stream",
          "name": "stdout",
          "text": [
            "830/830 [==============================] - 1s 1ms/step\n"
          ]
        }
      ]
    }
  ]
}