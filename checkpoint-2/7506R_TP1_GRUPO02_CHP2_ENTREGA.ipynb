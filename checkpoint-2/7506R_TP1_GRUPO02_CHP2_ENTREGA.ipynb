{
  "nbformat": 4,
  "nbformat_minor": 0,
  "metadata": {
    "colab": {
      "provenance": [],
      "collapsed_sections": [
        "-q4Js1YNepzv",
        "5F0pGDtZetCQ",
        "u7XRW1bgeeFi",
        "xta88KP1ei7u"
      ]
    },
    "kernelspec": {
      "name": "python3",
      "display_name": "Python 3"
    },
    "language_info": {
      "name": "python"
    }
  },
  "cells": [
    {
      "cell_type": "markdown",
      "source": [
        "# Librerias"
      ],
      "metadata": {
        "id": "-q4Js1YNepzv"
      }
    },
    {
      "cell_type": "code",
      "source": [
        "!pip install 'dtreeviz'"
      ],
      "metadata": {
        "id": "nRuaH14WOKSq",
        "colab": {
          "base_uri": "https://localhost:8080/"
        },
        "outputId": "eb29dd7b-4de6-4841-b451-b3873d9462ea"
      },
      "execution_count": null,
      "outputs": [
        {
          "output_type": "stream",
          "name": "stdout",
          "text": [
            "Looking in indexes: https://pypi.org/simple, https://us-python.pkg.dev/colab-wheels/public/simple/\n",
            "Requirement already satisfied: dtreeviz in /usr/local/lib/python3.9/dist-packages (2.2.1)\n",
            "Requirement already satisfied: scikit-learn in /usr/local/lib/python3.9/dist-packages (from dtreeviz) (1.2.2)\n",
            "Requirement already satisfied: colour in /usr/local/lib/python3.9/dist-packages (from dtreeviz) (0.1.5)\n",
            "Requirement already satisfied: pandas in /usr/local/lib/python3.9/dist-packages (from dtreeviz) (1.5.3)\n",
            "Requirement already satisfied: graphviz>=0.9 in /usr/local/lib/python3.9/dist-packages (from dtreeviz) (0.20.1)\n",
            "Requirement already satisfied: matplotlib in /usr/local/lib/python3.9/dist-packages (from dtreeviz) (3.7.1)\n",
            "Requirement already satisfied: pytest in /usr/local/lib/python3.9/dist-packages (from dtreeviz) (7.2.2)\n",
            "Requirement already satisfied: numpy in /usr/local/lib/python3.9/dist-packages (from dtreeviz) (1.22.4)\n",
            "Requirement already satisfied: cycler>=0.10 in /usr/local/lib/python3.9/dist-packages (from matplotlib->dtreeviz) (0.11.0)\n",
            "Requirement already satisfied: pillow>=6.2.0 in /usr/local/lib/python3.9/dist-packages (from matplotlib->dtreeviz) (8.4.0)\n",
            "Requirement already satisfied: importlib-resources>=3.2.0 in /usr/local/lib/python3.9/dist-packages (from matplotlib->dtreeviz) (5.12.0)\n",
            "Requirement already satisfied: contourpy>=1.0.1 in /usr/local/lib/python3.9/dist-packages (from matplotlib->dtreeviz) (1.0.7)\n",
            "Requirement already satisfied: kiwisolver>=1.0.1 in /usr/local/lib/python3.9/dist-packages (from matplotlib->dtreeviz) (1.4.4)\n",
            "Requirement already satisfied: fonttools>=4.22.0 in /usr/local/lib/python3.9/dist-packages (from matplotlib->dtreeviz) (4.39.3)\n",
            "Requirement already satisfied: pyparsing>=2.3.1 in /usr/local/lib/python3.9/dist-packages (from matplotlib->dtreeviz) (3.0.9)\n",
            "Requirement already satisfied: python-dateutil>=2.7 in /usr/local/lib/python3.9/dist-packages (from matplotlib->dtreeviz) (2.8.2)\n",
            "Requirement already satisfied: packaging>=20.0 in /usr/local/lib/python3.9/dist-packages (from matplotlib->dtreeviz) (23.1)\n",
            "Requirement already satisfied: pytz>=2020.1 in /usr/local/lib/python3.9/dist-packages (from pandas->dtreeviz) (2022.7.1)\n",
            "Requirement already satisfied: tomli>=1.0.0 in /usr/local/lib/python3.9/dist-packages (from pytest->dtreeviz) (2.0.1)\n",
            "Requirement already satisfied: attrs>=19.2.0 in /usr/local/lib/python3.9/dist-packages (from pytest->dtreeviz) (23.1.0)\n",
            "Requirement already satisfied: exceptiongroup>=1.0.0rc8 in /usr/local/lib/python3.9/dist-packages (from pytest->dtreeviz) (1.1.1)\n",
            "Requirement already satisfied: pluggy<2.0,>=0.12 in /usr/local/lib/python3.9/dist-packages (from pytest->dtreeviz) (1.0.0)\n",
            "Requirement already satisfied: iniconfig in /usr/local/lib/python3.9/dist-packages (from pytest->dtreeviz) (2.0.0)\n",
            "Requirement already satisfied: joblib>=1.1.1 in /usr/local/lib/python3.9/dist-packages (from scikit-learn->dtreeviz) (1.2.0)\n",
            "Requirement already satisfied: threadpoolctl>=2.0.0 in /usr/local/lib/python3.9/dist-packages (from scikit-learn->dtreeviz) (3.1.0)\n",
            "Requirement already satisfied: scipy>=1.3.2 in /usr/local/lib/python3.9/dist-packages (from scikit-learn->dtreeviz) (1.10.1)\n",
            "Requirement already satisfied: zipp>=3.1.0 in /usr/local/lib/python3.9/dist-packages (from importlib-resources>=3.2.0->matplotlib->dtreeviz) (3.15.0)\n",
            "Requirement already satisfied: six>=1.5 in /usr/local/lib/python3.9/dist-packages (from python-dateutil>=2.7->matplotlib->dtreeviz) (1.16.0)\n"
          ]
        }
      ]
    },
    {
      "cell_type": "code",
      "source": [
        "import pandas as pd\n",
        "import numpy as np\n",
        "\n",
        "#Visualización\n",
        "import matplotlib.pyplot as plt\n",
        "import seaborn as sns\n",
        "import dtreeviz.trees as dtreeviz\n",
        "import scipy.stats as ss\n",
        "\n",
        "\n",
        "#modelos y métricas\n",
        "from sklearn import tree\n",
        "from sklearn.model_selection import train_test_split\n",
        "from sklearn.metrics import precision_score, recall_score, accuracy_score,f1_score, precision_recall_curve, roc_curve\n",
        "from sklearn.metrics import confusion_matrix, classification_report\n",
        "#preprocesamiento\n",
        "from sklearn.preprocessing import MinMaxScaler\n",
        "\n",
        "from sklearn.model_selection import train_test_split\n",
        "\n",
        "\n",
        "#configuración warnings\n",
        "import warnings\n",
        "from pandas.errors import SettingWithCopyWarning\n",
        "\n",
        "warnings.simplefilter(action=\"ignore\", category=SettingWithCopyWarning)\n",
        "warnings.simplefilter(action='ignore', category=FutureWarning)\n",
        "warnings.simplefilter(action='ignore', category=UserWarning)"
      ],
      "metadata": {
        "id": "v_MNdWCGesTd"
      },
      "execution_count": null,
      "outputs": []
    },
    {
      "cell_type": "markdown",
      "source": [
        "# Importación de datasets"
      ],
      "metadata": {
        "id": "5F0pGDtZetCQ"
      }
    },
    {
      "cell_type": "code",
      "source": [
        "url_train = 'https://raw.githubusercontent.com/FrancoSecchi/7506R-1C2023-GRUPO02/checkpoint-2/checkpoint-2/hotels-train.csv'\n",
        "url_test = 'https://raw.githubusercontent.com/FrancoSecchi/7506R-1C2023-GRUPO02/checkpoint-2/checkpoint-2/hotels-test.csv'\n",
        "df_train = pd.read_csv(url_train)\n",
        "df_test = pd.read_csv(url_test)"
      ],
      "metadata": {
        "id": "EG-2cIJOevva"
      },
      "execution_count": null,
      "outputs": []
    },
    {
      "cell_type": "code",
      "source": [
        "df_hotels_train = df_train.copy()\n",
        "df_hotels_test = df_test.copy()"
      ],
      "metadata": {
        "id": "NT7N8P7HW1LF"
      },
      "execution_count": null,
      "outputs": []
    },
    {
      "cell_type": "code",
      "source": [
        "df_hotels_train.columns.to_list()"
      ],
      "metadata": {
        "id": "jBIWGqLiXVL-",
        "outputId": "e0d53503-04b3-4407-b74e-fc25a24a59bd",
        "colab": {
          "base_uri": "https://localhost:8080/"
        }
      },
      "execution_count": null,
      "outputs": [
        {
          "output_type": "execute_result",
          "data": {
            "text/plain": [
              "['Unnamed: 0',\n",
              " 'hotel',\n",
              " 'lead_time',\n",
              " 'arrival_date_year',\n",
              " 'arrival_date_month',\n",
              " 'arrival_date_week_number',\n",
              " 'arrival_date_day_of_month',\n",
              " 'stays_in_weekend_nights',\n",
              " 'stays_in_week_nights',\n",
              " 'adults',\n",
              " 'children',\n",
              " 'babies',\n",
              " 'meal',\n",
              " 'market_segment',\n",
              " 'distribution_channel',\n",
              " 'is_repeated_guest',\n",
              " 'previous_cancellations',\n",
              " 'previous_bookings_not_canceled',\n",
              " 'reserved_room_type',\n",
              " 'assigned_room_type',\n",
              " 'booking_changes',\n",
              " 'deposit_type',\n",
              " 'days_in_waiting_list',\n",
              " 'customer_type',\n",
              " 'adr',\n",
              " 'required_car_parking_spaces',\n",
              " 'total_of_special_requests',\n",
              " 'reservation_status_date',\n",
              " 'id',\n",
              " 'is_canceled']"
            ]
          },
          "metadata": {},
          "execution_count": 163
        }
      ]
    },
    {
      "cell_type": "code",
      "source": [
        "df_hotels_train.drop(columns=['Unnamed: 0'], inplace=True)\n",
        "df_hotels_test.drop(columns=['Unnamed: 0'], inplace=True)"
      ],
      "metadata": {
        "id": "vqpFfPLnYCO_"
      },
      "execution_count": null,
      "outputs": []
    },
    {
      "cell_type": "markdown",
      "source": [
        "# Funciones"
      ],
      "metadata": {
        "id": "7Pe380MPrthP"
      }
    },
    {
      "cell_type": "code",
      "source": [
        "def cramers_v(categorical_var1: pd.Series, categorical_var2: pd.Series) -> float:\n",
        "    \"\"\"\n",
        "    Calcula el coeficiente de Cramér's V entre dos variables categóricas.\n",
        "\n",
        "    Parámetros:\n",
        "    - categorical_var1: Serie de Pandas que representa la primera variable categórica.\n",
        "    - categorical_var2: Serie de Pandas que representa la segunda variable categórica.\n",
        "\n",
        "    Devuelve:\n",
        "    - Coeficiente de Cramér's V (float) que mide la asociación entre las dos variables categóricas.\n",
        "    \"\"\"\n",
        "\n",
        "    confusion_matrix = pd.crosstab(categorical_var1,categorical_var2)\n",
        "    chi2 = ss.chi2_contingency(confusion_matrix)[0]\n",
        "    n = confusion_matrix.sum().sum()\n",
        "    phi2 = chi2/n\n",
        "    r, k = confusion_matrix.shape\n",
        "    phi2corr = max(0, phi2 - ((k-1)*(r-1))/(n-1))\n",
        "    rcorr = r - ((r-1)**2)/(n-1)\n",
        "    kcorr = k - ((k-1)**2)/(n-1)\n",
        "    \n",
        "    return np.sqrt(phi2corr / min((kcorr-1), (rcorr-1)))"
      ],
      "metadata": {
        "id": "6qLMAcXTa8lO"
      },
      "execution_count": null,
      "outputs": []
    },
    {
      "cell_type": "code",
      "source": [
        "# Funcion que reemplaza la variable \"reservation_status_date\" por una version numerica de si misma y la dropea\n",
        "def replace_reservation_date(df):\n",
        "  df['reservation_status_date'] = pd.to_datetime(df['reservation_status_date'])\n",
        "\n",
        "  df['reservation_month'] = df['reservation_status_date'].dt.month\n",
        "  df['reservation_year'] = df['reservation_status_date'].dt.year\n",
        "  df['reservation_day'] = df['reservation_status_date'].dt.day\n",
        "\n",
        "  df.drop(['reservation_status_date'], axis=1, inplace=True)"
      ],
      "metadata": {
        "id": "LroR6_IvoEzj"
      },
      "execution_count": null,
      "outputs": []
    },
    {
      "cell_type": "markdown",
      "source": [
        "# Feature Engineering - Transformación de Datos"
      ],
      "metadata": {
        "id": "OurMT4mpKUmE"
      }
    },
    {
      "cell_type": "code",
      "source": [
        "#Droppeamos la variable ID, no nos ayuda a la transformacion de datos\n",
        "df_hotels_train.drop(['id'], axis=1, inplace=True)"
      ],
      "metadata": {
        "id": "eP9ZExRNt0ae"
      },
      "execution_count": null,
      "outputs": []
    },
    {
      "cell_type": "markdown",
      "source": [
        "### **Columnas Droppeadas - Analisis de Correlación y Relevancia**\n",
        "\n",
        "- Para ayudar a nuestra decision sobre que columnas droppear, observamos su nivel de correlacion con la variable target (is_canceled), ademas de esto tomaremos en cuenta si creemos que pueda aportar informacion valiosa para determinar si el cliente cancela la orden.\n",
        "\n"
      ],
      "metadata": {
        "id": "-EB508OLeDh2"
      }
    },
    {
      "cell_type": "code",
      "execution_count": null,
      "metadata": {
        "id": "CYqhYbNhKUmF",
        "colab": {
          "base_uri": "https://localhost:8080/"
        },
        "outputId": "d096bae8-761e-4359-b302-a9b2eb8cc2dc"
      },
      "outputs": [
        {
          "output_type": "execute_result",
          "data": {
            "text/plain": [
              "is_canceled                       1.000000\n",
              "lead_time                         0.285630\n",
              "total_of_special_requests         0.235391\n",
              "required_car_parking_spaces       0.222230\n",
              "booking_changes                   0.154349\n",
              "previous_cancellations            0.137619\n",
              "is_repeated_guest                 0.087756\n",
              "previous_bookings_not_canceled    0.065778\n",
              "adults                            0.059382\n",
              "days_in_waiting_list              0.057142\n",
              "adr                               0.048961\n",
              "babies                            0.031658\n",
              "stays_in_week_nights              0.030168\n",
              "arrival_date_year                 0.017872\n",
              "stays_in_weekend_nights           0.007100\n",
              "arrival_date_week_number          0.004993\n",
              "arrival_date_day_of_month         0.004906\n",
              "children                          0.004268\n",
              "Name: is_canceled, dtype: float64"
            ]
          },
          "metadata": {},
          "execution_count": 168
        }
      ],
      "source": [
        "# Correlacion de variables numericas\n",
        "df_hotels_train.corr()['is_canceled'].abs().sort_values(ascending = False)"
      ]
    },
    {
      "cell_type": "code",
      "source": [
        "var_cualitative = [columna for columna in df_hotels_train.columns if not np.issubdtype(df_hotels_train[columna].dtype, np.number)]\n",
        "var_cualitative.append('is_canceled')"
      ],
      "metadata": {
        "id": "zWY976pDtTdV"
      },
      "execution_count": null,
      "outputs": []
    },
    {
      "cell_type": "code",
      "source": [
        "df_hotels_train_copy = df_hotels_train.copy()\n",
        "df_hotels_train_copy.loc[df_hotels_train_copy.loc[:,\"is_canceled\"]==1,\"is_canceled\"] = \"Si\"\n",
        "df_hotels_train_copy.loc[df_hotels_train_copy.loc[:,\"is_canceled\"]==0,\"is_canceled\"] = \"No\"\n",
        "\n",
        "result = {}\n",
        "corr_matrix = np.zeros((len(var_cualitative), len(var_cualitative)))\n",
        "\n",
        "for i, var1 in enumerate(var_cualitative):\n",
        "    for j, var2 in enumerate(var_cualitative):\n",
        "        corr_matrix[i, j] = cramers_v(df_hotels_train_copy[var1], df_hotels_train_copy[var2])\n",
        "        result[var1] = corr_matrix[i, j]\n",
        "\n",
        "cualitative_corr = pd.Series(result).abs().sort_values(ascending=False)"
      ],
      "metadata": {
        "id": "ndS9avBlbIOM"
      },
      "execution_count": null,
      "outputs": []
    },
    {
      "cell_type": "code",
      "source": [
        "# Correlacion variables cualitativas\n",
        "cualitative_corr"
      ],
      "metadata": {
        "colab": {
          "base_uri": "https://localhost:8080/"
        },
        "id": "KKvAB0A9b5CT",
        "outputId": "261e69c0-9587-4af4-ce32-0162d76421e5"
      },
      "execution_count": null,
      "outputs": [
        {
          "output_type": "execute_result",
          "data": {
            "text/plain": [
              "is_canceled                0.999966\n",
              "reservation_status_date    0.469851\n",
              "deposit_type               0.432740\n",
              "market_segment             0.266809\n",
              "assigned_room_type         0.208305\n",
              "distribution_channel       0.191431\n",
              "hotel                      0.144122\n",
              "customer_type              0.141083\n",
              "arrival_date_month         0.073392\n",
              "reserved_room_type         0.066721\n",
              "meal                       0.039765\n",
              "dtype: float64"
            ]
          },
          "metadata": {},
          "execution_count": 171
        }
      ]
    },
    {
      "cell_type": "markdown",
      "source": [
        "#### **Variables Cuantitativas a Borrar**\n",
        "\n",
        "- arrival_date_year: \n",
        "> El año en que la persona llega al hotel no deberia influir mucho, ya que no hay un año con niveles de cancelaciones mas alto que otros, este feature no aporta mas valor que por ejemplo el numero de semana o mes del año de cuando se hospeda el cliente.\n",
        "\n",
        "- days_in_waiting_list:\n",
        "> Ademas de tener un nivel de correlacion bajo, el numero de dias en la lista de espera cuenta la diferencia de dias entre el momento en que la reserva fue creada en la DB del hotel hasta que fuese CONFIRMADA.\n",
        "\n"
      ],
      "metadata": {
        "id": "LD7iuLlUrdp0"
      }
    },
    {
      "cell_type": "markdown",
      "source": [
        "#### **Variables Categóricas a Borrar**\n",
        "- assigned_room_type:\n",
        "> Representa solamente el codigo de la habitacion asignada al usuario, esta variable suele ser igual a la habitacion reservada, sin embargo si difiere es mas que todo por peticion del usuario y/o niveles de disponibilidad del hotel informacion que esta mejor represantada en el campo `booking_changes`.\n",
        "- meal:\n",
        "> No consideramos que tenga una mayor correlacion con una decision sobre cancelar o no una reserva, simplemente representa el tipo de comida que reserva el cliente (Debatir)."
      ],
      "metadata": {
        "id": "uyT7ioLR1l2Q"
      }
    },
    {
      "cell_type": "code",
      "source": [
        "#Columnas no utiles\n",
        "bad_cols = ['arrival_date_year','days_in_waiting_list','assigned_room_type', 'meal']\n",
        "df_hotels_train.drop(bad_cols, axis=1, inplace=True)\n",
        "df_hotels_test.drop(bad_cols, axis=1, inplace=True)"
      ],
      "metadata": {
        "id": "RoPAAWWxh5li"
      },
      "execution_count": null,
      "outputs": []
    },
    {
      "cell_type": "code",
      "source": [
        "df_hotels_train.columns.to_list()"
      ],
      "metadata": {
        "colab": {
          "base_uri": "https://localhost:8080/"
        },
        "id": "xthEoU_OidAi",
        "outputId": "454028e5-4f73-4dc8-c1c7-6dfd529efe48"
      },
      "execution_count": null,
      "outputs": [
        {
          "output_type": "execute_result",
          "data": {
            "text/plain": [
              "['hotel',\n",
              " 'lead_time',\n",
              " 'arrival_date_month',\n",
              " 'arrival_date_week_number',\n",
              " 'arrival_date_day_of_month',\n",
              " 'stays_in_weekend_nights',\n",
              " 'stays_in_week_nights',\n",
              " 'adults',\n",
              " 'children',\n",
              " 'babies',\n",
              " 'market_segment',\n",
              " 'distribution_channel',\n",
              " 'is_repeated_guest',\n",
              " 'previous_cancellations',\n",
              " 'previous_bookings_not_canceled',\n",
              " 'reserved_room_type',\n",
              " 'booking_changes',\n",
              " 'deposit_type',\n",
              " 'customer_type',\n",
              " 'adr',\n",
              " 'required_car_parking_spaces',\n",
              " 'total_of_special_requests',\n",
              " 'reservation_status_date',\n",
              " 'is_canceled']"
            ]
          },
          "metadata": {},
          "execution_count": 173
        }
      ]
    },
    {
      "cell_type": "markdown",
      "source": [
        "## Encoding y Normalizacion - Data Preparation\n",
        "\n",
        "> Para esta etapa, separaremos nuestro dataset en 2 partes, las variables categoricas y las variables cuantitativas, esto puramente para un manejo y manipulacion de los datos mas comodos y acto seguido procederemos a mergearlo nuevamente en un nuevo dataset ya preparado para ser consumido por modelos."
      ],
      "metadata": {
        "id": "AZk22vmyjNeu"
      }
    },
    {
      "cell_type": "markdown",
      "source": [
        "### **DATASET CATEGORICO**\n",
        "\n",
        "> Para este dataset, estaremos realizando `one-hot-encoding` para que las variables NO numericas sean aptas para ser interpretadas por el modelo."
      ],
      "metadata": {
        "id": "T2BG2VKWjooS"
      }
    },
    {
      "cell_type": "code",
      "source": [
        "cols_categoricas = [columna for columna in df_hotels_train.columns if not np.issubdtype(df_hotels_train[columna].dtype, np.number)]\n",
        "df_categorico = df_hotels_train[cols_categoricas]\n",
        "df_categorico.head()"
      ],
      "metadata": {
        "colab": {
          "base_uri": "https://localhost:8080/",
          "height": 206
        },
        "id": "2ogV8ojBnATg",
        "outputId": "ceeafa4d-384a-44c8-bb2d-f3674b08e1aa"
      },
      "execution_count": null,
      "outputs": [
        {
          "output_type": "execute_result",
          "data": {
            "text/plain": [
              "          hotel arrival_date_month market_segment distribution_channel  \\\n",
              "0    City Hotel                Sep      Online TA                TA/TO   \n",
              "1  Resort Hotel                Nov         Groups               Direct   \n",
              "2    City Hotel                Oct      Online TA                TA/TO   \n",
              "3    City Hotel                Dec         Groups                TA/TO   \n",
              "4    City Hotel                Mar  Offline TA/TO                TA/TO   \n",
              "\n",
              "  reserved_room_type deposit_type    customer_type reservation_status_date  \n",
              "0                  D   No Deposit        Transient              2016-08-25  \n",
              "1                  A   No Deposit        Transient              2015-11-01  \n",
              "2                  F   No Deposit        Transient              2016-10-14  \n",
              "3                  A   Non Refund        Transient              2016-11-29  \n",
              "4                  A   No Deposit  Transient-Party              2017-03-26  "
            ],
            "text/html": [
              "\n",
              "  <div id=\"df-51ff11b5-103a-44f0-ad46-8bd879ee8a72\">\n",
              "    <div class=\"colab-df-container\">\n",
              "      <div>\n",
              "<style scoped>\n",
              "    .dataframe tbody tr th:only-of-type {\n",
              "        vertical-align: middle;\n",
              "    }\n",
              "\n",
              "    .dataframe tbody tr th {\n",
              "        vertical-align: top;\n",
              "    }\n",
              "\n",
              "    .dataframe thead th {\n",
              "        text-align: right;\n",
              "    }\n",
              "</style>\n",
              "<table border=\"1\" class=\"dataframe\">\n",
              "  <thead>\n",
              "    <tr style=\"text-align: right;\">\n",
              "      <th></th>\n",
              "      <th>hotel</th>\n",
              "      <th>arrival_date_month</th>\n",
              "      <th>market_segment</th>\n",
              "      <th>distribution_channel</th>\n",
              "      <th>reserved_room_type</th>\n",
              "      <th>deposit_type</th>\n",
              "      <th>customer_type</th>\n",
              "      <th>reservation_status_date</th>\n",
              "    </tr>\n",
              "  </thead>\n",
              "  <tbody>\n",
              "    <tr>\n",
              "      <th>0</th>\n",
              "      <td>City Hotel</td>\n",
              "      <td>Sep</td>\n",
              "      <td>Online TA</td>\n",
              "      <td>TA/TO</td>\n",
              "      <td>D</td>\n",
              "      <td>No Deposit</td>\n",
              "      <td>Transient</td>\n",
              "      <td>2016-08-25</td>\n",
              "    </tr>\n",
              "    <tr>\n",
              "      <th>1</th>\n",
              "      <td>Resort Hotel</td>\n",
              "      <td>Nov</td>\n",
              "      <td>Groups</td>\n",
              "      <td>Direct</td>\n",
              "      <td>A</td>\n",
              "      <td>No Deposit</td>\n",
              "      <td>Transient</td>\n",
              "      <td>2015-11-01</td>\n",
              "    </tr>\n",
              "    <tr>\n",
              "      <th>2</th>\n",
              "      <td>City Hotel</td>\n",
              "      <td>Oct</td>\n",
              "      <td>Online TA</td>\n",
              "      <td>TA/TO</td>\n",
              "      <td>F</td>\n",
              "      <td>No Deposit</td>\n",
              "      <td>Transient</td>\n",
              "      <td>2016-10-14</td>\n",
              "    </tr>\n",
              "    <tr>\n",
              "      <th>3</th>\n",
              "      <td>City Hotel</td>\n",
              "      <td>Dec</td>\n",
              "      <td>Groups</td>\n",
              "      <td>TA/TO</td>\n",
              "      <td>A</td>\n",
              "      <td>Non Refund</td>\n",
              "      <td>Transient</td>\n",
              "      <td>2016-11-29</td>\n",
              "    </tr>\n",
              "    <tr>\n",
              "      <th>4</th>\n",
              "      <td>City Hotel</td>\n",
              "      <td>Mar</td>\n",
              "      <td>Offline TA/TO</td>\n",
              "      <td>TA/TO</td>\n",
              "      <td>A</td>\n",
              "      <td>No Deposit</td>\n",
              "      <td>Transient-Party</td>\n",
              "      <td>2017-03-26</td>\n",
              "    </tr>\n",
              "  </tbody>\n",
              "</table>\n",
              "</div>\n",
              "      <button class=\"colab-df-convert\" onclick=\"convertToInteractive('df-51ff11b5-103a-44f0-ad46-8bd879ee8a72')\"\n",
              "              title=\"Convert this dataframe to an interactive table.\"\n",
              "              style=\"display:none;\">\n",
              "        \n",
              "  <svg xmlns=\"http://www.w3.org/2000/svg\" height=\"24px\"viewBox=\"0 0 24 24\"\n",
              "       width=\"24px\">\n",
              "    <path d=\"M0 0h24v24H0V0z\" fill=\"none\"/>\n",
              "    <path d=\"M18.56 5.44l.94 2.06.94-2.06 2.06-.94-2.06-.94-.94-2.06-.94 2.06-2.06.94zm-11 1L8.5 8.5l.94-2.06 2.06-.94-2.06-.94L8.5 2.5l-.94 2.06-2.06.94zm10 10l.94 2.06.94-2.06 2.06-.94-2.06-.94-.94-2.06-.94 2.06-2.06.94z\"/><path d=\"M17.41 7.96l-1.37-1.37c-.4-.4-.92-.59-1.43-.59-.52 0-1.04.2-1.43.59L10.3 9.45l-7.72 7.72c-.78.78-.78 2.05 0 2.83L4 21.41c.39.39.9.59 1.41.59.51 0 1.02-.2 1.41-.59l7.78-7.78 2.81-2.81c.8-.78.8-2.07 0-2.86zM5.41 20L4 18.59l7.72-7.72 1.47 1.35L5.41 20z\"/>\n",
              "  </svg>\n",
              "      </button>\n",
              "      \n",
              "  <style>\n",
              "    .colab-df-container {\n",
              "      display:flex;\n",
              "      flex-wrap:wrap;\n",
              "      gap: 12px;\n",
              "    }\n",
              "\n",
              "    .colab-df-convert {\n",
              "      background-color: #E8F0FE;\n",
              "      border: none;\n",
              "      border-radius: 50%;\n",
              "      cursor: pointer;\n",
              "      display: none;\n",
              "      fill: #1967D2;\n",
              "      height: 32px;\n",
              "      padding: 0 0 0 0;\n",
              "      width: 32px;\n",
              "    }\n",
              "\n",
              "    .colab-df-convert:hover {\n",
              "      background-color: #E2EBFA;\n",
              "      box-shadow: 0px 1px 2px rgba(60, 64, 67, 0.3), 0px 1px 3px 1px rgba(60, 64, 67, 0.15);\n",
              "      fill: #174EA6;\n",
              "    }\n",
              "\n",
              "    [theme=dark] .colab-df-convert {\n",
              "      background-color: #3B4455;\n",
              "      fill: #D2E3FC;\n",
              "    }\n",
              "\n",
              "    [theme=dark] .colab-df-convert:hover {\n",
              "      background-color: #434B5C;\n",
              "      box-shadow: 0px 1px 3px 1px rgba(0, 0, 0, 0.15);\n",
              "      filter: drop-shadow(0px 1px 2px rgba(0, 0, 0, 0.3));\n",
              "      fill: #FFFFFF;\n",
              "    }\n",
              "  </style>\n",
              "\n",
              "      <script>\n",
              "        const buttonEl =\n",
              "          document.querySelector('#df-51ff11b5-103a-44f0-ad46-8bd879ee8a72 button.colab-df-convert');\n",
              "        buttonEl.style.display =\n",
              "          google.colab.kernel.accessAllowed ? 'block' : 'none';\n",
              "\n",
              "        async function convertToInteractive(key) {\n",
              "          const element = document.querySelector('#df-51ff11b5-103a-44f0-ad46-8bd879ee8a72');\n",
              "          const dataTable =\n",
              "            await google.colab.kernel.invokeFunction('convertToInteractive',\n",
              "                                                     [key], {});\n",
              "          if (!dataTable) return;\n",
              "\n",
              "          const docLinkHtml = 'Like what you see? Visit the ' +\n",
              "            '<a target=\"_blank\" href=https://colab.research.google.com/notebooks/data_table.ipynb>data table notebook</a>'\n",
              "            + ' to learn more about interactive tables.';\n",
              "          element.innerHTML = '';\n",
              "          dataTable['output_type'] = 'display_data';\n",
              "          await google.colab.output.renderOutput(dataTable, element);\n",
              "          const docLink = document.createElement('div');\n",
              "          docLink.innerHTML = docLinkHtml;\n",
              "          element.appendChild(docLink);\n",
              "        }\n",
              "      </script>\n",
              "    </div>\n",
              "  </div>\n",
              "  "
            ]
          },
          "metadata": {},
          "execution_count": 174
        }
      ]
    },
    {
      "cell_type": "markdown",
      "source": [
        "> Podemos observar que la variable `reservation_status_date` se encuentra en tipo `datetime`, para hacerlo mas amigable al modelo, procedemos a transformarlo en columnas numericas.\n",
        "\n",
        "\n",
        "**NOTA: Esta variable previamente habiamos establecido que no la ibamos a tomar en cuenta, sin embargo observamos que tiene un alto nivel de correlacion con la variable target, por lo que hemos decidido tomarla en cuenta para el pre-procesamiento del dataset.**"
      ],
      "metadata": {
        "id": "CfK0iWMQn3Yg"
      }
    },
    {
      "cell_type": "markdown",
      "source": [
        "####Transformaciones de fechas\n",
        "\n",
        "> Acomodamos las representaciones de las variables `reservation_status_date` y `arrival_date_month`"
      ],
      "metadata": {
        "id": "f0zLBhsexwyc"
      }
    },
    {
      "cell_type": "code",
      "source": [
        "#Modificamos reservation_status_date en test y train\n",
        "replace_reservation_date(df_categorico)\n",
        "replace_reservation_date(df_hotels_test)"
      ],
      "metadata": {
        "id": "WzShkAMep7-q"
      },
      "execution_count": null,
      "outputs": []
    },
    {
      "cell_type": "code",
      "source": [
        "df_categorico.head()"
      ],
      "metadata": {
        "colab": {
          "base_uri": "https://localhost:8080/",
          "height": 357
        },
        "id": "MFSUHaNNp4y6",
        "outputId": "64336dc1-dba4-4e5c-b191-5e1f7b51a941"
      },
      "execution_count": null,
      "outputs": [
        {
          "output_type": "execute_result",
          "data": {
            "text/plain": [
              "          hotel arrival_date_month market_segment distribution_channel  \\\n",
              "0    City Hotel                Sep      Online TA                TA/TO   \n",
              "1  Resort Hotel                Nov         Groups               Direct   \n",
              "2    City Hotel                Oct      Online TA                TA/TO   \n",
              "3    City Hotel                Dec         Groups                TA/TO   \n",
              "4    City Hotel                Mar  Offline TA/TO                TA/TO   \n",
              "\n",
              "  reserved_room_type deposit_type    customer_type  reservation_month  \\\n",
              "0                  D   No Deposit        Transient                  8   \n",
              "1                  A   No Deposit        Transient                 11   \n",
              "2                  F   No Deposit        Transient                 10   \n",
              "3                  A   Non Refund        Transient                 11   \n",
              "4                  A   No Deposit  Transient-Party                  3   \n",
              "\n",
              "   reservation_year  reservation_day  \n",
              "0              2016               25  \n",
              "1              2015                1  \n",
              "2              2016               14  \n",
              "3              2016               29  \n",
              "4              2017               26  "
            ],
            "text/html": [
              "\n",
              "  <div id=\"df-cef32a30-f393-4821-a475-b331903f012d\">\n",
              "    <div class=\"colab-df-container\">\n",
              "      <div>\n",
              "<style scoped>\n",
              "    .dataframe tbody tr th:only-of-type {\n",
              "        vertical-align: middle;\n",
              "    }\n",
              "\n",
              "    .dataframe tbody tr th {\n",
              "        vertical-align: top;\n",
              "    }\n",
              "\n",
              "    .dataframe thead th {\n",
              "        text-align: right;\n",
              "    }\n",
              "</style>\n",
              "<table border=\"1\" class=\"dataframe\">\n",
              "  <thead>\n",
              "    <tr style=\"text-align: right;\">\n",
              "      <th></th>\n",
              "      <th>hotel</th>\n",
              "      <th>arrival_date_month</th>\n",
              "      <th>market_segment</th>\n",
              "      <th>distribution_channel</th>\n",
              "      <th>reserved_room_type</th>\n",
              "      <th>deposit_type</th>\n",
              "      <th>customer_type</th>\n",
              "      <th>reservation_month</th>\n",
              "      <th>reservation_year</th>\n",
              "      <th>reservation_day</th>\n",
              "    </tr>\n",
              "  </thead>\n",
              "  <tbody>\n",
              "    <tr>\n",
              "      <th>0</th>\n",
              "      <td>City Hotel</td>\n",
              "      <td>Sep</td>\n",
              "      <td>Online TA</td>\n",
              "      <td>TA/TO</td>\n",
              "      <td>D</td>\n",
              "      <td>No Deposit</td>\n",
              "      <td>Transient</td>\n",
              "      <td>8</td>\n",
              "      <td>2016</td>\n",
              "      <td>25</td>\n",
              "    </tr>\n",
              "    <tr>\n",
              "      <th>1</th>\n",
              "      <td>Resort Hotel</td>\n",
              "      <td>Nov</td>\n",
              "      <td>Groups</td>\n",
              "      <td>Direct</td>\n",
              "      <td>A</td>\n",
              "      <td>No Deposit</td>\n",
              "      <td>Transient</td>\n",
              "      <td>11</td>\n",
              "      <td>2015</td>\n",
              "      <td>1</td>\n",
              "    </tr>\n",
              "    <tr>\n",
              "      <th>2</th>\n",
              "      <td>City Hotel</td>\n",
              "      <td>Oct</td>\n",
              "      <td>Online TA</td>\n",
              "      <td>TA/TO</td>\n",
              "      <td>F</td>\n",
              "      <td>No Deposit</td>\n",
              "      <td>Transient</td>\n",
              "      <td>10</td>\n",
              "      <td>2016</td>\n",
              "      <td>14</td>\n",
              "    </tr>\n",
              "    <tr>\n",
              "      <th>3</th>\n",
              "      <td>City Hotel</td>\n",
              "      <td>Dec</td>\n",
              "      <td>Groups</td>\n",
              "      <td>TA/TO</td>\n",
              "      <td>A</td>\n",
              "      <td>Non Refund</td>\n",
              "      <td>Transient</td>\n",
              "      <td>11</td>\n",
              "      <td>2016</td>\n",
              "      <td>29</td>\n",
              "    </tr>\n",
              "    <tr>\n",
              "      <th>4</th>\n",
              "      <td>City Hotel</td>\n",
              "      <td>Mar</td>\n",
              "      <td>Offline TA/TO</td>\n",
              "      <td>TA/TO</td>\n",
              "      <td>A</td>\n",
              "      <td>No Deposit</td>\n",
              "      <td>Transient-Party</td>\n",
              "      <td>3</td>\n",
              "      <td>2017</td>\n",
              "      <td>26</td>\n",
              "    </tr>\n",
              "  </tbody>\n",
              "</table>\n",
              "</div>\n",
              "      <button class=\"colab-df-convert\" onclick=\"convertToInteractive('df-cef32a30-f393-4821-a475-b331903f012d')\"\n",
              "              title=\"Convert this dataframe to an interactive table.\"\n",
              "              style=\"display:none;\">\n",
              "        \n",
              "  <svg xmlns=\"http://www.w3.org/2000/svg\" height=\"24px\"viewBox=\"0 0 24 24\"\n",
              "       width=\"24px\">\n",
              "    <path d=\"M0 0h24v24H0V0z\" fill=\"none\"/>\n",
              "    <path d=\"M18.56 5.44l.94 2.06.94-2.06 2.06-.94-2.06-.94-.94-2.06-.94 2.06-2.06.94zm-11 1L8.5 8.5l.94-2.06 2.06-.94-2.06-.94L8.5 2.5l-.94 2.06-2.06.94zm10 10l.94 2.06.94-2.06 2.06-.94-2.06-.94-.94-2.06-.94 2.06-2.06.94z\"/><path d=\"M17.41 7.96l-1.37-1.37c-.4-.4-.92-.59-1.43-.59-.52 0-1.04.2-1.43.59L10.3 9.45l-7.72 7.72c-.78.78-.78 2.05 0 2.83L4 21.41c.39.39.9.59 1.41.59.51 0 1.02-.2 1.41-.59l7.78-7.78 2.81-2.81c.8-.78.8-2.07 0-2.86zM5.41 20L4 18.59l7.72-7.72 1.47 1.35L5.41 20z\"/>\n",
              "  </svg>\n",
              "      </button>\n",
              "      \n",
              "  <style>\n",
              "    .colab-df-container {\n",
              "      display:flex;\n",
              "      flex-wrap:wrap;\n",
              "      gap: 12px;\n",
              "    }\n",
              "\n",
              "    .colab-df-convert {\n",
              "      background-color: #E8F0FE;\n",
              "      border: none;\n",
              "      border-radius: 50%;\n",
              "      cursor: pointer;\n",
              "      display: none;\n",
              "      fill: #1967D2;\n",
              "      height: 32px;\n",
              "      padding: 0 0 0 0;\n",
              "      width: 32px;\n",
              "    }\n",
              "\n",
              "    .colab-df-convert:hover {\n",
              "      background-color: #E2EBFA;\n",
              "      box-shadow: 0px 1px 2px rgba(60, 64, 67, 0.3), 0px 1px 3px 1px rgba(60, 64, 67, 0.15);\n",
              "      fill: #174EA6;\n",
              "    }\n",
              "\n",
              "    [theme=dark] .colab-df-convert {\n",
              "      background-color: #3B4455;\n",
              "      fill: #D2E3FC;\n",
              "    }\n",
              "\n",
              "    [theme=dark] .colab-df-convert:hover {\n",
              "      background-color: #434B5C;\n",
              "      box-shadow: 0px 1px 3px 1px rgba(0, 0, 0, 0.15);\n",
              "      filter: drop-shadow(0px 1px 2px rgba(0, 0, 0, 0.3));\n",
              "      fill: #FFFFFF;\n",
              "    }\n",
              "  </style>\n",
              "\n",
              "      <script>\n",
              "        const buttonEl =\n",
              "          document.querySelector('#df-cef32a30-f393-4821-a475-b331903f012d button.colab-df-convert');\n",
              "        buttonEl.style.display =\n",
              "          google.colab.kernel.accessAllowed ? 'block' : 'none';\n",
              "\n",
              "        async function convertToInteractive(key) {\n",
              "          const element = document.querySelector('#df-cef32a30-f393-4821-a475-b331903f012d');\n",
              "          const dataTable =\n",
              "            await google.colab.kernel.invokeFunction('convertToInteractive',\n",
              "                                                     [key], {});\n",
              "          if (!dataTable) return;\n",
              "\n",
              "          const docLinkHtml = 'Like what you see? Visit the ' +\n",
              "            '<a target=\"_blank\" href=https://colab.research.google.com/notebooks/data_table.ipynb>data table notebook</a>'\n",
              "            + ' to learn more about interactive tables.';\n",
              "          element.innerHTML = '';\n",
              "          dataTable['output_type'] = 'display_data';\n",
              "          await google.colab.output.renderOutput(dataTable, element);\n",
              "          const docLink = document.createElement('div');\n",
              "          docLink.innerHTML = docLinkHtml;\n",
              "          element.appendChild(docLink);\n",
              "        }\n",
              "      </script>\n",
              "    </div>\n",
              "  </div>\n",
              "  "
            ]
          },
          "metadata": {},
          "execution_count": 176
        }
      ]
    },
    {
      "cell_type": "markdown",
      "source": [
        "> Observamos que arrival_date_month se encuentra descrita por los nombres de los meses, esto al momento de hacer dummies, resultaria en un numero grande de variables, por ende pasaremos a hacerla a ser representada por los numeros de los meses."
      ],
      "metadata": {
        "id": "jByGMXirwl94"
      }
    },
    {
      "cell_type": "code",
      "source": [
        "month_to_num = {'Jan': 1, 'Feb': 2, 'Mar': 3, 'Apr': 4, 'May': 5, 'Jun': 6, 'Jul': 7, 'Aug': 8, 'Sep': 9, 'Oct': 10, 'Nov': 11, 'Dec': 12}\n",
        "# Mapeamos los numeros de los meses al dataset de train y el de test\n",
        "df_categorico['arrival_date_month'] = df_categorico['arrival_date_month'].map(month_to_num)\n",
        "df_hotels_test['arrival_date_month'] = df_hotels_test['arrival_date_month'].map(month_to_num)"
      ],
      "metadata": {
        "id": "9kFjOTdJw8QT"
      },
      "execution_count": null,
      "outputs": []
    },
    {
      "cell_type": "code",
      "source": [
        "df_categorico.head()"
      ],
      "metadata": {
        "colab": {
          "base_uri": "https://localhost:8080/",
          "height": 357
        },
        "id": "zpPkgVgrxrlt",
        "outputId": "3a18a077-c3a6-41a1-b8d6-a0bbbb17ac69"
      },
      "execution_count": null,
      "outputs": [
        {
          "output_type": "execute_result",
          "data": {
            "text/plain": [
              "          hotel  arrival_date_month market_segment distribution_channel  \\\n",
              "0    City Hotel                   9      Online TA                TA/TO   \n",
              "1  Resort Hotel                  11         Groups               Direct   \n",
              "2    City Hotel                  10      Online TA                TA/TO   \n",
              "3    City Hotel                  12         Groups                TA/TO   \n",
              "4    City Hotel                   3  Offline TA/TO                TA/TO   \n",
              "\n",
              "  reserved_room_type deposit_type    customer_type  reservation_month  \\\n",
              "0                  D   No Deposit        Transient                  8   \n",
              "1                  A   No Deposit        Transient                 11   \n",
              "2                  F   No Deposit        Transient                 10   \n",
              "3                  A   Non Refund        Transient                 11   \n",
              "4                  A   No Deposit  Transient-Party                  3   \n",
              "\n",
              "   reservation_year  reservation_day  \n",
              "0              2016               25  \n",
              "1              2015                1  \n",
              "2              2016               14  \n",
              "3              2016               29  \n",
              "4              2017               26  "
            ],
            "text/html": [
              "\n",
              "  <div id=\"df-c71b81e8-8174-4ced-8aae-1d1a20016d4c\">\n",
              "    <div class=\"colab-df-container\">\n",
              "      <div>\n",
              "<style scoped>\n",
              "    .dataframe tbody tr th:only-of-type {\n",
              "        vertical-align: middle;\n",
              "    }\n",
              "\n",
              "    .dataframe tbody tr th {\n",
              "        vertical-align: top;\n",
              "    }\n",
              "\n",
              "    .dataframe thead th {\n",
              "        text-align: right;\n",
              "    }\n",
              "</style>\n",
              "<table border=\"1\" class=\"dataframe\">\n",
              "  <thead>\n",
              "    <tr style=\"text-align: right;\">\n",
              "      <th></th>\n",
              "      <th>hotel</th>\n",
              "      <th>arrival_date_month</th>\n",
              "      <th>market_segment</th>\n",
              "      <th>distribution_channel</th>\n",
              "      <th>reserved_room_type</th>\n",
              "      <th>deposit_type</th>\n",
              "      <th>customer_type</th>\n",
              "      <th>reservation_month</th>\n",
              "      <th>reservation_year</th>\n",
              "      <th>reservation_day</th>\n",
              "    </tr>\n",
              "  </thead>\n",
              "  <tbody>\n",
              "    <tr>\n",
              "      <th>0</th>\n",
              "      <td>City Hotel</td>\n",
              "      <td>9</td>\n",
              "      <td>Online TA</td>\n",
              "      <td>TA/TO</td>\n",
              "      <td>D</td>\n",
              "      <td>No Deposit</td>\n",
              "      <td>Transient</td>\n",
              "      <td>8</td>\n",
              "      <td>2016</td>\n",
              "      <td>25</td>\n",
              "    </tr>\n",
              "    <tr>\n",
              "      <th>1</th>\n",
              "      <td>Resort Hotel</td>\n",
              "      <td>11</td>\n",
              "      <td>Groups</td>\n",
              "      <td>Direct</td>\n",
              "      <td>A</td>\n",
              "      <td>No Deposit</td>\n",
              "      <td>Transient</td>\n",
              "      <td>11</td>\n",
              "      <td>2015</td>\n",
              "      <td>1</td>\n",
              "    </tr>\n",
              "    <tr>\n",
              "      <th>2</th>\n",
              "      <td>City Hotel</td>\n",
              "      <td>10</td>\n",
              "      <td>Online TA</td>\n",
              "      <td>TA/TO</td>\n",
              "      <td>F</td>\n",
              "      <td>No Deposit</td>\n",
              "      <td>Transient</td>\n",
              "      <td>10</td>\n",
              "      <td>2016</td>\n",
              "      <td>14</td>\n",
              "    </tr>\n",
              "    <tr>\n",
              "      <th>3</th>\n",
              "      <td>City Hotel</td>\n",
              "      <td>12</td>\n",
              "      <td>Groups</td>\n",
              "      <td>TA/TO</td>\n",
              "      <td>A</td>\n",
              "      <td>Non Refund</td>\n",
              "      <td>Transient</td>\n",
              "      <td>11</td>\n",
              "      <td>2016</td>\n",
              "      <td>29</td>\n",
              "    </tr>\n",
              "    <tr>\n",
              "      <th>4</th>\n",
              "      <td>City Hotel</td>\n",
              "      <td>3</td>\n",
              "      <td>Offline TA/TO</td>\n",
              "      <td>TA/TO</td>\n",
              "      <td>A</td>\n",
              "      <td>No Deposit</td>\n",
              "      <td>Transient-Party</td>\n",
              "      <td>3</td>\n",
              "      <td>2017</td>\n",
              "      <td>26</td>\n",
              "    </tr>\n",
              "  </tbody>\n",
              "</table>\n",
              "</div>\n",
              "      <button class=\"colab-df-convert\" onclick=\"convertToInteractive('df-c71b81e8-8174-4ced-8aae-1d1a20016d4c')\"\n",
              "              title=\"Convert this dataframe to an interactive table.\"\n",
              "              style=\"display:none;\">\n",
              "        \n",
              "  <svg xmlns=\"http://www.w3.org/2000/svg\" height=\"24px\"viewBox=\"0 0 24 24\"\n",
              "       width=\"24px\">\n",
              "    <path d=\"M0 0h24v24H0V0z\" fill=\"none\"/>\n",
              "    <path d=\"M18.56 5.44l.94 2.06.94-2.06 2.06-.94-2.06-.94-.94-2.06-.94 2.06-2.06.94zm-11 1L8.5 8.5l.94-2.06 2.06-.94-2.06-.94L8.5 2.5l-.94 2.06-2.06.94zm10 10l.94 2.06.94-2.06 2.06-.94-2.06-.94-.94-2.06-.94 2.06-2.06.94z\"/><path d=\"M17.41 7.96l-1.37-1.37c-.4-.4-.92-.59-1.43-.59-.52 0-1.04.2-1.43.59L10.3 9.45l-7.72 7.72c-.78.78-.78 2.05 0 2.83L4 21.41c.39.39.9.59 1.41.59.51 0 1.02-.2 1.41-.59l7.78-7.78 2.81-2.81c.8-.78.8-2.07 0-2.86zM5.41 20L4 18.59l7.72-7.72 1.47 1.35L5.41 20z\"/>\n",
              "  </svg>\n",
              "      </button>\n",
              "      \n",
              "  <style>\n",
              "    .colab-df-container {\n",
              "      display:flex;\n",
              "      flex-wrap:wrap;\n",
              "      gap: 12px;\n",
              "    }\n",
              "\n",
              "    .colab-df-convert {\n",
              "      background-color: #E8F0FE;\n",
              "      border: none;\n",
              "      border-radius: 50%;\n",
              "      cursor: pointer;\n",
              "      display: none;\n",
              "      fill: #1967D2;\n",
              "      height: 32px;\n",
              "      padding: 0 0 0 0;\n",
              "      width: 32px;\n",
              "    }\n",
              "\n",
              "    .colab-df-convert:hover {\n",
              "      background-color: #E2EBFA;\n",
              "      box-shadow: 0px 1px 2px rgba(60, 64, 67, 0.3), 0px 1px 3px 1px rgba(60, 64, 67, 0.15);\n",
              "      fill: #174EA6;\n",
              "    }\n",
              "\n",
              "    [theme=dark] .colab-df-convert {\n",
              "      background-color: #3B4455;\n",
              "      fill: #D2E3FC;\n",
              "    }\n",
              "\n",
              "    [theme=dark] .colab-df-convert:hover {\n",
              "      background-color: #434B5C;\n",
              "      box-shadow: 0px 1px 3px 1px rgba(0, 0, 0, 0.15);\n",
              "      filter: drop-shadow(0px 1px 2px rgba(0, 0, 0, 0.3));\n",
              "      fill: #FFFFFF;\n",
              "    }\n",
              "  </style>\n",
              "\n",
              "      <script>\n",
              "        const buttonEl =\n",
              "          document.querySelector('#df-c71b81e8-8174-4ced-8aae-1d1a20016d4c button.colab-df-convert');\n",
              "        buttonEl.style.display =\n",
              "          google.colab.kernel.accessAllowed ? 'block' : 'none';\n",
              "\n",
              "        async function convertToInteractive(key) {\n",
              "          const element = document.querySelector('#df-c71b81e8-8174-4ced-8aae-1d1a20016d4c');\n",
              "          const dataTable =\n",
              "            await google.colab.kernel.invokeFunction('convertToInteractive',\n",
              "                                                     [key], {});\n",
              "          if (!dataTable) return;\n",
              "\n",
              "          const docLinkHtml = 'Like what you see? Visit the ' +\n",
              "            '<a target=\"_blank\" href=https://colab.research.google.com/notebooks/data_table.ipynb>data table notebook</a>'\n",
              "            + ' to learn more about interactive tables.';\n",
              "          element.innerHTML = '';\n",
              "          dataTable['output_type'] = 'display_data';\n",
              "          await google.colab.output.renderOutput(dataTable, element);\n",
              "          const docLink = document.createElement('div');\n",
              "          docLink.innerHTML = docLinkHtml;\n",
              "          element.appendChild(docLink);\n",
              "        }\n",
              "      </script>\n",
              "    </div>\n",
              "  </div>\n",
              "  "
            ]
          },
          "metadata": {},
          "execution_count": 178
        }
      ]
    },
    {
      "cell_type": "markdown",
      "source": [
        "#### Encoding de Variables\n",
        "> Ejecucion del `one-hot-encoding` a traves de dummies para cada variable"
      ],
      "metadata": {
        "id": "xbNZOy7AyLLO"
      }
    },
    {
      "cell_type": "code",
      "source": [
        "# Evaluar si el reservation_year es necesario hacerle dummies.\n",
        "dummy_columns = [\"hotel\",\"market_segment\",\"distribution_channel\", \"reserved_room_type\", \"deposit_type\", \"customer_type\"]\n",
        "#Train\n",
        "df_categorico = pd.get_dummies(df_categorico, columns=dummy_columns, drop_first=True)\n",
        "#Test\n",
        "df_hotels_test = pd.get_dummies(df_hotels_test, columns=dummy_columns, drop_first=True)\n",
        "df_categorico.columns"
      ],
      "metadata": {
        "id": "A9H2oNfsyPMG",
        "colab": {
          "base_uri": "https://localhost:8080/"
        },
        "outputId": "f25db501-6177-4957-93d1-00723b695357"
      },
      "execution_count": null,
      "outputs": [
        {
          "output_type": "execute_result",
          "data": {
            "text/plain": [
              "Index(['arrival_date_month', 'reservation_month', 'reservation_year',\n",
              "       'reservation_day', 'hotel_Resort Hotel', 'market_segment_Complementary',\n",
              "       'market_segment_Corporate', 'market_segment_Direct',\n",
              "       'market_segment_Groups', 'market_segment_Offline TA/TO',\n",
              "       'market_segment_Online TA', 'market_segment_Undefined',\n",
              "       'distribution_channel_Direct', 'distribution_channel_GDS',\n",
              "       'distribution_channel_TA/TO', 'distribution_channel_Undefined',\n",
              "       'reserved_room_type_B', 'reserved_room_type_C', 'reserved_room_type_D',\n",
              "       'reserved_room_type_E', 'reserved_room_type_F', 'reserved_room_type_G',\n",
              "       'reserved_room_type_H', 'reserved_room_type_L',\n",
              "       'deposit_type_Non Refund', 'deposit_type_Refundable',\n",
              "       'customer_type_Group', 'customer_type_Transient',\n",
              "       'customer_type_Transient-Party'],\n",
              "      dtype='object')"
            ]
          },
          "metadata": {},
          "execution_count": 179
        }
      ]
    },
    {
      "cell_type": "markdown",
      "source": [
        "### **DATASET CUANTITATIVO**\n",
        "\n",
        "> Para este dataset, estaremos realizando `min-max scaling` para representar las distintas cardinalidades de las variables de una manera mas homogenea y facil de discernir para el modelo, evitando asi tener puntos de corte para condiciones que sean de cantidades muy distintas."
      ],
      "metadata": {
        "id": "lBJM9AIuj_dj"
      }
    },
    {
      "cell_type": "code",
      "source": [
        "cols_numericas = [columna for columna in df_hotels_train.columns if np.issubdtype(df_hotels_train[columna].dtype, np.number)]\n",
        "# Creamos el df_numerico\n",
        "df_numerico = df_hotels_train[cols_numericas]\n",
        "df_numerico.drop('is_canceled', axis=1, inplace=True)\n",
        "df_numerico.head()"
      ],
      "metadata": {
        "colab": {
          "base_uri": "https://localhost:8080/",
          "height": 270
        },
        "id": "D4ncQL3ikHkz",
        "outputId": "de53037f-3c36-421f-ce25-5fb23893bb71"
      },
      "execution_count": null,
      "outputs": [
        {
          "output_type": "execute_result",
          "data": {
            "text/plain": [
              "   lead_time  arrival_date_week_number  arrival_date_day_of_month  \\\n",
              "0         49                        37                          5   \n",
              "1          4                        44                         31   \n",
              "2         25                        42                         13   \n",
              "3         26                        51                         12   \n",
              "4        104                        12                         19   \n",
              "\n",
              "   stays_in_weekend_nights  stays_in_week_nights  adults  children  babies  \\\n",
              "0                        1                     2       1         0       0   \n",
              "1                        0                     1       2         0       0   \n",
              "2                        0                     1       2         2       0   \n",
              "3                        2                     5       2         0       0   \n",
              "4                        2                     5       2         0       0   \n",
              "\n",
              "   is_repeated_guest  previous_cancellations  previous_bookings_not_canceled  \\\n",
              "0                  0                       0                               0   \n",
              "1                  0                       0                               0   \n",
              "2                  0                       0                               0   \n",
              "3                  0                       0                               0   \n",
              "4                  0                       0                               0   \n",
              "\n",
              "   booking_changes    adr  required_car_parking_spaces  \\\n",
              "0                0  115.5                            0   \n",
              "1                0   42.0                            1   \n",
              "2                0  229.0                            0   \n",
              "3                0   75.0                            0   \n",
              "4                0   75.0                            0   \n",
              "\n",
              "   total_of_special_requests  \n",
              "0                          1  \n",
              "1                          0  \n",
              "2                          2  \n",
              "3                          0  \n",
              "4                          1  "
            ],
            "text/html": [
              "\n",
              "  <div id=\"df-9a01d6d2-99d2-43d1-9a7f-035d455b1bac\">\n",
              "    <div class=\"colab-df-container\">\n",
              "      <div>\n",
              "<style scoped>\n",
              "    .dataframe tbody tr th:only-of-type {\n",
              "        vertical-align: middle;\n",
              "    }\n",
              "\n",
              "    .dataframe tbody tr th {\n",
              "        vertical-align: top;\n",
              "    }\n",
              "\n",
              "    .dataframe thead th {\n",
              "        text-align: right;\n",
              "    }\n",
              "</style>\n",
              "<table border=\"1\" class=\"dataframe\">\n",
              "  <thead>\n",
              "    <tr style=\"text-align: right;\">\n",
              "      <th></th>\n",
              "      <th>lead_time</th>\n",
              "      <th>arrival_date_week_number</th>\n",
              "      <th>arrival_date_day_of_month</th>\n",
              "      <th>stays_in_weekend_nights</th>\n",
              "      <th>stays_in_week_nights</th>\n",
              "      <th>adults</th>\n",
              "      <th>children</th>\n",
              "      <th>babies</th>\n",
              "      <th>is_repeated_guest</th>\n",
              "      <th>previous_cancellations</th>\n",
              "      <th>previous_bookings_not_canceled</th>\n",
              "      <th>booking_changes</th>\n",
              "      <th>adr</th>\n",
              "      <th>required_car_parking_spaces</th>\n",
              "      <th>total_of_special_requests</th>\n",
              "    </tr>\n",
              "  </thead>\n",
              "  <tbody>\n",
              "    <tr>\n",
              "      <th>0</th>\n",
              "      <td>49</td>\n",
              "      <td>37</td>\n",
              "      <td>5</td>\n",
              "      <td>1</td>\n",
              "      <td>2</td>\n",
              "      <td>1</td>\n",
              "      <td>0</td>\n",
              "      <td>0</td>\n",
              "      <td>0</td>\n",
              "      <td>0</td>\n",
              "      <td>0</td>\n",
              "      <td>0</td>\n",
              "      <td>115.5</td>\n",
              "      <td>0</td>\n",
              "      <td>1</td>\n",
              "    </tr>\n",
              "    <tr>\n",
              "      <th>1</th>\n",
              "      <td>4</td>\n",
              "      <td>44</td>\n",
              "      <td>31</td>\n",
              "      <td>0</td>\n",
              "      <td>1</td>\n",
              "      <td>2</td>\n",
              "      <td>0</td>\n",
              "      <td>0</td>\n",
              "      <td>0</td>\n",
              "      <td>0</td>\n",
              "      <td>0</td>\n",
              "      <td>0</td>\n",
              "      <td>42.0</td>\n",
              "      <td>1</td>\n",
              "      <td>0</td>\n",
              "    </tr>\n",
              "    <tr>\n",
              "      <th>2</th>\n",
              "      <td>25</td>\n",
              "      <td>42</td>\n",
              "      <td>13</td>\n",
              "      <td>0</td>\n",
              "      <td>1</td>\n",
              "      <td>2</td>\n",
              "      <td>2</td>\n",
              "      <td>0</td>\n",
              "      <td>0</td>\n",
              "      <td>0</td>\n",
              "      <td>0</td>\n",
              "      <td>0</td>\n",
              "      <td>229.0</td>\n",
              "      <td>0</td>\n",
              "      <td>2</td>\n",
              "    </tr>\n",
              "    <tr>\n",
              "      <th>3</th>\n",
              "      <td>26</td>\n",
              "      <td>51</td>\n",
              "      <td>12</td>\n",
              "      <td>2</td>\n",
              "      <td>5</td>\n",
              "      <td>2</td>\n",
              "      <td>0</td>\n",
              "      <td>0</td>\n",
              "      <td>0</td>\n",
              "      <td>0</td>\n",
              "      <td>0</td>\n",
              "      <td>0</td>\n",
              "      <td>75.0</td>\n",
              "      <td>0</td>\n",
              "      <td>0</td>\n",
              "    </tr>\n",
              "    <tr>\n",
              "      <th>4</th>\n",
              "      <td>104</td>\n",
              "      <td>12</td>\n",
              "      <td>19</td>\n",
              "      <td>2</td>\n",
              "      <td>5</td>\n",
              "      <td>2</td>\n",
              "      <td>0</td>\n",
              "      <td>0</td>\n",
              "      <td>0</td>\n",
              "      <td>0</td>\n",
              "      <td>0</td>\n",
              "      <td>0</td>\n",
              "      <td>75.0</td>\n",
              "      <td>0</td>\n",
              "      <td>1</td>\n",
              "    </tr>\n",
              "  </tbody>\n",
              "</table>\n",
              "</div>\n",
              "      <button class=\"colab-df-convert\" onclick=\"convertToInteractive('df-9a01d6d2-99d2-43d1-9a7f-035d455b1bac')\"\n",
              "              title=\"Convert this dataframe to an interactive table.\"\n",
              "              style=\"display:none;\">\n",
              "        \n",
              "  <svg xmlns=\"http://www.w3.org/2000/svg\" height=\"24px\"viewBox=\"0 0 24 24\"\n",
              "       width=\"24px\">\n",
              "    <path d=\"M0 0h24v24H0V0z\" fill=\"none\"/>\n",
              "    <path d=\"M18.56 5.44l.94 2.06.94-2.06 2.06-.94-2.06-.94-.94-2.06-.94 2.06-2.06.94zm-11 1L8.5 8.5l.94-2.06 2.06-.94-2.06-.94L8.5 2.5l-.94 2.06-2.06.94zm10 10l.94 2.06.94-2.06 2.06-.94-2.06-.94-.94-2.06-.94 2.06-2.06.94z\"/><path d=\"M17.41 7.96l-1.37-1.37c-.4-.4-.92-.59-1.43-.59-.52 0-1.04.2-1.43.59L10.3 9.45l-7.72 7.72c-.78.78-.78 2.05 0 2.83L4 21.41c.39.39.9.59 1.41.59.51 0 1.02-.2 1.41-.59l7.78-7.78 2.81-2.81c.8-.78.8-2.07 0-2.86zM5.41 20L4 18.59l7.72-7.72 1.47 1.35L5.41 20z\"/>\n",
              "  </svg>\n",
              "      </button>\n",
              "      \n",
              "  <style>\n",
              "    .colab-df-container {\n",
              "      display:flex;\n",
              "      flex-wrap:wrap;\n",
              "      gap: 12px;\n",
              "    }\n",
              "\n",
              "    .colab-df-convert {\n",
              "      background-color: #E8F0FE;\n",
              "      border: none;\n",
              "      border-radius: 50%;\n",
              "      cursor: pointer;\n",
              "      display: none;\n",
              "      fill: #1967D2;\n",
              "      height: 32px;\n",
              "      padding: 0 0 0 0;\n",
              "      width: 32px;\n",
              "    }\n",
              "\n",
              "    .colab-df-convert:hover {\n",
              "      background-color: #E2EBFA;\n",
              "      box-shadow: 0px 1px 2px rgba(60, 64, 67, 0.3), 0px 1px 3px 1px rgba(60, 64, 67, 0.15);\n",
              "      fill: #174EA6;\n",
              "    }\n",
              "\n",
              "    [theme=dark] .colab-df-convert {\n",
              "      background-color: #3B4455;\n",
              "      fill: #D2E3FC;\n",
              "    }\n",
              "\n",
              "    [theme=dark] .colab-df-convert:hover {\n",
              "      background-color: #434B5C;\n",
              "      box-shadow: 0px 1px 3px 1px rgba(0, 0, 0, 0.15);\n",
              "      filter: drop-shadow(0px 1px 2px rgba(0, 0, 0, 0.3));\n",
              "      fill: #FFFFFF;\n",
              "    }\n",
              "  </style>\n",
              "\n",
              "      <script>\n",
              "        const buttonEl =\n",
              "          document.querySelector('#df-9a01d6d2-99d2-43d1-9a7f-035d455b1bac button.colab-df-convert');\n",
              "        buttonEl.style.display =\n",
              "          google.colab.kernel.accessAllowed ? 'block' : 'none';\n",
              "\n",
              "        async function convertToInteractive(key) {\n",
              "          const element = document.querySelector('#df-9a01d6d2-99d2-43d1-9a7f-035d455b1bac');\n",
              "          const dataTable =\n",
              "            await google.colab.kernel.invokeFunction('convertToInteractive',\n",
              "                                                     [key], {});\n",
              "          if (!dataTable) return;\n",
              "\n",
              "          const docLinkHtml = 'Like what you see? Visit the ' +\n",
              "            '<a target=\"_blank\" href=https://colab.research.google.com/notebooks/data_table.ipynb>data table notebook</a>'\n",
              "            + ' to learn more about interactive tables.';\n",
              "          element.innerHTML = '';\n",
              "          dataTable['output_type'] = 'display_data';\n",
              "          await google.colab.output.renderOutput(dataTable, element);\n",
              "          const docLink = document.createElement('div');\n",
              "          docLink.innerHTML = docLinkHtml;\n",
              "          element.appendChild(docLink);\n",
              "        }\n",
              "      </script>\n",
              "    </div>\n",
              "  </div>\n",
              "  "
            ]
          },
          "metadata": {},
          "execution_count": 180
        }
      ]
    },
    {
      "cell_type": "code",
      "source": [
        "# Creamos el scaler\n",
        "scaler = MinMaxScaler() \n",
        "\n",
        "# Sacamos del scaling a la otra variable booleana (no necesita scaling)\n",
        "cols_numericas = df_numerico.columns.tolist()\n",
        "cols_numericas.remove('is_repeated_guest')\n",
        "\n",
        "# Alimentamos el scaler con los datos de TRAIN.\n",
        "scaler.fit(pd.DataFrame(df_numerico[cols_numericas]))\n",
        "\n",
        "# Aplicamos las transformaciones a el dataset de Train y al de TEST para nuestra prediccion de Kaggle.\n",
        "df_numerico[cols_numericas]=scaler.transform(df_numerico[cols_numericas])\n",
        "df_hotels_test[cols_numericas]=scaler.transform(df_hotels_test[cols_numericas])"
      ],
      "metadata": {
        "id": "CzTBYMFK5JrL"
      },
      "execution_count": null,
      "outputs": []
    },
    {
      "cell_type": "markdown",
      "source": [
        "###**MERGEO DATASET ENTRENAMIENTO**\n",
        "\n",
        "> Volvemos a unir en un dataset que ya esta preparado para ser splitteado y para entrenar modelos y buscar hiperparametros.\n"
      ],
      "metadata": {
        "id": "dymilhCtARth"
      }
    },
    {
      "cell_type": "code",
      "source": [
        "x_model = pd.concat([df_categorico, df_numerico], axis=1)\n",
        "y_model = df_hotels_train['is_canceled']\n",
        "\n",
        "#Podemos ver que el numero de filas coincide.\n",
        "print(f\"Shape del X: {x_model.shape} y Shape del Y: {y_model.shape} -- [Coinciden: {x_model.shape[0] == y_model.shape[0]}]\")"
      ],
      "metadata": {
        "colab": {
          "base_uri": "https://localhost:8080/"
        },
        "id": "QFaK45jmAgst",
        "outputId": "f13954ca-055c-4d29-b688-75cd72deb19b"
      },
      "execution_count": null,
      "outputs": [
        {
          "output_type": "stream",
          "name": "stdout",
          "text": [
            "Shape del X: (59481, 44) y Shape del Y: (59481,) -- [Coinciden: True]\n"
          ]
        }
      ]
    },
    {
      "cell_type": "code",
      "source": [
        "x_model.head()"
      ],
      "metadata": {
        "colab": {
          "base_uri": "https://localhost:8080/",
          "height": 317
        },
        "id": "emquD8VMbKa2",
        "outputId": "69faf686-143a-458f-a399-2138dad97d77"
      },
      "execution_count": null,
      "outputs": [
        {
          "output_type": "execute_result",
          "data": {
            "text/plain": [
              "   arrival_date_month  reservation_month  reservation_year  reservation_day  \\\n",
              "0                   9                  8              2016               25   \n",
              "1                  11                 11              2015                1   \n",
              "2                  10                 10              2016               14   \n",
              "3                  12                 11              2016               29   \n",
              "4                   3                  3              2017               26   \n",
              "\n",
              "   hotel_Resort Hotel  market_segment_Complementary  market_segment_Corporate  \\\n",
              "0                   0                             0                         0   \n",
              "1                   1                             0                         0   \n",
              "2                   0                             0                         0   \n",
              "3                   0                             0                         0   \n",
              "4                   0                             0                         0   \n",
              "\n",
              "   market_segment_Direct  market_segment_Groups  market_segment_Offline TA/TO  \\\n",
              "0                      0                      0                             0   \n",
              "1                      0                      1                             0   \n",
              "2                      0                      0                             0   \n",
              "3                      0                      1                             0   \n",
              "4                      0                      0                             1   \n",
              "\n",
              "   ...    adults  children  babies  is_repeated_guest  previous_cancellations  \\\n",
              "0  ...  0.000000       0.0     0.0                  0                     0.0   \n",
              "1  ...  0.018519       0.0     0.0                  0                     0.0   \n",
              "2  ...  0.018519       1.0     0.0                  0                     0.0   \n",
              "3  ...  0.018519       0.0     0.0                  0                     0.0   \n",
              "4  ...  0.018519       0.0     0.0                  0                     0.0   \n",
              "\n",
              "   previous_bookings_not_canceled  booking_changes       adr  \\\n",
              "0                             0.0              0.0  0.490259   \n",
              "1                             0.0              0.0  0.176919   \n",
              "2                             0.0              0.0  0.974123   \n",
              "3                             0.0              0.0  0.317602   \n",
              "4                             0.0              0.0  0.317602   \n",
              "\n",
              "   required_car_parking_spaces  total_of_special_requests  \n",
              "0                        0.000                        0.2  \n",
              "1                        0.125                        0.0  \n",
              "2                        0.000                        0.4  \n",
              "3                        0.000                        0.0  \n",
              "4                        0.000                        0.2  \n",
              "\n",
              "[5 rows x 44 columns]"
            ],
            "text/html": [
              "\n",
              "  <div id=\"df-655c3cb4-fa31-4595-83db-fdb7253fc792\">\n",
              "    <div class=\"colab-df-container\">\n",
              "      <div>\n",
              "<style scoped>\n",
              "    .dataframe tbody tr th:only-of-type {\n",
              "        vertical-align: middle;\n",
              "    }\n",
              "\n",
              "    .dataframe tbody tr th {\n",
              "        vertical-align: top;\n",
              "    }\n",
              "\n",
              "    .dataframe thead th {\n",
              "        text-align: right;\n",
              "    }\n",
              "</style>\n",
              "<table border=\"1\" class=\"dataframe\">\n",
              "  <thead>\n",
              "    <tr style=\"text-align: right;\">\n",
              "      <th></th>\n",
              "      <th>arrival_date_month</th>\n",
              "      <th>reservation_month</th>\n",
              "      <th>reservation_year</th>\n",
              "      <th>reservation_day</th>\n",
              "      <th>hotel_Resort Hotel</th>\n",
              "      <th>market_segment_Complementary</th>\n",
              "      <th>market_segment_Corporate</th>\n",
              "      <th>market_segment_Direct</th>\n",
              "      <th>market_segment_Groups</th>\n",
              "      <th>market_segment_Offline TA/TO</th>\n",
              "      <th>...</th>\n",
              "      <th>adults</th>\n",
              "      <th>children</th>\n",
              "      <th>babies</th>\n",
              "      <th>is_repeated_guest</th>\n",
              "      <th>previous_cancellations</th>\n",
              "      <th>previous_bookings_not_canceled</th>\n",
              "      <th>booking_changes</th>\n",
              "      <th>adr</th>\n",
              "      <th>required_car_parking_spaces</th>\n",
              "      <th>total_of_special_requests</th>\n",
              "    </tr>\n",
              "  </thead>\n",
              "  <tbody>\n",
              "    <tr>\n",
              "      <th>0</th>\n",
              "      <td>9</td>\n",
              "      <td>8</td>\n",
              "      <td>2016</td>\n",
              "      <td>25</td>\n",
              "      <td>0</td>\n",
              "      <td>0</td>\n",
              "      <td>0</td>\n",
              "      <td>0</td>\n",
              "      <td>0</td>\n",
              "      <td>0</td>\n",
              "      <td>...</td>\n",
              "      <td>0.000000</td>\n",
              "      <td>0.0</td>\n",
              "      <td>0.0</td>\n",
              "      <td>0</td>\n",
              "      <td>0.0</td>\n",
              "      <td>0.0</td>\n",
              "      <td>0.0</td>\n",
              "      <td>0.490259</td>\n",
              "      <td>0.000</td>\n",
              "      <td>0.2</td>\n",
              "    </tr>\n",
              "    <tr>\n",
              "      <th>1</th>\n",
              "      <td>11</td>\n",
              "      <td>11</td>\n",
              "      <td>2015</td>\n",
              "      <td>1</td>\n",
              "      <td>1</td>\n",
              "      <td>0</td>\n",
              "      <td>0</td>\n",
              "      <td>0</td>\n",
              "      <td>1</td>\n",
              "      <td>0</td>\n",
              "      <td>...</td>\n",
              "      <td>0.018519</td>\n",
              "      <td>0.0</td>\n",
              "      <td>0.0</td>\n",
              "      <td>0</td>\n",
              "      <td>0.0</td>\n",
              "      <td>0.0</td>\n",
              "      <td>0.0</td>\n",
              "      <td>0.176919</td>\n",
              "      <td>0.125</td>\n",
              "      <td>0.0</td>\n",
              "    </tr>\n",
              "    <tr>\n",
              "      <th>2</th>\n",
              "      <td>10</td>\n",
              "      <td>10</td>\n",
              "      <td>2016</td>\n",
              "      <td>14</td>\n",
              "      <td>0</td>\n",
              "      <td>0</td>\n",
              "      <td>0</td>\n",
              "      <td>0</td>\n",
              "      <td>0</td>\n",
              "      <td>0</td>\n",
              "      <td>...</td>\n",
              "      <td>0.018519</td>\n",
              "      <td>1.0</td>\n",
              "      <td>0.0</td>\n",
              "      <td>0</td>\n",
              "      <td>0.0</td>\n",
              "      <td>0.0</td>\n",
              "      <td>0.0</td>\n",
              "      <td>0.974123</td>\n",
              "      <td>0.000</td>\n",
              "      <td>0.4</td>\n",
              "    </tr>\n",
              "    <tr>\n",
              "      <th>3</th>\n",
              "      <td>12</td>\n",
              "      <td>11</td>\n",
              "      <td>2016</td>\n",
              "      <td>29</td>\n",
              "      <td>0</td>\n",
              "      <td>0</td>\n",
              "      <td>0</td>\n",
              "      <td>0</td>\n",
              "      <td>1</td>\n",
              "      <td>0</td>\n",
              "      <td>...</td>\n",
              "      <td>0.018519</td>\n",
              "      <td>0.0</td>\n",
              "      <td>0.0</td>\n",
              "      <td>0</td>\n",
              "      <td>0.0</td>\n",
              "      <td>0.0</td>\n",
              "      <td>0.0</td>\n",
              "      <td>0.317602</td>\n",
              "      <td>0.000</td>\n",
              "      <td>0.0</td>\n",
              "    </tr>\n",
              "    <tr>\n",
              "      <th>4</th>\n",
              "      <td>3</td>\n",
              "      <td>3</td>\n",
              "      <td>2017</td>\n",
              "      <td>26</td>\n",
              "      <td>0</td>\n",
              "      <td>0</td>\n",
              "      <td>0</td>\n",
              "      <td>0</td>\n",
              "      <td>0</td>\n",
              "      <td>1</td>\n",
              "      <td>...</td>\n",
              "      <td>0.018519</td>\n",
              "      <td>0.0</td>\n",
              "      <td>0.0</td>\n",
              "      <td>0</td>\n",
              "      <td>0.0</td>\n",
              "      <td>0.0</td>\n",
              "      <td>0.0</td>\n",
              "      <td>0.317602</td>\n",
              "      <td>0.000</td>\n",
              "      <td>0.2</td>\n",
              "    </tr>\n",
              "  </tbody>\n",
              "</table>\n",
              "<p>5 rows × 44 columns</p>\n",
              "</div>\n",
              "      <button class=\"colab-df-convert\" onclick=\"convertToInteractive('df-655c3cb4-fa31-4595-83db-fdb7253fc792')\"\n",
              "              title=\"Convert this dataframe to an interactive table.\"\n",
              "              style=\"display:none;\">\n",
              "        \n",
              "  <svg xmlns=\"http://www.w3.org/2000/svg\" height=\"24px\"viewBox=\"0 0 24 24\"\n",
              "       width=\"24px\">\n",
              "    <path d=\"M0 0h24v24H0V0z\" fill=\"none\"/>\n",
              "    <path d=\"M18.56 5.44l.94 2.06.94-2.06 2.06-.94-2.06-.94-.94-2.06-.94 2.06-2.06.94zm-11 1L8.5 8.5l.94-2.06 2.06-.94-2.06-.94L8.5 2.5l-.94 2.06-2.06.94zm10 10l.94 2.06.94-2.06 2.06-.94-2.06-.94-.94-2.06-.94 2.06-2.06.94z\"/><path d=\"M17.41 7.96l-1.37-1.37c-.4-.4-.92-.59-1.43-.59-.52 0-1.04.2-1.43.59L10.3 9.45l-7.72 7.72c-.78.78-.78 2.05 0 2.83L4 21.41c.39.39.9.59 1.41.59.51 0 1.02-.2 1.41-.59l7.78-7.78 2.81-2.81c.8-.78.8-2.07 0-2.86zM5.41 20L4 18.59l7.72-7.72 1.47 1.35L5.41 20z\"/>\n",
              "  </svg>\n",
              "      </button>\n",
              "      \n",
              "  <style>\n",
              "    .colab-df-container {\n",
              "      display:flex;\n",
              "      flex-wrap:wrap;\n",
              "      gap: 12px;\n",
              "    }\n",
              "\n",
              "    .colab-df-convert {\n",
              "      background-color: #E8F0FE;\n",
              "      border: none;\n",
              "      border-radius: 50%;\n",
              "      cursor: pointer;\n",
              "      display: none;\n",
              "      fill: #1967D2;\n",
              "      height: 32px;\n",
              "      padding: 0 0 0 0;\n",
              "      width: 32px;\n",
              "    }\n",
              "\n",
              "    .colab-df-convert:hover {\n",
              "      background-color: #E2EBFA;\n",
              "      box-shadow: 0px 1px 2px rgba(60, 64, 67, 0.3), 0px 1px 3px 1px rgba(60, 64, 67, 0.15);\n",
              "      fill: #174EA6;\n",
              "    }\n",
              "\n",
              "    [theme=dark] .colab-df-convert {\n",
              "      background-color: #3B4455;\n",
              "      fill: #D2E3FC;\n",
              "    }\n",
              "\n",
              "    [theme=dark] .colab-df-convert:hover {\n",
              "      background-color: #434B5C;\n",
              "      box-shadow: 0px 1px 3px 1px rgba(0, 0, 0, 0.15);\n",
              "      filter: drop-shadow(0px 1px 2px rgba(0, 0, 0, 0.3));\n",
              "      fill: #FFFFFF;\n",
              "    }\n",
              "  </style>\n",
              "\n",
              "      <script>\n",
              "        const buttonEl =\n",
              "          document.querySelector('#df-655c3cb4-fa31-4595-83db-fdb7253fc792 button.colab-df-convert');\n",
              "        buttonEl.style.display =\n",
              "          google.colab.kernel.accessAllowed ? 'block' : 'none';\n",
              "\n",
              "        async function convertToInteractive(key) {\n",
              "          const element = document.querySelector('#df-655c3cb4-fa31-4595-83db-fdb7253fc792');\n",
              "          const dataTable =\n",
              "            await google.colab.kernel.invokeFunction('convertToInteractive',\n",
              "                                                     [key], {});\n",
              "          if (!dataTable) return;\n",
              "\n",
              "          const docLinkHtml = 'Like what you see? Visit the ' +\n",
              "            '<a target=\"_blank\" href=https://colab.research.google.com/notebooks/data_table.ipynb>data table notebook</a>'\n",
              "            + ' to learn more about interactive tables.';\n",
              "          element.innerHTML = '';\n",
              "          dataTable['output_type'] = 'display_data';\n",
              "          await google.colab.output.renderOutput(dataTable, element);\n",
              "          const docLink = document.createElement('div');\n",
              "          docLink.innerHTML = docLinkHtml;\n",
              "          element.appendChild(docLink);\n",
              "        }\n",
              "      </script>\n",
              "    </div>\n",
              "  </div>\n",
              "  "
            ]
          },
          "metadata": {},
          "execution_count": 183
        }
      ]
    },
    {
      "cell_type": "markdown",
      "source": [
        "### **DATA SPLIT - TRAIN Y VALIDACION**\n",
        "> Con el nuevo x_model & y_model podemos ahora empezar con el split en datos de entrenamiento y validacion."
      ],
      "metadata": {
        "id": "JInvYRkzBX8Z"
      }
    },
    {
      "cell_type": "markdown",
      "source": [
        "Cosas a realizar: \n",
        "\n",
        "PRIORIDAD MAXIMA: REVISAR TODO LO QUE DROPPEAMOS Y PERSISTIRLO EN EL DE TEST, NO LAS IMPUTACIONES, SOLO LOS DROPS DE COLUMNAS INCLUYENDO TRANSFORMACIONES DE VARIABLES Y FECHAS ETC ETC.\n",
        "\n",
        "\n",
        "1. Apoyandonos sobre las correlaciones y el paper, decidir que variables no nos sirven.   [DONE PERO REVISAR CON FRAN]\n",
        "2. Encoding de las variables categoricas y normalización de las cuantitativas [DONE PERO REVISAR CON FRAN]\n",
        "2.5 SPLIT DE DATA\n",
        "3. Construccion del arbol y optimización de los hiperparametros de k-folds. \n",
        "4. Seleccionar el mejor arbol y testear."
      ],
      "metadata": {
        "id": "G_6iq0w1fZac"
      }
    },
    {
      "cell_type": "markdown",
      "source": [
        "# Clasificación - Entrenamiento"
      ],
      "metadata": {
        "id": "u7XRW1bgeeFi"
      }
    },
    {
      "cell_type": "code",
      "execution_count": null,
      "metadata": {
        "id": "lem7eWeGeSsP"
      },
      "outputs": [],
      "source": []
    },
    {
      "cell_type": "markdown",
      "source": [
        "# Árbol de decisión"
      ],
      "metadata": {
        "id": "xta88KP1ei7u"
      }
    },
    {
      "cell_type": "code",
      "source": [],
      "metadata": {
        "id": "SND5UYuYenax"
      },
      "execution_count": null,
      "outputs": []
    }
  ]
}