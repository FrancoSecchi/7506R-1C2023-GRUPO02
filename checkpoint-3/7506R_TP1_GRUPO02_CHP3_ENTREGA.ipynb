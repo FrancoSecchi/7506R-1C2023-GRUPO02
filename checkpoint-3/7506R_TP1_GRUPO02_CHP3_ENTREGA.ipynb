{
  "cells": [
    {
      "cell_type": "markdown",
      "metadata": {
        "id": "x1d6_U_jIUX6"
      },
      "source": [
        "# Librerias"
      ]
    },
    {
      "cell_type": "code",
      "execution_count": null,
      "metadata": {
        "id": "ZKy_onyyIGzr"
      },
      "outputs": [],
      "source": [
        "import pandas as pd\n",
        "import numpy as np\n",
        "import pickle\n",
        "import time\n",
        "\n",
        "#Visualización\n",
        "import matplotlib.pyplot as plt\n",
        "import seaborn as sns\n",
        "import scipy.stats as ss\n",
        "import sklearn as sk\n",
        "from collections import defaultdict\n",
        "import plotly.graph_objects as go\n",
        "%matplotlib inline\n",
        "\n",
        "\n",
        "#Modelado\n",
        "from sklearn.model_selection import train_test_split, StratifiedKFold, KFold, RandomizedSearchCV, GridSearchCV , cross_validate, cross_val_score, RepeatedStratifiedKFold\n",
        "from sklearn.linear_model import LinearRegression, LogisticRegression, LogisticRegressionCV\n",
        "from sklearn.tree import DecisionTreeClassifier \n",
        "from sklearn import preprocessing\n",
        "\n",
        "\n",
        "#KNN\n",
        "from sklearn.neighbors import KNeighborsClassifier, KNeighborsRegressor, BallTree, KDTree\n",
        "\n",
        "#SVM\n",
        "from sklearn.svm import SVC\n",
        "from sklearn.preprocessing import StandardScaler\n",
        "from sklearn.decomposition import PCA\n",
        "\n",
        "#Ensambles\n",
        "import xgboost as xgb\n",
        "from xgboost import XGBClassifier\n",
        "from sklearn.ensemble import StackingClassifier, VotingClassifier, RandomForestClassifier \n",
        "\n",
        "#Metricas\n",
        "from sklearn.metrics import accuracy_score, roc_auc_score, make_scorer, confusion_matrix,classification_report, f1_score\n",
        "from sklearn.metrics.pairwise import PAIRWISE_DISTANCE_FUNCTIONS\n",
        "from sklearn.pipeline import Pipeline\n",
        "\n",
        "\n",
        "#Hiperparametros\n",
        "from sklearn.model_selection import RandomizedSearchCV\n",
        "\n",
        "#configuración warnings\n",
        "import warnings\n",
        "from pandas.errors import SettingWithCopyWarning\n",
        "\n",
        "warnings.simplefilter(action=\"ignore\", category=SettingWithCopyWarning)\n",
        "warnings.simplefilter(action='ignore', category=FutureWarning)\n",
        "warnings.simplefilter(action='ignore', category=UserWarning)"
      ]
    },
    {
      "cell_type": "markdown",
      "metadata": {
        "id": "nFSP1uSkIW12"
      },
      "source": [
        "# Importación del dataset"
      ]
    },
    {
      "cell_type": "code",
      "execution_count": null,
      "metadata": {
        "id": "fuYQJ3ryIZU7"
      },
      "outputs": [],
      "source": [
        "url_train_encoded = 'https://raw.githubusercontent.com/FrancoSecchi/7506R-1C2023-GRUPO02/checkpoint-3/checkpoint-3/df_hotels_train_encoded.csv'\n",
        "url_test_encoded = 'https://raw.githubusercontent.com/FrancoSecchi/7506R-1C2023-GRUPO02/checkpoint-3/checkpoint-3/df_hotels_test_encoded.csv'\n",
        "url_train = 'https://raw.githubusercontent.com/FrancoSecchi/7506R-1C2023-GRUPO02/checkpoint-3/checkpoint-3/hotels-train.csv'\n",
        "url_test = 'https://raw.githubusercontent.com/FrancoSecchi/7506R-1C2023-GRUPO02/checkpoint-3/checkpoint-3/hotels-test.csv'\n",
        "df_train_encoded = pd.read_csv(url_train_encoded)\n",
        "df_train = pd.read_csv(url_train)\n",
        "df_test = pd.read_csv(url_test)\n",
        "df_test_encoded = pd.read_csv(url_test_encoded)"
      ]
    },
    {
      "cell_type": "code",
      "execution_count": null,
      "metadata": {
        "id": "hx4oi_2Ob9vL"
      },
      "outputs": [],
      "source": [
        "df_hotels_train_encoded = df_train_encoded.copy()\n",
        "df_hotels_test_encoded = df_test_encoded.copy()\n",
        "df_hotels_train = df_train.copy()\n",
        "df_hotels_test = df_test.copy()"
      ]
    },
    {
      "cell_type": "code",
      "execution_count": null,
      "metadata": {
        "colab": {
          "base_uri": "https://localhost:8080/"
        },
        "id": "hYsxull-aWqr",
        "outputId": "2c5feb4a-60ca-41a3-a21d-a802c370ae8a"
      },
      "outputs": [
        {
          "output_type": "execute_result",
          "data": {
            "text/plain": [
              "Index(['Unnamed: 0', 'lead_time', 'arrival_date_week_number',\n",
              "       'arrival_date_day_of_month', 'stays_in_weekend_nights',\n",
              "       'stays_in_week_nights', 'adults', 'children', 'babies',\n",
              "       'is_repeated_guest', 'previous_cancellations',\n",
              "       'previous_bookings_not_canceled', 'adr', 'required_car_parking_spaces',\n",
              "       'total_of_special_requests', 'id', 'is_canceled', 'hotel_Resort Hotel',\n",
              "       'market_segment_Complementary', 'market_segment_Corporate',\n",
              "       'market_segment_Direct', 'market_segment_Groups',\n",
              "       'market_segment_Offline TA/TO', 'market_segment_Online TA',\n",
              "       'distribution_channel_Direct', 'distribution_channel_GDS',\n",
              "       'distribution_channel_TA/TO', 'reserved_room_type_B',\n",
              "       'reserved_room_type_C', 'reserved_room_type_D', 'reserved_room_type_E',\n",
              "       'reserved_room_type_F', 'reserved_room_type_G', 'reserved_room_type_H',\n",
              "       'reserved_room_type_L', 'reserved_room_type_P',\n",
              "       'deposit_type_Non Refund', 'deposit_type_Refundable',\n",
              "       'customer_type_Group', 'customer_type_Transient',\n",
              "       'customer_type_Transient-Party', 'meal_FB', 'meal_HB', 'meal_SC'],\n",
              "      dtype='object')"
            ]
          },
          "metadata": {},
          "execution_count": 4
        }
      ],
      "source": [
        "df_hotels_train_encoded.columns"
      ]
    },
    {
      "cell_type": "code",
      "execution_count": null,
      "metadata": {
        "id": "6zEQlkyIabzd"
      },
      "outputs": [],
      "source": [
        "df_hotels_train_encoded.drop(columns=[\"Unnamed: 0\"], inplace=True)\n",
        "#df_hotels_train_encoded.drop(columns=[\"Unnamed: 0\"], inplace=True)\n",
        "df_hotels_train.drop(columns=[\"Unnamed: 0\"], inplace=True)\n",
        "df_hotels_test.drop(columns=[\"Unnamed: 0\"], inplace=True)"
      ]
    },
    {
      "cell_type": "code",
      "execution_count": null,
      "metadata": {
        "colab": {
          "base_uri": "https://localhost:8080/"
        },
        "id": "10YYRuTalYHr",
        "outputId": "041f58d7-08a5-4037-b082-ed680cd40c01"
      },
      "outputs": [
        {
          "output_type": "execute_result",
          "data": {
            "text/plain": [
              "Index(['lead_time', 'arrival_date_week_number', 'arrival_date_day_of_month',\n",
              "       'stays_in_weekend_nights', 'stays_in_week_nights', 'adults', 'children',\n",
              "       'babies', 'is_repeated_guest', 'previous_cancellations',\n",
              "       'previous_bookings_not_canceled', 'adr', 'required_car_parking_spaces',\n",
              "       'total_of_special_requests', 'id', 'hotel_Resort Hotel',\n",
              "       'market_segment_Complementary', 'market_segment_Corporate',\n",
              "       'market_segment_Direct', 'market_segment_Groups',\n",
              "       'market_segment_Offline TA/TO', 'market_segment_Online TA',\n",
              "       'distribution_channel_Direct', 'distribution_channel_GDS',\n",
              "       'distribution_channel_TA/TO', 'reserved_room_type_B',\n",
              "       'reserved_room_type_C', 'reserved_room_type_D', 'reserved_room_type_E',\n",
              "       'reserved_room_type_F', 'reserved_room_type_G', 'reserved_room_type_H',\n",
              "       'reserved_room_type_L', 'reserved_room_type_P',\n",
              "       'deposit_type_Non Refund', 'deposit_type_Refundable',\n",
              "       'customer_type_Group', 'customer_type_Transient',\n",
              "       'customer_type_Transient-Party', 'meal_FB', 'meal_HB', 'meal_SC'],\n",
              "      dtype='object')"
            ]
          },
          "metadata": {},
          "execution_count": 6
        }
      ],
      "source": [
        "df_hotels_test_encoded.columns"
      ]
    },
    {
      "cell_type": "markdown",
      "metadata": {
        "id": "8Xr4ZUkqgwi3"
      },
      "source": [
        "# Funciones auxiliares\n"
      ]
    },
    {
      "cell_type": "code",
      "execution_count": null,
      "metadata": {
        "id": "st6BYX7hBpe5"
      },
      "outputs": [],
      "source": [
        "#Funcion para plotear a performance\n",
        "def plot_results(model_scores, name):\n",
        "    \n",
        "    model_names = list(model_scores.keys())\n",
        "    results = [model_scores[model] for model in model_names]\n",
        "    fig = go.Figure()\n",
        "    for model, result in zip(model_names, results):\n",
        "        fig.add_trace(go.Box(\n",
        "            y=result,\n",
        "            name=model,\n",
        "            boxpoints='all',\n",
        "            jitter=0.5,\n",
        "            whiskerwidth=0.2,\n",
        "            marker_size=2,\n",
        "            line_width=1)\n",
        "        )\n",
        "    \n",
        "    fig.update_layout(\n",
        "    title='Performance of Different Models Using 5-Fold Cross-Validation',\n",
        "    paper_bgcolor='rgb(243, 243, 243)',\n",
        "    plot_bgcolor='rgb(243, 243, 243)',\n",
        "    xaxis_title='Model',\n",
        "    yaxis_title='F1 Score',\n",
        "    showlegend=False)\n",
        "    fig.show()"
      ]
    },
    {
      "cell_type": "code",
      "execution_count": null,
      "metadata": {
        "id": "KzQS3dUIgzf2"
      },
      "outputs": [],
      "source": [
        "def show_performance(y_test, y_pred):\n",
        "  print(f\"F1 Score: {f1_score(y_test, y_pred, average='binary')}\")\n",
        "  print(f\"Classification Report: \\n {classification_report(y_test, y_pred)}\")\n",
        "  matrix = confusion_matrix(y_test, y_pred)\n",
        "  sns.heatmap(matrix, cmap='Greens', annot=True, fmt='g')\n",
        "  plt.xlabel('Predicted')\n",
        "  plt.ylabel('Actual')"
      ]
    },
    {
      "cell_type": "code",
      "execution_count": null,
      "metadata": {
        "id": "7yZVWUkmYJVM"
      },
      "outputs": [],
      "source": [
        "def print_search(search, t):\n",
        "  print(f\"Mean scores: {search.cv_results_['mean_test_score']} found in {time.time() - t}\")\n",
        "  print(search.best_params_)\n",
        "  print(search.best_score_)"
      ]
    },
    {
      "cell_type": "code",
      "execution_count": null,
      "metadata": {
        "id": "CpksNJ6wcv4b"
      },
      "outputs": [],
      "source": [
        "def evaluate_model(model, x, y):\n",
        "    scorer = make_scorer(sk.metrics.f1_score)\n",
        "    cv = RepeatedStratifiedKFold(n_splits=3, n_repeats=2, random_state=1)\n",
        "    scores = cross_val_score(model, x, y, scoring=scorer, cv=cv, verbose=3, n_jobs=-1, error_score='raise')\n",
        "    return scores"
      ]
    },
    {
      "cell_type": "code",
      "execution_count": null,
      "metadata": {
        "id": "RBXC-nDSWJya"
      },
      "outputs": [],
      "source": [
        "def train_with_cv(model, params, folds, x_train, y_train, jobs=-1):\n",
        "  # Spits que respeten la proporción de las clases\n",
        "  kfoldcv = StratifiedKFold(n_splits=folds) \n",
        "  \n",
        "  #Creo Modelo con los mejores hiperparámetros \n",
        "  model.set_params(**params)\n",
        "\n",
        "  #Selecciono métrica F1-Score\n",
        "  scorer_fn = make_scorer(sk.metrics.f1_score)\n",
        "\n",
        "  #Hago CV\n",
        "  resultados = cross_validate(model,x_train, y_train, cv=kfoldcv,scoring=scorer_fn,return_estimator=True, n_jobs=jobs, verbose=10)\n",
        "\n",
        "  metricsCV=resultados['test_score']\n",
        "  print(f\"Best Score: {max(metricsCV)}\")\n",
        "  return resultados['estimator'][np.where(metricsCV==max(metricsCV))[0][0]]"
      ]
    },
    {
      "cell_type": "markdown",
      "metadata": {
        "id": "-tdDD19IQ7nd"
      },
      "source": [
        "# Separación de conjuntos de Test y Train"
      ]
    },
    {
      "cell_type": "code",
      "execution_count": null,
      "metadata": {
        "colab": {
          "base_uri": "https://localhost:8080/"
        },
        "id": "Ly8Z3doTRCtH",
        "outputId": "d73aa82a-48e3-4452-9f54-a310782cf65f"
      },
      "outputs": [
        {
          "output_type": "stream",
          "name": "stdout",
          "text": [
            "Shape del X: (59477, 41) y Shape del Y: (59477,)\n"
          ]
        }
      ],
      "source": [
        "x_model = df_hotels_train_encoded\n",
        "y_model = df_hotels_train['is_canceled']\n",
        "x_model.drop('id', axis=1, inplace=True)\n",
        "x_model.drop('is_canceled', axis=1, inplace=True)\n",
        "\n",
        "\n",
        "#Podemos ver que el numero de filas coincide.\n",
        "assert(x_model.shape[0] == y_model.shape[0])\n",
        "print(f\"Shape del X: {x_model.shape} y Shape del Y: {y_model.shape}\")"
      ]
    },
    {
      "cell_type": "code",
      "execution_count": null,
      "metadata": {
        "colab": {
          "base_uri": "https://localhost:8080/"
        },
        "id": "Xtw5sDZAcRwp",
        "outputId": "ca033315-a26e-47fa-ac9c-c3ea4ae89425"
      },
      "outputs": [
        {
          "output_type": "execute_result",
          "data": {
            "text/plain": [
              "(47581, 11896)"
            ]
          },
          "metadata": {},
          "execution_count": 13
        }
      ],
      "source": [
        "x_train, x_test, y_train, y_test = train_test_split(x_model, \n",
        "                                                    y_model,\n",
        "                                                    test_size=0.2,\n",
        "                                                    random_state=145,\n",
        "                                                    )\n",
        "\n",
        "len(x_train) , len(x_test)"
      ]
    },
    {
      "cell_type": "markdown",
      "metadata": {
        "id": "wVl8ea5EamHG"
      },
      "source": [
        "### ***Modo de ejecucion***\n",
        "\n",
        "\n",
        "1.   inject == True (No correra los fits, usara valores pasados.)\n",
        "2.   inject == False (Corre con todos los fits, no termina nunca je).\n",
        "\n"
      ]
    },
    {
      "cell_type": "code",
      "execution_count": null,
      "metadata": {
        "id": "IQnZgINhai-l"
      },
      "outputs": [],
      "source": [
        "inject = True"
      ]
    },
    {
      "cell_type": "markdown",
      "metadata": {
        "id": "0CZaJG3BQH71"
      },
      "source": [
        "# Clasificación con KNN\n"
      ]
    },
    {
      "cell_type": "code",
      "execution_count": null,
      "metadata": {
        "id": "Pbw7mJSIdqlv"
      },
      "outputs": [],
      "source": [
        "#Clasificador KNN\n",
        "model = KNeighborsClassifier(n_jobs=-1)"
      ]
    },
    {
      "cell_type": "code",
      "execution_count": null,
      "metadata": {
        "id": "9HTVnqzacwO5"
      },
      "outputs": [],
      "source": [
        "import time\n",
        "\n",
        "#Grilla de Parámetros\n",
        "params_grid={ 'n_neighbors':range(50,500), \n",
        "              'weights':['distance','uniform'],\n",
        "              'algorithm':['ball_tree', 'kd_tree', 'brute'],\n",
        "              'metric':['euclidean','manhattan','chebyshev'],\n",
        "              'leaf_size': range(30,200, 10) #maybe not needed.\n",
        "             }\n",
        "\n",
        "# Metrica a optimizar (F1 Score)\n",
        "scorer = make_scorer(sk.metrics.f1_score)\n",
        "\n",
        "iters = 40\n",
        "folds = 7\n",
        "\n",
        "search = RandomizedSearchCV(model, params_grid, cv=folds, scoring = scorer, n_iter=iters, random_state=231, verbose=10, n_jobs=-1)\n",
        "\n",
        "start = time.time()\n",
        "if not inject:\n",
        "  search.fit(X = x_train, y = y_train)\n",
        "  print_search(search, start)"
      ]
    },
    {
      "cell_type": "code",
      "execution_count": null,
      "metadata": {
        "id": "86vKCO1fZf1d"
      },
      "outputs": [],
      "source": [
        "#Best Score: 0.79\n",
        "knn_best_params = search.best_params_ if not inject else {'weights': 'distance', 'n_neighbors': 120, 'metric': 'manhattan', 'leaf_size': 120, 'algorithm': 'brute'}"
      ]
    },
    {
      "cell_type": "code",
      "execution_count": null,
      "metadata": {
        "id": "lsoXe-WHcZmy",
        "colab": {
          "base_uri": "https://localhost:8080/",
          "height": 814
        },
        "outputId": "8a2b987b-e5ee-4bb1-e4b4-d5a0675bc49c"
      },
      "outputs": [
        {
          "output_type": "stream",
          "name": "stderr",
          "text": [
            "[Parallel(n_jobs=-1)]: Using backend LokyBackend with 12 concurrent workers.\n",
            "[Parallel(n_jobs=-1)]: Done   1 tasks      | elapsed:    9.1s\n",
            "[Parallel(n_jobs=-1)]: Done   2 out of   7 | elapsed:    9.1s remaining:   22.9s\n",
            "[Parallel(n_jobs=-1)]: Done   3 out of   7 | elapsed:    9.1s remaining:   12.2s\n",
            "[Parallel(n_jobs=-1)]: Done   4 out of   7 | elapsed:    9.1s remaining:    6.8s\n",
            "[Parallel(n_jobs=-1)]: Done   5 out of   7 | elapsed:    9.2s remaining:    3.6s\n",
            "[Parallel(n_jobs=-1)]: Done   7 out of   7 | elapsed:    9.3s remaining:    0.0s\n",
            "[Parallel(n_jobs=-1)]: Done   7 out of   7 | elapsed:    9.3s finished\n"
          ]
        },
        {
          "output_type": "stream",
          "name": "stdout",
          "text": [
            "Best Score: 0.8031254787804504\n",
            "AUC: 0.8858178508208235\n",
            "F1 Score: 0.7910144158485893\n",
            "Classification Report: \n",
            "               precision    recall  f1-score   support\n",
            "\n",
            "           0       0.79      0.83      0.81      6097\n",
            "           1       0.81      0.77      0.79      5799\n",
            "\n",
            "    accuracy                           0.80     11896\n",
            "   macro avg       0.80      0.80      0.80     11896\n",
            "weighted avg       0.80      0.80      0.80     11896\n",
            "\n"
          ]
        },
        {
          "output_type": "display_data",
          "data": {
            "text/plain": [
              "<Figure size 640x480 with 2 Axes>"
            ],
            "image/png": "[encoded data removed]"
          },
          "metadata": {}
        }
      ],
      "source": [
        "knn = train_with_cv(KNeighborsClassifier(n_jobs=-1), knn_best_params, folds, x_train, y_train)\n",
        "\n",
        "#Evaluo en el set de test\n",
        "y_pred_proba= knn.predict_proba(x_test)[:, 1]\n",
        "print('AUC:',roc_auc_score(y_test, y_pred_proba))\n",
        "\n",
        "#Matriz de Confusion\n",
        "y_pred=knn.predict(x_test)\n",
        "show_performance(y_test, y_pred)"
      ]
    },
    {
      "cell_type": "code",
      "source": [
        "knn_final_score = f1_score(y_test, y_pred, average='binary')"
      ],
      "metadata": {
        "id": "mksiIrIHMPBx"
      },
      "execution_count": null,
      "outputs": []
    },
    {
      "cell_type": "markdown",
      "metadata": {
        "id": "KGgUAJw1QObQ"
      },
      "source": [
        "# Clasificación con SVM\n"
      ]
    },
    {
      "cell_type": "markdown",
      "metadata": {
        "id": "fRun5c-eZZio"
      },
      "source": [
        "### Normalizado"
      ]
    },
    {
      "cell_type": "code",
      "execution_count": null,
      "metadata": {
        "id": "ZxfEJ7J-niSN"
      },
      "outputs": [],
      "source": [
        "def metricas(y_pred,y_test):\n",
        "\n",
        "  print(classification_report(y_test,y_pred))\n",
        "  \n",
        "  cm = confusion_matrix(y_test,y_pred)\n",
        "  sns.heatmap(cm, cmap='Blues',annot=True,fmt='g')\n",
        "  plt.xlabel('Predicted')\n",
        "  plt.ylabel('True')"
      ]
    },
    {
      "cell_type": "code",
      "execution_count": null,
      "metadata": {
        "id": "vdO38wQ4nm_s"
      },
      "outputs": [],
      "source": [
        "#Armo una version estandarizada\n",
        "stand_scaler = preprocessing.StandardScaler()\n",
        "x_train_norm = stand_scaler.fit_transform(x_train)\n",
        "x_test_norm = stand_scaler.transform(x_test)"
      ]
    },
    {
      "cell_type": "code",
      "execution_count": null,
      "metadata": {
        "id": "1pY3QbI9nqpx",
        "colab": {
          "base_uri": "https://localhost:8080/",
          "height": 605
        },
        "outputId": "5b44f5c4-2197-438d-aad0-ece5956fc71f"
      },
      "outputs": [
        {
          "output_type": "stream",
          "name": "stdout",
          "text": [
            "              precision    recall  f1-score   support\n",
            "\n",
            "           0       0.75      0.87      0.80      6097\n",
            "           1       0.83      0.69      0.76      5799\n",
            "\n",
            "    accuracy                           0.78     11896\n",
            "   macro avg       0.79      0.78      0.78     11896\n",
            "weighted avg       0.79      0.78      0.78     11896\n",
            "\n"
          ]
        },
        {
          "output_type": "display_data",
          "data": {
            "text/plain": [
              "<Figure size 640x480 with 2 Axes>"
            ],
            "image/png": "[encoded data removed]"
          },
          "metadata": {}
        }
      ],
      "source": [
        "#Construyo un modelo SVM  \n",
        "svm_norm= SVC()\n",
        "\n",
        "#Lo entreno con los datos escalados con normalizacion\n",
        "svm_norm.fit(x_train_norm, y_train)\n",
        "\n",
        "#Hago la prediccion y calculo las métricas\n",
        "y_pred_norm=svm_norm.predict(x_test_norm)\n",
        "metricas(y_pred_norm,y_test)"
      ]
    },
    {
      "cell_type": "markdown",
      "metadata": {
        "id": "CQQ4QSe3ct1U"
      },
      "source": [
        "### PCA"
      ]
    },
    {
      "cell_type": "code",
      "execution_count": null,
      "metadata": {
        "id": "FUUdxJZ1c5Es",
        "colab": {
          "base_uri": "https://localhost:8080/",
          "height": 466
        },
        "outputId": "855da17b-d3f6-4194-e93c-5838fbd16e33"
      },
      "outputs": [
        {
          "output_type": "execute_result",
          "data": {
            "text/plain": [
              "Text(0, 0.5, 'Varianza Explicada (%)')"
            ]
          },
          "metadata": {},
          "execution_count": 23
        },
        {
          "output_type": "display_data",
          "data": {
            "text/plain": [
              "<Figure size 640x480 with 1 Axes>"
            ],
            "image/png": "[encoded data removed]"
          },
          "metadata": {}
        }
      ],
      "source": [
        "#PCA sobre los datos escalados\n",
        "pca = PCA(n_components = None)\n",
        "pca.fit(x_train_norm)\n",
        "\n",
        "#Cantidad de Componentes\n",
        "componentes = len(pca.explained_variance_ratio_) \n",
        "\n",
        "#Grafico la Varianza Explicada \n",
        "plt.plot(range(1,componentes+1), np.cumsum(pca.explained_variance_ratio_ * 100))\n",
        "plt.xlabel(\"Numero de componentes\")\n",
        "plt.ylabel(\"Varianza Explicada (%)\")"
      ]
    },
    {
      "cell_type": "code",
      "execution_count": null,
      "metadata": {
        "id": "HVlTg-CCcvam",
        "colab": {
          "base_uri": "https://localhost:8080/",
          "height": 605
        },
        "outputId": "95ebb307-445c-401a-a280-7287fc004d58"
      },
      "outputs": [
        {
          "output_type": "stream",
          "name": "stdout",
          "text": [
            "              precision    recall  f1-score   support\n",
            "\n",
            "           0       0.75      0.85      0.79      6097\n",
            "           1       0.82      0.69      0.75      5799\n",
            "\n",
            "    accuracy                           0.77     11896\n",
            "   macro avg       0.78      0.77      0.77     11896\n",
            "weighted avg       0.78      0.77      0.77     11896\n",
            "\n"
          ]
        },
        {
          "output_type": "display_data",
          "data": {
            "text/plain": [
              "<Figure size 640x480 with 2 Axes>"
            ],
            "image/png": "[encoded data removed]"
          },
          "metadata": {}
        }
      ],
      "source": [
        "_pca = PCA(n_components = 15)\n",
        "_model = SVC()\n",
        "\n",
        "#Creo un pipeline\n",
        "svm_model = Pipeline([\n",
        "    ('pca', _pca),\n",
        "    ('svm', _model)\n",
        "])\n",
        "\n",
        "#Entreno sobre los datos que serán previamente escalados y transformados\n",
        "svm_model.fit(x_train_norm,y_train)\n",
        "\n",
        "#Hago la predicción y calculo las métricas\n",
        "y_pred_pca=svm_model.predict(x_test_norm)\n",
        "metricas(y_pred_pca,y_test)"
      ]
    },
    {
      "cell_type": "markdown",
      "metadata": {
        "id": "D2Ze9vYxg2gg"
      },
      "source": [
        "###Optimización de hiperparámetros"
      ]
    },
    {
      "cell_type": "code",
      "execution_count": null,
      "metadata": {
        "id": "gJef1pAJqbLh"
      },
      "outputs": [],
      "source": [
        "#Tomo un subconjunto de los datos de entrenamiento para que no tarde tanto\n",
        "\n",
        "x_train_small, _, y_train_small, _ = train_test_split(x_train, y_train, train_size=0.3)\n",
        "x_train_small_norm = stand_scaler.fit_transform(x_train_small)"
      ]
    },
    {
      "cell_type": "markdown",
      "metadata": {
        "id": "g01e745LZ1Dh"
      },
      "source": [
        "####Kernel linear"
      ]
    },
    {
      "cell_type": "code",
      "execution_count": null,
      "metadata": {
        "id": "7YTzZCiW_r8q"
      },
      "outputs": [],
      "source": [
        "#Uso GridSearchCV para optimizar los hiperparámetros para el kernel linear\n",
        "\n",
        "from sklearn.model_selection import GridSearchCV\n",
        "  \n",
        "param_grid = {'svm__C': [0.1, 1, 10], \n",
        "              'svm__kernel': ['linear']} \n",
        "\n",
        "if not inject:\n",
        "  grid_lin = GridSearchCV(svm_model, param_grid, cv=7, verbose=3, n_jobs=7)\n",
        "\n",
        "  start = time.time()\n",
        "\n",
        "  grid_lin.fit(x_train_small_norm, y_train_small)\n",
        "  y_pred_lin = grid_lin.predict(x_test_norm)\n",
        "\n",
        "  print(f\"Best score: {grid_lin.best_score_}, found in {time.time() - start}\")\n",
        "  print(grid_lin.best_params_)\n",
        "  metricas(y_pred_lin,y_test)"
      ]
    },
    {
      "cell_type": "markdown",
      "metadata": {
        "id": "RctXpx6fFo_d"
      },
      "source": [
        "####Kernel radial"
      ]
    },
    {
      "cell_type": "code",
      "execution_count": null,
      "metadata": {
        "id": "Leh7iLQ1_Ukg"
      },
      "outputs": [],
      "source": [
        "#Uso GridSearchCV para optimizar los hiperparámetros para el kernel radial\n",
        "\n",
        "from sklearn.model_selection import GridSearchCV\n",
        "  \n",
        "param_grid = {'svm__C': [0.1, 1, 10], \n",
        "              'svm__gamma': [1, 0.1, 0.01],\n",
        "              'svm__kernel': ['rbf']} \n",
        "\n",
        "if not inject:\n",
        "  grid_rad = GridSearchCV(svm_model, param_grid, cv=7, verbose=3, n_jobs=7)\n",
        "\n",
        "  start = time.time()\n",
        "\n",
        "  grid_rad.fit(x_train_small_norm, y_train_small)\n",
        "  y_pred_rad = grid_rad.predict(x_test_norm)\n",
        "\n",
        "  print(f\"Best score: {grid_rad.best_score_}, found in {time.time() - start}\")\n",
        "  print(grid_rad.best_params_)\n",
        "  metricas(y_pred_rad,y_test)"
      ]
    },
    {
      "cell_type": "markdown",
      "metadata": {
        "id": "w0XEtfh8Ft3F"
      },
      "source": [
        "####Kernel polinómico"
      ]
    },
    {
      "cell_type": "code",
      "execution_count": null,
      "metadata": {
        "id": "Drl381V9pcTY"
      },
      "outputs": [],
      "source": [
        "#Uso GridSearchCV para optimizar los hiperparámetros para el kernel polinómico\n",
        "\n",
        "from sklearn.model_selection import GridSearchCV\n",
        "  \n",
        "param_grid = {'svm__C': [1, 10, 100], \n",
        "              'svm__gamma': [0.1, 0.01],\n",
        "              'svm__degree': [3],\n",
        "              'svm__coef0': [0, 0.5, 1],\n",
        "              'svm__kernel': ['poly']} \n",
        "\n",
        "if not inject:\n",
        "    grid_poly = GridSearchCV(svm_model, param_grid, cv=7, verbose=3, n_jobs=7)\n",
        "    start = time.time()\n",
        "    grid_poly.fit(x_train_small_norm, y_train_small)\n",
        "\n",
        "    y_pred_poly = grid_poly.predict(x_test_norm)\n",
        "\n",
        "    print(f\"Best score: {grid_poly.best_score_}, found in {time.time() - start}\")\n",
        "    print(grid_poly.best_params_)\n",
        "    metricas(y_pred_poly,y_test)\n"
      ]
    },
    {
      "cell_type": "markdown",
      "metadata": {
        "id": "UYlo3AXEi_-q"
      },
      "source": [
        "###Kernels"
      ]
    },
    {
      "cell_type": "code",
      "execution_count": null,
      "metadata": {
        "id": "L2Q39ids-q-Z",
        "colab": {
          "base_uri": "https://localhost:8080/",
          "height": 605
        },
        "outputId": "0dbb90b7-40b6-49ba-f339-4457c14eb676"
      },
      "outputs": [
        {
          "output_type": "stream",
          "name": "stdout",
          "text": [
            "              precision    recall  f1-score   support\n",
            "\n",
            "           0       0.74      0.82      0.78      6097\n",
            "           1       0.79      0.70      0.74      5799\n",
            "\n",
            "    accuracy                           0.76     11896\n",
            "   macro avg       0.76      0.76      0.76     11896\n",
            "weighted avg       0.76      0.76      0.76     11896\n",
            "\n"
          ]
        },
        {
          "output_type": "display_data",
          "data": {
            "text/plain": [
              "<Figure size 640x480 with 2 Axes>"
            ],
            "image/png": "[encoded data removed]"
          },
          "metadata": {}
        }
      ],
      "source": [
        "#Clasificador con kernel lineal\n",
        "clf_lin = SVC(kernel='linear', C=0.1)\n",
        "clf_lin.fit(x_train_norm, y_train)\n",
        "\n",
        "#Predicción y métricas\n",
        "y_pred_lin = clf_lin.predict(x_test_norm)\n",
        "metricas(y_pred_lin,y_test)"
      ]
    },
    {
      "cell_type": "code",
      "execution_count": null,
      "metadata": {
        "id": "-bfCEIHY9XB1",
        "colab": {
          "base_uri": "https://localhost:8080/",
          "height": 608
        },
        "outputId": "a2666ac7-ca0f-4777-ef5e-f770614bbbbe"
      },
      "outputs": [
        {
          "output_type": "stream",
          "name": "stdout",
          "text": [
            "              precision    recall  f1-score   support\n",
            "\n",
            "           0       0.79      0.83      0.81      6097\n",
            "           1       0.81      0.77      0.79      5799\n",
            "\n",
            "    accuracy                           0.80     11896\n",
            "   macro avg       0.80      0.80      0.80     11896\n",
            "weighted avg       0.80      0.80      0.80     11896\n",
            "\n"
          ]
        },
        {
          "output_type": "display_data",
          "data": {
            "text/plain": [
              "<Figure size 640x480 with 2 Axes>"
            ],
            "image/png": "[encoded data removed]"
          },
          "metadata": {}
        }
      ],
      "source": [
        "#Clasificador con kernel radial\n",
        "clf_rad = SVC(kernel='rbf', C=10, gamma=0.1)\n",
        "clf_rad.fit(x_train_norm, y_train)\n",
        "\n",
        "#Predicción y métricas\n",
        "y_pred_rad=clf_rad.predict(x_test_norm)\n",
        "metricas(y_pred_rad,y_test)"
      ]
    },
    {
      "cell_type": "code",
      "execution_count": null,
      "metadata": {
        "id": "tq9Zp4DfjENO",
        "colab": {
          "base_uri": "https://localhost:8080/",
          "height": 605
        },
        "outputId": "a77fc013-a9cd-4a52-bfa9-25b07471e5d9"
      },
      "outputs": [
        {
          "output_type": "stream",
          "name": "stdout",
          "text": [
            "              precision    recall  f1-score   support\n",
            "\n",
            "           0       0.77      0.83      0.80      6097\n",
            "           1       0.81      0.74      0.77      5799\n",
            "\n",
            "    accuracy                           0.79     11896\n",
            "   macro avg       0.79      0.79      0.79     11896\n",
            "weighted avg       0.79      0.79      0.79     11896\n",
            "\n"
          ]
        },
        {
          "output_type": "display_data",
          "data": {
            "text/plain": [
              "<Figure size 640x480 with 2 Axes>"
            ],
            "image/png": "[encoded data removed]"
          },
          "metadata": {}
        }
      ],
      "source": [
        "#Clasificador con kernel polinómico (f)\n",
        "clf_poly = SVC(kernel='poly', C=1, degree=3, coef0=1, gamma=0.1)\n",
        "clf_poly.fit(x_train_norm, y_train)\n",
        "\n",
        "#Predicción y métricas\n",
        "y_pred_poly=clf_poly.predict(x_test_norm)\n",
        "metricas(y_pred_poly,y_test)"
      ]
    },
    {
      "cell_type": "code",
      "execution_count": null,
      "metadata": {
        "id": "vdneQ1vcKUPR"
      },
      "outputs": [],
      "source": [
        "#Selecciono el kernel con el mejor resultado:\n",
        "score_lin = f1_score(y_test, y_pred_lin)\n",
        "score_rad = f1_score(y_test, y_pred_rad)\n",
        "score_poly = f1_score(y_test, y_pred_poly)\n",
        "\n",
        "if not inject: \n",
        "  results = [(clf_lin, score_lin, grid_lin.best_params_),(clf_rad, score_rad, grid_rad.best_params_),(clf_poly, score_poly, grid_poly.best_params_)]\n",
        "  best_kernel, best_score, svm_best_params = max(results, key=lambda x: x[1])\n",
        "  print(f\"El kernel con el score más alto fue: {best_kernel}, con un score de {best_score} y usando los siguientes parámetros: {svm_best_params}\")"
      ]
    },
    {
      "cell_type": "code",
      "source": [
        "svm_best_params = svm_best_params if not inject else {'kernel':'rbf', 'C':10, 'gamma':0.1}"
      ],
      "metadata": {
        "id": "OXkq999-s8rK"
      },
      "execution_count": null,
      "outputs": []
    },
    {
      "cell_type": "code",
      "source": [
        "svm_final_score = score_rad"
      ],
      "metadata": {
        "id": "5UvBfUWHOCck"
      },
      "execution_count": null,
      "outputs": []
    },
    {
      "cell_type": "markdown",
      "metadata": {
        "id": "nAXjNOzUQQnG"
      },
      "source": [
        "# Clasificación con XGBoost\n"
      ]
    },
    {
      "cell_type": "code",
      "execution_count": null,
      "metadata": {
        "id": "uXusspnMQQnG"
      },
      "outputs": [],
      "source": [
        "#Optimizamos Hiperparametros.\n",
        "\n",
        "xgb_pipeline = Pipeline([('classifier',XGBClassifier(random_state=50))])\n",
        "\n",
        "gbm_param_grid = {\n",
        "    'classifier__n_estimators': np.array([100,200,300]),        \n",
        "    'classifier__subsample': np.array([0.7,0.8,0.9]),    \n",
        "    'classifier__max_depth': np.array([10,11,12,13]), \n",
        "    'classifier__lambda': np.array([0.1, 0.5, 0.9, 1]),\n",
        "    'classifier__gamma': np.array([0, 1 , 10]),\n",
        "    'classifier__alpha': np.array([0, 10, 25 ,50, 100])\n",
        "}\n",
        "\n",
        "iters = 75\n",
        "folds = 7\n",
        "scorer = make_scorer(sk.metrics.f1_score)\n",
        "\n",
        "search = RandomizedSearchCV(estimator=xgb_pipeline, param_distributions=gbm_param_grid, n_jobs= -1, n_iter=iters,scoring=scorer, verbose=3, cv=folds) \n",
        "start = time.time()\n",
        "if not inject:\n",
        "  search.fit(X = x_train, y = y_train)\n",
        "  print_search(search, start)"
      ]
    },
    {
      "cell_type": "code",
      "execution_count": null,
      "metadata": {
        "id": "ujX7F1sFZ1HL"
      },
      "outputs": [],
      "source": [
        "#Best Score: 0.82\n",
        "xgboost_best_params = search.best_params_ if not inject else {'classifier__subsample': 0.9, \n",
        "      'classifier__n_estimators': 300, \n",
        "      'classifier__max_depth': 12, \n",
        "      'classifier__lambda': 1.0, \n",
        "      'classifier__gamma': 1, \n",
        "      'classifier__alpha': 0\n",
        "}"
      ]
    },
    {
      "cell_type": "code",
      "execution_count": null,
      "metadata": {
        "id": "rmh67m8Zoajs",
        "colab": {
          "base_uri": "https://localhost:8080/",
          "height": 814
        },
        "outputId": "9e711e54-930f-4570-a1a1-2183b1bd7668"
      },
      "outputs": [
        {
          "output_type": "stream",
          "name": "stderr",
          "text": [
            "[Parallel(n_jobs=-1)]: Using backend LokyBackend with 12 concurrent workers.\n",
            "[Parallel(n_jobs=-1)]: Done   1 tasks      | elapsed:   38.3s\n",
            "[Parallel(n_jobs=-1)]: Done   2 out of   7 | elapsed:   38.5s remaining:  1.6min\n",
            "[Parallel(n_jobs=-1)]: Done   3 out of   7 | elapsed:   38.5s remaining:   51.4s\n",
            "[Parallel(n_jobs=-1)]: Done   4 out of   7 | elapsed:   38.6s remaining:   28.9s\n",
            "[Parallel(n_jobs=-1)]: Done   5 out of   7 | elapsed:   38.6s remaining:   15.4s\n",
            "[Parallel(n_jobs=-1)]: Done   7 out of   7 | elapsed:   38.8s remaining:    0.0s\n",
            "[Parallel(n_jobs=-1)]: Done   7 out of   7 | elapsed:   38.8s finished\n"
          ]
        },
        {
          "output_type": "stream",
          "name": "stdout",
          "text": [
            "Best Score: 0.8233886645730522\n",
            "AUC: 0.9053938394303306\n",
            "F1 Score: 0.8143962444579675\n",
            "Classification Report: \n",
            "               precision    recall  f1-score   support\n",
            "\n",
            "           0       0.82      0.83      0.83      6097\n",
            "           1       0.82      0.81      0.81      5799\n",
            "\n",
            "    accuracy                           0.82     11896\n",
            "   macro avg       0.82      0.82      0.82     11896\n",
            "weighted avg       0.82      0.82      0.82     11896\n",
            "\n"
          ]
        },
        {
          "output_type": "display_data",
          "data": {
            "text/plain": [
              "<Figure size 640x480 with 2 Axes>"
            ],
            "image/png": "[encoded data removed]"
          },
          "metadata": {}
        }
      ],
      "source": [
        "xgboost = train_with_cv(Pipeline([('classifier',XGBClassifier(random_state=50))]), xgboost_best_params, folds, x_train, y_train)\n",
        "\n",
        "#Evaluo en el set de test\n",
        "y_pred_proba= xgboost.predict_proba(x_test)[:, 1]\n",
        "print('AUC:',roc_auc_score(y_test, y_pred_proba))\n",
        "\n",
        "#Matriz de Confusion\n",
        "y_pred=xgboost.predict(x_test)\n",
        "show_performance(y_test, y_pred)"
      ]
    },
    {
      "cell_type": "code",
      "source": [
        "xgb_final_score = f1_score(y_test, y_pred, average='binary')"
      ],
      "metadata": {
        "id": "sJKf1z8UL_Sc"
      },
      "execution_count": null,
      "outputs": []
    },
    {
      "cell_type": "markdown",
      "metadata": {
        "id": "Mak2Q0ebQXrQ"
      },
      "source": [
        "#Ensambles"
      ]
    },
    {
      "cell_type": "markdown",
      "metadata": {
        "id": "s4WzBQGTmsx3"
      },
      "source": [
        "## Random Forest"
      ]
    },
    {
      "cell_type": "code",
      "execution_count": null,
      "metadata": {
        "id": "FW9vmezcmu8s"
      },
      "outputs": [],
      "source": [
        "model = RandomForestClassifier(max_features='auto', oob_score=True, random_state=1, n_jobs=-1)\n",
        "\n",
        "import time\n",
        "\n",
        "param_grid = { \"criterion\" : [\"gini\", \"entropy\"], \n",
        " 'max_depth': [10, 20, 30, 40, 50, 60, 70, 80, 90, 100],\n",
        " 'max_features': ['auto', 'sqrt'],\n",
        " 'min_samples_leaf': [1, 2, 4],\n",
        " 'min_samples_split': [2, 5, 10],\n",
        " 'n_estimators': [200, 400, 600, 800, 1000, 1200, 1400, 1600, 1800, 2000]\n",
        " }\n",
        "\n",
        "#Probamos entrenando sólo con 1 métrica\n",
        "scorer = make_scorer(sk.metrics.f1_score)\n",
        "\n",
        "iters = 75\n",
        "folds = 7\n",
        "\n",
        "start = time.time()\n",
        "search = RandomizedSearchCV(model, param_grid, scoring=scorer, cv=folds, n_jobs=1, n_iter=iters, verbose = 10, random_state=231)\n",
        "if not inject:\n",
        "  search.fit(X = x_train, y = y_train)\n",
        "  print_search(search, start)"
      ]
    },
    {
      "cell_type": "code",
      "execution_count": null,
      "metadata": {
        "id": "hhT0X7gabj9t"
      },
      "outputs": [],
      "source": [
        "#Mejor Result: 0.82\n",
        "rforest_best_params = search.best_params_ if not inject else {'n_estimators': 1800, 'min_samples_split': 2, 'min_samples_leaf': 1, 'max_features': 'sqrt', 'max_depth': 60, 'criterion': 'entropy'}"
      ]
    },
    {
      "cell_type": "code",
      "execution_count": null,
      "metadata": {
        "id": "KFZRQ10aPkVI",
        "colab": {
          "base_uri": "https://localhost:8080/",
          "height": 1000
        },
        "outputId": "d25e8d06-e8c5-471f-eed2-38f81969ca9a"
      },
      "outputs": [
        {
          "output_type": "stream",
          "name": "stderr",
          "text": [
            "[Parallel(n_jobs=1)]: Using backend SequentialBackend with 1 concurrent workers.\n"
          ]
        },
        {
          "output_type": "stream",
          "name": "stdout",
          "text": [
            "[CV] START .....................................................................\n"
          ]
        },
        {
          "output_type": "stream",
          "name": "stderr",
          "text": [
            "[Parallel(n_jobs=-1)]: Using backend LokyBackend with 12 concurrent workers.\n",
            "[Parallel(n_jobs=-1)]: Done   1 tasks      | elapsed:    3.6s\n",
            "[Parallel(n_jobs=-1)]: Done   8 tasks      | elapsed:    3.7s\n",
            "[Parallel(n_jobs=-1)]: Done  17 tasks      | elapsed:    3.8s\n",
            "[Parallel(n_jobs=-1)]: Done  26 tasks      | elapsed:    3.9s\n",
            "[Parallel(n_jobs=-1)]: Done  37 tasks      | elapsed:    4.0s\n",
            "[Parallel(n_jobs=-1)]: Done  48 tasks      | elapsed:    4.0s\n",
            "[Parallel(n_jobs=-1)]: Batch computation too fast (0.1997s.) Setting batch_size=2.\n",
            "[Parallel(n_jobs=-1)]: Done  61 tasks      | elapsed:    4.1s\n",
            "[Parallel(n_jobs=-1)]: Done  74 tasks      | elapsed:    4.3s\n",
            "[Parallel(n_jobs=-1)]: Done  94 tasks      | elapsed:    4.4s\n",
            "[Parallel(n_jobs=-1)]: Done 124 tasks      | elapsed:    4.6s\n",
            "[Parallel(n_jobs=-1)]: Done 158 tasks      | elapsed:    4.8s\n",
            "[Parallel(n_jobs=-1)]: Done 192 tasks      | elapsed:    5.0s\n",
            "[Parallel(n_jobs=-1)]: Done 230 tasks      | elapsed:    5.2s\n",
            "[Parallel(n_jobs=-1)]: Done 268 tasks      | elapsed:    5.4s\n",
            "[Parallel(n_jobs=-1)]: Done 310 tasks      | elapsed:    5.7s\n",
            "[Parallel(n_jobs=-1)]: Done 352 tasks      | elapsed:    5.9s\n",
            "[Parallel(n_jobs=-1)]: Done 398 tasks      | elapsed:    6.2s\n",
            "[Parallel(n_jobs=-1)]: Done 444 tasks      | elapsed:    6.4s\n",
            "[Parallel(n_jobs=-1)]: Done 494 tasks      | elapsed:    6.7s\n",
            "[Parallel(n_jobs=-1)]: Done 544 tasks      | elapsed:    7.0s\n",
            "[Parallel(n_jobs=-1)]: Done 598 tasks      | elapsed:    7.3s\n",
            "[Parallel(n_jobs=-1)]: Done 652 tasks      | elapsed:    7.6s\n",
            "[Parallel(n_jobs=-1)]: Done 710 tasks      | elapsed:    8.0s\n",
            "[Parallel(n_jobs=-1)]: Done 768 tasks      | elapsed:    8.4s\n",
            "[Parallel(n_jobs=-1)]: Done 830 tasks      | elapsed:    8.8s\n",
            "[Parallel(n_jobs=-1)]: Done 892 tasks      | elapsed:    9.2s\n",
            "[Parallel(n_jobs=-1)]: Done 958 tasks      | elapsed:    9.7s\n",
            "[Parallel(n_jobs=-1)]: Done 1024 tasks      | elapsed:   10.1s\n",
            "[Parallel(n_jobs=-1)]: Done 1094 tasks      | elapsed:   10.5s\n",
            "[Parallel(n_jobs=-1)]: Done 1164 tasks      | elapsed:   10.9s\n",
            "[Parallel(n_jobs=-1)]: Done 1238 tasks      | elapsed:   11.3s\n",
            "[Parallel(n_jobs=-1)]: Done 1312 tasks      | elapsed:   11.7s\n",
            "[Parallel(n_jobs=-1)]: Done 1390 tasks      | elapsed:   12.1s\n",
            "[Parallel(n_jobs=-1)]: Done 1468 tasks      | elapsed:   12.6s\n",
            "[Parallel(n_jobs=-1)]: Done 1550 tasks      | elapsed:   13.0s\n",
            "[Parallel(n_jobs=-1)]: Done 1632 tasks      | elapsed:   13.5s\n",
            "[Parallel(n_jobs=-1)]: Done 1718 tasks      | elapsed:   14.0s\n",
            "[Parallel(n_jobs=-1)]: Done 1800 out of 1800 | elapsed:   14.4s finished\n"
          ]
        },
        {
          "output_type": "stream",
          "name": "stdout",
          "text": [
            "Using ThreadingBackend as joblib.Parallel backend instead of LokyBackend as the latter does not provide shared memory semantics.\n"
          ]
        },
        {
          "output_type": "stream",
          "name": "stderr",
          "text": [
            "[Parallel(n_jobs=12)]: Using backend ThreadingBackend with 12 concurrent workers.\n",
            "[Parallel(n_jobs=12)]: Done   1 tasks      | elapsed:    0.0s\n",
            "[Parallel(n_jobs=12)]: Done   8 tasks      | elapsed:    0.0s\n",
            "[Parallel(n_jobs=12)]: Done  17 tasks      | elapsed:    0.0s\n",
            "[Parallel(n_jobs=12)]: Done  26 tasks      | elapsed:    0.0s\n",
            "[Parallel(n_jobs=12)]: Done  37 tasks      | elapsed:    0.0s\n",
            "[Parallel(n_jobs=12)]: Done  48 tasks      | elapsed:    0.0s\n",
            "[Parallel(n_jobs=12)]: Done  61 tasks      | elapsed:    0.0s\n",
            "[Parallel(n_jobs=12)]: Done  74 tasks      | elapsed:    0.0s\n",
            "[Parallel(n_jobs=12)]: Done  89 tasks      | elapsed:    0.0s\n",
            "[Parallel(n_jobs=12)]: Done 104 tasks      | elapsed:    0.0s\n",
            "[Parallel(n_jobs=12)]: Done 121 tasks      | elapsed:    0.0s\n",
            "[Parallel(n_jobs=12)]: Done 138 tasks      | elapsed:    0.1s\n",
            "[Parallel(n_jobs=12)]: Done 157 tasks      | elapsed:    0.1s\n",
            "[Parallel(n_jobs=12)]: Done 176 tasks      | elapsed:    0.1s\n",
            "[Parallel(n_jobs=12)]: Done 197 tasks      | elapsed:    0.1s\n",
            "[Parallel(n_jobs=12)]: Done 218 tasks      | elapsed:    0.1s\n",
            "[Parallel(n_jobs=12)]: Done 241 tasks      | elapsed:    0.1s\n",
            "[Parallel(n_jobs=12)]: Done 264 tasks      | elapsed:    0.1s\n",
            "[Parallel(n_jobs=12)]: Done 289 tasks      | elapsed:    0.2s\n",
            "[Parallel(n_jobs=12)]: Done 314 tasks      | elapsed:    0.2s\n",
            "[Parallel(n_jobs=12)]: Done 341 tasks      | elapsed:    0.2s\n",
            "[Parallel(n_jobs=12)]: Done 368 tasks      | elapsed:    0.2s\n",
            "[Parallel(n_jobs=12)]: Done 397 tasks      | elapsed:    0.2s\n",
            "[Parallel(n_jobs=12)]: Done 426 tasks      | elapsed:    0.3s\n",
            "[Parallel(n_jobs=12)]: Done 457 tasks      | elapsed:    0.3s\n",
            "[Parallel(n_jobs=12)]: Done 488 tasks      | elapsed:    0.3s\n",
            "[Parallel(n_jobs=12)]: Done 521 tasks      | elapsed:    0.3s\n",
            "[Parallel(n_jobs=12)]: Done 554 tasks      | elapsed:    0.4s\n",
            "[Parallel(n_jobs=12)]: Done 589 tasks      | elapsed:    0.4s\n",
            "[Parallel(n_jobs=12)]: Done 624 tasks      | elapsed:    0.4s\n",
            "[Parallel(n_jobs=12)]: Done 661 tasks      | elapsed:    0.4s\n",
            "[Parallel(n_jobs=12)]: Done 698 tasks      | elapsed:    0.5s\n",
            "[Parallel(n_jobs=12)]: Done 737 tasks      | elapsed:    0.5s\n",
            "[Parallel(n_jobs=12)]: Done 776 tasks      | elapsed:    0.5s\n",
            "[Parallel(n_jobs=12)]: Done 817 tasks      | elapsed:    0.5s\n",
            "[Parallel(n_jobs=12)]: Done 858 tasks      | elapsed:    0.6s\n",
            "[Parallel(n_jobs=12)]: Done 901 tasks      | elapsed:    0.6s\n",
            "[Parallel(n_jobs=12)]: Done 944 tasks      | elapsed:    0.6s\n",
            "[Parallel(n_jobs=12)]: Done 989 tasks      | elapsed:    0.7s\n",
            "[Parallel(n_jobs=12)]: Done 1034 tasks      | elapsed:    0.7s\n",
            "[Parallel(n_jobs=12)]: Done 1081 tasks      | elapsed:    0.7s\n",
            "[Parallel(n_jobs=12)]: Done 1128 tasks      | elapsed:    0.8s\n",
            "[Parallel(n_jobs=12)]: Done 1177 tasks      | elapsed:    0.8s\n",
            "[Parallel(n_jobs=12)]: Done 1226 tasks      | elapsed:    0.8s\n",
            "[Parallel(n_jobs=12)]: Done 1277 tasks      | elapsed:    0.9s\n",
            "[Parallel(n_jobs=12)]: Done 1328 tasks      | elapsed:    0.9s\n",
            "[Parallel(n_jobs=12)]: Done 1381 tasks      | elapsed:    0.9s\n",
            "[Parallel(n_jobs=12)]: Done 1434 tasks      | elapsed:    1.0s\n",
            "[Parallel(n_jobs=12)]: Done 1489 tasks      | elapsed:    1.0s\n",
            "[Parallel(n_jobs=12)]: Done 1544 tasks      | elapsed:    1.1s\n",
            "[Parallel(n_jobs=12)]: Done 1601 tasks      | elapsed:    1.1s\n",
            "[Parallel(n_jobs=12)]: Done 1658 tasks      | elapsed:    1.1s\n",
            "[Parallel(n_jobs=12)]: Done 1717 tasks      | elapsed:    1.2s\n",
            "[Parallel(n_jobs=12)]: Done 1776 tasks      | elapsed:    1.2s\n",
            "[Parallel(n_jobs=12)]: Done 1800 out of 1800 | elapsed:    1.2s finished\n"
          ]
        },
        {
          "output_type": "stream",
          "name": "stdout",
          "text": [
            "[CV] END ......................................., score=0.830 total time=  28.2s\n",
            "[CV] START .....................................................................\n"
          ]
        },
        {
          "output_type": "stream",
          "name": "stderr",
          "text": [
            "[Parallel(n_jobs=1)]: Done   1 out of   1 | elapsed:   28.2s remaining:    0.0s\n",
            "[Parallel(n_jobs=-1)]: Using backend LokyBackend with 12 concurrent workers.\n",
            "[Parallel(n_jobs=-1)]: Done   1 tasks      | elapsed:    0.0s\n",
            "[Parallel(n_jobs=-1)]: Batch computation too fast (0.0675s.) Setting batch_size=2.\n",
            "[Parallel(n_jobs=-1)]: Done   8 tasks      | elapsed:    0.0s\n",
            "[Parallel(n_jobs=-1)]: Done  17 tasks      | elapsed:    0.1s\n",
            "[Parallel(n_jobs=-1)]: Batch computation too fast (0.1914s.) Setting batch_size=4.\n",
            "[Parallel(n_jobs=-1)]: Done  28 tasks      | elapsed:    0.2s\n",
            "[Parallel(n_jobs=-1)]: Done  50 tasks      | elapsed:    0.3s\n",
            "[Parallel(n_jobs=-1)]: Done  72 tasks      | elapsed:    0.4s\n",
            "[Parallel(n_jobs=-1)]: Done 124 tasks      | elapsed:    0.8s\n",
            "[Parallel(n_jobs=-1)]: Done 176 tasks      | elapsed:    1.1s\n",
            "[Parallel(n_jobs=-1)]: Done 236 tasks      | elapsed:    1.4s\n",
            "[Parallel(n_jobs=-1)]: Done 296 tasks      | elapsed:    1.7s\n",
            "[Parallel(n_jobs=-1)]: Done 364 tasks      | elapsed:    2.1s\n",
            "[Parallel(n_jobs=-1)]: Done 432 tasks      | elapsed:    2.4s\n",
            "[Parallel(n_jobs=-1)]: Done 508 tasks      | elapsed:    2.8s\n",
            "[Parallel(n_jobs=-1)]: Done 584 tasks      | elapsed:    3.2s\n",
            "[Parallel(n_jobs=-1)]: Done 668 tasks      | elapsed:    3.7s\n",
            "[Parallel(n_jobs=-1)]: Done 752 tasks      | elapsed:    4.1s\n",
            "[Parallel(n_jobs=-1)]: Done 844 tasks      | elapsed:    4.6s\n",
            "[Parallel(n_jobs=-1)]: Done 936 tasks      | elapsed:    5.1s\n",
            "[Parallel(n_jobs=-1)]: Done 1036 tasks      | elapsed:    5.7s\n",
            "[Parallel(n_jobs=-1)]: Done 1136 tasks      | elapsed:    6.2s\n",
            "[Parallel(n_jobs=-1)]: Done 1244 tasks      | elapsed:    6.8s\n",
            "[Parallel(n_jobs=-1)]: Done 1352 tasks      | elapsed:    7.4s\n",
            "[Parallel(n_jobs=-1)]: Done 1468 tasks      | elapsed:    8.1s\n",
            "[Parallel(n_jobs=-1)]: Done 1584 tasks      | elapsed:    8.8s\n",
            "[Parallel(n_jobs=-1)]: Done 1708 tasks      | elapsed:    9.5s\n",
            "[Parallel(n_jobs=-1)]: Done 1800 out of 1800 | elapsed:   10.0s finished\n"
          ]
        },
        {
          "output_type": "stream",
          "name": "stdout",
          "text": [
            "Using ThreadingBackend as joblib.Parallel backend instead of LokyBackend as the latter does not provide shared memory semantics.\n"
          ]
        },
        {
          "output_type": "stream",
          "name": "stderr",
          "text": [
            "[Parallel(n_jobs=12)]: Using backend ThreadingBackend with 12 concurrent workers.\n",
            "[Parallel(n_jobs=12)]: Done   1 tasks      | elapsed:    0.0s\n",
            "[Parallel(n_jobs=12)]: Done   8 tasks      | elapsed:    0.0s\n",
            "[Parallel(n_jobs=12)]: Done  17 tasks      | elapsed:    0.0s\n",
            "[Parallel(n_jobs=12)]: Done  26 tasks      | elapsed:    0.0s\n",
            "[Parallel(n_jobs=12)]: Done  37 tasks      | elapsed:    0.0s\n",
            "[Parallel(n_jobs=12)]: Done  48 tasks      | elapsed:    0.0s\n",
            "[Parallel(n_jobs=12)]: Done  61 tasks      | elapsed:    0.0s\n",
            "[Parallel(n_jobs=12)]: Done  74 tasks      | elapsed:    0.0s\n",
            "[Parallel(n_jobs=12)]: Done  89 tasks      | elapsed:    0.0s\n",
            "[Parallel(n_jobs=12)]: Done 104 tasks      | elapsed:    0.0s\n",
            "[Parallel(n_jobs=12)]: Done 121 tasks      | elapsed:    0.0s\n",
            "[Parallel(n_jobs=12)]: Done 138 tasks      | elapsed:    0.1s\n",
            "[Parallel(n_jobs=12)]: Done 157 tasks      | elapsed:    0.1s\n",
            "[Parallel(n_jobs=12)]: Done 176 tasks      | elapsed:    0.1s\n",
            "[Parallel(n_jobs=12)]: Done 197 tasks      | elapsed:    0.1s\n",
            "[Parallel(n_jobs=12)]: Done 218 tasks      | elapsed:    0.1s\n",
            "[Parallel(n_jobs=12)]: Done 241 tasks      | elapsed:    0.2s\n",
            "[Parallel(n_jobs=12)]: Done 264 tasks      | elapsed:    0.2s\n",
            "[Parallel(n_jobs=12)]: Done 289 tasks      | elapsed:    0.2s\n",
            "[Parallel(n_jobs=12)]: Done 314 tasks      | elapsed:    0.3s\n",
            "[Parallel(n_jobs=12)]: Done 341 tasks      | elapsed:    0.3s\n",
            "[Parallel(n_jobs=12)]: Done 368 tasks      | elapsed:    0.3s\n",
            "[Parallel(n_jobs=12)]: Done 397 tasks      | elapsed:    0.3s\n",
            "[Parallel(n_jobs=12)]: Done 426 tasks      | elapsed:    0.4s\n",
            "[Parallel(n_jobs=12)]: Done 457 tasks      | elapsed:    0.4s\n",
            "[Parallel(n_jobs=12)]: Done 488 tasks      | elapsed:    0.4s\n",
            "[Parallel(n_jobs=12)]: Done 521 tasks      | elapsed:    0.5s\n",
            "[Parallel(n_jobs=12)]: Done 554 tasks      | elapsed:    0.5s\n",
            "[Parallel(n_jobs=12)]: Done 589 tasks      | elapsed:    0.5s\n",
            "[Parallel(n_jobs=12)]: Done 624 tasks      | elapsed:    0.6s\n",
            "[Parallel(n_jobs=12)]: Done 661 tasks      | elapsed:    0.6s\n",
            "[Parallel(n_jobs=12)]: Done 698 tasks      | elapsed:    0.7s\n",
            "[Parallel(n_jobs=12)]: Done 737 tasks      | elapsed:    0.7s\n",
            "[Parallel(n_jobs=12)]: Done 776 tasks      | elapsed:    0.7s\n",
            "[Parallel(n_jobs=12)]: Done 817 tasks      | elapsed:    0.8s\n",
            "[Parallel(n_jobs=12)]: Done 858 tasks      | elapsed:    0.8s\n",
            "[Parallel(n_jobs=12)]: Done 901 tasks      | elapsed:    0.9s\n",
            "[Parallel(n_jobs=12)]: Done 944 tasks      | elapsed:    0.9s\n",
            "[Parallel(n_jobs=12)]: Done 989 tasks      | elapsed:    1.0s\n",
            "[Parallel(n_jobs=12)]: Done 1034 tasks      | elapsed:    1.0s\n",
            "[Parallel(n_jobs=12)]: Done 1081 tasks      | elapsed:    1.1s\n",
            "[Parallel(n_jobs=12)]: Done 1128 tasks      | elapsed:    1.1s\n",
            "[Parallel(n_jobs=12)]: Done 1177 tasks      | elapsed:    1.2s\n",
            "[Parallel(n_jobs=12)]: Done 1226 tasks      | elapsed:    1.2s\n",
            "[Parallel(n_jobs=12)]: Done 1277 tasks      | elapsed:    1.3s\n",
            "[Parallel(n_jobs=12)]: Done 1328 tasks      | elapsed:    1.3s\n",
            "[Parallel(n_jobs=12)]: Done 1381 tasks      | elapsed:    1.4s\n",
            "[Parallel(n_jobs=12)]: Done 1434 tasks      | elapsed:    1.4s\n",
            "[Parallel(n_jobs=12)]: Done 1489 tasks      | elapsed:    1.5s\n",
            "[Parallel(n_jobs=12)]: Done 1544 tasks      | elapsed:    1.6s\n",
            "[Parallel(n_jobs=12)]: Done 1601 tasks      | elapsed:    1.6s\n",
            "[Parallel(n_jobs=12)]: Done 1658 tasks      | elapsed:    1.7s\n",
            "[Parallel(n_jobs=12)]: Done 1717 tasks      | elapsed:    1.7s\n",
            "[Parallel(n_jobs=12)]: Done 1776 tasks      | elapsed:    1.8s\n",
            "[Parallel(n_jobs=12)]: Done 1800 out of 1800 | elapsed:    1.8s finished\n",
            "[Parallel(n_jobs=1)]: Done   2 out of   2 | elapsed:   55.4s remaining:    0.0s\n"
          ]
        },
        {
          "output_type": "stream",
          "name": "stdout",
          "text": [
            "[CV] END ......................................., score=0.834 total time=  27.1s\n",
            "[CV] START .....................................................................\n"
          ]
        },
        {
          "output_type": "stream",
          "name": "stderr",
          "text": [
            "[Parallel(n_jobs=-1)]: Using backend LokyBackend with 12 concurrent workers.\n",
            "[Parallel(n_jobs=-1)]: Done   1 tasks      | elapsed:    0.0s\n",
            "[Parallel(n_jobs=-1)]: Batch computation too fast (0.0734s.) Setting batch_size=2.\n",
            "[Parallel(n_jobs=-1)]: Done   8 tasks      | elapsed:    0.0s\n",
            "[Parallel(n_jobs=-1)]: Done  17 tasks      | elapsed:    0.1s\n",
            "[Parallel(n_jobs=-1)]: Batch computation too fast (0.1833s.) Setting batch_size=4.\n",
            "[Parallel(n_jobs=-1)]: Done  28 tasks      | elapsed:    0.2s\n",
            "[Parallel(n_jobs=-1)]: Done  50 tasks      | elapsed:    0.3s\n",
            "[Parallel(n_jobs=-1)]: Done  72 tasks      | elapsed:    0.4s\n",
            "[Parallel(n_jobs=-1)]: Done 124 tasks      | elapsed:    0.7s\n",
            "[Parallel(n_jobs=-1)]: Done 176 tasks      | elapsed:    1.0s\n",
            "[Parallel(n_jobs=-1)]: Done 236 tasks      | elapsed:    1.3s\n",
            "[Parallel(n_jobs=-1)]: Done 296 tasks      | elapsed:    1.7s\n",
            "[Parallel(n_jobs=-1)]: Done 364 tasks      | elapsed:    2.0s\n",
            "[Parallel(n_jobs=-1)]: Done 432 tasks      | elapsed:    2.4s\n",
            "[Parallel(n_jobs=-1)]: Done 508 tasks      | elapsed:    2.8s\n",
            "[Parallel(n_jobs=-1)]: Done 584 tasks      | elapsed:    3.2s\n",
            "[Parallel(n_jobs=-1)]: Done 668 tasks      | elapsed:    3.7s\n",
            "[Parallel(n_jobs=-1)]: Done 752 tasks      | elapsed:    4.2s\n",
            "[Parallel(n_jobs=-1)]: Done 844 tasks      | elapsed:    4.7s\n",
            "[Parallel(n_jobs=-1)]: Done 936 tasks      | elapsed:    5.2s\n",
            "[Parallel(n_jobs=-1)]: Done 1036 tasks      | elapsed:    5.8s\n",
            "[Parallel(n_jobs=-1)]: Done 1136 tasks      | elapsed:    6.3s\n",
            "[Parallel(n_jobs=-1)]: Done 1244 tasks      | elapsed:    6.9s\n",
            "[Parallel(n_jobs=-1)]: Done 1352 tasks      | elapsed:    7.5s\n",
            "[Parallel(n_jobs=-1)]: Done 1468 tasks      | elapsed:    8.1s\n",
            "[Parallel(n_jobs=-1)]: Done 1584 tasks      | elapsed:    8.8s\n",
            "[Parallel(n_jobs=-1)]: Done 1708 tasks      | elapsed:    9.4s\n",
            "[Parallel(n_jobs=-1)]: Done 1800 out of 1800 | elapsed:    9.9s finished\n"
          ]
        },
        {
          "output_type": "stream",
          "name": "stdout",
          "text": [
            "Using ThreadingBackend as joblib.Parallel backend instead of LokyBackend as the latter does not provide shared memory semantics.\n"
          ]
        },
        {
          "output_type": "stream",
          "name": "stderr",
          "text": [
            "[Parallel(n_jobs=12)]: Using backend ThreadingBackend with 12 concurrent workers.\n",
            "[Parallel(n_jobs=12)]: Done   1 tasks      | elapsed:    0.0s\n",
            "[Parallel(n_jobs=12)]: Done   8 tasks      | elapsed:    0.0s\n",
            "[Parallel(n_jobs=12)]: Done  17 tasks      | elapsed:    0.0s\n",
            "[Parallel(n_jobs=12)]: Done  26 tasks      | elapsed:    0.0s\n",
            "[Parallel(n_jobs=12)]: Done  37 tasks      | elapsed:    0.0s\n",
            "[Parallel(n_jobs=12)]: Done  48 tasks      | elapsed:    0.0s\n",
            "[Parallel(n_jobs=12)]: Done  61 tasks      | elapsed:    0.0s\n",
            "[Parallel(n_jobs=12)]: Done  74 tasks      | elapsed:    0.0s\n",
            "[Parallel(n_jobs=12)]: Done  89 tasks      | elapsed:    0.0s\n",
            "[Parallel(n_jobs=12)]: Done 104 tasks      | elapsed:    0.0s\n",
            "[Parallel(n_jobs=12)]: Done 121 tasks      | elapsed:    0.1s\n",
            "[Parallel(n_jobs=12)]: Done 138 tasks      | elapsed:    0.1s\n",
            "[Parallel(n_jobs=12)]: Done 157 tasks      | elapsed:    0.1s\n",
            "[Parallel(n_jobs=12)]: Done 176 tasks      | elapsed:    0.1s\n",
            "[Parallel(n_jobs=12)]: Done 197 tasks      | elapsed:    0.2s\n",
            "[Parallel(n_jobs=12)]: Done 218 tasks      | elapsed:    0.2s\n",
            "[Parallel(n_jobs=12)]: Done 241 tasks      | elapsed:    0.2s\n",
            "[Parallel(n_jobs=12)]: Done 264 tasks      | elapsed:    0.2s\n",
            "[Parallel(n_jobs=12)]: Done 289 tasks      | elapsed:    0.3s\n",
            "[Parallel(n_jobs=12)]: Done 314 tasks      | elapsed:    0.3s\n",
            "[Parallel(n_jobs=12)]: Done 341 tasks      | elapsed:    0.4s\n",
            "[Parallel(n_jobs=12)]: Done 368 tasks      | elapsed:    0.4s\n",
            "[Parallel(n_jobs=12)]: Done 397 tasks      | elapsed:    0.4s\n",
            "[Parallel(n_jobs=12)]: Done 426 tasks      | elapsed:    0.5s\n",
            "[Parallel(n_jobs=12)]: Done 457 tasks      | elapsed:    0.5s\n",
            "[Parallel(n_jobs=12)]: Done 488 tasks      | elapsed:    0.5s\n",
            "[Parallel(n_jobs=12)]: Done 521 tasks      | elapsed:    0.6s\n",
            "[Parallel(n_jobs=12)]: Done 554 tasks      | elapsed:    0.6s\n",
            "[Parallel(n_jobs=12)]: Done 589 tasks      | elapsed:    0.7s\n",
            "[Parallel(n_jobs=12)]: Done 624 tasks      | elapsed:    0.7s\n",
            "[Parallel(n_jobs=12)]: Done 661 tasks      | elapsed:    0.8s\n",
            "[Parallel(n_jobs=12)]: Done 698 tasks      | elapsed:    0.8s\n",
            "[Parallel(n_jobs=12)]: Done 737 tasks      | elapsed:    0.9s\n",
            "[Parallel(n_jobs=12)]: Done 776 tasks      | elapsed:    0.9s\n",
            "[Parallel(n_jobs=12)]: Done 817 tasks      | elapsed:    1.0s\n",
            "[Parallel(n_jobs=12)]: Done 858 tasks      | elapsed:    1.0s\n",
            "[Parallel(n_jobs=12)]: Done 901 tasks      | elapsed:    1.1s\n",
            "[Parallel(n_jobs=12)]: Done 944 tasks      | elapsed:    1.1s\n",
            "[Parallel(n_jobs=12)]: Done 989 tasks      | elapsed:    1.2s\n",
            "[Parallel(n_jobs=12)]: Done 1034 tasks      | elapsed:    1.2s\n",
            "[Parallel(n_jobs=12)]: Done 1081 tasks      | elapsed:    1.3s\n",
            "[Parallel(n_jobs=12)]: Done 1128 tasks      | elapsed:    1.4s\n",
            "[Parallel(n_jobs=12)]: Done 1177 tasks      | elapsed:    1.4s\n",
            "[Parallel(n_jobs=12)]: Done 1226 tasks      | elapsed:    1.5s\n",
            "[Parallel(n_jobs=12)]: Done 1277 tasks      | elapsed:    1.6s\n",
            "[Parallel(n_jobs=12)]: Done 1328 tasks      | elapsed:    1.6s\n",
            "[Parallel(n_jobs=12)]: Done 1381 tasks      | elapsed:    1.7s\n",
            "[Parallel(n_jobs=12)]: Done 1434 tasks      | elapsed:    1.8s\n",
            "[Parallel(n_jobs=12)]: Done 1489 tasks      | elapsed:    1.8s\n",
            "[Parallel(n_jobs=12)]: Done 1544 tasks      | elapsed:    1.9s\n",
            "[Parallel(n_jobs=12)]: Done 1601 tasks      | elapsed:    2.0s\n",
            "[Parallel(n_jobs=12)]: Done 1658 tasks      | elapsed:    2.1s\n",
            "[Parallel(n_jobs=12)]: Done 1717 tasks      | elapsed:    2.1s\n",
            "[Parallel(n_jobs=12)]: Done 1776 tasks      | elapsed:    2.2s\n",
            "[Parallel(n_jobs=12)]: Done 1800 out of 1800 | elapsed:    2.2s finished\n"
          ]
        },
        {
          "output_type": "stream",
          "name": "stdout",
          "text": [
            "[CV] END ......................................., score=0.825 total time=  28.3s\n",
            "[CV] START .....................................................................\n"
          ]
        },
        {
          "output_type": "stream",
          "name": "stderr",
          "text": [
            "[Parallel(n_jobs=1)]: Done   3 out of   3 | elapsed:  1.4min remaining:    0.0s\n",
            "[Parallel(n_jobs=-1)]: Using backend LokyBackend with 12 concurrent workers.\n",
            "[Parallel(n_jobs=-1)]: Done   1 tasks      | elapsed:    0.0s\n",
            "[Parallel(n_jobs=-1)]: Batch computation too fast (0.0681s.) Setting batch_size=2.\n",
            "[Parallel(n_jobs=-1)]: Done   8 tasks      | elapsed:    0.0s\n",
            "[Parallel(n_jobs=-1)]: Done  17 tasks      | elapsed:    0.1s\n",
            "[Parallel(n_jobs=-1)]: Batch computation too fast (0.1941s.) Setting batch_size=4.\n",
            "[Parallel(n_jobs=-1)]: Done  28 tasks      | elapsed:    0.2s\n",
            "[Parallel(n_jobs=-1)]: Done  50 tasks      | elapsed:    0.3s\n",
            "[Parallel(n_jobs=-1)]: Done  72 tasks      | elapsed:    0.4s\n",
            "[Parallel(n_jobs=-1)]: Done 124 tasks      | elapsed:    0.8s\n",
            "[Parallel(n_jobs=-1)]: Done 176 tasks      | elapsed:    1.0s\n",
            "[Parallel(n_jobs=-1)]: Done 236 tasks      | elapsed:    1.3s\n",
            "[Parallel(n_jobs=-1)]: Done 296 tasks      | elapsed:    1.7s\n",
            "[Parallel(n_jobs=-1)]: Done 364 tasks      | elapsed:    2.1s\n",
            "[Parallel(n_jobs=-1)]: Done 432 tasks      | elapsed:    2.5s\n",
            "[Parallel(n_jobs=-1)]: Done 508 tasks      | elapsed:    2.9s\n",
            "[Parallel(n_jobs=-1)]: Done 584 tasks      | elapsed:    3.4s\n",
            "[Parallel(n_jobs=-1)]: Done 668 tasks      | elapsed:    3.9s\n",
            "[Parallel(n_jobs=-1)]: Done 752 tasks      | elapsed:    4.3s\n",
            "[Parallel(n_jobs=-1)]: Done 844 tasks      | elapsed:    4.8s\n",
            "[Parallel(n_jobs=-1)]: Done 936 tasks      | elapsed:    5.3s\n",
            "[Parallel(n_jobs=-1)]: Done 1036 tasks      | elapsed:    5.9s\n",
            "[Parallel(n_jobs=-1)]: Done 1136 tasks      | elapsed:    6.4s\n",
            "[Parallel(n_jobs=-1)]: Done 1244 tasks      | elapsed:    7.0s\n",
            "[Parallel(n_jobs=-1)]: Done 1352 tasks      | elapsed:    7.6s\n",
            "[Parallel(n_jobs=-1)]: Done 1468 tasks      | elapsed:    8.3s\n",
            "[Parallel(n_jobs=-1)]: Done 1584 tasks      | elapsed:    8.9s\n",
            "[Parallel(n_jobs=-1)]: Done 1708 tasks      | elapsed:    9.6s\n",
            "[Parallel(n_jobs=-1)]: Done 1800 out of 1800 | elapsed:   10.1s finished\n"
          ]
        },
        {
          "output_type": "stream",
          "name": "stdout",
          "text": [
            "Using ThreadingBackend as joblib.Parallel backend instead of LokyBackend as the latter does not provide shared memory semantics.\n"
          ]
        },
        {
          "output_type": "stream",
          "name": "stderr",
          "text": [
            "[Parallel(n_jobs=12)]: Using backend ThreadingBackend with 12 concurrent workers.\n",
            "[Parallel(n_jobs=12)]: Done   1 tasks      | elapsed:    0.0s\n",
            "[Parallel(n_jobs=12)]: Done   8 tasks      | elapsed:    0.0s\n",
            "[Parallel(n_jobs=12)]: Done  17 tasks      | elapsed:    0.0s\n",
            "[Parallel(n_jobs=12)]: Done  26 tasks      | elapsed:    0.0s\n",
            "[Parallel(n_jobs=12)]: Done  37 tasks      | elapsed:    0.0s\n",
            "[Parallel(n_jobs=12)]: Done  48 tasks      | elapsed:    0.0s\n",
            "[Parallel(n_jobs=12)]: Done  61 tasks      | elapsed:    0.0s\n",
            "[Parallel(n_jobs=12)]: Done  74 tasks      | elapsed:    0.0s\n",
            "[Parallel(n_jobs=12)]: Done  89 tasks      | elapsed:    0.1s\n",
            "[Parallel(n_jobs=12)]: Done 104 tasks      | elapsed:    0.1s\n",
            "[Parallel(n_jobs=12)]: Done 121 tasks      | elapsed:    0.1s\n",
            "[Parallel(n_jobs=12)]: Done 138 tasks      | elapsed:    0.1s\n",
            "[Parallel(n_jobs=12)]: Done 157 tasks      | elapsed:    0.2s\n",
            "[Parallel(n_jobs=12)]: Done 176 tasks      | elapsed:    0.2s\n",
            "[Parallel(n_jobs=12)]: Done 197 tasks      | elapsed:    0.2s\n",
            "[Parallel(n_jobs=12)]: Done 218 tasks      | elapsed:    0.3s\n",
            "[Parallel(n_jobs=12)]: Done 241 tasks      | elapsed:    0.3s\n",
            "[Parallel(n_jobs=12)]: Done 264 tasks      | elapsed:    0.3s\n",
            "[Parallel(n_jobs=12)]: Done 289 tasks      | elapsed:    0.4s\n",
            "[Parallel(n_jobs=12)]: Done 314 tasks      | elapsed:    0.4s\n",
            "[Parallel(n_jobs=12)]: Done 341 tasks      | elapsed:    0.4s\n",
            "[Parallel(n_jobs=12)]: Done 368 tasks      | elapsed:    0.5s\n",
            "[Parallel(n_jobs=12)]: Done 397 tasks      | elapsed:    0.5s\n",
            "[Parallel(n_jobs=12)]: Done 426 tasks      | elapsed:    0.6s\n",
            "[Parallel(n_jobs=12)]: Done 457 tasks      | elapsed:    0.6s\n",
            "[Parallel(n_jobs=12)]: Done 488 tasks      | elapsed:    0.7s\n",
            "[Parallel(n_jobs=12)]: Done 521 tasks      | elapsed:    0.7s\n",
            "[Parallel(n_jobs=12)]: Done 554 tasks      | elapsed:    0.8s\n",
            "[Parallel(n_jobs=12)]: Done 589 tasks      | elapsed:    0.8s\n",
            "[Parallel(n_jobs=12)]: Done 624 tasks      | elapsed:    0.9s\n",
            "[Parallel(n_jobs=12)]: Done 661 tasks      | elapsed:    0.9s\n",
            "[Parallel(n_jobs=12)]: Done 698 tasks      | elapsed:    1.0s\n",
            "[Parallel(n_jobs=12)]: Done 737 tasks      | elapsed:    1.0s\n",
            "[Parallel(n_jobs=12)]: Done 776 tasks      | elapsed:    1.1s\n",
            "[Parallel(n_jobs=12)]: Done 817 tasks      | elapsed:    1.2s\n",
            "[Parallel(n_jobs=12)]: Done 858 tasks      | elapsed:    1.2s\n",
            "[Parallel(n_jobs=12)]: Done 901 tasks      | elapsed:    1.3s\n",
            "[Parallel(n_jobs=12)]: Done 944 tasks      | elapsed:    1.4s\n",
            "[Parallel(n_jobs=12)]: Done 989 tasks      | elapsed:    1.4s\n",
            "[Parallel(n_jobs=12)]: Done 1034 tasks      | elapsed:    1.5s\n",
            "[Parallel(n_jobs=12)]: Done 1081 tasks      | elapsed:    1.6s\n",
            "[Parallel(n_jobs=12)]: Done 1128 tasks      | elapsed:    1.6s\n",
            "[Parallel(n_jobs=12)]: Done 1177 tasks      | elapsed:    1.7s\n",
            "[Parallel(n_jobs=12)]: Done 1226 tasks      | elapsed:    1.8s\n",
            "[Parallel(n_jobs=12)]: Done 1277 tasks      | elapsed:    1.9s\n",
            "[Parallel(n_jobs=12)]: Done 1328 tasks      | elapsed:    1.9s\n",
            "[Parallel(n_jobs=12)]: Done 1381 tasks      | elapsed:    2.0s\n",
            "[Parallel(n_jobs=12)]: Done 1434 tasks      | elapsed:    2.1s\n",
            "[Parallel(n_jobs=12)]: Done 1489 tasks      | elapsed:    2.2s\n",
            "[Parallel(n_jobs=12)]: Done 1544 tasks      | elapsed:    2.3s\n",
            "[Parallel(n_jobs=12)]: Done 1601 tasks      | elapsed:    2.3s\n",
            "[Parallel(n_jobs=12)]: Done 1658 tasks      | elapsed:    2.4s\n",
            "[Parallel(n_jobs=12)]: Done 1717 tasks      | elapsed:    2.5s\n",
            "[Parallel(n_jobs=12)]: Done 1776 tasks      | elapsed:    2.6s\n",
            "[Parallel(n_jobs=12)]: Done 1800 out of 1800 | elapsed:    2.6s finished\n",
            "[Parallel(n_jobs=1)]: Done   4 out of   4 | elapsed:  1.9min remaining:    0.0s\n"
          ]
        },
        {
          "output_type": "stream",
          "name": "stdout",
          "text": [
            "[CV] END ......................................., score=0.830 total time=  31.9s\n",
            "[CV] START .....................................................................\n"
          ]
        },
        {
          "output_type": "stream",
          "name": "stderr",
          "text": [
            "[Parallel(n_jobs=-1)]: Using backend LokyBackend with 12 concurrent workers.\n",
            "[Parallel(n_jobs=-1)]: Done   1 tasks      | elapsed:    0.0s\n",
            "[Parallel(n_jobs=-1)]: Batch computation too fast (0.0801s.) Setting batch_size=2.\n",
            "[Parallel(n_jobs=-1)]: Done   8 tasks      | elapsed:    0.0s\n",
            "[Parallel(n_jobs=-1)]: Done  17 tasks      | elapsed:    0.1s\n",
            "[Parallel(n_jobs=-1)]: Done  28 tasks      | elapsed:    0.2s\n",
            "[Parallel(n_jobs=-1)]: Done  50 tasks      | elapsed:    0.3s\n",
            "[Parallel(n_jobs=-1)]: Done  72 tasks      | elapsed:    0.4s\n",
            "[Parallel(n_jobs=-1)]: Done  98 tasks      | elapsed:    0.6s\n",
            "[Parallel(n_jobs=-1)]: Done 124 tasks      | elapsed:    0.7s\n",
            "[Parallel(n_jobs=-1)]: Done 154 tasks      | elapsed:    0.9s\n",
            "[Parallel(n_jobs=-1)]: Done 184 tasks      | elapsed:    1.1s\n",
            "[Parallel(n_jobs=-1)]: Done 218 tasks      | elapsed:    1.3s\n",
            "[Parallel(n_jobs=-1)]: Done 252 tasks      | elapsed:    1.5s\n",
            "[Parallel(n_jobs=-1)]: Done 290 tasks      | elapsed:    1.7s\n",
            "[Parallel(n_jobs=-1)]: Done 328 tasks      | elapsed:    1.9s\n",
            "[Parallel(n_jobs=-1)]: Done 370 tasks      | elapsed:    2.1s\n",
            "[Parallel(n_jobs=-1)]: Done 412 tasks      | elapsed:    2.4s\n",
            "[Parallel(n_jobs=-1)]: Done 458 tasks      | elapsed:    2.6s\n",
            "[Parallel(n_jobs=-1)]: Done 504 tasks      | elapsed:    2.9s\n",
            "[Parallel(n_jobs=-1)]: Done 554 tasks      | elapsed:    3.2s\n",
            "[Parallel(n_jobs=-1)]: Done 604 tasks      | elapsed:    3.5s\n",
            "[Parallel(n_jobs=-1)]: Done 658 tasks      | elapsed:    3.8s\n",
            "[Parallel(n_jobs=-1)]: Done 712 tasks      | elapsed:    4.1s\n",
            "[Parallel(n_jobs=-1)]: Done 770 tasks      | elapsed:    4.5s\n",
            "[Parallel(n_jobs=-1)]: Done 828 tasks      | elapsed:    4.8s\n",
            "[Parallel(n_jobs=-1)]: Done 890 tasks      | elapsed:    5.2s\n",
            "[Parallel(n_jobs=-1)]: Done 952 tasks      | elapsed:    5.5s\n",
            "[Parallel(n_jobs=-1)]: Done 1018 tasks      | elapsed:    5.9s\n",
            "[Parallel(n_jobs=-1)]: Done 1084 tasks      | elapsed:    6.3s\n",
            "[Parallel(n_jobs=-1)]: Done 1154 tasks      | elapsed:    6.7s\n",
            "[Parallel(n_jobs=-1)]: Done 1224 tasks      | elapsed:    7.2s\n",
            "[Parallel(n_jobs=-1)]: Done 1298 tasks      | elapsed:    7.6s\n",
            "[Parallel(n_jobs=-1)]: Done 1372 tasks      | elapsed:    8.1s\n",
            "[Parallel(n_jobs=-1)]: Done 1450 tasks      | elapsed:    8.5s\n",
            "[Parallel(n_jobs=-1)]: Done 1528 tasks      | elapsed:    9.0s\n",
            "[Parallel(n_jobs=-1)]: Done 1610 tasks      | elapsed:    9.5s\n",
            "[Parallel(n_jobs=-1)]: Done 1692 tasks      | elapsed:   10.0s\n",
            "[Parallel(n_jobs=-1)]: Done 1800 out of 1800 | elapsed:   10.6s finished\n"
          ]
        },
        {
          "output_type": "stream",
          "name": "stdout",
          "text": [
            "Using ThreadingBackend as joblib.Parallel backend instead of LokyBackend as the latter does not provide shared memory semantics.\n"
          ]
        },
        {
          "output_type": "stream",
          "name": "stderr",
          "text": [
            "[Parallel(n_jobs=12)]: Using backend ThreadingBackend with 12 concurrent workers.\n",
            "[Parallel(n_jobs=12)]: Done   1 tasks      | elapsed:    0.0s\n",
            "[Parallel(n_jobs=12)]: Done   8 tasks      | elapsed:    0.0s\n",
            "[Parallel(n_jobs=12)]: Done  17 tasks      | elapsed:    0.0s\n",
            "[Parallel(n_jobs=12)]: Done  26 tasks      | elapsed:    0.0s\n",
            "[Parallel(n_jobs=12)]: Done  37 tasks      | elapsed:    0.0s\n",
            "[Parallel(n_jobs=12)]: Done  48 tasks      | elapsed:    0.0s\n",
            "[Parallel(n_jobs=12)]: Done  61 tasks      | elapsed:    0.0s\n",
            "[Parallel(n_jobs=12)]: Done  74 tasks      | elapsed:    0.0s\n",
            "[Parallel(n_jobs=12)]: Done  89 tasks      | elapsed:    0.1s\n",
            "[Parallel(n_jobs=12)]: Done 104 tasks      | elapsed:    0.1s\n",
            "[Parallel(n_jobs=12)]: Done 121 tasks      | elapsed:    0.1s\n",
            "[Parallel(n_jobs=12)]: Done 138 tasks      | elapsed:    0.2s\n",
            "[Parallel(n_jobs=12)]: Done 157 tasks      | elapsed:    0.2s\n",
            "[Parallel(n_jobs=12)]: Done 176 tasks      | elapsed:    0.2s\n",
            "[Parallel(n_jobs=12)]: Done 197 tasks      | elapsed:    0.3s\n",
            "[Parallel(n_jobs=12)]: Done 218 tasks      | elapsed:    0.3s\n",
            "[Parallel(n_jobs=12)]: Done 241 tasks      | elapsed:    0.3s\n",
            "[Parallel(n_jobs=12)]: Done 264 tasks      | elapsed:    0.4s\n",
            "[Parallel(n_jobs=12)]: Done 289 tasks      | elapsed:    0.4s\n",
            "[Parallel(n_jobs=12)]: Done 314 tasks      | elapsed:    0.5s\n",
            "[Parallel(n_jobs=12)]: Done 341 tasks      | elapsed:    0.5s\n",
            "[Parallel(n_jobs=12)]: Done 368 tasks      | elapsed:    0.6s\n",
            "[Parallel(n_jobs=12)]: Done 397 tasks      | elapsed:    0.6s\n",
            "[Parallel(n_jobs=12)]: Done 426 tasks      | elapsed:    0.7s\n",
            "[Parallel(n_jobs=12)]: Done 457 tasks      | elapsed:    0.7s\n",
            "[Parallel(n_jobs=12)]: Done 488 tasks      | elapsed:    0.8s\n",
            "[Parallel(n_jobs=12)]: Done 521 tasks      | elapsed:    0.8s\n",
            "[Parallel(n_jobs=12)]: Done 554 tasks      | elapsed:    0.9s\n",
            "[Parallel(n_jobs=12)]: Done 589 tasks      | elapsed:    0.9s\n",
            "[Parallel(n_jobs=12)]: Done 624 tasks      | elapsed:    1.0s\n",
            "[Parallel(n_jobs=12)]: Done 661 tasks      | elapsed:    1.1s\n",
            "[Parallel(n_jobs=12)]: Done 698 tasks      | elapsed:    1.1s\n",
            "[Parallel(n_jobs=12)]: Done 737 tasks      | elapsed:    1.2s\n",
            "[Parallel(n_jobs=12)]: Done 776 tasks      | elapsed:    1.3s\n",
            "[Parallel(n_jobs=12)]: Done 817 tasks      | elapsed:    1.3s\n",
            "[Parallel(n_jobs=12)]: Done 858 tasks      | elapsed:    1.4s\n",
            "[Parallel(n_jobs=12)]: Done 901 tasks      | elapsed:    1.5s\n",
            "[Parallel(n_jobs=12)]: Done 944 tasks      | elapsed:    1.6s\n",
            "[Parallel(n_jobs=12)]: Done 989 tasks      | elapsed:    1.6s\n",
            "[Parallel(n_jobs=12)]: Done 1034 tasks      | elapsed:    1.7s\n",
            "[Parallel(n_jobs=12)]: Done 1081 tasks      | elapsed:    1.8s\n",
            "[Parallel(n_jobs=12)]: Done 1128 tasks      | elapsed:    1.9s\n",
            "[Parallel(n_jobs=12)]: Done 1177 tasks      | elapsed:    2.0s\n",
            "[Parallel(n_jobs=12)]: Done 1226 tasks      | elapsed:    2.0s\n",
            "[Parallel(n_jobs=12)]: Done 1277 tasks      | elapsed:    2.1s\n",
            "[Parallel(n_jobs=12)]: Done 1328 tasks      | elapsed:    2.2s\n",
            "[Parallel(n_jobs=12)]: Done 1381 tasks      | elapsed:    2.3s\n",
            "[Parallel(n_jobs=12)]: Done 1434 tasks      | elapsed:    2.4s\n",
            "[Parallel(n_jobs=12)]: Done 1489 tasks      | elapsed:    2.5s\n",
            "[Parallel(n_jobs=12)]: Done 1544 tasks      | elapsed:    2.6s\n",
            "[Parallel(n_jobs=12)]: Done 1601 tasks      | elapsed:    2.7s\n",
            "[Parallel(n_jobs=12)]: Done 1658 tasks      | elapsed:    2.8s\n",
            "[Parallel(n_jobs=12)]: Done 1717 tasks      | elapsed:    2.9s\n",
            "[Parallel(n_jobs=12)]: Done 1776 tasks      | elapsed:    3.0s\n",
            "[Parallel(n_jobs=12)]: Done 1800 out of 1800 | elapsed:    3.0s finished\n",
            "[Parallel(n_jobs=1)]: Done   5 out of   5 | elapsed:  2.5min remaining:    0.0s\n",
            "[Parallel(n_jobs=1)]: Done   5 out of   5 | elapsed:  2.5min finished\n"
          ]
        },
        {
          "output_type": "stream",
          "name": "stdout",
          "text": [
            "[CV] END ......................................., score=0.829 total time=  34.3s\n",
            "Best Score: 0.8338186131780438\n"
          ]
        },
        {
          "output_type": "stream",
          "name": "stderr",
          "text": [
            "[Parallel(n_jobs=12)]: Using backend ThreadingBackend with 12 concurrent workers.\n",
            "[Parallel(n_jobs=12)]: Done   1 tasks      | elapsed:    0.0s\n",
            "[Parallel(n_jobs=12)]: Done   8 tasks      | elapsed:    0.0s\n",
            "[Parallel(n_jobs=12)]: Done  17 tasks      | elapsed:    0.0s\n",
            "[Parallel(n_jobs=12)]: Done  26 tasks      | elapsed:    0.0s\n",
            "[Parallel(n_jobs=12)]: Done  37 tasks      | elapsed:    0.0s\n",
            "[Parallel(n_jobs=12)]: Done  48 tasks      | elapsed:    0.0s\n",
            "[Parallel(n_jobs=12)]: Done  61 tasks      | elapsed:    0.0s\n",
            "[Parallel(n_jobs=12)]: Done  74 tasks      | elapsed:    0.0s\n",
            "[Parallel(n_jobs=12)]: Done  89 tasks      | elapsed:    0.0s\n",
            "[Parallel(n_jobs=12)]: Done 104 tasks      | elapsed:    0.0s\n",
            "[Parallel(n_jobs=12)]: Done 121 tasks      | elapsed:    0.0s\n",
            "[Parallel(n_jobs=12)]: Done 138 tasks      | elapsed:    0.0s\n",
            "[Parallel(n_jobs=12)]: Done 157 tasks      | elapsed:    0.1s\n",
            "[Parallel(n_jobs=12)]: Done 176 tasks      | elapsed:    0.1s\n",
            "[Parallel(n_jobs=12)]: Done 197 tasks      | elapsed:    0.1s\n",
            "[Parallel(n_jobs=12)]: Done 218 tasks      | elapsed:    0.1s\n",
            "[Parallel(n_jobs=12)]: Done 241 tasks      | elapsed:    0.1s\n",
            "[Parallel(n_jobs=12)]: Done 264 tasks      | elapsed:    0.2s\n",
            "[Parallel(n_jobs=12)]: Done 289 tasks      | elapsed:    0.2s\n",
            "[Parallel(n_jobs=12)]: Done 314 tasks      | elapsed:    0.2s\n",
            "[Parallel(n_jobs=12)]: Done 341 tasks      | elapsed:    0.2s\n",
            "[Parallel(n_jobs=12)]: Done 368 tasks      | elapsed:    0.2s\n",
            "[Parallel(n_jobs=12)]: Done 397 tasks      | elapsed:    0.3s\n",
            "[Parallel(n_jobs=12)]: Done 426 tasks      | elapsed:    0.3s\n",
            "[Parallel(n_jobs=12)]: Done 457 tasks      | elapsed:    0.3s\n",
            "[Parallel(n_jobs=12)]: Done 488 tasks      | elapsed:    0.4s\n",
            "[Parallel(n_jobs=12)]: Done 521 tasks      | elapsed:    0.4s\n",
            "[Parallel(n_jobs=12)]: Done 554 tasks      | elapsed:    0.4s\n",
            "[Parallel(n_jobs=12)]: Done 589 tasks      | elapsed:    0.4s\n",
            "[Parallel(n_jobs=12)]: Done 624 tasks      | elapsed:    0.5s\n",
            "[Parallel(n_jobs=12)]: Done 661 tasks      | elapsed:    0.5s\n",
            "[Parallel(n_jobs=12)]: Done 698 tasks      | elapsed:    0.5s\n",
            "[Parallel(n_jobs=12)]: Done 737 tasks      | elapsed:    0.6s\n",
            "[Parallel(n_jobs=12)]: Done 776 tasks      | elapsed:    0.6s\n",
            "[Parallel(n_jobs=12)]: Done 817 tasks      | elapsed:    0.6s\n",
            "[Parallel(n_jobs=12)]: Done 858 tasks      | elapsed:    0.7s\n",
            "[Parallel(n_jobs=12)]: Done 901 tasks      | elapsed:    0.7s\n",
            "[Parallel(n_jobs=12)]: Done 944 tasks      | elapsed:    0.8s\n",
            "[Parallel(n_jobs=12)]: Done 989 tasks      | elapsed:    0.8s\n",
            "[Parallel(n_jobs=12)]: Done 1034 tasks      | elapsed:    0.8s\n",
            "[Parallel(n_jobs=12)]: Done 1081 tasks      | elapsed:    0.9s\n",
            "[Parallel(n_jobs=12)]: Done 1128 tasks      | elapsed:    0.9s\n",
            "[Parallel(n_jobs=12)]: Done 1177 tasks      | elapsed:    1.0s\n",
            "[Parallel(n_jobs=12)]: Done 1226 tasks      | elapsed:    1.0s\n",
            "[Parallel(n_jobs=12)]: Done 1277 tasks      | elapsed:    1.1s\n",
            "[Parallel(n_jobs=12)]: Done 1328 tasks      | elapsed:    1.1s\n",
            "[Parallel(n_jobs=12)]: Done 1381 tasks      | elapsed:    1.2s\n",
            "[Parallel(n_jobs=12)]: Done 1434 tasks      | elapsed:    1.2s\n",
            "[Parallel(n_jobs=12)]: Done 1489 tasks      | elapsed:    1.3s\n",
            "[Parallel(n_jobs=12)]: Done 1544 tasks      | elapsed:    1.3s\n",
            "[Parallel(n_jobs=12)]: Done 1601 tasks      | elapsed:    1.4s\n",
            "[Parallel(n_jobs=12)]: Done 1658 tasks      | elapsed:    1.4s\n",
            "[Parallel(n_jobs=12)]: Done 1717 tasks      | elapsed:    1.5s\n",
            "[Parallel(n_jobs=12)]: Done 1776 tasks      | elapsed:    1.5s\n",
            "[Parallel(n_jobs=12)]: Done 1800 out of 1800 | elapsed:    1.5s finished\n",
            "[Parallel(n_jobs=12)]: Using backend ThreadingBackend with 12 concurrent workers.\n"
          ]
        },
        {
          "output_type": "stream",
          "name": "stdout",
          "text": [
            "AUC: 0.913838127599893\n"
          ]
        },
        {
          "output_type": "stream",
          "name": "stderr",
          "text": [
            "[Parallel(n_jobs=12)]: Done   1 tasks      | elapsed:    0.0s\n",
            "[Parallel(n_jobs=12)]: Done   8 tasks      | elapsed:    0.0s\n",
            "[Parallel(n_jobs=12)]: Done  17 tasks      | elapsed:    0.1s\n",
            "[Parallel(n_jobs=12)]: Done  26 tasks      | elapsed:    0.1s\n",
            "[Parallel(n_jobs=12)]: Done  37 tasks      | elapsed:    0.1s\n",
            "[Parallel(n_jobs=12)]: Done  48 tasks      | elapsed:    0.1s\n",
            "[Parallel(n_jobs=12)]: Done  61 tasks      | elapsed:    0.1s\n",
            "[Parallel(n_jobs=12)]: Done  74 tasks      | elapsed:    0.1s\n",
            "[Parallel(n_jobs=12)]: Done  89 tasks      | elapsed:    0.1s\n",
            "[Parallel(n_jobs=12)]: Done 104 tasks      | elapsed:    0.1s\n",
            "[Parallel(n_jobs=12)]: Done 121 tasks      | elapsed:    0.1s\n",
            "[Parallel(n_jobs=12)]: Done 138 tasks      | elapsed:    0.2s\n",
            "[Parallel(n_jobs=12)]: Done 157 tasks      | elapsed:    0.2s\n",
            "[Parallel(n_jobs=12)]: Done 176 tasks      | elapsed:    0.2s\n",
            "[Parallel(n_jobs=12)]: Done 197 tasks      | elapsed:    0.2s\n",
            "[Parallel(n_jobs=12)]: Done 218 tasks      | elapsed:    0.2s\n",
            "[Parallel(n_jobs=12)]: Done 241 tasks      | elapsed:    0.3s\n",
            "[Parallel(n_jobs=12)]: Done 264 tasks      | elapsed:    0.3s\n",
            "[Parallel(n_jobs=12)]: Done 289 tasks      | elapsed:    0.3s\n",
            "[Parallel(n_jobs=12)]: Done 314 tasks      | elapsed:    0.3s\n",
            "[Parallel(n_jobs=12)]: Done 341 tasks      | elapsed:    0.3s\n",
            "[Parallel(n_jobs=12)]: Done 368 tasks      | elapsed:    0.4s\n",
            "[Parallel(n_jobs=12)]: Done 397 tasks      | elapsed:    0.4s\n",
            "[Parallel(n_jobs=12)]: Done 426 tasks      | elapsed:    0.4s\n",
            "[Parallel(n_jobs=12)]: Done 457 tasks      | elapsed:    0.4s\n",
            "[Parallel(n_jobs=12)]: Done 488 tasks      | elapsed:    0.5s\n",
            "[Parallel(n_jobs=12)]: Done 521 tasks      | elapsed:    0.5s\n",
            "[Parallel(n_jobs=12)]: Done 554 tasks      | elapsed:    0.5s\n",
            "[Parallel(n_jobs=12)]: Done 589 tasks      | elapsed:    0.5s\n",
            "[Parallel(n_jobs=12)]: Done 624 tasks      | elapsed:    0.6s\n",
            "[Parallel(n_jobs=12)]: Done 661 tasks      | elapsed:    0.6s\n",
            "[Parallel(n_jobs=12)]: Done 698 tasks      | elapsed:    0.6s\n",
            "[Parallel(n_jobs=12)]: Done 737 tasks      | elapsed:    0.7s\n",
            "[Parallel(n_jobs=12)]: Done 776 tasks      | elapsed:    0.7s\n",
            "[Parallel(n_jobs=12)]: Done 817 tasks      | elapsed:    0.7s\n",
            "[Parallel(n_jobs=12)]: Done 858 tasks      | elapsed:    0.8s\n",
            "[Parallel(n_jobs=12)]: Done 901 tasks      | elapsed:    0.8s\n",
            "[Parallel(n_jobs=12)]: Done 944 tasks      | elapsed:    0.9s\n",
            "[Parallel(n_jobs=12)]: Done 989 tasks      | elapsed:    0.9s\n",
            "[Parallel(n_jobs=12)]: Done 1034 tasks      | elapsed:    0.9s\n",
            "[Parallel(n_jobs=12)]: Done 1081 tasks      | elapsed:    1.0s\n",
            "[Parallel(n_jobs=12)]: Done 1128 tasks      | elapsed:    1.0s\n",
            "[Parallel(n_jobs=12)]: Done 1177 tasks      | elapsed:    1.0s\n",
            "[Parallel(n_jobs=12)]: Done 1226 tasks      | elapsed:    1.1s\n",
            "[Parallel(n_jobs=12)]: Done 1277 tasks      | elapsed:    1.1s\n",
            "[Parallel(n_jobs=12)]: Done 1328 tasks      | elapsed:    1.2s\n",
            "[Parallel(n_jobs=12)]: Done 1381 tasks      | elapsed:    1.2s\n",
            "[Parallel(n_jobs=12)]: Done 1434 tasks      | elapsed:    1.3s\n",
            "[Parallel(n_jobs=12)]: Done 1489 tasks      | elapsed:    1.3s\n",
            "[Parallel(n_jobs=12)]: Done 1544 tasks      | elapsed:    1.4s\n",
            "[Parallel(n_jobs=12)]: Done 1601 tasks      | elapsed:    1.4s\n",
            "[Parallel(n_jobs=12)]: Done 1658 tasks      | elapsed:    1.5s\n",
            "[Parallel(n_jobs=12)]: Done 1717 tasks      | elapsed:    1.5s\n",
            "[Parallel(n_jobs=12)]: Done 1776 tasks      | elapsed:    1.6s\n",
            "[Parallel(n_jobs=12)]: Done 1800 out of 1800 | elapsed:    1.6s finished\n"
          ]
        },
        {
          "output_type": "stream",
          "name": "stdout",
          "text": [
            "F1 Score: 0.8242626404494382\n",
            "Classification Report: \n",
            "               precision    recall  f1-score   support\n",
            "\n",
            "           0       0.82      0.85      0.84      6097\n",
            "           1       0.84      0.81      0.82      5799\n",
            "\n",
            "    accuracy                           0.83     11896\n",
            "   macro avg       0.83      0.83      0.83     11896\n",
            "weighted avg       0.83      0.83      0.83     11896\n",
            "\n"
          ]
        },
        {
          "output_type": "display_data",
          "data": {
            "text/plain": [
              "<Figure size 640x480 with 2 Axes>"
            ],
            "image/png": "[encoded data removed]"
          },
          "metadata": {}
        }
      ],
      "source": [
        "new_rf = RandomForestClassifier(max_features='auto', oob_score=True, random_state=1, verbose = 10, n_jobs = -1)\n",
        "rforest = train_with_cv(new_rf, rforest_best_params, 5, x_train, y_train,1)\n",
        "\n",
        "#Evaluo en el set de test\n",
        "y_pred_proba= rforest.predict_proba(x_test)[:, 1]\n",
        "print('AUC:',roc_auc_score(y_test, y_pred_proba))\n",
        "\n",
        "#Matriz de Confusion\n",
        "y_pred=rforest.predict(x_test)\n",
        "show_performance(y_test, y_pred)"
      ]
    },
    {
      "cell_type": "code",
      "source": [
        "rf_final_score = f1_score(y_test, y_pred, average='binary')"
      ],
      "metadata": {
        "id": "PfVUeXa0L63E"
      },
      "execution_count": null,
      "outputs": []
    },
    {
      "cell_type": "markdown",
      "metadata": {
        "id": "xWEeDg8pQZtY"
      },
      "source": [
        "## Stacking"
      ]
    },
    {
      "cell_type": "code",
      "execution_count": null,
      "metadata": {
        "id": "qfIcpilzu56a"
      },
      "outputs": [],
      "source": [
        "#Modelos Base\n",
        "base_models = [('random_forest', RandomForestClassifier(max_features='auto', oob_score=True, random_state=1).set_params(**rforest_best_params)),\n",
        "               ('xgboost', Pipeline([('classifier',XGBClassifier(random_state=50))]).set_params(**xgboost_best_params)),\n",
        "               ('knn', KNeighborsClassifier().set_params(**knn_best_params))]\n",
        "\n",
        "#Meta Modelo\n",
        "meta_model = LogisticRegressionCV()\n",
        "\n",
        "#Ensemble Stacking\n",
        "stacking_model = StackingClassifier(estimators=base_models, \n",
        "                                    final_estimator=meta_model, \n",
        "                                    passthrough=False,\n",
        "                                    cv=3,\n",
        "                                    verbose=10,\n",
        "                                    )"
      ]
    },
    {
      "cell_type": "code",
      "execution_count": null,
      "metadata": {
        "id": "TFkxrXVbvBJI",
        "colab": {
          "base_uri": "https://localhost:8080/",
          "height": 424
        },
        "outputId": "411c36a5-d110-44dc-a459-1ed7540f6405"
      },
      "outputs": [
        {
          "output_type": "stream",
          "name": "stderr",
          "text": [
            "[Parallel(n_jobs=1)]: Using backend SequentialBackend with 1 concurrent workers.\n",
            "[Parallel(n_jobs=1)]: Done   1 out of   1 | elapsed:  1.3min remaining:    0.0s\n",
            "[Parallel(n_jobs=1)]: Done   2 out of   2 | elapsed:  2.4min remaining:    0.0s\n",
            "[Parallel(n_jobs=1)]: Done   3 out of   3 | elapsed:  3.5min remaining:    0.0s\n",
            "[Parallel(n_jobs=1)]: Done   3 out of   3 | elapsed:  3.6min finished\n",
            "[Parallel(n_jobs=1)]: Using backend SequentialBackend with 1 concurrent workers.\n",
            "[Parallel(n_jobs=1)]: Done   1 out of   1 | elapsed:    3.9s remaining:    0.0s\n",
            "[Parallel(n_jobs=1)]: Done   2 out of   2 | elapsed:    7.9s remaining:    0.0s\n",
            "[Parallel(n_jobs=1)]: Done   3 out of   3 | elapsed:   11.9s remaining:    0.0s\n",
            "[Parallel(n_jobs=1)]: Done   3 out of   3 | elapsed:   11.9s finished\n",
            "[Parallel(n_jobs=1)]: Using backend SequentialBackend with 1 concurrent workers.\n",
            "[Parallel(n_jobs=1)]: Done   1 out of   1 | elapsed:    1.7s remaining:    0.0s\n",
            "[Parallel(n_jobs=1)]: Done   2 out of   2 | elapsed:    3.4s remaining:    0.0s\n",
            "[Parallel(n_jobs=1)]: Done   3 out of   3 | elapsed:    5.1s remaining:    0.0s\n",
            "[Parallel(n_jobs=1)]: Done   3 out of   3 | elapsed:    5.1s finished\n"
          ]
        },
        {
          "output_type": "execute_result",
          "data": {
            "text/plain": [
              "StackingClassifier(cv=3,\n",
              "                   estimators=[('random_forest',\n",
              "                                RandomForestClassifier(criterion='entropy',\n",
              "                                                       max_depth=60,\n",
              "                                                       n_estimators=1800,\n",
              "                                                       oob_score=True,\n",
              "                                                       random_state=1)),\n",
              "                               ('xgboost',\n",
              "                                Pipeline(steps=[('classifier',\n",
              "                                                 XGBClassifier(alpha=0,\n",
              "                                                               base_score=None,\n",
              "                                                               booster=None,\n",
              "                                                               callbacks=None,\n",
              "                                                               colsample_bylevel=None,\n",
              "                                                               colsample_bynode=None,\n",
              "                                                               colsample_bytree=None,\n",
              "                                                               early_stopping_ro...\n",
              "                                                               max_cat_to_onehot=None,\n",
              "                                                               max_delta_step=None,\n",
              "                                                               max_depth=12,\n",
              "                                                               max_leaves=None,\n",
              "                                                               min_child_weight=None,\n",
              "                                                               missing=nan,\n",
              "                                                               monotone_constraints=None,\n",
              "                                                               n_estimators=300,\n",
              "                                                               n_jobs=None,\n",
              "                                                               num_parallel_tree=None, ...))])),\n",
              "                               ('knn',\n",
              "                                KNeighborsClassifier(algorithm='brute',\n",
              "                                                     leaf_size=120,\n",
              "                                                     metric='manhattan',\n",
              "                                                     n_neighbors=120,\n",
              "                                                     weights='distance'))],\n",
              "                   final_estimator=LogisticRegressionCV(), verbose=10)"
            ],
            "text/html": [
              "<style>#sk-container-id-1 {color: black;background-color: white;}#sk-container-id-1 pre{padding: 0;}#sk-container-id-1 div.sk-toggleable {background-color: white;}#sk-container-id-1 label.sk-toggleable__label {cursor: pointer;display: block;width: 100%;margin-bottom: 0;padding: 0.3em;box-sizing: border-box;text-align: center;}#sk-container-id-1 label.sk-toggleable__label-arrow:before {content: \"▸\";float: left;margin-right: 0.25em;color: #696969;}#sk-container-id-1 label.sk-toggleable__label-arrow:hover:before {color: black;}#sk-container-id-1 div.sk-estimator:hover label.sk-toggleable__label-arrow:before {color: black;}#sk-container-id-1 div.sk-toggleable__content {max-height: 0;max-width: 0;overflow: hidden;text-align: left;background-color: #f0f8ff;}#sk-container-id-1 div.sk-toggleable__content pre {margin: 0.2em;color: black;border-radius: 0.25em;background-color: #f0f8ff;}#sk-container-id-1 input.sk-toggleable__control:checked~div.sk-toggleable__content {max-height: 200px;max-width: 100%;overflow: auto;}#sk-container-id-1 input.sk-toggleable__control:checked~label.sk-toggleable__label-arrow:before {content: \"▾\";}#sk-container-id-1 div.sk-estimator input.sk-toggleable__control:checked~label.sk-toggleable__label {background-color: #d4ebff;}#sk-container-id-1 div.sk-label input.sk-toggleable__control:checked~label.sk-toggleable__label {background-color: #d4ebff;}#sk-container-id-1 input.sk-hidden--visually {border: 0;clip: rect(1px 1px 1px 1px);clip: rect(1px, 1px, 1px, 1px);height: 1px;margin: -1px;overflow: hidden;padding: 0;position: absolute;width: 1px;}#sk-container-id-1 div.sk-estimator {font-family: monospace;background-color: #f0f8ff;border: 1px dotted black;border-radius: 0.25em;box-sizing: border-box;margin-bottom: 0.5em;}#sk-container-id-1 div.sk-estimator:hover {background-color: #d4ebff;}#sk-container-id-1 div.sk-parallel-item::after {content: \"\";width: 100%;border-bottom: 1px solid gray;flex-grow: 1;}#sk-container-id-1 div.sk-label:hover label.sk-toggleable__label {background-color: #d4ebff;}#sk-container-id-1 div.sk-serial::before {content: \"\";position: absolute;border-left: 1px solid gray;box-sizing: border-box;top: 0;bottom: 0;left: 50%;z-index: 0;}#sk-container-id-1 div.sk-serial {display: flex;flex-direction: column;align-items: center;background-color: white;padding-right: 0.2em;padding-left: 0.2em;position: relative;}#sk-container-id-1 div.sk-item {position: relative;z-index: 1;}#sk-container-id-1 div.sk-parallel {display: flex;align-items: stretch;justify-content: center;background-color: white;position: relative;}#sk-container-id-1 div.sk-item::before, #sk-container-id-1 div.sk-parallel-item::before {content: \"\";position: absolute;border-left: 1px solid gray;box-sizing: border-box;top: 0;bottom: 0;left: 50%;z-index: -1;}#sk-container-id-1 div.sk-parallel-item {display: flex;flex-direction: column;z-index: 1;position: relative;background-color: white;}#sk-container-id-1 div.sk-parallel-item:first-child::after {align-self: flex-end;width: 50%;}#sk-container-id-1 div.sk-parallel-item:last-child::after {align-self: flex-start;width: 50%;}#sk-container-id-1 div.sk-parallel-item:only-child::after {width: 0;}#sk-container-id-1 div.sk-dashed-wrapped {border: 1px dashed gray;margin: 0 0.4em 0.5em 0.4em;box-sizing: border-box;padding-bottom: 0.4em;background-color: white;}#sk-container-id-1 div.sk-label label {font-family: monospace;font-weight: bold;display: inline-block;line-height: 1.2em;}#sk-container-id-1 div.sk-label-container {text-align: center;}#sk-container-id-1 div.sk-container {/* jupyter's `normalize.less` sets `[hidden] { display: none; }` but bootstrap.min.css set `[hidden] { display: none !important; }` so we also need the `!important` here to be able to override the default hidden behavior on the sphinx rendered scikit-learn.org. See: https://github.com/scikit-learn/scikit-learn/issues/21755 */display: inline-block !important;position: relative;}#sk-container-id-1 div.sk-text-repr-fallback {display: none;}</style><div id=\"sk-container-id-1\" class=\"sk-top-container\"><div class=\"sk-text-repr-fallback\"><pre>StackingClassifier(cv=3,\n",
              "                   estimators=[(&#x27;random_forest&#x27;,\n",
              "                                RandomForestClassifier(criterion=&#x27;entropy&#x27;,\n",
              "                                                       max_depth=60,\n",
              "                                                       n_estimators=1800,\n",
              "                                                       oob_score=True,\n",
              "                                                       random_state=1)),\n",
              "                               (&#x27;xgboost&#x27;,\n",
              "                                Pipeline(steps=[(&#x27;classifier&#x27;,\n",
              "                                                 XGBClassifier(alpha=0,\n",
              "                                                               base_score=None,\n",
              "                                                               booster=None,\n",
              "                                                               callbacks=None,\n",
              "                                                               colsample_bylevel=None,\n",
              "                                                               colsample_bynode=None,\n",
              "                                                               colsample_bytree=None,\n",
              "                                                               early_stopping_ro...\n",
              "                                                               max_cat_to_onehot=None,\n",
              "                                                               max_delta_step=None,\n",
              "                                                               max_depth=12,\n",
              "                                                               max_leaves=None,\n",
              "                                                               min_child_weight=None,\n",
              "                                                               missing=nan,\n",
              "                                                               monotone_constraints=None,\n",
              "                                                               n_estimators=300,\n",
              "                                                               n_jobs=None,\n",
              "                                                               num_parallel_tree=None, ...))])),\n",
              "                               (&#x27;knn&#x27;,\n",
              "                                KNeighborsClassifier(algorithm=&#x27;brute&#x27;,\n",
              "                                                     leaf_size=120,\n",
              "                                                     metric=&#x27;manhattan&#x27;,\n",
              "                                                     n_neighbors=120,\n",
              "                                                     weights=&#x27;distance&#x27;))],\n",
              "                   final_estimator=LogisticRegressionCV(), verbose=10)</pre><b>In a Jupyter environment, please rerun this cell to show the HTML representation or trust the notebook. <br />On GitHub, the HTML representation is unable to render, please try loading this page with nbviewer.org.</b></div><div class=\"sk-container\" hidden><div class=\"sk-item sk-dashed-wrapped\"><div class=\"sk-label-container\"><div class=\"sk-label sk-toggleable\"><input class=\"sk-toggleable__control sk-hidden--visually\" id=\"sk-estimator-id-1\" type=\"checkbox\" ><label for=\"sk-estimator-id-1\" class=\"sk-toggleable__label sk-toggleable__label-arrow\">StackingClassifier</label><div class=\"sk-toggleable__content\"><pre>StackingClassifier(cv=3,\n",
              "                   estimators=[(&#x27;random_forest&#x27;,\n",
              "                                RandomForestClassifier(criterion=&#x27;entropy&#x27;,\n",
              "                                                       max_depth=60,\n",
              "                                                       n_estimators=1800,\n",
              "                                                       oob_score=True,\n",
              "                                                       random_state=1)),\n",
              "                               (&#x27;xgboost&#x27;,\n",
              "                                Pipeline(steps=[(&#x27;classifier&#x27;,\n",
              "                                                 XGBClassifier(alpha=0,\n",
              "                                                               base_score=None,\n",
              "                                                               booster=None,\n",
              "                                                               callbacks=None,\n",
              "                                                               colsample_bylevel=None,\n",
              "                                                               colsample_bynode=None,\n",
              "                                                               colsample_bytree=None,\n",
              "                                                               early_stopping_ro...\n",
              "                                                               max_cat_to_onehot=None,\n",
              "                                                               max_delta_step=None,\n",
              "                                                               max_depth=12,\n",
              "                                                               max_leaves=None,\n",
              "                                                               min_child_weight=None,\n",
              "                                                               missing=nan,\n",
              "                                                               monotone_constraints=None,\n",
              "                                                               n_estimators=300,\n",
              "                                                               n_jobs=None,\n",
              "                                                               num_parallel_tree=None, ...))])),\n",
              "                               (&#x27;knn&#x27;,\n",
              "                                KNeighborsClassifier(algorithm=&#x27;brute&#x27;,\n",
              "                                                     leaf_size=120,\n",
              "                                                     metric=&#x27;manhattan&#x27;,\n",
              "                                                     n_neighbors=120,\n",
              "                                                     weights=&#x27;distance&#x27;))],\n",
              "                   final_estimator=LogisticRegressionCV(), verbose=10)</pre></div></div></div><div class=\"sk-serial\"><div class=\"sk-item\"><div class=\"sk-parallel\"><div class=\"sk-parallel-item\"><div class=\"sk-item\"><div class=\"sk-label-container\"><div class=\"sk-label sk-toggleable\"><label>random_forest</label></div></div><div class=\"sk-serial\"><div class=\"sk-item\"><div class=\"sk-estimator sk-toggleable\"><input class=\"sk-toggleable__control sk-hidden--visually\" id=\"sk-estimator-id-2\" type=\"checkbox\" ><label for=\"sk-estimator-id-2\" class=\"sk-toggleable__label sk-toggleable__label-arrow\">RandomForestClassifier</label><div class=\"sk-toggleable__content\"><pre>RandomForestClassifier(criterion=&#x27;entropy&#x27;, max_depth=60, n_estimators=1800,\n",
              "                       oob_score=True, random_state=1)</pre></div></div></div></div></div></div><div class=\"sk-parallel-item\"><div class=\"sk-item\"><div class=\"sk-label-container\"><div class=\"sk-label sk-toggleable\"><label>xgboost</label></div></div><div class=\"sk-serial\"><div class=\"sk-item\"><div class=\"sk-serial\"><div class=\"sk-item\"><div class=\"sk-estimator sk-toggleable\"><input class=\"sk-toggleable__control sk-hidden--visually\" id=\"sk-estimator-id-3\" type=\"checkbox\" ><label for=\"sk-estimator-id-3\" class=\"sk-toggleable__label sk-toggleable__label-arrow\">XGBClassifier</label><div class=\"sk-toggleable__content\"><pre>XGBClassifier(alpha=0, base_score=None, booster=None, callbacks=None,\n",
              "              colsample_bylevel=None, colsample_bynode=None,\n",
              "              colsample_bytree=None, early_stopping_rounds=None,\n",
              "              enable_categorical=False, eval_metric=None, feature_types=None,\n",
              "              gamma=1, gpu_id=None, grow_policy=None, importance_type=None,\n",
              "              interaction_constraints=None, lambda=1.0, learning_rate=None,\n",
              "              max_bin=None, max_cat_threshold=None, max_cat_to_onehot=None,\n",
              "              max_delta_step=None, max_depth=12, max_leaves=None,\n",
              "              min_child_weight=None, missing=nan, monotone_constraints=None,\n",
              "              n_estimators=300, n_jobs=None, num_parallel_tree=None, ...)</pre></div></div></div></div></div></div></div></div><div class=\"sk-parallel-item\"><div class=\"sk-item\"><div class=\"sk-label-container\"><div class=\"sk-label sk-toggleable\"><label>knn</label></div></div><div class=\"sk-serial\"><div class=\"sk-item\"><div class=\"sk-estimator sk-toggleable\"><input class=\"sk-toggleable__control sk-hidden--visually\" id=\"sk-estimator-id-4\" type=\"checkbox\" ><label for=\"sk-estimator-id-4\" class=\"sk-toggleable__label sk-toggleable__label-arrow\">KNeighborsClassifier</label><div class=\"sk-toggleable__content\"><pre>KNeighborsClassifier(algorithm=&#x27;brute&#x27;, leaf_size=120, metric=&#x27;manhattan&#x27;,\n",
              "                     n_neighbors=120, weights=&#x27;distance&#x27;)</pre></div></div></div></div></div></div></div></div><div class=\"sk-item\"><div class=\"sk-parallel\"><div class=\"sk-parallel-item\"><div class=\"sk-item\"><div class=\"sk-label-container\"><div class=\"sk-label sk-toggleable\"><label>final_estimator</label></div></div><div class=\"sk-serial\"><div class=\"sk-item\"><div class=\"sk-estimator sk-toggleable\"><input class=\"sk-toggleable__control sk-hidden--visually\" id=\"sk-estimator-id-5\" type=\"checkbox\" ><label for=\"sk-estimator-id-5\" class=\"sk-toggleable__label sk-toggleable__label-arrow\">LogisticRegressionCV</label><div class=\"sk-toggleable__content\"><pre>LogisticRegressionCV()</pre></div></div></div></div></div></div></div></div></div></div></div></div>"
            ]
          },
          "metadata": {},
          "execution_count": 78
        }
      ],
      "source": [
        "#Performance el modelo en entrenamiento\n",
        "stacking_model.fit(x_train, y_train)"
      ]
    },
    {
      "cell_type": "code",
      "execution_count": null,
      "metadata": {
        "id": "UFaS2kmyJ-Bx",
        "colab": {
          "base_uri": "https://localhost:8080/",
          "height": 640
        },
        "outputId": "5d048d65-7c17-45e8-ec32-3a2b62102a9e"
      },
      "outputs": [
        {
          "output_type": "stream",
          "name": "stdout",
          "text": [
            "F1 Score: 0.8297853701270258\n",
            "Classification Report: \n",
            "               precision    recall  f1-score   support\n",
            "\n",
            "           0       0.83      0.86      0.84      6097\n",
            "           1       0.84      0.82      0.83      5799\n",
            "\n",
            "    accuracy                           0.84     11896\n",
            "   macro avg       0.84      0.84      0.84     11896\n",
            "weighted avg       0.84      0.84      0.84     11896\n",
            "\n"
          ]
        },
        {
          "output_type": "display_data",
          "data": {
            "text/plain": [
              "<Figure size 640x480 with 2 Axes>"
            ],
            "image/png": "[encoded data removed]"
          },
          "metadata": {}
        }
      ],
      "source": [
        "#Matriz de Confusion\n",
        "y_pred=stacking_model.predict(x_test)\n",
        "show_performance(y_test, y_pred)"
      ]
    },
    {
      "cell_type": "code",
      "source": [
        "stack_final_score = f1_score(y_test, y_pred, average='binary')"
      ],
      "metadata": {
        "id": "6YWjNFKeL1dx"
      },
      "execution_count": null,
      "outputs": []
    },
    {
      "cell_type": "markdown",
      "metadata": {
        "id": "u3DLJT7VQbQr"
      },
      "source": [
        "## Voting"
      ]
    },
    {
      "cell_type": "code",
      "execution_count": null,
      "metadata": {
        "id": "W-LbcFyQQdnF"
      },
      "outputs": [],
      "source": [
        "#Creo clasificadores\n",
        "\n",
        "#Utilizar los mejores parametros que se encu\n",
        "rnd_clf = RandomForestClassifier(max_features='auto', oob_score=True, random_state=1, n_jobs=-1).set_params(**rforest_best_params)\n",
        "knn_clf = KNeighborsClassifier().set_params(**knn_best_params)\n",
        "xgb_clf = Pipeline([('classifier',XGBClassifier(random_state=50))]).set_params(**xgboost_best_params)\n",
        "\n",
        "\n",
        "#Creo ensemble de Votación\n",
        "vot_clf = VotingClassifier(estimators = [('rnd', rnd_clf), ('knn', knn_clf), ('xgb', xgb_clf)], n_jobs=-1)"
      ]
    },
    {
      "cell_type": "code",
      "execution_count": null,
      "metadata": {
        "id": "UNtNayviHXnW",
        "colab": {
          "base_uri": "https://localhost:8080/"
        },
        "outputId": "aa083d4f-64c3-41fc-d428-b33c3e7eb13c"
      },
      "outputs": [
        {
          "output_type": "stream",
          "name": "stdout",
          "text": [
            "Fitting 3 folds for each of 7 candidates, totalling 21 fits\n",
            "Mean scores: [0.81769567 0.82449092 0.82551633 0.823909   0.80366193 0.82457299\n",
            " 0.82284719] found in 580.0861790180206\n",
            "{'weights': (2, 1, 1), 'voting': 'soft'}\n",
            "0.8255163314084503\n"
          ]
        }
      ],
      "source": [
        "#Optimizo el ensamble\n",
        "params = {'voting':['hard', 'soft'],\n",
        "          'weights':[(1,1,1), (2,1,1), \n",
        "                     (1,2,1), (1,1,2),\n",
        "                     (2,2,1),(1,2,2),\n",
        "                     (2,1,2)]}\n",
        "\n",
        "folds = 3\n",
        "iters = 7\n",
        "#Probamos entrenando sólo con 1 métrica\n",
        "scorer = make_scorer(sk.metrics.f1_score)\n",
        "\n",
        "start = time.time()\n",
        "search = RandomizedSearchCV(estimator=vot_clf, param_distributions = params, scoring=scorer, cv=folds, n_iter=iters,n_jobs=3, verbose = 10)\n",
        "if not inject:\n",
        "  search.fit(x_train, y_train)\n",
        "  print_search(search, int(start))"
      ]
    },
    {
      "cell_type": "code",
      "source": [
        "print_search(search,start)"
      ],
      "metadata": {
        "id": "RQRs1uA0Bcd7",
        "colab": {
          "base_uri": "https://localhost:8080/"
        },
        "outputId": "bf42e8bf-be24-4df2-d982-bb3d0330ca27"
      },
      "execution_count": null,
      "outputs": [
        {
          "output_type": "stream",
          "name": "stdout",
          "text": [
            "Mean scores: [0.81769567 0.82449092 0.82551633 0.823909   0.80366193 0.82457299\n",
            " 0.82284719] found in 593.0665402412415\n",
            "{'weights': (2, 1, 1), 'voting': 'soft'}\n",
            "0.8255163314084503\n"
          ]
        }
      ]
    },
    {
      "cell_type": "code",
      "execution_count": null,
      "metadata": {
        "id": "1DblSbEQInLl"
      },
      "outputs": [],
      "source": [
        "#Mejor Result: \n",
        "vot_clf_best_params = search.best_params_ if not inject else {'weights': (2, 1, 1), 'voting': 'soft'}"
      ]
    },
    {
      "cell_type": "code",
      "execution_count": null,
      "metadata": {
        "id": "P69zxPDgIbM6",
        "colab": {
          "base_uri": "https://localhost:8080/",
          "height": 866
        },
        "outputId": "c394c8a7-30a8-42f0-e54b-b120c678dea9"
      },
      "outputs": [
        {
          "output_type": "stream",
          "name": "stderr",
          "text": [
            "[Parallel(n_jobs=1)]: Using backend SequentialBackend with 1 concurrent workers.\n"
          ]
        },
        {
          "output_type": "stream",
          "name": "stdout",
          "text": [
            "[CV] START .....................................................................\n",
            "[CV] END ......................................., score=0.827 total time=  21.6s\n",
            "[CV] START .....................................................................\n"
          ]
        },
        {
          "output_type": "stream",
          "name": "stderr",
          "text": [
            "[Parallel(n_jobs=1)]: Done   1 out of   1 | elapsed:   21.6s remaining:    0.0s\n"
          ]
        },
        {
          "output_type": "stream",
          "name": "stdout",
          "text": [
            "[CV] END ......................................., score=0.822 total time=  22.0s\n",
            "[CV] START .....................................................................\n"
          ]
        },
        {
          "output_type": "stream",
          "name": "stderr",
          "text": [
            "[Parallel(n_jobs=1)]: Done   2 out of   2 | elapsed:   43.7s remaining:    0.0s\n"
          ]
        },
        {
          "output_type": "stream",
          "name": "stdout",
          "text": [
            "[CV] END ......................................., score=0.827 total time=  24.6s\n",
            "Best Score: 0.8272442588726513\n"
          ]
        },
        {
          "output_type": "stream",
          "name": "stderr",
          "text": [
            "[Parallel(n_jobs=1)]: Done   3 out of   3 | elapsed:  1.1min remaining:    0.0s\n",
            "[Parallel(n_jobs=1)]: Done   3 out of   3 | elapsed:  1.1min finished\n"
          ]
        },
        {
          "output_type": "stream",
          "name": "stdout",
          "text": [
            "AUC: 0.9100142624399251\n",
            "F1 Score: 0.8221399612198133\n",
            "Classification Report: \n",
            "               precision    recall  f1-score   support\n",
            "\n",
            "           0       0.82      0.86      0.84      6097\n",
            "           1       0.84      0.80      0.82      5799\n",
            "\n",
            "    accuracy                           0.83     11896\n",
            "   macro avg       0.83      0.83      0.83     11896\n",
            "weighted avg       0.83      0.83      0.83     11896\n",
            "\n"
          ]
        },
        {
          "output_type": "display_data",
          "data": {
            "text/plain": [
              "<Figure size 640x480 with 2 Axes>"
            ],
            "image/png": "[encoded data removed]"
          },
          "metadata": {}
        }
      ],
      "source": [
        "new_vot_clf = VotingClassifier(estimators = [('rnd', rnd_clf), ('knn', knn_clf), ('xgb', xgb_clf)], n_jobs=1)\n",
        "vot_clf = train_with_cv(new_vot_clf, vot_clf_best_params, 3, x_train, y_train, 1)\n",
        "\n",
        "#Evaluo en el set de test\n",
        "y_pred_proba= vot_clf.predict_proba(x_test)[:, 1]\n",
        "print('AUC:',roc_auc_score(y_test, y_pred_proba))\n",
        "\n",
        "#Matriz de Confusion\n",
        "y_pred=vot_clf.predict(x_test)\n",
        "show_performance(y_test, y_pred)"
      ]
    },
    {
      "cell_type": "code",
      "source": [
        "voting_final_score = f1_score(y_test, y_pred, average='binary')"
      ],
      "metadata": {
        "id": "5013bMdnMViY"
      },
      "execution_count": null,
      "outputs": []
    },
    {
      "cell_type": "markdown",
      "source": [
        "## Eleccion de Modelo\n",
        "> Elegimos el modelo para correr con kaggle."
      ],
      "metadata": {
        "id": "tZhz65PZExUx"
      }
    },
    {
      "cell_type": "code",
      "source": [
        "#Modulo para elegir que modelo correr.\n",
        "model = vot_clf\n",
        "best_params = model.get_params()\n",
        "final_score = voting_final_score"
      ],
      "metadata": {
        "id": "6UggYVXSE2Nz"
      },
      "execution_count": null,
      "outputs": []
    },
    {
      "cell_type": "markdown",
      "metadata": {
        "id": "rPz09uryQjpX"
      },
      "source": [
        "# Kaggle"
      ]
    },
    {
      "cell_type": "code",
      "execution_count": null,
      "metadata": {
        "id": "QlzoJyDfQoW1",
        "colab": {
          "base_uri": "https://localhost:8080/",
          "height": 424
        },
        "outputId": "f4462df1-2837-4a52-9e2d-9f2e3ad5789d"
      },
      "outputs": [
        {
          "output_type": "execute_result",
          "data": {
            "text/plain": [
              "                                         id  is_canceled\n",
              "0      e6d0d58a-ab96-44d3-b28f-85df1cc15f1e            1\n",
              "1      aba9aac2-4495-4645-a60e-90328713c999            1\n",
              "2      b345b5dc-c804-4d77-a39f-1f4e65d1f1ad            0\n",
              "3      ce1b400e-afa1-4946-bdff-004b859eb61c            1\n",
              "4      c4fbec0d-8e2e-4db2-9d4f-a6ccb9f51214            1\n",
              "...                                     ...          ...\n",
              "26530  636ccded-66ad-4538-8006-c0b9f84c6256            0\n",
              "26531  11e19741-bd28-4459-8ea3-184f1664000f            0\n",
              "26532  36a4c7b0-d6b1-4528-93db-311be96ec1c6            1\n",
              "26533  89c85fa5-2b3d-4131-844c-e151a65ca240            0\n",
              "26534  bd4e9eee-f28e-4a53-b4a1-277426efbcee            0\n",
              "\n",
              "[26535 rows x 2 columns]"
            ],
            "text/html": [
              "<div>\n",
              "<style scoped>\n",
              "    .dataframe tbody tr th:only-of-type {\n",
              "        vertical-align: middle;\n",
              "    }\n",
              "\n",
              "    .dataframe tbody tr th {\n",
              "        vertical-align: top;\n",
              "    }\n",
              "\n",
              "    .dataframe thead th {\n",
              "        text-align: right;\n",
              "    }\n",
              "</style>\n",
              "<table border=\"1\" class=\"dataframe\">\n",
              "  <thead>\n",
              "    <tr style=\"text-align: right;\">\n",
              "      <th></th>\n",
              "      <th>id</th>\n",
              "      <th>is_canceled</th>\n",
              "    </tr>\n",
              "  </thead>\n",
              "  <tbody>\n",
              "    <tr>\n",
              "      <th>0</th>\n",
              "      <td>e6d0d58a-ab96-44d3-b28f-85df1cc15f1e</td>\n",
              "      <td>1</td>\n",
              "    </tr>\n",
              "    <tr>\n",
              "      <th>1</th>\n",
              "      <td>aba9aac2-4495-4645-a60e-90328713c999</td>\n",
              "      <td>1</td>\n",
              "    </tr>\n",
              "    <tr>\n",
              "      <th>2</th>\n",
              "      <td>b345b5dc-c804-4d77-a39f-1f4e65d1f1ad</td>\n",
              "      <td>0</td>\n",
              "    </tr>\n",
              "    <tr>\n",
              "      <th>3</th>\n",
              "      <td>ce1b400e-afa1-4946-bdff-004b859eb61c</td>\n",
              "      <td>1</td>\n",
              "    </tr>\n",
              "    <tr>\n",
              "      <th>4</th>\n",
              "      <td>c4fbec0d-8e2e-4db2-9d4f-a6ccb9f51214</td>\n",
              "      <td>1</td>\n",
              "    </tr>\n",
              "    <tr>\n",
              "      <th>...</th>\n",
              "      <td>...</td>\n",
              "      <td>...</td>\n",
              "    </tr>\n",
              "    <tr>\n",
              "      <th>26530</th>\n",
              "      <td>636ccded-66ad-4538-8006-c0b9f84c6256</td>\n",
              "      <td>0</td>\n",
              "    </tr>\n",
              "    <tr>\n",
              "      <th>26531</th>\n",
              "      <td>11e19741-bd28-4459-8ea3-184f1664000f</td>\n",
              "      <td>0</td>\n",
              "    </tr>\n",
              "    <tr>\n",
              "      <th>26532</th>\n",
              "      <td>36a4c7b0-d6b1-4528-93db-311be96ec1c6</td>\n",
              "      <td>1</td>\n",
              "    </tr>\n",
              "    <tr>\n",
              "      <th>26533</th>\n",
              "      <td>89c85fa5-2b3d-4131-844c-e151a65ca240</td>\n",
              "      <td>0</td>\n",
              "    </tr>\n",
              "    <tr>\n",
              "      <th>26534</th>\n",
              "      <td>bd4e9eee-f28e-4a53-b4a1-277426efbcee</td>\n",
              "      <td>0</td>\n",
              "    </tr>\n",
              "  </tbody>\n",
              "</table>\n",
              "<p>26535 rows × 2 columns</p>\n",
              "</div>"
            ]
          },
          "metadata": {},
          "execution_count": 83
        }
      ],
      "source": [
        "# Nos traemos el dataset de test sin el ID.\n",
        "x_sub = df_hotels_test_encoded.select_dtypes(exclude=['object'])\n",
        "\n",
        "# Predecimos con nuestro mejor modelo\n",
        "y_sub = model.predict(x_sub)\n",
        "y_sub\n",
        "\n",
        "# Armamos un DF\n",
        "df_sub = pd.DataFrame({'id': df_hotels_test['id'], 'is_canceled': y_sub})\n",
        "df_sub"
      ]
    },
    {
      "cell_type": "code",
      "execution_count": null,
      "metadata": {
        "id": "m-r_kbmOt56R"
      },
      "outputs": [],
      "source": [
        "# Nos guardamos el modelo y el resultado.\n",
        "import os.path\n",
        "import time\n",
        "import json\n",
        "\n",
        "def np_encoder(object):\n",
        "    if isinstance(object, np.generic):\n",
        "        return object.item()\n",
        "\n",
        "timestr = time.strftime(\"%Y%m%d-%H%M%S\")\n",
        "os.mkdir(f'submissions/{timestr}')\n",
        "df_sub.to_csv(f'submissions/{timestr}/{final_score}.csv', index=False)\n",
        "\n",
        "#Persisitimos los parametros usados.\n",
        "with open(f'submissions/{timestr}/params-{final_score}.txt', 'w') as params_file:\n",
        "     params_file.write(json.dumps(best_params, default=np_encoder))\n",
        "\n",
        "# Persistimos el modelo asociado.\n",
        "model_filename = f'submissions/{timestr}/modelo.pickle'\n",
        "pickle.dump(model, open(model_filename, \"wb\"))"
      ]
    }
  ],
  "metadata": {
    "colab": {
      "collapsed_sections": [
        "x1d6_U_jIUX6",
        "nFSP1uSkIW12",
        "8Xr4ZUkqgwi3",
        "-tdDD19IQ7nd",
        "tZhz65PZExUx",
        "rPz09uryQjpX"
      ],
      "provenance": []
    },
    "kernelspec": {
      "display_name": "Python 3",
      "name": "python3"
    },
    "language_info": {
      "name": "python"
    }
  },
  "nbformat": 4,
  "nbformat_minor": 0
}